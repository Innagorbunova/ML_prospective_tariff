{
 "cells": [
  {
   "cell_type": "markdown",
   "metadata": {},
   "source": [
    "# Рекомендация тарифов"
   ]
  },
  {
   "cell_type": "markdown",
   "metadata": {},
   "source": [
    " Целью проекта является построение системы, способной проанализировать поведение клиентов оператора мобильной связи - компании \"Мегалайн\" и определяющей пользовательский тариф  «Смарт» или «Ультра». В распоряжение предоставлены данные о поведении клиентов, которые уже перешли на эти тарифы, на основе которых необходимо построить модель для задачи классификации, которая выберет подходящий тариф. Данные уже классифицированны.\n",
    "    \n",
    "    \n",
    "    \n",
    "Для построения системы разделим исходный датасет на обучающую, валидационную и тестовую выборки, по каждой из них создадим переменные, в которых сохраним основные и целевые признаки. При создании и обучении моделей используем обучающие выборки, при проверке - валидационные, итоговом тестировании - тестовые.\n",
    "    \n",
    "    \n",
    "    \n",
    "Построим модели \"Дерево решений\", \"Случайный лес\" и \"Логистическую регрессию\". Лучшую из них (с наибольшим значением accuracy) определим путем подбора гиперпараметров. Сделаем выводы.   \n",
    "    \n"
   ]
  },
  {
   "cell_type": "markdown",
   "metadata": {},
   "source": [
    "## Откройте и изучите файл"
   ]
  },
  {
   "cell_type": "code",
   "execution_count": 43,
   "metadata": {},
   "outputs": [],
   "source": [
    "import pandas as pd\n",
    "from sklearn.tree import DecisionTreeClassifier\n",
    "from sklearn.ensemble import RandomForestClassifier\n",
    "from sklearn.linear_model import LogisticRegression\n",
    "from sklearn.model_selection import train_test_split\n",
    "from sklearn.metrics import accuracy_score, precision_score, recall_score, f1_score \n"
   ]
  },
  {
   "cell_type": "code",
   "execution_count": 44,
   "metadata": {},
   "outputs": [],
   "source": [
    "tariff = pd.read_csv('C:/Users/User/Downloads/users_behavior.csv')"
   ]
  },
  {
   "cell_type": "code",
   "execution_count": 45,
   "metadata": {},
   "outputs": [
    {
     "data": {
      "text/html": [
       "<div>\n",
       "<style scoped>\n",
       "    .dataframe tbody tr th:only-of-type {\n",
       "        vertical-align: middle;\n",
       "    }\n",
       "\n",
       "    .dataframe tbody tr th {\n",
       "        vertical-align: top;\n",
       "    }\n",
       "\n",
       "    .dataframe thead th {\n",
       "        text-align: right;\n",
       "    }\n",
       "</style>\n",
       "<table border=\"1\" class=\"dataframe\">\n",
       "  <thead>\n",
       "    <tr style=\"text-align: right;\">\n",
       "      <th></th>\n",
       "      <th>calls</th>\n",
       "      <th>minutes</th>\n",
       "      <th>messages</th>\n",
       "      <th>mb_used</th>\n",
       "      <th>is_ultra</th>\n",
       "    </tr>\n",
       "  </thead>\n",
       "  <tbody>\n",
       "    <tr>\n",
       "      <th>0</th>\n",
       "      <td>40.0</td>\n",
       "      <td>311.90</td>\n",
       "      <td>83.0</td>\n",
       "      <td>19915.42</td>\n",
       "      <td>0</td>\n",
       "    </tr>\n",
       "    <tr>\n",
       "      <th>1</th>\n",
       "      <td>85.0</td>\n",
       "      <td>516.75</td>\n",
       "      <td>56.0</td>\n",
       "      <td>22696.96</td>\n",
       "      <td>0</td>\n",
       "    </tr>\n",
       "    <tr>\n",
       "      <th>2</th>\n",
       "      <td>77.0</td>\n",
       "      <td>467.66</td>\n",
       "      <td>86.0</td>\n",
       "      <td>21060.45</td>\n",
       "      <td>0</td>\n",
       "    </tr>\n",
       "    <tr>\n",
       "      <th>3</th>\n",
       "      <td>106.0</td>\n",
       "      <td>745.53</td>\n",
       "      <td>81.0</td>\n",
       "      <td>8437.39</td>\n",
       "      <td>1</td>\n",
       "    </tr>\n",
       "    <tr>\n",
       "      <th>4</th>\n",
       "      <td>66.0</td>\n",
       "      <td>418.74</td>\n",
       "      <td>1.0</td>\n",
       "      <td>14502.75</td>\n",
       "      <td>0</td>\n",
       "    </tr>\n",
       "  </tbody>\n",
       "</table>\n",
       "</div>"
      ],
      "text/plain": [
       "   calls  minutes  messages   mb_used  is_ultra\n",
       "0   40.0   311.90      83.0  19915.42         0\n",
       "1   85.0   516.75      56.0  22696.96         0\n",
       "2   77.0   467.66      86.0  21060.45         0\n",
       "3  106.0   745.53      81.0   8437.39         1\n",
       "4   66.0   418.74       1.0  14502.75         0"
      ]
     },
     "metadata": {},
     "output_type": "display_data"
    },
    {
     "name": "stdout",
     "output_type": "stream",
     "text": [
      "<class 'pandas.core.frame.DataFrame'>\n",
      "RangeIndex: 3214 entries, 0 to 3213\n",
      "Data columns (total 5 columns):\n",
      " #   Column    Non-Null Count  Dtype  \n",
      "---  ------    --------------  -----  \n",
      " 0   calls     3214 non-null   float64\n",
      " 1   minutes   3214 non-null   float64\n",
      " 2   messages  3214 non-null   float64\n",
      " 3   mb_used   3214 non-null   float64\n",
      " 4   is_ultra  3214 non-null   int64  \n",
      "dtypes: float64(4), int64(1)\n",
      "memory usage: 125.7 KB\n"
     ]
    },
    {
     "data": {
      "text/plain": [
       "(3214, 5)"
      ]
     },
     "execution_count": 45,
     "metadata": {},
     "output_type": "execute_result"
    }
   ],
   "source": [
    "display(tariff.head())\n",
    "tariff.info()\n",
    "tariff.shape"
   ]
  },
  {
   "cell_type": "code",
   "execution_count": 46,
   "metadata": {},
   "outputs": [
    {
     "data": {
      "text/plain": [
       "0    2229\n",
       "1     985\n",
       "Name: is_ultra, dtype: int64"
      ]
     },
     "execution_count": 46,
     "metadata": {},
     "output_type": "execute_result"
    }
   ],
   "source": [
    "tariff['is_ultra'].value_counts()"
   ]
  },
  {
   "cell_type": "markdown",
   "metadata": {},
   "source": [
    " В датасете 3214 строк, 5 столбцов, пропусков данных нет. Количествнные данные представлены типом 'float', данные столбца классификации 'is_ultra' представлены типом 'int' в соответствии с классификацией. "
   ]
  },
  {
   "cell_type": "markdown",
   "metadata": {},
   "source": [
    "## Разбейте данные на выборки"
   ]
  },
  {
   "cell_type": "markdown",
   "metadata": {},
   "source": [
    " По условию проекта нам необходимо разделить исходные данные на обучающую, валидационную и тестовую выборки. Распределим выборки в сооотношении 3:1:1. То есть от исходных данных 60 % оставим в обучающей выборке, по 20% - валидационной и тестовой. В этой связи сначала из исходного датасета отделим 40%, которые поделим пополам для тестовой и валидационной выборок. Таким образом исходный датасет составит 60% данных от первоначального объема, в отделенных частях останется одинаковый объем - по 20% от исходного датасета tariff. \n",
    "    \n",
    "    \n",
    "Для разделения используем метод train_test_split()."
   ]
  },
  {
   "cell_type": "code",
   "execution_count": 47,
   "metadata": {},
   "outputs": [],
   "source": [
    "tariff_train, tariff = train_test_split(tariff, test_size=0.40, random_state=12345, shuffle=True)\n",
    "tariff_valid, tariff_test = train_test_split(tariff, test_size=0.5, random_state=12345, shuffle=True)"
   ]
  },
  {
   "cell_type": "markdown",
   "metadata": {},
   "source": [
    " Выбырки мы сохранили в переменных, которым присвоили следующие наименования: обучающей выборке - tariff_train, валдационной - tariff_valid, тестовой - tariff_test. \n",
    "    \n",
    "\n",
    "Методом shape провряем объем выборок.    \n",
    "    "
   ]
  },
  {
   "cell_type": "code",
   "execution_count": 48,
   "metadata": {},
   "outputs": [
    {
     "name": "stdout",
     "output_type": "stream",
     "text": [
      "(1928, 5)\n",
      "(643, 5)\n",
      "(643, 5)\n"
     ]
    }
   ],
   "source": [
    "print(tariff_train.shape)\n",
    "print(tariff_valid.shape)\n",
    "print(tariff_test.shape)"
   ]
  },
  {
   "cell_type": "markdown",
   "metadata": {},
   "source": [
    "## Исследуйте модели"
   ]
  },
  {
   "cell_type": "markdown",
   "metadata": {},
   "source": [
    "#### Формируем датасеты, содержащие признаки и целевой признак моделей"
   ]
  },
  {
   "cell_type": "markdown",
   "metadata": {},
   "source": [
    " В вашем распоряжении обучающий, валидационные и тестовый наборы данных. В каждой выборке содержится целевой признак 'is_ultra', который необходимо предсказать на основе других признаков 'minutes', 'messages', 'mb_used', 'calls'.\n",
    "    \n",
    "    \n",
    "По каждому из наборов данных формируем датасеты, содержащие целевой признак и признаки. Датасеты сохраняем в отдельных переменных."
   ]
  },
  {
   "cell_type": "markdown",
   "metadata": {},
   "source": [
    " Для обучающей выборки: переменную, в которой сохраняем основные признаки, назовем features_train_tariff, целевой признак - target_train_tariff. "
   ]
  },
  {
   "cell_type": "code",
   "execution_count": 49,
   "metadata": {},
   "outputs": [],
   "source": [
    "features_train_tariff = tariff_train.drop(['is_ultra'], axis=1)\n",
    "target_train_tariff = tariff_train['is_ultra']"
   ]
  },
  {
   "cell_type": "code",
   "execution_count": 50,
   "metadata": {},
   "outputs": [
    {
     "data": {
      "text/html": [
       "<div>\n",
       "<style scoped>\n",
       "    .dataframe tbody tr th:only-of-type {\n",
       "        vertical-align: middle;\n",
       "    }\n",
       "\n",
       "    .dataframe tbody tr th {\n",
       "        vertical-align: top;\n",
       "    }\n",
       "\n",
       "    .dataframe thead th {\n",
       "        text-align: right;\n",
       "    }\n",
       "</style>\n",
       "<table border=\"1\" class=\"dataframe\">\n",
       "  <thead>\n",
       "    <tr style=\"text-align: right;\">\n",
       "      <th></th>\n",
       "      <th>calls</th>\n",
       "      <th>minutes</th>\n",
       "      <th>messages</th>\n",
       "      <th>mb_used</th>\n",
       "    </tr>\n",
       "  </thead>\n",
       "  <tbody>\n",
       "    <tr>\n",
       "      <th>3027</th>\n",
       "      <td>60.0</td>\n",
       "      <td>431.56</td>\n",
       "      <td>26.0</td>\n",
       "      <td>14751.26</td>\n",
       "    </tr>\n",
       "    <tr>\n",
       "      <th>434</th>\n",
       "      <td>33.0</td>\n",
       "      <td>265.17</td>\n",
       "      <td>59.0</td>\n",
       "      <td>17398.02</td>\n",
       "    </tr>\n",
       "    <tr>\n",
       "      <th>1226</th>\n",
       "      <td>52.0</td>\n",
       "      <td>341.83</td>\n",
       "      <td>68.0</td>\n",
       "      <td>15462.38</td>\n",
       "    </tr>\n",
       "    <tr>\n",
       "      <th>1054</th>\n",
       "      <td>42.0</td>\n",
       "      <td>226.18</td>\n",
       "      <td>21.0</td>\n",
       "      <td>13243.48</td>\n",
       "    </tr>\n",
       "    <tr>\n",
       "      <th>1842</th>\n",
       "      <td>30.0</td>\n",
       "      <td>198.42</td>\n",
       "      <td>0.0</td>\n",
       "      <td>8189.53</td>\n",
       "    </tr>\n",
       "  </tbody>\n",
       "</table>\n",
       "</div>"
      ],
      "text/plain": [
       "      calls  minutes  messages   mb_used\n",
       "3027   60.0   431.56      26.0  14751.26\n",
       "434    33.0   265.17      59.0  17398.02\n",
       "1226   52.0   341.83      68.0  15462.38\n",
       "1054   42.0   226.18      21.0  13243.48\n",
       "1842   30.0   198.42       0.0   8189.53"
      ]
     },
     "execution_count": 50,
     "metadata": {},
     "output_type": "execute_result"
    }
   ],
   "source": [
    "features_train_tariff.head()"
   ]
  },
  {
   "cell_type": "code",
   "execution_count": 51,
   "metadata": {},
   "outputs": [
    {
     "data": {
      "text/plain": [
       "3027    0\n",
       "434     0\n",
       "1226    0\n",
       "1054    0\n",
       "1842    0\n",
       "Name: is_ultra, dtype: int64"
      ]
     },
     "execution_count": 51,
     "metadata": {},
     "output_type": "execute_result"
    }
   ],
   "source": [
    "target_train_tariff.head()"
   ]
  },
  {
   "cell_type": "code",
   "execution_count": 52,
   "metadata": {},
   "outputs": [
    {
     "data": {
      "text/plain": [
       "0    1335\n",
       "1     593\n",
       "Name: is_ultra, dtype: int64"
      ]
     },
     "execution_count": 52,
     "metadata": {},
     "output_type": "execute_result"
    }
   ],
   "source": [
    "target_train_tariff.value_counts()"
   ]
  },
  {
   "cell_type": "markdown",
   "metadata": {},
   "source": [
    " Для валидационной выборки: переменную, в которой сохраняем основные признаки, назовем features_valid_tariff, целевой признак - target_valid_tariff. "
   ]
  },
  {
   "cell_type": "code",
   "execution_count": 53,
   "metadata": {},
   "outputs": [],
   "source": [
    "features_valid_tariff = tariff_valid.drop(['is_ultra'], axis=1)\n",
    "target_valid_tariff = tariff_valid['is_ultra']"
   ]
  },
  {
   "cell_type": "code",
   "execution_count": 54,
   "metadata": {},
   "outputs": [
    {
     "data": {
      "text/html": [
       "<div>\n",
       "<style scoped>\n",
       "    .dataframe tbody tr th:only-of-type {\n",
       "        vertical-align: middle;\n",
       "    }\n",
       "\n",
       "    .dataframe tbody tr th {\n",
       "        vertical-align: top;\n",
       "    }\n",
       "\n",
       "    .dataframe thead th {\n",
       "        text-align: right;\n",
       "    }\n",
       "</style>\n",
       "<table border=\"1\" class=\"dataframe\">\n",
       "  <thead>\n",
       "    <tr style=\"text-align: right;\">\n",
       "      <th></th>\n",
       "      <th>calls</th>\n",
       "      <th>minutes</th>\n",
       "      <th>messages</th>\n",
       "      <th>mb_used</th>\n",
       "    </tr>\n",
       "  </thead>\n",
       "  <tbody>\n",
       "    <tr>\n",
       "      <th>1386</th>\n",
       "      <td>92.0</td>\n",
       "      <td>536.96</td>\n",
       "      <td>18.0</td>\n",
       "      <td>20193.90</td>\n",
       "    </tr>\n",
       "    <tr>\n",
       "      <th>3124</th>\n",
       "      <td>40.0</td>\n",
       "      <td>286.57</td>\n",
       "      <td>17.0</td>\n",
       "      <td>17918.75</td>\n",
       "    </tr>\n",
       "    <tr>\n",
       "      <th>1956</th>\n",
       "      <td>81.0</td>\n",
       "      <td>531.22</td>\n",
       "      <td>56.0</td>\n",
       "      <td>17755.06</td>\n",
       "    </tr>\n",
       "    <tr>\n",
       "      <th>2286</th>\n",
       "      <td>67.0</td>\n",
       "      <td>460.76</td>\n",
       "      <td>27.0</td>\n",
       "      <td>16626.26</td>\n",
       "    </tr>\n",
       "    <tr>\n",
       "      <th>3077</th>\n",
       "      <td>22.0</td>\n",
       "      <td>120.09</td>\n",
       "      <td>16.0</td>\n",
       "      <td>9039.57</td>\n",
       "    </tr>\n",
       "  </tbody>\n",
       "</table>\n",
       "</div>"
      ],
      "text/plain": [
       "      calls  minutes  messages   mb_used\n",
       "1386   92.0   536.96      18.0  20193.90\n",
       "3124   40.0   286.57      17.0  17918.75\n",
       "1956   81.0   531.22      56.0  17755.06\n",
       "2286   67.0   460.76      27.0  16626.26\n",
       "3077   22.0   120.09      16.0   9039.57"
      ]
     },
     "execution_count": 54,
     "metadata": {},
     "output_type": "execute_result"
    }
   ],
   "source": [
    "features_valid_tariff.head()"
   ]
  },
  {
   "cell_type": "code",
   "execution_count": 55,
   "metadata": {},
   "outputs": [
    {
     "data": {
      "text/plain": [
       "1386    0\n",
       "3124    0\n",
       "1956    0\n",
       "2286    0\n",
       "3077    0\n",
       "Name: is_ultra, dtype: int64"
      ]
     },
     "execution_count": 55,
     "metadata": {},
     "output_type": "execute_result"
    }
   ],
   "source": [
    "target_valid_tariff.head()"
   ]
  },
  {
   "cell_type": "code",
   "execution_count": 56,
   "metadata": {},
   "outputs": [
    {
     "data": {
      "text/plain": [
       "0    454\n",
       "1    189\n",
       "Name: is_ultra, dtype: int64"
      ]
     },
     "execution_count": 56,
     "metadata": {},
     "output_type": "execute_result"
    }
   ],
   "source": [
    "target_valid_tariff.value_counts()"
   ]
  },
  {
   "cell_type": "markdown",
   "metadata": {},
   "source": [
    " Для тестовой выборки: переменную, в которой сохраняем основные признаки, назовем features_test_tariff, целевой признак - target_test_tariff. "
   ]
  },
  {
   "cell_type": "code",
   "execution_count": 57,
   "metadata": {},
   "outputs": [],
   "source": [
    "features_test_tariff = tariff_test.drop(['is_ultra'], axis=1)\n",
    "target_test_tariff = tariff_test['is_ultra']"
   ]
  },
  {
   "cell_type": "code",
   "execution_count": 58,
   "metadata": {},
   "outputs": [
    {
     "data": {
      "text/html": [
       "<div>\n",
       "<style scoped>\n",
       "    .dataframe tbody tr th:only-of-type {\n",
       "        vertical-align: middle;\n",
       "    }\n",
       "\n",
       "    .dataframe tbody tr th {\n",
       "        vertical-align: top;\n",
       "    }\n",
       "\n",
       "    .dataframe thead th {\n",
       "        text-align: right;\n",
       "    }\n",
       "</style>\n",
       "<table border=\"1\" class=\"dataframe\">\n",
       "  <thead>\n",
       "    <tr style=\"text-align: right;\">\n",
       "      <th></th>\n",
       "      <th>calls</th>\n",
       "      <th>minutes</th>\n",
       "      <th>messages</th>\n",
       "      <th>mb_used</th>\n",
       "    </tr>\n",
       "  </thead>\n",
       "  <tbody>\n",
       "    <tr>\n",
       "      <th>160</th>\n",
       "      <td>61.0</td>\n",
       "      <td>495.11</td>\n",
       "      <td>8.0</td>\n",
       "      <td>10891.23</td>\n",
       "    </tr>\n",
       "    <tr>\n",
       "      <th>2498</th>\n",
       "      <td>80.0</td>\n",
       "      <td>555.04</td>\n",
       "      <td>28.0</td>\n",
       "      <td>28083.58</td>\n",
       "    </tr>\n",
       "    <tr>\n",
       "      <th>1748</th>\n",
       "      <td>87.0</td>\n",
       "      <td>697.23</td>\n",
       "      <td>0.0</td>\n",
       "      <td>8335.70</td>\n",
       "    </tr>\n",
       "    <tr>\n",
       "      <th>1816</th>\n",
       "      <td>41.0</td>\n",
       "      <td>275.80</td>\n",
       "      <td>9.0</td>\n",
       "      <td>10032.39</td>\n",
       "    </tr>\n",
       "    <tr>\n",
       "      <th>1077</th>\n",
       "      <td>60.0</td>\n",
       "      <td>428.49</td>\n",
       "      <td>20.0</td>\n",
       "      <td>29389.52</td>\n",
       "    </tr>\n",
       "  </tbody>\n",
       "</table>\n",
       "</div>"
      ],
      "text/plain": [
       "      calls  minutes  messages   mb_used\n",
       "160    61.0   495.11       8.0  10891.23\n",
       "2498   80.0   555.04      28.0  28083.58\n",
       "1748   87.0   697.23       0.0   8335.70\n",
       "1816   41.0   275.80       9.0  10032.39\n",
       "1077   60.0   428.49      20.0  29389.52"
      ]
     },
     "execution_count": 58,
     "metadata": {},
     "output_type": "execute_result"
    }
   ],
   "source": [
    "features_test_tariff.head()"
   ]
  },
  {
   "cell_type": "code",
   "execution_count": 59,
   "metadata": {},
   "outputs": [
    {
     "data": {
      "text/plain": [
       "160     0\n",
       "2498    0\n",
       "1748    0\n",
       "1816    0\n",
       "1077    1\n",
       "Name: is_ultra, dtype: int64"
      ]
     },
     "execution_count": 59,
     "metadata": {},
     "output_type": "execute_result"
    }
   ],
   "source": [
    "target_test_tariff.head()"
   ]
  },
  {
   "cell_type": "code",
   "execution_count": 60,
   "metadata": {},
   "outputs": [
    {
     "data": {
      "text/plain": [
       "0    440\n",
       "1    203\n",
       "Name: is_ultra, dtype: int64"
      ]
     },
     "execution_count": 60,
     "metadata": {},
     "output_type": "execute_result"
    }
   ],
   "source": [
    "target_test_tariff.value_counts()"
   ]
  },
  {
   "cell_type": "markdown",
   "metadata": {},
   "source": [
    "#### Строим модели"
   ]
  },
  {
   "cell_type": "markdown",
   "metadata": {},
   "source": [
    "#### Модель \"Дерево решений\""
   ]
  },
  {
   "cell_type": "markdown",
   "metadata": {},
   "source": [
    " Для построения модели \"Дерево решений\" у нас уже импоритрована структура  DecisionTreeClassifier библиотеки sklearn. Создаем объект этой структуры, который сохраним в переменной tree_model."
   ]
  },
  {
   "cell_type": "code",
   "execution_count": 61,
   "metadata": {},
   "outputs": [],
   "source": [
    "tree_model = DecisionTreeClassifier(random_state=12345) "
   ]
  },
  {
   "cell_type": "markdown",
   "metadata": {},
   "source": [
    " Чтобы обучить модель, вызываем метод fit(), которому в качестве параметров передаем основные признаки обучающей выборки (features_train_tariff) и целевой признак этой же выборки (target_train_tariff)."
   ]
  },
  {
   "cell_type": "code",
   "execution_count": 62,
   "metadata": {},
   "outputs": [
    {
     "data": {
      "text/plain": [
       "DecisionTreeClassifier(random_state=12345)"
      ]
     },
     "execution_count": 62,
     "metadata": {},
     "output_type": "execute_result"
    }
   ],
   "source": [
    "tree_model.fit(features_train_tariff,target_train_tariff)"
   ]
  },
  {
   "cell_type": "markdown",
   "metadata": {},
   "source": [
    "  Для предсказания ответов вызываем метод predict(), которому передаем признаки новых объектов. Предсказания сохраняем в переменной tree_prediction."
   ]
  },
  {
   "cell_type": "code",
   "execution_count": 63,
   "metadata": {},
   "outputs": [],
   "source": [
    "tree_prediction = tree_model.predict(features_valid_tariff)"
   ]
  },
  {
   "cell_type": "markdown",
   "metadata": {},
   "source": [
    " Проверяем качество модели метрикой accuracy, для вычисления которой из библиотеки  sklearn мы импортировали модуль sklearn.metrics с функцией accuracy_score(). Параметрами данной функции мы передаем правильные ответы (target_valid_tariff) и предсказания, сохраненные в tree_prediction."
   ]
  },
  {
   "cell_type": "code",
   "execution_count": 64,
   "metadata": {},
   "outputs": [
    {
     "name": "stdout",
     "output_type": "stream",
     "text": [
      "Accuracy 'Дерева решений:' 0.71\n"
     ]
    }
   ],
   "source": [
    "print(\"Accuracy 'Дерева решений:'\", round((accuracy_score(target_valid_tariff,tree_prediction)),2))"
   ]
  },
  {
   "cell_type": "markdown",
   "metadata": {},
   "source": [
    " По условию проекта необходимо довести качество модели до показателя accuracy не менее 0.75. Для этого циклом переберем разные варианты гиперпараметра решающего дерева — max_depth и посмотрим при какой глубине дерева accuracy окажется наибольшим."
   ]
  },
  {
   "cell_type": "code",
   "execution_count": 65,
   "metadata": {},
   "outputs": [
    {
     "name": "stdout",
     "output_type": "stream",
     "text": [
      "max_depth = 1 : 0.7542768273716952\n",
      "max_depth = 2 : 0.7822706065318819\n",
      "max_depth = 3 : 0.7853810264385692\n",
      "max_depth = 4 : 0.7791601866251944\n",
      "max_depth = 5 : 0.7791601866251944\n",
      "max_depth = 6 : 0.7838258164852255\n",
      "max_depth = 7 : 0.7822706065318819\n",
      "max_depth = 8 : 0.7791601866251944\n",
      "max_depth = 9 : 0.7822706065318819\n",
      "max_depth = 10 : 0.7744945567651633\n",
      "max_depth = 11 : 0.7620528771384136\n",
      "max_depth = 12 : 0.7620528771384136\n",
      "max_depth = 13 : 0.7558320373250389\n",
      "max_depth = 14 : 0.7589424572317263\n",
      "max_depth = 15 : 0.7465007776049767\n"
     ]
    }
   ],
   "source": [
    "for depth in range(1, 16):\n",
    "    tree_model = DecisionTreeClassifier(random_state=12345, max_depth=depth)\n",
    "    tree_model.fit(features_train_tariff,target_train_tariff)\n",
    "    tree_prediction = tree_model.predict(features_valid_tariff)\n",
    "    print(\"max_depth =\", depth, \": \", end='')\n",
    "    print(accuracy_score(target_valid_tariff,tree_prediction))"
   ]
  },
  {
   "cell_type": "markdown",
   "metadata": {},
   "source": [
    " Модель обучена. Наилучшее качество модели \"Дерево решений\"(показатель accuracy 0.785) установлено с  гиперпараметром max_depth = 3."
   ]
  },
  {
   "cell_type": "markdown",
   "metadata": {},
   "source": [
    "#### Модель \"Случайный лес\"."
   ]
  },
  {
   "cell_type": "markdown",
   "metadata": {},
   "source": [
    " Модель \"Случайный лес\" создаем в порядке, аналогичном \"Дереву решений\". Алгоритм \"Случайного леса\" RandomForestClassifier из модуля sklearn.ensemble библиотеки sklearn мы импортировали. \n",
    "    \n",
    "    \n",
    "Этапы обучения \"Случайного леса\" аналогичны этапам обучения \"Дерева решений\". Модель \"Случайного леса\" сохраним в переменной forest_model, предсказания - в переменной forest_predictions. Правильность модели проверим методом score().\n",
    "    "
   ]
  },
  {
   "cell_type": "code",
   "execution_count": 66,
   "metadata": {},
   "outputs": [
    {
     "name": "stdout",
     "output_type": "stream",
     "text": [
      "0.7853810264385692\n"
     ]
    }
   ],
   "source": [
    "forest_model = RandomForestClassifier(random_state=12345)\n",
    "forest_model.fit(features_train_tariff, target_train_tariff)        \n",
    "forest_predictions = forest_model.predict(features_valid_tariff)\n",
    "print(forest_model.score(features_valid_tariff, target_valid_tariff))"
   ]
  },
  {
   "cell_type": "markdown",
   "metadata": {},
   "source": [
    " В алгоритме построения \"Случайного леса\" по умолчанию установлен гиперпараметр n_estimators = 100 (количество деревьев) и гиперпараметр min_samples_leaf = 1(минимальное количество объектов в листе).   \n",
    "    \n",
    "    \n",
    "Для нахождения наилучшего варианта \"Случайного леса\" создадим цикл с перебором гиперпараметра n_estimators (количество деревьев).   \n",
    "    "
   ]
  },
  {
   "cell_type": "code",
   "execution_count": 67,
   "metadata": {},
   "outputs": [
    {
     "name": "stdout",
     "output_type": "stream",
     "text": [
      "n_estimators = 1 : 0.7107309486780715\n",
      "n_estimators = 3 : 0.7387247278382582\n",
      "n_estimators = 5 : 0.749611197511664\n",
      "n_estimators = 7 : 0.7682737169517885\n",
      "n_estimators = 9 : 0.7729393468118196\n",
      "n_estimators = 11 : 0.7838258164852255\n",
      "n_estimators = 13 : 0.7822706065318819\n",
      "n_estimators = 15 : 0.7838258164852255\n",
      "n_estimators = 17 : 0.7869362363919129\n",
      "n_estimators = 19 : 0.7884914463452566\n",
      "n_estimators = 21 : 0.7931570762052877\n",
      "n_estimators = 23 : 0.7947122861586314\n",
      "n_estimators = 25 : 0.7838258164852255\n",
      "n_estimators = 27 : 0.7853810264385692\n",
      "n_estimators = 29 : 0.7791601866251944\n"
     ]
    }
   ],
   "source": [
    "for est in range(1, 30, 2):\n",
    "    forest_model = RandomForestClassifier(random_state=12345, n_estimators = est)\n",
    "    forest_model.fit(features_train_tariff, target_train_tariff)        \n",
    "    print(\"n_estimators =\", est, \": \", end='')\n",
    "    print(forest_model.score(features_valid_tariff, target_valid_tariff))"
   ]
  },
  {
   "cell_type": "markdown",
   "metadata": {},
   "source": [
    " Наивысшее качество \"Случайного леса\" у модели с  n_estimators = 23 (0.79).\n",
    "    \n",
    "    \n",
    "Теперь создадим цикл с перебором гиперпараметра min_samples_leaf от 1 до 10 и заданным числом деревьев (23)"
   ]
  },
  {
   "cell_type": "code",
   "execution_count": 68,
   "metadata": {},
   "outputs": [
    {
     "name": "stdout",
     "output_type": "stream",
     "text": [
      "min_samples_leaf = 1 : 0.7947122861586314\n",
      "min_samples_leaf = 2 : 0.8009331259720062\n",
      "min_samples_leaf = 3 : 0.7900466562986003\n",
      "min_samples_leaf = 4 : 0.7962674961119751\n",
      "min_samples_leaf = 5 : 0.7900466562986003\n",
      "min_samples_leaf = 6 : 0.7993779160186625\n",
      "min_samples_leaf = 7 : 0.7947122861586314\n",
      "min_samples_leaf = 8 : 0.7884914463452566\n",
      "min_samples_leaf = 9 : 0.7931570762052877\n",
      "min_samples_leaf = 10 : 0.7962674961119751\n"
     ]
    }
   ],
   "source": [
    "for sampl in range(1, 11):\n",
    "    forest_model = RandomForestClassifier(random_state=12345, n_estimators = 23, min_samples_leaf = sampl)  \n",
    "    forest_model.fit(features_train_tariff, target_train_tariff)        \n",
    "    print(\"min_samples_leaf =\", sampl, \": \", end='')\n",
    "    print(forest_model.score(features_valid_tariff, target_valid_tariff))"
   ]
  },
  {
   "cell_type": "markdown",
   "metadata": {},
   "source": [
    " Модель \"Случайный лес\" обучена. Наилучшее качество (показатель accuracy 0.800) установлено с  гиперпараметрами n_estimators = 23, min_samples_leaf = 2."
   ]
  },
  {
   "cell_type": "markdown",
   "metadata": {},
   "source": [
    " В соответствии с замечанием  настраиваем наилучшие гиперпараметры модели \"Случайный лес\" совместно. Для этого импортируем RandomizedSearchCV библиотеки sklearn и задаем интересующий диапазон гиперпараметров."
   ]
  },
  {
   "cell_type": "code",
   "execution_count": 69,
   "metadata": {},
   "outputs": [],
   "source": [
    "from sklearn.model_selection import GridSearchCV"
   ]
  },
  {
   "cell_type": "code",
   "execution_count": 70,
   "metadata": {
    "scrolled": true
   },
   "outputs": [
    {
     "name": "stdout",
     "output_type": "stream",
     "text": [
      "Fitting 3 folds for each of 128 candidates, totalling 384 fits\n",
      "Лучшие гиперпараметры для модели 'Случайный лес' установлены: {'max_depth': 8, 'max_features': 'auto', 'min_samples_leaf': 4, 'n_estimators': 40, 'random_state': 12345}\n"
     ]
    }
   ],
   "source": [
    "rf_params = {'n_estimators': [10, 20, 30, 40],\n",
    "             'max_features': ['auto', 'sqrt'],\n",
    "             'max_depth': [2,4,6,8],\n",
    "             'min_samples_leaf': [1, 2, 3, 4],\n",
    "             'random_state' : [12345]}\n",
    "forest_model = GridSearchCV(RandomForestClassifier(random_state=42),rf_params, n_jobs=-1, cv = 3, verbose=2)\n",
    "forest_model.fit(features_train_tariff, target_train_tariff)\n",
    "print(\"Лучшие гиперпараметры для модели 'Случайный лес' установлены:\",forest_model.best_params_)"
   ]
  },
  {
   "cell_type": "code",
   "execution_count": 71,
   "metadata": {},
   "outputs": [
    {
     "name": "stdout",
     "output_type": "stream",
     "text": [
      "Accuracy 0.801\n"
     ]
    }
   ],
   "source": [
    "print('Accuracy', round((accuracy_score(forest_model.predict(features_valid_tariff), target_valid_tariff)),3))\n"
   ]
  },
  {
   "cell_type": "markdown",
   "metadata": {},
   "source": [
    " Модель \"Случайный лес\" обучена. Наилучшее качество (показатель accuracy 0.801) установлено с  гиперпараметрами max_depth = 8, n_estimators = 40, min_samples_leaf = 4, подобранными методом GridSearchCV."
   ]
  },
  {
   "cell_type": "markdown",
   "metadata": {},
   "source": [
    "#### Модель \"Логистическая регрессия\""
   ]
  },
  {
   "cell_type": "markdown",
   "metadata": {},
   "source": [
    " Для создания модели \"Логистическая регрессия\" мы импортировали алгоритм LogisticRegression из модуля sklearn.linear_model библиотеки sklearn. Обучение моделианалогично процесс обучения моделей \"Дерево решений\" и \"Случайный лес\". \n",
    "    \n",
    "    \n",
    "Гиперпараметр, выбирающий алгоритм решения, установим solver='lbfgs', максимальное количество итераций - по умолчанию (100).\n",
    "    \n",
    "    \n",
    "Имя модели присвоим log_model."
   ]
  },
  {
   "cell_type": "code",
   "execution_count": 72,
   "metadata": {},
   "outputs": [
    {
     "data": {
      "text/plain": [
       "0.7107309486780715"
      ]
     },
     "execution_count": 72,
     "metadata": {},
     "output_type": "execute_result"
    }
   ],
   "source": [
    "log_model = LogisticRegression(random_state=12345, solver='lbfgs')\n",
    "log_model.fit(features_train_tariff, target_train_tariff)\n",
    "log_predictions = log_model.predict(features_valid_tariff) \n",
    "log_model.score(features_valid_tariff,target_valid_tariff)"
   ]
  },
  {
   "cell_type": "markdown",
   "metadata": {},
   "source": [
    " Качество \"Логистической регрессии\" невысоко - accuracy = 0.71. Для поиска лучшего варианта циклом переберем гиперпараметр max_ite и посмотрим при скольких итерациях accuracy окажется наибольшим."
   ]
  },
  {
   "cell_type": "code",
   "execution_count": 73,
   "metadata": {},
   "outputs": [
    {
     "name": "stdout",
     "output_type": "stream",
     "text": [
      "max_iter = 1000 : 0.7107309486780715\n",
      "max_iter = 2000 : 0.7107309486780715\n",
      "max_iter = 3000 : 0.7107309486780715\n",
      "max_iter = 4000 : 0.7107309486780715\n",
      "max_iter = 5000 : 0.7107309486780715\n",
      "max_iter = 6000 : 0.7107309486780715\n",
      "max_iter = 7000 : 0.7107309486780715\n",
      "max_iter = 8000 : 0.7107309486780715\n",
      "max_iter = 9000 : 0.7107309486780715\n",
      "max_iter = 10000 : 0.7107309486780715\n"
     ]
    }
   ],
   "source": [
    "for it in range(1000, 11000, 1000):\n",
    "    log_model = LogisticRegression(random_state=12345, solver='lbfgs', max_iter=it)  \n",
    "    log_model.fit(features_train_tariff, target_train_tariff)        \n",
    "    print(\"max_iter =\", it, \": \", end='')\n",
    "    print(log_model.score(features_valid_tariff,target_valid_tariff))"
   ]
  },
  {
   "cell_type": "markdown",
   "metadata": {},
   "source": [
    " Аccuracy осталось неизменным и невысоким. \"Логистическая регрессия\" - не самая удачная по показателю аccuracy модель."
   ]
  },
  {
   "cell_type": "markdown",
   "metadata": {},
   "source": [
    "#### Выводы исследования моделей"
   ]
  },
  {
   "cell_type": "markdown",
   "metadata": {},
   "source": [
    " Обучение моделей показало разное качество.\n",
    "    \n",
    "    \n",
    "Наивысшее качество у модели \"Случайный лес\" с accuracy=0.80 при гиперпараметрах n_estimators = 40, min_samples_leaf = 4 и max_depth = 8.\n",
    "    \n",
    "    \n",
    "На втором месте результаты у модели \"Дерево решений\" с accuracy=0.785 при гиперпараметре max_depth = 3.  \n",
    "    \n",
    "    \n",
    "Самое низкое качество у модели  \"Логистическая регрессия\" с accuracy = 0.71. Изменение гиперпараметра max_iter в диапазоне от 1000 до 11000 с шагом 1000 результатов не изменило."
   ]
  },
  {
   "cell_type": "markdown",
   "metadata": {},
   "source": [
    "## Проверьте модель на тестовой выборке"
   ]
  },
  {
   "cell_type": "markdown",
   "metadata": {},
   "source": [
    " Проверяем на тестовой выборке качество модели \"Дерево решений\", в алгоритме которой задаем гиперпараметр, показавший лучший результат, max_depth = 3."
   ]
  },
  {
   "cell_type": "code",
   "execution_count": 74,
   "metadata": {},
   "outputs": [
    {
     "name": "stdout",
     "output_type": "stream",
     "text": [
      "Accuracy на тестовой выборке модели 'Дерево решений': 0.78\n"
     ]
    }
   ],
   "source": [
    "tree_model = DecisionTreeClassifier(random_state=12345,max_depth=3) \n",
    "tree_model.fit(features_train_tariff,target_train_tariff)\n",
    "test_prediction = tree_model.predict(features_test_tariff) \n",
    "print(\"Accuracy на тестовой выборке модели 'Дерево решений':\", round((accuracy_score(target_test_tariff, test_prediction)),2))"
   ]
  },
  {
   "cell_type": "markdown",
   "metadata": {},
   "source": [
    " Проверяем на тестовой выборке качество модели \"Случайный лес\", в алгоритме которой задаем гиперпараметры, показавшие лучшие результаты: n_estimators = 40, min_samples_leaf = 4, max_depth = 8."
   ]
  },
  {
   "cell_type": "code",
   "execution_count": 75,
   "metadata": {},
   "outputs": [
    {
     "name": "stdout",
     "output_type": "stream",
     "text": [
      "Accuracy на тестовой выборке модели 'Случайный лес': 0.8\n"
     ]
    }
   ],
   "source": [
    "forest_model = RandomForestClassifier(random_state=12345, n_estimators = 40, min_samples_leaf = 4, max_depth = 8 )  \n",
    "forest_model.fit(features_train_tariff, target_train_tariff)        \n",
    "print(\"Accuracy на тестовой выборке модели 'Случайный лес':\", round((forest_model.score\n",
    "                                                                    (features_test_tariff,target_test_tariff)),2))"
   ]
  },
  {
   "cell_type": "markdown",
   "metadata": {},
   "source": [
    " Проверяем на тестовой выборке качество модели \"Логистическая регрессия\""
   ]
  },
  {
   "cell_type": "code",
   "execution_count": 76,
   "metadata": {},
   "outputs": [
    {
     "name": "stdout",
     "output_type": "stream",
     "text": [
      "Accuracy на тестовой выборке модели 'Логистическая регрессия': 0.68\n"
     ]
    }
   ],
   "source": [
    "log_model = LogisticRegression(random_state=12345, solver='lbfgs')\n",
    "log_model.fit(features_train_tariff, target_train_tariff)\n",
    "print(\"Accuracy на тестовой выборке модели 'Логистическая регрессия':\", round((log_model.score\n",
    "                                                                               (features_test_tariff,target_test_tariff)),2))"
   ]
  },
  {
   "cell_type": "markdown",
   "metadata": {},
   "source": [
    " Для наглядности построим график сравнения accuracy моделей на тестовых выборках, а также с пороговым значением, установленным условием проекта 0.75."
   ]
  },
  {
   "cell_type": "code",
   "execution_count": 77,
   "metadata": {},
   "outputs": [
    {
     "data": {
      "text/plain": [
       "<AxesSubplot:>"
      ]
     },
     "execution_count": 77,
     "metadata": {},
     "output_type": "execute_result"
    },
    {
     "data": {
      "image/png": "[encoded data removed]",
      "text/plain": [
       "<Figure size 432x288 with 1 Axes>"
      ]
     },
     "metadata": {
      "needs_background": "light"
     },
     "output_type": "display_data"
    }
   ],
   "source": [
    "import matplotlib.pyplot as plt\n",
    "\n",
    "pd.DataFrame({'TS - 0.78': [tree_model.score(features_test_tariff, target_test_tariff)],\\\n",
    "              'RF- 0.8': [forest_model.score(features_test_tariff, target_test_tariff)],\\\n",
    "              'LG - 0.68': [log_model.score(features_test_tariff, target_test_tariff)],\\\n",
    "              'threshold - 0.75' :[0.75]\n",
    "             }, index=['accuracy']).plot.bar(ylim=(.67,.85))"
   ]
  },
  {
   "cell_type": "markdown",
   "metadata": {},
   "source": [
    "#### Выводы тестирования моделей"
   ]
  },
  {
   "cell_type": "markdown",
   "metadata": {},
   "source": [
    " Наилучшее качество на тестовой выборке с accuracy = 0.8 показала  модель \"Случайный лес\" с гиперпараметрами  n_estimators = 40,  min_samples_leaf = 4 и max_depth = 8."
   ]
  },
  {
   "cell_type": "markdown",
   "metadata": {},
   "source": [
    "##  Проверка  моделей на адекватность"
   ]
  },
  {
   "cell_type": "markdown",
   "metadata": {},
   "source": [
    " Проверим модели на адекватность (в том смысле, как это понято) метриками точности (precision) и  полноты (recall), а также F-мерой, которые мы импортировали из модуля sklearn.metrics библиотеки sklearn.     \n"
   ]
  },
  {
   "cell_type": "markdown",
   "metadata": {},
   "source": [
    " Проверяем модель \"Дерево решений\""
   ]
  },
  {
   "cell_type": "code",
   "execution_count": 78,
   "metadata": {},
   "outputs": [
    {
     "name": "stdout",
     "output_type": "stream",
     "text": [
      "Точность предсказаний: 0.34\n",
      "Полнота предсказаний: 0.27\n",
      "Оптимальное соотношение точности и полноты: 0.3\n"
     ]
    }
   ],
   "source": [
    "print(\"Точность предсказаний:\", round((precision_score(target_test_tariff, tree_prediction)),2))\n",
    "print(\"Полнота предсказаний:\", round((recall_score(target_test_tariff, tree_prediction)),2))\n",
    "print(\"Оптимальное соотношение точности и полноты:\", round((f1_score(target_test_tariff, tree_prediction)),2))"
   ]
  },
  {
   "cell_type": "markdown",
   "metadata": {},
   "source": [
    " Проверяем модель \"Случайный лес\""
   ]
  },
  {
   "cell_type": "code",
   "execution_count": 79,
   "metadata": {},
   "outputs": [
    {
     "name": "stdout",
     "output_type": "stream",
     "text": [
      "Точность предсказаний: 0.35\n",
      "Полнота предсказаний: 0.25\n",
      "Оптимальное соотношение точности и полноты: 0.29\n"
     ]
    }
   ],
   "source": [
    "print(\"Точность предсказаний:\", round((precision_score(target_test_tariff, forest_predictions)),2))\n",
    "print(\"Полнота предсказаний:\", round((recall_score(target_test_tariff, forest_predictions)),2))\n",
    "print(\"Оптимальное соотношение точности и полноты:\", round((f1_score(target_test_tariff, forest_predictions)),2))"
   ]
  },
  {
   "cell_type": "markdown",
   "metadata": {},
   "source": [
    " Проверяем модель \"Логистическая регрессия\""
   ]
  },
  {
   "cell_type": "code",
   "execution_count": 80,
   "metadata": {},
   "outputs": [
    {
     "name": "stdout",
     "output_type": "stream",
     "text": [
      "Точность предсказаний: 0.53\n",
      "Полнота предсказаний: 0.04\n",
      "Оптимальное соотношение точности и полноты: 0.08\n"
     ]
    }
   ],
   "source": [
    "print(\"Точность предсказаний:\", round((precision_score(target_test_tariff, log_predictions)),2))\n",
    "print(\"Полнота предсказаний:\", round((recall_score(target_test_tariff, log_predictions)),2))\n",
    "print(\"Оптимальное соотношение точности и полноты:\", round((f1_score(target_test_tariff, log_predictions)),2))"
   ]
  },
  {
   "cell_type": "markdown",
   "metadata": {},
   "source": [
    "#### Выводы финальной проверки моделей"
   ]
  },
  {
   "cell_type": "markdown",
   "metadata": {},
   "source": [
    " В соответствии с целью проекта создание системы, способной проанализировать поведение клиентов оператора мобильной связи - компании \"Мегалайн\" и определяющей пользовательский тариф «Смарт» или «Ультра» мы осуществили путем построения моделей машинного обучения типов \"Дерево решений\", \"Случайный лес\" и \"Логистическая регрессия\". Модели построены на основе данных о поведении клиентов, которые уже перешли на соответствующие тарифы, которые классифицированны.\n",
    "    \n",
    "    \n",
    "    \n",
    "    \n",
    "Модели были созданы и обучены на обучающих выборках, проверены на валидационных и протестированы - на тестовых. \n",
    "    \n",
    "    \n",
    "    \n",
    "Наилучшие результаты (с accuracy на валидационной и тестовой выборках 0.80 при гиперпараметрах n_estimators = 40, min_samples_leaf = 4, max_depth = 8) показала модель \"Случайный лес\". \n",
    "    \n",
    "    \n",
    "    \n",
    "Качество модели \"Дерево решений\" несколько ниже (accuracy на валидационной выборе и тестовой выборказ при гиперпараметре max_depth = 3 достигнуто 0.78.\n",
    "    \n",
    "    \n",
    "\n",
    "Наихудшие результаты у модели  \"Логистическая регрессия\", accuracy которой не достигло заданного условиями проекта уровня 0.75. "
   ]
  },
  {
   "cell_type": "markdown",
   "metadata": {},
   "source": [
    " С учетом результатов необязательной части проекта (исследования точности и полноты предсказаний, а также баланса этих метрик) у модели \"Дерево решений\" чуть более лучший показатель F1 (0.3) по сравнению с моделью \"Случайный лес\" (0.28).   "
   ]
  }
 ],
 "metadata": {
  "ExecuteTimeLog": [
   {
    "duration": 880,
    "start_time": "2022-08-02T13:11:31.512Z"
   },
   {
    "duration": 104,
    "start_time": "2022-08-02T13:11:32.395Z"
   },
   {
    "duration": 10,
    "start_time": "2022-08-02T13:14:15.328Z"
   },
   {
    "duration": 10,
    "start_time": "2022-08-02T13:15:30.222Z"
   },
   {
    "duration": 1190,
    "start_time": "2022-08-03T11:18:17.025Z"
   },
   {
    "duration": 127,
    "start_time": "2022-08-03T11:18:18.217Z"
   },
   {
    "duration": 6,
    "start_time": "2022-08-03T11:18:18.345Z"
   },
   {
    "duration": 7,
    "start_time": "2022-08-03T11:18:18.353Z"
   },
   {
    "duration": 13,
    "start_time": "2022-08-03T11:28:17.115Z"
   },
   {
    "duration": 3421,
    "start_time": "2022-08-03T11:44:19.061Z"
   },
   {
    "duration": 51,
    "start_time": "2022-08-03T11:44:42.827Z"
   },
   {
    "duration": 3,
    "start_time": "2022-08-03T11:44:55.104Z"
   },
   {
    "duration": 2040,
    "start_time": "2022-08-03T11:44:55.109Z"
   },
   {
    "duration": 44,
    "start_time": "2022-08-03T11:44:57.151Z"
   },
   {
    "duration": 5,
    "start_time": "2022-08-03T11:44:57.196Z"
   },
   {
    "duration": 7,
    "start_time": "2022-08-03T11:44:57.203Z"
   },
   {
    "duration": 101,
    "start_time": "2022-08-03T11:44:57.211Z"
   },
   {
    "duration": 9,
    "start_time": "2022-08-03T11:45:21.761Z"
   },
   {
    "duration": 2,
    "start_time": "2022-08-03T11:46:08.325Z"
   },
   {
    "duration": 3,
    "start_time": "2022-08-03T11:46:11.323Z"
   },
   {
    "duration": 5,
    "start_time": "2022-08-03T11:46:11.328Z"
   },
   {
    "duration": 59,
    "start_time": "2022-08-03T11:46:11.334Z"
   },
   {
    "duration": 6,
    "start_time": "2022-08-03T11:46:11.394Z"
   },
   {
    "duration": 5,
    "start_time": "2022-08-03T11:46:11.402Z"
   },
   {
    "duration": 9,
    "start_time": "2022-08-03T11:46:11.409Z"
   },
   {
    "duration": 3,
    "start_time": "2022-08-03T12:13:49.246Z"
   },
   {
    "duration": 8,
    "start_time": "2022-08-03T12:13:49.250Z"
   },
   {
    "duration": 44,
    "start_time": "2022-08-03T12:13:49.260Z"
   },
   {
    "duration": 5,
    "start_time": "2022-08-03T12:13:49.305Z"
   },
   {
    "duration": 8,
    "start_time": "2022-08-03T12:13:49.312Z"
   },
   {
    "duration": 10,
    "start_time": "2022-08-03T12:13:49.322Z"
   },
   {
    "duration": 0,
    "start_time": "2022-08-03T12:13:49.333Z"
   },
   {
    "duration": 44,
    "start_time": "2022-08-03T12:41:39.615Z"
   },
   {
    "duration": 1058,
    "start_time": "2022-08-04T04:29:09.764Z"
   },
   {
    "duration": 135,
    "start_time": "2022-08-04T04:29:10.824Z"
   },
   {
    "duration": 7,
    "start_time": "2022-08-04T04:29:10.961Z"
   },
   {
    "duration": 9,
    "start_time": "2022-08-04T04:29:10.970Z"
   },
   {
    "duration": 114,
    "start_time": "2022-08-04T04:29:10.980Z"
   },
   {
    "duration": 0,
    "start_time": "2022-08-04T04:29:11.096Z"
   },
   {
    "duration": 5,
    "start_time": "2022-08-04T05:45:46.648Z"
   },
   {
    "duration": 7,
    "start_time": "2022-08-04T05:47:45.213Z"
   },
   {
    "duration": 7,
    "start_time": "2022-08-04T05:50:04.406Z"
   },
   {
    "duration": 8,
    "start_time": "2022-08-04T05:50:44.713Z"
   },
   {
    "duration": 3,
    "start_time": "2022-08-04T05:51:12.618Z"
   },
   {
    "duration": 48,
    "start_time": "2022-08-04T05:51:12.623Z"
   },
   {
    "duration": 6,
    "start_time": "2022-08-04T05:51:12.673Z"
   },
   {
    "duration": 13,
    "start_time": "2022-08-04T05:51:12.680Z"
   },
   {
    "duration": 19,
    "start_time": "2022-08-04T05:51:12.695Z"
   },
   {
    "duration": 9,
    "start_time": "2022-08-04T05:51:12.715Z"
   },
   {
    "duration": 6,
    "start_time": "2022-08-04T05:52:04.937Z"
   },
   {
    "duration": 3,
    "start_time": "2022-08-04T05:52:09.312Z"
   },
   {
    "duration": 60,
    "start_time": "2022-08-04T05:52:09.316Z"
   },
   {
    "duration": 6,
    "start_time": "2022-08-04T05:52:09.377Z"
   },
   {
    "duration": 36,
    "start_time": "2022-08-04T05:52:09.384Z"
   },
   {
    "duration": 20,
    "start_time": "2022-08-04T05:52:09.422Z"
   },
   {
    "duration": 27,
    "start_time": "2022-08-04T05:52:09.443Z"
   },
   {
    "duration": 42,
    "start_time": "2022-08-04T05:57:56.454Z"
   },
   {
    "duration": 6,
    "start_time": "2022-08-04T05:58:01.437Z"
   },
   {
    "duration": 5,
    "start_time": "2022-08-04T05:58:03.381Z"
   },
   {
    "duration": 11,
    "start_time": "2022-08-04T06:01:45.328Z"
   },
   {
    "duration": 5,
    "start_time": "2022-08-04T06:01:58.781Z"
   },
   {
    "duration": 5,
    "start_time": "2022-08-04T06:02:00.972Z"
   },
   {
    "duration": 6,
    "start_time": "2022-08-04T06:06:23.912Z"
   },
   {
    "duration": 3,
    "start_time": "2022-08-04T06:06:28.411Z"
   },
   {
    "duration": 52,
    "start_time": "2022-08-04T06:06:28.416Z"
   },
   {
    "duration": 5,
    "start_time": "2022-08-04T06:06:28.469Z"
   },
   {
    "duration": 6,
    "start_time": "2022-08-04T06:06:28.475Z"
   },
   {
    "duration": 6,
    "start_time": "2022-08-04T06:06:28.482Z"
   },
   {
    "duration": 28,
    "start_time": "2022-08-04T06:06:28.489Z"
   },
   {
    "duration": 14,
    "start_time": "2022-08-04T06:06:28.519Z"
   },
   {
    "duration": 7,
    "start_time": "2022-08-04T06:22:37.538Z"
   },
   {
    "duration": 4,
    "start_time": "2022-08-04T06:24:29.370Z"
   },
   {
    "duration": 7,
    "start_time": "2022-08-04T06:24:38.929Z"
   },
   {
    "duration": 5,
    "start_time": "2022-08-04T06:24:45.913Z"
   },
   {
    "duration": 4,
    "start_time": "2022-08-04T06:24:48.787Z"
   },
   {
    "duration": 51,
    "start_time": "2022-08-04T06:25:07.648Z"
   },
   {
    "duration": 0,
    "start_time": "2022-08-04T06:25:07.702Z"
   },
   {
    "duration": 0,
    "start_time": "2022-08-04T06:25:07.703Z"
   },
   {
    "duration": 0,
    "start_time": "2022-08-04T06:25:07.704Z"
   },
   {
    "duration": 0,
    "start_time": "2022-08-04T06:25:07.705Z"
   },
   {
    "duration": 0,
    "start_time": "2022-08-04T06:25:07.706Z"
   },
   {
    "duration": 0,
    "start_time": "2022-08-04T06:25:07.707Z"
   },
   {
    "duration": 0,
    "start_time": "2022-08-04T06:25:07.709Z"
   },
   {
    "duration": 0,
    "start_time": "2022-08-04T06:25:07.712Z"
   },
   {
    "duration": 46,
    "start_time": "2022-08-04T06:25:22.935Z"
   },
   {
    "duration": 0,
    "start_time": "2022-08-04T06:25:22.983Z"
   },
   {
    "duration": 0,
    "start_time": "2022-08-04T06:25:22.985Z"
   },
   {
    "duration": 0,
    "start_time": "2022-08-04T06:25:22.986Z"
   },
   {
    "duration": 0,
    "start_time": "2022-08-04T06:25:22.987Z"
   },
   {
    "duration": 0,
    "start_time": "2022-08-04T06:25:22.988Z"
   },
   {
    "duration": 0,
    "start_time": "2022-08-04T06:25:22.989Z"
   },
   {
    "duration": 0,
    "start_time": "2022-08-04T06:25:22.990Z"
   },
   {
    "duration": 0,
    "start_time": "2022-08-04T06:25:22.991Z"
   },
   {
    "duration": 57,
    "start_time": "2022-08-04T06:25:50.290Z"
   },
   {
    "duration": 0,
    "start_time": "2022-08-04T06:25:50.349Z"
   },
   {
    "duration": 0,
    "start_time": "2022-08-04T06:25:50.350Z"
   },
   {
    "duration": 0,
    "start_time": "2022-08-04T06:25:50.351Z"
   },
   {
    "duration": 0,
    "start_time": "2022-08-04T06:25:50.352Z"
   },
   {
    "duration": 0,
    "start_time": "2022-08-04T06:25:50.353Z"
   },
   {
    "duration": 0,
    "start_time": "2022-08-04T06:25:50.354Z"
   },
   {
    "duration": 0,
    "start_time": "2022-08-04T06:25:50.355Z"
   },
   {
    "duration": 3,
    "start_time": "2022-08-04T06:26:06.114Z"
   },
   {
    "duration": 27,
    "start_time": "2022-08-04T06:26:06.119Z"
   },
   {
    "duration": 33,
    "start_time": "2022-08-04T06:26:06.148Z"
   },
   {
    "duration": 37,
    "start_time": "2022-08-04T06:26:06.183Z"
   },
   {
    "duration": 23,
    "start_time": "2022-08-04T06:26:06.222Z"
   },
   {
    "duration": 30,
    "start_time": "2022-08-04T06:26:06.247Z"
   },
   {
    "duration": 38,
    "start_time": "2022-08-04T06:26:06.279Z"
   },
   {
    "duration": 11,
    "start_time": "2022-08-04T07:09:58.270Z"
   },
   {
    "duration": 5,
    "start_time": "2022-08-04T07:10:22.164Z"
   },
   {
    "duration": 13,
    "start_time": "2022-08-04T07:10:40.980Z"
   },
   {
    "duration": 5,
    "start_time": "2022-08-04T07:10:54.075Z"
   },
   {
    "duration": 56,
    "start_time": "2022-08-04T07:12:02.899Z"
   },
   {
    "duration": 5,
    "start_time": "2022-08-04T07:20:29.617Z"
   },
   {
    "duration": 3,
    "start_time": "2022-08-04T07:29:00.310Z"
   },
   {
    "duration": 17,
    "start_time": "2022-08-04T07:29:00.315Z"
   },
   {
    "duration": 17,
    "start_time": "2022-08-04T07:29:00.334Z"
   },
   {
    "duration": 13,
    "start_time": "2022-08-04T07:29:00.352Z"
   },
   {
    "duration": 21,
    "start_time": "2022-08-04T07:29:00.367Z"
   },
   {
    "duration": 19,
    "start_time": "2022-08-04T07:29:00.390Z"
   },
   {
    "duration": 18,
    "start_time": "2022-08-04T07:29:00.410Z"
   },
   {
    "duration": 9,
    "start_time": "2022-08-04T07:29:00.429Z"
   },
   {
    "duration": 10,
    "start_time": "2022-08-04T07:32:25.322Z"
   },
   {
    "duration": 16,
    "start_time": "2022-08-04T07:32:38.911Z"
   },
   {
    "duration": 15,
    "start_time": "2022-08-04T07:45:36.775Z"
   },
   {
    "duration": 8,
    "start_time": "2022-08-04T07:45:45.217Z"
   },
   {
    "duration": 9,
    "start_time": "2022-08-04T07:46:01.595Z"
   },
   {
    "duration": 4,
    "start_time": "2022-08-04T07:47:10.155Z"
   },
   {
    "duration": 24,
    "start_time": "2022-08-04T07:47:10.162Z"
   },
   {
    "duration": 7,
    "start_time": "2022-08-04T07:47:10.188Z"
   },
   {
    "duration": 24,
    "start_time": "2022-08-04T07:47:10.197Z"
   },
   {
    "duration": 8,
    "start_time": "2022-08-04T07:47:10.223Z"
   },
   {
    "duration": 7,
    "start_time": "2022-08-04T07:47:10.233Z"
   },
   {
    "duration": 6,
    "start_time": "2022-08-04T07:47:10.242Z"
   },
   {
    "duration": 10,
    "start_time": "2022-08-04T07:47:10.250Z"
   },
   {
    "duration": 22,
    "start_time": "2022-08-04T07:47:10.263Z"
   },
   {
    "duration": 27,
    "start_time": "2022-08-04T07:47:10.287Z"
   },
   {
    "duration": 15,
    "start_time": "2022-08-04T07:47:10.316Z"
   },
   {
    "duration": 3,
    "start_time": "2022-08-04T07:47:30.958Z"
   },
   {
    "duration": 18,
    "start_time": "2022-08-04T07:47:30.963Z"
   },
   {
    "duration": 29,
    "start_time": "2022-08-04T07:47:30.982Z"
   },
   {
    "duration": 18,
    "start_time": "2022-08-04T07:47:31.012Z"
   },
   {
    "duration": 14,
    "start_time": "2022-08-04T07:47:31.032Z"
   },
   {
    "duration": 17,
    "start_time": "2022-08-04T07:47:31.047Z"
   },
   {
    "duration": 38,
    "start_time": "2022-08-04T07:47:31.066Z"
   },
   {
    "duration": 33,
    "start_time": "2022-08-04T07:47:31.106Z"
   },
   {
    "duration": 27,
    "start_time": "2022-08-04T07:47:31.141Z"
   },
   {
    "duration": 17,
    "start_time": "2022-08-04T07:47:31.171Z"
   },
   {
    "duration": 76,
    "start_time": "2022-08-04T07:47:31.190Z"
   },
   {
    "duration": 4,
    "start_time": "2022-08-04T07:48:01.788Z"
   },
   {
    "duration": 42,
    "start_time": "2022-08-04T07:48:01.795Z"
   },
   {
    "duration": 37,
    "start_time": "2022-08-04T07:48:01.839Z"
   },
   {
    "duration": 5,
    "start_time": "2022-08-04T07:48:01.879Z"
   },
   {
    "duration": 27,
    "start_time": "2022-08-04T07:48:01.886Z"
   },
   {
    "duration": 11,
    "start_time": "2022-08-04T07:48:01.915Z"
   },
   {
    "duration": 33,
    "start_time": "2022-08-04T07:48:01.928Z"
   },
   {
    "duration": 29,
    "start_time": "2022-08-04T07:48:01.964Z"
   },
   {
    "duration": 62,
    "start_time": "2022-08-04T07:48:01.995Z"
   },
   {
    "duration": 16,
    "start_time": "2022-08-04T07:48:02.060Z"
   },
   {
    "duration": 17,
    "start_time": "2022-08-04T07:48:02.078Z"
   },
   {
    "duration": 4,
    "start_time": "2022-08-04T07:48:25.879Z"
   },
   {
    "duration": 11,
    "start_time": "2022-08-04T07:48:25.885Z"
   },
   {
    "duration": 18,
    "start_time": "2022-08-04T07:48:25.900Z"
   },
   {
    "duration": 6,
    "start_time": "2022-08-04T07:48:25.920Z"
   },
   {
    "duration": 4,
    "start_time": "2022-08-04T07:48:25.928Z"
   },
   {
    "duration": 6,
    "start_time": "2022-08-04T07:48:25.933Z"
   },
   {
    "duration": 7,
    "start_time": "2022-08-04T07:48:25.941Z"
   },
   {
    "duration": 6,
    "start_time": "2022-08-04T07:48:25.949Z"
   },
   {
    "duration": 23,
    "start_time": "2022-08-04T07:48:25.957Z"
   },
   {
    "duration": 26,
    "start_time": "2022-08-04T07:48:25.982Z"
   },
   {
    "duration": 12,
    "start_time": "2022-08-04T07:48:26.010Z"
   },
   {
    "duration": 3,
    "start_time": "2022-08-04T07:53:59.332Z"
   },
   {
    "duration": 6,
    "start_time": "2022-08-04T07:55:14.952Z"
   },
   {
    "duration": 5,
    "start_time": "2022-08-04T07:56:27.192Z"
   },
   {
    "duration": 4,
    "start_time": "2022-08-04T07:58:03.091Z"
   },
   {
    "duration": 17,
    "start_time": "2022-08-04T07:58:03.097Z"
   },
   {
    "duration": 5,
    "start_time": "2022-08-04T07:58:03.116Z"
   },
   {
    "duration": 10,
    "start_time": "2022-08-04T07:58:03.123Z"
   },
   {
    "duration": 6,
    "start_time": "2022-08-04T07:58:03.134Z"
   },
   {
    "duration": 5,
    "start_time": "2022-08-04T07:58:03.142Z"
   },
   {
    "duration": 6,
    "start_time": "2022-08-04T07:58:03.149Z"
   },
   {
    "duration": 7,
    "start_time": "2022-08-04T07:58:03.156Z"
   },
   {
    "duration": 40,
    "start_time": "2022-08-04T07:58:03.164Z"
   },
   {
    "duration": 8,
    "start_time": "2022-08-04T07:58:03.206Z"
   },
   {
    "duration": 8,
    "start_time": "2022-08-04T07:58:03.215Z"
   },
   {
    "duration": 4,
    "start_time": "2022-08-04T07:58:03.225Z"
   },
   {
    "duration": 7,
    "start_time": "2022-08-04T07:58:03.230Z"
   },
   {
    "duration": 3,
    "start_time": "2022-08-04T07:58:26.321Z"
   },
   {
    "duration": 11,
    "start_time": "2022-08-04T07:58:26.326Z"
   },
   {
    "duration": 9,
    "start_time": "2022-08-04T07:58:26.338Z"
   },
   {
    "duration": 4,
    "start_time": "2022-08-04T07:58:26.349Z"
   },
   {
    "duration": 8,
    "start_time": "2022-08-04T07:58:26.354Z"
   },
   {
    "duration": 8,
    "start_time": "2022-08-04T07:58:26.364Z"
   },
   {
    "duration": 8,
    "start_time": "2022-08-04T07:58:26.373Z"
   },
   {
    "duration": 9,
    "start_time": "2022-08-04T07:58:26.383Z"
   },
   {
    "duration": 34,
    "start_time": "2022-08-04T07:58:26.393Z"
   },
   {
    "duration": 6,
    "start_time": "2022-08-04T07:58:26.430Z"
   },
   {
    "duration": 11,
    "start_time": "2022-08-04T07:58:26.438Z"
   },
   {
    "duration": 6,
    "start_time": "2022-08-04T07:58:26.450Z"
   },
   {
    "duration": 8,
    "start_time": "2022-08-04T07:58:26.458Z"
   },
   {
    "duration": 2,
    "start_time": "2022-08-04T08:01:25.273Z"
   },
   {
    "duration": 33,
    "start_time": "2022-08-04T08:05:13.414Z"
   },
   {
    "duration": 181,
    "start_time": "2022-08-04T08:05:33.614Z"
   },
   {
    "duration": 564,
    "start_time": "2022-08-04T08:05:48.915Z"
   },
   {
    "duration": 1818,
    "start_time": "2022-08-04T08:06:07.711Z"
   },
   {
    "duration": 47,
    "start_time": "2022-08-04T08:06:20.466Z"
   },
   {
    "duration": 43,
    "start_time": "2022-08-04T08:17:31.069Z"
   },
   {
    "duration": 23,
    "start_time": "2022-08-04T08:18:43.489Z"
   },
   {
    "duration": 34,
    "start_time": "2022-08-04T08:19:35.551Z"
   },
   {
    "duration": 78,
    "start_time": "2022-08-04T08:20:10.312Z"
   },
   {
    "duration": 147,
    "start_time": "2022-08-04T08:20:33.266Z"
   },
   {
    "duration": 202,
    "start_time": "2022-08-04T08:21:52.874Z"
   },
   {
    "duration": 6,
    "start_time": "2022-08-04T08:23:48.830Z"
   },
   {
    "duration": 134,
    "start_time": "2022-08-04T08:24:08.076Z"
   },
   {
    "duration": 4,
    "start_time": "2022-08-04T08:24:15.817Z"
   },
   {
    "duration": 6,
    "start_time": "2022-08-04T08:24:18.330Z"
   },
   {
    "duration": 3,
    "start_time": "2022-08-04T08:24:33.868Z"
   },
   {
    "duration": 6,
    "start_time": "2022-08-04T08:24:35.774Z"
   },
   {
    "duration": 140,
    "start_time": "2022-08-04T08:25:25.973Z"
   },
   {
    "duration": 4,
    "start_time": "2022-08-04T08:25:30.311Z"
   },
   {
    "duration": 5,
    "start_time": "2022-08-04T08:25:32.664Z"
   },
   {
    "duration": 127,
    "start_time": "2022-08-04T08:25:47.217Z"
   },
   {
    "duration": 121,
    "start_time": "2022-08-04T08:25:56.714Z"
   },
   {
    "duration": 83,
    "start_time": "2022-08-04T08:26:45.028Z"
   },
   {
    "duration": 3,
    "start_time": "2022-08-04T08:26:52.210Z"
   },
   {
    "duration": 6,
    "start_time": "2022-08-04T08:26:52.219Z"
   },
   {
    "duration": 6,
    "start_time": "2022-08-04T08:26:52.227Z"
   },
   {
    "duration": 8,
    "start_time": "2022-08-04T08:26:52.235Z"
   },
   {
    "duration": 7,
    "start_time": "2022-08-04T08:26:52.244Z"
   },
   {
    "duration": 5,
    "start_time": "2022-08-04T08:26:52.253Z"
   },
   {
    "duration": 9,
    "start_time": "2022-08-04T08:26:52.259Z"
   },
   {
    "duration": 11,
    "start_time": "2022-08-04T08:26:52.270Z"
   },
   {
    "duration": 22,
    "start_time": "2022-08-04T08:26:52.282Z"
   },
   {
    "duration": 128,
    "start_time": "2022-08-04T08:26:52.305Z"
   },
   {
    "duration": 123,
    "start_time": "2022-08-04T08:26:52.434Z"
   },
   {
    "duration": 4,
    "start_time": "2022-08-04T08:26:52.559Z"
   },
   {
    "duration": 7,
    "start_time": "2022-08-04T08:26:52.564Z"
   },
   {
    "duration": 35,
    "start_time": "2022-08-04T08:26:52.573Z"
   },
   {
    "duration": 9,
    "start_time": "2022-08-04T08:26:52.611Z"
   },
   {
    "duration": 50,
    "start_time": "2022-08-04T08:27:20.910Z"
   },
   {
    "duration": 53,
    "start_time": "2022-08-04T08:27:40.691Z"
   },
   {
    "duration": 125,
    "start_time": "2022-08-04T08:41:45.866Z"
   },
   {
    "duration": 159,
    "start_time": "2022-08-04T08:42:14.444Z"
   },
   {
    "duration": 5,
    "start_time": "2022-08-04T08:42:30.700Z"
   },
   {
    "duration": 6,
    "start_time": "2022-08-04T08:42:33.920Z"
   },
   {
    "duration": 4,
    "start_time": "2022-08-04T08:43:29.430Z"
   },
   {
    "duration": 6,
    "start_time": "2022-08-04T08:43:30.971Z"
   },
   {
    "duration": 23,
    "start_time": "2022-08-04T08:45:45.125Z"
   },
   {
    "duration": 33,
    "start_time": "2022-08-04T08:47:56.985Z"
   },
   {
    "duration": 29,
    "start_time": "2022-08-04T08:49:09.328Z"
   },
   {
    "duration": 39,
    "start_time": "2022-08-04T08:55:58.084Z"
   },
   {
    "duration": 7,
    "start_time": "2022-08-04T08:57:55.598Z"
   },
   {
    "duration": 68,
    "start_time": "2022-08-04T08:58:16.465Z"
   },
   {
    "duration": 8,
    "start_time": "2022-08-04T08:58:20.260Z"
   },
   {
    "duration": 285,
    "start_time": "2022-08-04T09:06:10.756Z"
   },
   {
    "duration": 67,
    "start_time": "2022-08-04T09:06:42.159Z"
   },
   {
    "duration": 64,
    "start_time": "2022-08-04T09:07:01.176Z"
   },
   {
    "duration": 9,
    "start_time": "2022-08-04T09:07:43.118Z"
   },
   {
    "duration": 12,
    "start_time": "2022-08-04T09:07:52.597Z"
   },
   {
    "duration": 10,
    "start_time": "2022-08-04T09:07:52.611Z"
   },
   {
    "duration": 8,
    "start_time": "2022-08-04T09:07:52.622Z"
   },
   {
    "duration": 4,
    "start_time": "2022-08-04T09:07:52.632Z"
   },
   {
    "duration": 6,
    "start_time": "2022-08-04T09:07:52.637Z"
   },
   {
    "duration": 7,
    "start_time": "2022-08-04T09:07:52.644Z"
   },
   {
    "duration": 4,
    "start_time": "2022-08-04T09:07:52.661Z"
   },
   {
    "duration": 6,
    "start_time": "2022-08-04T09:07:52.666Z"
   },
   {
    "duration": 2,
    "start_time": "2022-08-04T09:07:52.687Z"
   },
   {
    "duration": 133,
    "start_time": "2022-08-04T09:07:52.691Z"
   },
   {
    "duration": 132,
    "start_time": "2022-08-04T09:07:52.826Z"
   },
   {
    "duration": 4,
    "start_time": "2022-08-04T09:07:52.959Z"
   },
   {
    "duration": 7,
    "start_time": "2022-08-04T09:07:52.965Z"
   },
   {
    "duration": 25,
    "start_time": "2022-08-04T09:07:52.973Z"
   },
   {
    "duration": 17,
    "start_time": "2022-08-04T09:07:53.004Z"
   },
   {
    "duration": 58,
    "start_time": "2022-08-04T09:07:53.023Z"
   },
   {
    "duration": 8,
    "start_time": "2022-08-04T09:07:53.082Z"
   },
   {
    "duration": 291,
    "start_time": "2022-08-04T09:07:53.091Z"
   },
   {
    "duration": 26,
    "start_time": "2022-08-04T09:07:53.384Z"
   },
   {
    "duration": 597,
    "start_time": "2022-08-04T09:08:48.475Z"
   },
   {
    "duration": 12,
    "start_time": "2022-08-04T09:08:54.522Z"
   },
   {
    "duration": 37,
    "start_time": "2022-08-04T09:16:01.987Z"
   },
   {
    "duration": 40,
    "start_time": "2022-08-04T09:16:46.170Z"
   },
   {
    "duration": 40,
    "start_time": "2022-08-04T09:17:40.581Z"
   },
   {
    "duration": 43,
    "start_time": "2022-08-04T09:18:16.051Z"
   },
   {
    "duration": 37,
    "start_time": "2022-08-04T09:18:56.355Z"
   },
   {
    "duration": 8,
    "start_time": "2022-08-04T09:19:35.571Z"
   },
   {
    "duration": 38,
    "start_time": "2022-08-04T09:20:14.879Z"
   },
   {
    "duration": 34,
    "start_time": "2022-08-04T09:20:37.422Z"
   },
   {
    "duration": 43,
    "start_time": "2022-08-04T09:21:24.095Z"
   },
   {
    "duration": 3,
    "start_time": "2022-08-04T09:21:33.020Z"
   },
   {
    "duration": 11,
    "start_time": "2022-08-04T09:21:33.025Z"
   },
   {
    "duration": 11,
    "start_time": "2022-08-04T09:21:33.037Z"
   },
   {
    "duration": 5,
    "start_time": "2022-08-04T09:21:33.050Z"
   },
   {
    "duration": 5,
    "start_time": "2022-08-04T09:21:33.057Z"
   },
   {
    "duration": 8,
    "start_time": "2022-08-04T09:21:33.064Z"
   },
   {
    "duration": 7,
    "start_time": "2022-08-04T09:21:33.074Z"
   },
   {
    "duration": 9,
    "start_time": "2022-08-04T09:21:33.083Z"
   },
   {
    "duration": 23,
    "start_time": "2022-08-04T09:21:33.094Z"
   },
   {
    "duration": 123,
    "start_time": "2022-08-04T09:21:33.119Z"
   },
   {
    "duration": 135,
    "start_time": "2022-08-04T09:21:33.244Z"
   },
   {
    "duration": 3,
    "start_time": "2022-08-04T09:21:33.382Z"
   },
   {
    "duration": 20,
    "start_time": "2022-08-04T09:21:33.387Z"
   },
   {
    "duration": 10,
    "start_time": "2022-08-04T09:21:33.409Z"
   },
   {
    "duration": 7,
    "start_time": "2022-08-04T09:21:33.421Z"
   },
   {
    "duration": 58,
    "start_time": "2022-08-04T09:21:33.430Z"
   },
   {
    "duration": 23,
    "start_time": "2022-08-04T09:21:33.490Z"
   },
   {
    "duration": 608,
    "start_time": "2022-08-04T09:21:33.515Z"
   },
   {
    "duration": 9,
    "start_time": "2022-08-04T09:21:34.125Z"
   },
   {
    "duration": 35,
    "start_time": "2022-08-04T09:21:34.136Z"
   },
   {
    "duration": 6,
    "start_time": "2022-08-04T09:21:34.173Z"
   },
   {
    "duration": 46,
    "start_time": "2022-08-04T09:21:46.866Z"
   },
   {
    "duration": 36,
    "start_time": "2022-08-04T09:26:07.390Z"
   },
   {
    "duration": 7,
    "start_time": "2022-08-04T09:26:11.075Z"
   },
   {
    "duration": 38,
    "start_time": "2022-08-04T09:26:17.894Z"
   },
   {
    "duration": 3,
    "start_time": "2022-08-04T09:26:20.849Z"
   },
   {
    "duration": 12,
    "start_time": "2022-08-04T09:26:20.853Z"
   },
   {
    "duration": 11,
    "start_time": "2022-08-04T09:26:20.866Z"
   },
   {
    "duration": 8,
    "start_time": "2022-08-04T09:26:20.878Z"
   },
   {
    "duration": 12,
    "start_time": "2022-08-04T09:26:20.888Z"
   },
   {
    "duration": 15,
    "start_time": "2022-08-04T09:26:20.904Z"
   },
   {
    "duration": 7,
    "start_time": "2022-08-04T09:26:20.920Z"
   },
   {
    "duration": 9,
    "start_time": "2022-08-04T09:26:20.928Z"
   },
   {
    "duration": 5,
    "start_time": "2022-08-04T09:26:20.938Z"
   },
   {
    "duration": 125,
    "start_time": "2022-08-04T09:26:20.945Z"
   },
   {
    "duration": 145,
    "start_time": "2022-08-04T09:26:21.072Z"
   },
   {
    "duration": 4,
    "start_time": "2022-08-04T09:26:21.218Z"
   },
   {
    "duration": 8,
    "start_time": "2022-08-04T09:26:21.224Z"
   },
   {
    "duration": 5,
    "start_time": "2022-08-04T09:26:21.234Z"
   },
   {
    "duration": 12,
    "start_time": "2022-08-04T09:26:21.240Z"
   },
   {
    "duration": 71,
    "start_time": "2022-08-04T09:26:21.254Z"
   },
   {
    "duration": 8,
    "start_time": "2022-08-04T09:26:21.326Z"
   },
   {
    "duration": 620,
    "start_time": "2022-08-04T09:26:21.336Z"
   },
   {
    "duration": 9,
    "start_time": "2022-08-04T09:26:21.958Z"
   },
   {
    "duration": 55,
    "start_time": "2022-08-04T09:26:21.968Z"
   },
   {
    "duration": 7,
    "start_time": "2022-08-04T09:26:22.024Z"
   },
   {
    "duration": 12,
    "start_time": "2022-08-04T10:13:00.796Z"
   },
   {
    "duration": 71,
    "start_time": "2022-08-04T10:13:00.812Z"
   },
   {
    "duration": 5,
    "start_time": "2022-08-04T10:13:00.885Z"
   },
   {
    "duration": 33,
    "start_time": "2022-08-04T10:13:00.892Z"
   },
   {
    "duration": 7,
    "start_time": "2022-08-04T10:13:00.927Z"
   },
   {
    "duration": 15,
    "start_time": "2022-08-04T10:13:00.936Z"
   },
   {
    "duration": 21,
    "start_time": "2022-08-04T10:13:00.953Z"
   },
   {
    "duration": 19,
    "start_time": "2022-08-04T10:13:00.976Z"
   },
   {
    "duration": 22,
    "start_time": "2022-08-04T10:13:00.998Z"
   },
   {
    "duration": 5,
    "start_time": "2022-08-04T10:13:01.021Z"
   },
   {
    "duration": 130,
    "start_time": "2022-08-04T10:13:01.028Z"
   },
   {
    "duration": 134,
    "start_time": "2022-08-04T10:13:01.159Z"
   },
   {
    "duration": 8,
    "start_time": "2022-08-04T10:13:01.304Z"
   },
   {
    "duration": 42,
    "start_time": "2022-08-04T10:13:01.314Z"
   },
   {
    "duration": 44,
    "start_time": "2022-08-04T10:13:01.358Z"
   },
   {
    "duration": 48,
    "start_time": "2022-08-04T10:13:01.404Z"
   },
   {
    "duration": 88,
    "start_time": "2022-08-04T10:13:01.454Z"
   },
   {
    "duration": 8,
    "start_time": "2022-08-04T10:13:01.544Z"
   },
   {
    "duration": 619,
    "start_time": "2022-08-04T10:13:01.553Z"
   },
   {
    "duration": 9,
    "start_time": "2022-08-04T10:13:02.174Z"
   },
   {
    "duration": 57,
    "start_time": "2022-08-04T10:13:02.185Z"
   },
   {
    "duration": 6,
    "start_time": "2022-08-04T10:13:02.244Z"
   },
   {
    "duration": 23,
    "start_time": "2022-08-04T10:16:14.785Z"
   },
   {
    "duration": 6,
    "start_time": "2022-08-04T10:16:42.476Z"
   },
   {
    "duration": 1113,
    "start_time": "2022-08-05T04:47:08.702Z"
   },
   {
    "duration": 48,
    "start_time": "2022-08-05T04:47:09.816Z"
   },
   {
    "duration": 0,
    "start_time": "2022-08-05T04:47:09.866Z"
   },
   {
    "duration": 0,
    "start_time": "2022-08-05T04:47:09.867Z"
   },
   {
    "duration": 0,
    "start_time": "2022-08-05T04:47:09.868Z"
   },
   {
    "duration": 0,
    "start_time": "2022-08-05T04:47:09.869Z"
   },
   {
    "duration": 0,
    "start_time": "2022-08-05T04:47:09.870Z"
   },
   {
    "duration": 0,
    "start_time": "2022-08-05T04:47:09.871Z"
   },
   {
    "duration": 0,
    "start_time": "2022-08-05T04:47:09.872Z"
   },
   {
    "duration": 0,
    "start_time": "2022-08-05T04:47:09.873Z"
   },
   {
    "duration": 0,
    "start_time": "2022-08-05T04:47:09.874Z"
   },
   {
    "duration": 0,
    "start_time": "2022-08-05T04:47:09.875Z"
   },
   {
    "duration": 0,
    "start_time": "2022-08-05T04:47:09.878Z"
   },
   {
    "duration": 0,
    "start_time": "2022-08-05T04:47:09.879Z"
   },
   {
    "duration": 0,
    "start_time": "2022-08-05T04:47:09.879Z"
   },
   {
    "duration": 0,
    "start_time": "2022-08-05T04:47:09.880Z"
   },
   {
    "duration": 0,
    "start_time": "2022-08-05T04:47:09.881Z"
   },
   {
    "duration": 0,
    "start_time": "2022-08-05T04:47:09.882Z"
   },
   {
    "duration": 0,
    "start_time": "2022-08-05T04:47:09.883Z"
   },
   {
    "duration": 0,
    "start_time": "2022-08-05T04:47:09.884Z"
   },
   {
    "duration": 1,
    "start_time": "2022-08-05T04:47:09.884Z"
   },
   {
    "duration": 0,
    "start_time": "2022-08-05T04:47:09.885Z"
   },
   {
    "duration": 0,
    "start_time": "2022-08-05T04:47:09.886Z"
   },
   {
    "duration": 3,
    "start_time": "2022-08-05T04:47:37.546Z"
   },
   {
    "duration": 153,
    "start_time": "2022-08-05T04:47:37.554Z"
   },
   {
    "duration": 5,
    "start_time": "2022-08-05T04:47:37.709Z"
   },
   {
    "duration": 8,
    "start_time": "2022-08-05T04:47:37.715Z"
   },
   {
    "duration": 12,
    "start_time": "2022-08-05T04:47:37.724Z"
   },
   {
    "duration": 17,
    "start_time": "2022-08-05T04:47:37.738Z"
   },
   {
    "duration": 35,
    "start_time": "2022-08-05T04:47:37.756Z"
   },
   {
    "duration": 17,
    "start_time": "2022-08-05T04:47:37.792Z"
   },
   {
    "duration": 24,
    "start_time": "2022-08-05T04:47:37.810Z"
   },
   {
    "duration": 24,
    "start_time": "2022-08-05T04:47:37.836Z"
   },
   {
    "duration": 118,
    "start_time": "2022-08-05T04:47:37.861Z"
   },
   {
    "duration": 116,
    "start_time": "2022-08-05T04:47:37.981Z"
   },
   {
    "duration": 4,
    "start_time": "2022-08-05T04:47:38.098Z"
   },
   {
    "duration": 26,
    "start_time": "2022-08-05T04:47:38.104Z"
   },
   {
    "duration": 35,
    "start_time": "2022-08-05T04:47:38.133Z"
   },
   {
    "duration": 19,
    "start_time": "2022-08-05T04:47:38.169Z"
   },
   {
    "duration": 71,
    "start_time": "2022-08-05T04:47:38.189Z"
   },
   {
    "duration": 7,
    "start_time": "2022-08-05T04:47:38.262Z"
   },
   {
    "duration": 497,
    "start_time": "2022-08-05T04:47:38.271Z"
   },
   {
    "duration": 9,
    "start_time": "2022-08-05T04:47:38.769Z"
   },
   {
    "duration": 47,
    "start_time": "2022-08-05T04:47:38.786Z"
   },
   {
    "duration": 5,
    "start_time": "2022-08-05T04:47:38.835Z"
   },
   {
    "duration": 32,
    "start_time": "2022-08-05T04:49:54.968Z"
   },
   {
    "duration": 61,
    "start_time": "2022-08-05T04:50:18.688Z"
   },
   {
    "duration": 17,
    "start_time": "2022-08-05T04:51:26.156Z"
   },
   {
    "duration": 5,
    "start_time": "2022-08-05T04:59:31.745Z"
   },
   {
    "duration": 4,
    "start_time": "2022-08-05T05:03:29.666Z"
   },
   {
    "duration": 5,
    "start_time": "2022-08-05T05:04:39.283Z"
   },
   {
    "duration": 5,
    "start_time": "2022-08-05T05:04:51.279Z"
   },
   {
    "duration": 3,
    "start_time": "2022-08-05T05:04:56.162Z"
   },
   {
    "duration": 4,
    "start_time": "2022-08-05T05:05:00.115Z"
   },
   {
    "duration": 44,
    "start_time": "2022-08-05T05:05:00.121Z"
   },
   {
    "duration": 19,
    "start_time": "2022-08-05T05:05:00.166Z"
   },
   {
    "duration": 6,
    "start_time": "2022-08-05T05:05:00.187Z"
   },
   {
    "duration": 24,
    "start_time": "2022-08-05T05:05:00.195Z"
   },
   {
    "duration": 12,
    "start_time": "2022-08-05T05:05:00.221Z"
   },
   {
    "duration": 12,
    "start_time": "2022-08-05T05:05:00.235Z"
   },
   {
    "duration": 17,
    "start_time": "2022-08-05T05:05:00.249Z"
   },
   {
    "duration": 12,
    "start_time": "2022-08-05T05:05:00.267Z"
   },
   {
    "duration": 12,
    "start_time": "2022-08-05T05:05:00.281Z"
   },
   {
    "duration": 115,
    "start_time": "2022-08-05T05:05:00.294Z"
   },
   {
    "duration": 125,
    "start_time": "2022-08-05T05:05:00.411Z"
   },
   {
    "duration": 5,
    "start_time": "2022-08-05T05:05:00.539Z"
   },
   {
    "duration": 26,
    "start_time": "2022-08-05T05:05:00.546Z"
   },
   {
    "duration": 15,
    "start_time": "2022-08-05T05:05:00.574Z"
   },
   {
    "duration": 20,
    "start_time": "2022-08-05T05:05:00.591Z"
   },
   {
    "duration": 75,
    "start_time": "2022-08-05T05:05:00.613Z"
   },
   {
    "duration": 10,
    "start_time": "2022-08-05T05:05:00.690Z"
   },
   {
    "duration": 601,
    "start_time": "2022-08-05T05:05:00.702Z"
   },
   {
    "duration": 10,
    "start_time": "2022-08-05T05:05:01.305Z"
   },
   {
    "duration": 59,
    "start_time": "2022-08-05T05:05:01.316Z"
   },
   {
    "duration": 7,
    "start_time": "2022-08-05T05:05:01.377Z"
   },
   {
    "duration": 6,
    "start_time": "2022-08-05T05:09:25.140Z"
   },
   {
    "duration": 3,
    "start_time": "2022-08-05T05:09:27.774Z"
   },
   {
    "duration": 34,
    "start_time": "2022-08-05T05:09:27.779Z"
   },
   {
    "duration": 18,
    "start_time": "2022-08-05T05:09:27.814Z"
   },
   {
    "duration": 5,
    "start_time": "2022-08-05T05:09:27.834Z"
   },
   {
    "duration": 7,
    "start_time": "2022-08-05T05:09:27.840Z"
   },
   {
    "duration": 4,
    "start_time": "2022-08-05T05:09:27.848Z"
   },
   {
    "duration": 9,
    "start_time": "2022-08-05T05:09:27.853Z"
   },
   {
    "duration": 18,
    "start_time": "2022-08-05T05:09:27.864Z"
   },
   {
    "duration": 6,
    "start_time": "2022-08-05T05:09:27.883Z"
   },
   {
    "duration": 107,
    "start_time": "2022-08-05T05:09:27.891Z"
   },
   {
    "duration": 129,
    "start_time": "2022-08-05T05:09:28.000Z"
   },
   {
    "duration": 5,
    "start_time": "2022-08-05T05:09:28.131Z"
   },
   {
    "duration": 12,
    "start_time": "2022-08-05T05:09:28.138Z"
   },
   {
    "duration": 6,
    "start_time": "2022-08-05T05:09:28.152Z"
   },
   {
    "duration": 27,
    "start_time": "2022-08-05T05:09:28.161Z"
   },
   {
    "duration": 57,
    "start_time": "2022-08-05T05:09:28.190Z"
   },
   {
    "duration": 8,
    "start_time": "2022-08-05T05:09:28.249Z"
   },
   {
    "duration": 521,
    "start_time": "2022-08-05T05:09:28.259Z"
   },
   {
    "duration": 11,
    "start_time": "2022-08-05T05:09:28.781Z"
   },
   {
    "duration": 25,
    "start_time": "2022-08-05T05:09:28.793Z"
   },
   {
    "duration": 7,
    "start_time": "2022-08-05T05:09:28.819Z"
   },
   {
    "duration": 3,
    "start_time": "2022-08-05T05:13:27.409Z"
   },
   {
    "duration": 3,
    "start_time": "2022-08-05T05:55:44.769Z"
   },
   {
    "duration": 95,
    "start_time": "2022-08-05T05:56:22.849Z"
   },
   {
    "duration": 3,
    "start_time": "2022-08-05T05:56:37.462Z"
   },
   {
    "duration": 56,
    "start_time": "2022-08-05T05:56:37.467Z"
   },
   {
    "duration": 22,
    "start_time": "2022-08-05T05:56:37.524Z"
   },
   {
    "duration": 28,
    "start_time": "2022-08-05T05:56:37.548Z"
   },
   {
    "duration": 16,
    "start_time": "2022-08-05T05:56:37.579Z"
   },
   {
    "duration": 22,
    "start_time": "2022-08-05T05:56:37.597Z"
   },
   {
    "duration": 26,
    "start_time": "2022-08-05T05:56:37.621Z"
   },
   {
    "duration": 0,
    "start_time": "2022-08-05T05:56:37.649Z"
   },
   {
    "duration": 0,
    "start_time": "2022-08-05T05:56:37.651Z"
   },
   {
    "duration": 0,
    "start_time": "2022-08-05T05:56:37.651Z"
   },
   {
    "duration": 0,
    "start_time": "2022-08-05T05:56:37.653Z"
   },
   {
    "duration": 0,
    "start_time": "2022-08-05T05:56:37.654Z"
   },
   {
    "duration": 0,
    "start_time": "2022-08-05T05:56:37.655Z"
   },
   {
    "duration": 0,
    "start_time": "2022-08-05T05:56:37.657Z"
   },
   {
    "duration": 0,
    "start_time": "2022-08-05T05:56:37.658Z"
   },
   {
    "duration": 0,
    "start_time": "2022-08-05T05:56:37.659Z"
   },
   {
    "duration": 0,
    "start_time": "2022-08-05T05:56:37.661Z"
   },
   {
    "duration": 0,
    "start_time": "2022-08-05T05:56:37.662Z"
   },
   {
    "duration": 0,
    "start_time": "2022-08-05T05:56:37.663Z"
   },
   {
    "duration": 0,
    "start_time": "2022-08-05T05:56:37.664Z"
   },
   {
    "duration": 0,
    "start_time": "2022-08-05T05:56:37.666Z"
   },
   {
    "duration": 0,
    "start_time": "2022-08-05T05:56:37.667Z"
   },
   {
    "duration": 0,
    "start_time": "2022-08-05T05:56:37.668Z"
   },
   {
    "duration": 4,
    "start_time": "2022-08-05T05:57:53.569Z"
   },
   {
    "duration": 3,
    "start_time": "2022-08-05T05:57:57.918Z"
   },
   {
    "duration": 34,
    "start_time": "2022-08-05T05:57:57.923Z"
   },
   {
    "duration": 17,
    "start_time": "2022-08-05T05:57:57.959Z"
   },
   {
    "duration": 5,
    "start_time": "2022-08-05T05:57:57.977Z"
   },
   {
    "duration": 8,
    "start_time": "2022-08-05T05:57:57.984Z"
   },
   {
    "duration": 6,
    "start_time": "2022-08-05T05:57:57.994Z"
   },
   {
    "duration": 9,
    "start_time": "2022-08-05T05:57:58.002Z"
   },
   {
    "duration": 9,
    "start_time": "2022-08-05T05:57:58.014Z"
   },
   {
    "duration": 6,
    "start_time": "2022-08-05T05:57:58.027Z"
   },
   {
    "duration": 7,
    "start_time": "2022-08-05T05:57:58.034Z"
   },
   {
    "duration": 99,
    "start_time": "2022-08-05T05:57:58.042Z"
   },
   {
    "duration": 110,
    "start_time": "2022-08-05T05:57:58.143Z"
   },
   {
    "duration": 13,
    "start_time": "2022-08-05T05:57:58.254Z"
   },
   {
    "duration": 0,
    "start_time": "2022-08-05T05:57:58.286Z"
   },
   {
    "duration": 0,
    "start_time": "2022-08-05T05:57:58.287Z"
   },
   {
    "duration": 0,
    "start_time": "2022-08-05T05:57:58.288Z"
   },
   {
    "duration": 0,
    "start_time": "2022-08-05T05:57:58.289Z"
   },
   {
    "duration": 0,
    "start_time": "2022-08-05T05:57:58.290Z"
   },
   {
    "duration": 0,
    "start_time": "2022-08-05T05:57:58.291Z"
   },
   {
    "duration": 0,
    "start_time": "2022-08-05T05:57:58.292Z"
   },
   {
    "duration": 0,
    "start_time": "2022-08-05T05:57:58.293Z"
   },
   {
    "duration": 0,
    "start_time": "2022-08-05T05:57:58.295Z"
   },
   {
    "duration": 0,
    "start_time": "2022-08-05T05:57:58.296Z"
   },
   {
    "duration": 3,
    "start_time": "2022-08-05T06:00:54.937Z"
   },
   {
    "duration": 42,
    "start_time": "2022-08-05T06:00:54.943Z"
   },
   {
    "duration": 18,
    "start_time": "2022-08-05T06:00:54.987Z"
   },
   {
    "duration": 5,
    "start_time": "2022-08-05T06:00:55.007Z"
   },
   {
    "duration": 14,
    "start_time": "2022-08-05T06:00:55.013Z"
   },
   {
    "duration": 7,
    "start_time": "2022-08-05T06:00:55.028Z"
   },
   {
    "duration": 7,
    "start_time": "2022-08-05T06:00:55.036Z"
   },
   {
    "duration": 9,
    "start_time": "2022-08-05T06:00:55.044Z"
   },
   {
    "duration": 10,
    "start_time": "2022-08-05T06:00:55.055Z"
   },
   {
    "duration": 3,
    "start_time": "2022-08-05T06:00:55.086Z"
   },
   {
    "duration": 111,
    "start_time": "2022-08-05T06:00:55.090Z"
   },
   {
    "duration": 119,
    "start_time": "2022-08-05T06:00:55.202Z"
   },
   {
    "duration": 4,
    "start_time": "2022-08-05T06:00:55.323Z"
   },
   {
    "duration": 13,
    "start_time": "2022-08-05T06:00:55.328Z"
   },
   {
    "duration": 9,
    "start_time": "2022-08-05T06:00:55.343Z"
   },
   {
    "duration": 21,
    "start_time": "2022-08-05T06:00:55.354Z"
   },
   {
    "duration": 0,
    "start_time": "2022-08-05T06:00:55.377Z"
   },
   {
    "duration": 0,
    "start_time": "2022-08-05T06:00:55.387Z"
   },
   {
    "duration": 0,
    "start_time": "2022-08-05T06:00:55.389Z"
   },
   {
    "duration": 0,
    "start_time": "2022-08-05T06:00:55.391Z"
   },
   {
    "duration": 0,
    "start_time": "2022-08-05T06:00:55.392Z"
   },
   {
    "duration": 0,
    "start_time": "2022-08-05T06:00:55.394Z"
   },
   {
    "duration": 0,
    "start_time": "2022-08-05T06:00:55.395Z"
   },
   {
    "duration": 4,
    "start_time": "2022-08-05T06:01:54.663Z"
   },
   {
    "duration": 38,
    "start_time": "2022-08-05T06:01:54.670Z"
   },
   {
    "duration": 19,
    "start_time": "2022-08-05T06:01:54.709Z"
   },
   {
    "duration": 5,
    "start_time": "2022-08-05T06:01:54.730Z"
   },
   {
    "duration": 7,
    "start_time": "2022-08-05T06:01:54.737Z"
   },
   {
    "duration": 6,
    "start_time": "2022-08-05T06:01:54.746Z"
   },
   {
    "duration": 7,
    "start_time": "2022-08-05T06:01:54.754Z"
   },
   {
    "duration": 6,
    "start_time": "2022-08-05T06:01:54.763Z"
   },
   {
    "duration": 11,
    "start_time": "2022-08-05T06:01:54.771Z"
   },
   {
    "duration": 2,
    "start_time": "2022-08-05T06:01:54.787Z"
   },
   {
    "duration": 103,
    "start_time": "2022-08-05T06:01:54.790Z"
   },
   {
    "duration": 121,
    "start_time": "2022-08-05T06:01:54.895Z"
   },
   {
    "duration": 6,
    "start_time": "2022-08-05T06:01:55.019Z"
   },
   {
    "duration": 10,
    "start_time": "2022-08-05T06:01:55.027Z"
   },
   {
    "duration": 7,
    "start_time": "2022-08-05T06:01:55.038Z"
   },
   {
    "duration": 8,
    "start_time": "2022-08-05T06:01:55.047Z"
   },
   {
    "duration": 63,
    "start_time": "2022-08-05T06:01:55.057Z"
   },
   {
    "duration": 8,
    "start_time": "2022-08-05T06:01:55.122Z"
   },
   {
    "duration": 421,
    "start_time": "2022-08-05T06:01:55.132Z"
   },
   {
    "duration": 11,
    "start_time": "2022-08-05T06:01:55.554Z"
   },
   {
    "duration": 34,
    "start_time": "2022-08-05T06:01:55.567Z"
   },
   {
    "duration": 6,
    "start_time": "2022-08-05T06:01:55.602Z"
   },
   {
    "duration": 5,
    "start_time": "2022-08-05T06:01:55.610Z"
   },
   {
    "duration": 4,
    "start_time": "2022-08-05T06:07:00.556Z"
   },
   {
    "duration": 45,
    "start_time": "2022-08-05T06:07:00.562Z"
   },
   {
    "duration": 19,
    "start_time": "2022-08-05T06:07:00.609Z"
   },
   {
    "duration": 14,
    "start_time": "2022-08-05T06:07:00.630Z"
   },
   {
    "duration": 18,
    "start_time": "2022-08-05T06:07:00.647Z"
   },
   {
    "duration": 17,
    "start_time": "2022-08-05T06:07:00.667Z"
   },
   {
    "duration": 11,
    "start_time": "2022-08-05T06:07:00.686Z"
   },
   {
    "duration": 14,
    "start_time": "2022-08-05T06:07:00.699Z"
   },
   {
    "duration": 26,
    "start_time": "2022-08-05T06:07:00.714Z"
   },
   {
    "duration": 15,
    "start_time": "2022-08-05T06:07:00.742Z"
   },
   {
    "duration": 112,
    "start_time": "2022-08-05T06:07:00.759Z"
   },
   {
    "duration": 119,
    "start_time": "2022-08-05T06:07:00.873Z"
   },
   {
    "duration": 4,
    "start_time": "2022-08-05T06:07:00.993Z"
   },
   {
    "duration": 27,
    "start_time": "2022-08-05T06:07:01.000Z"
   },
   {
    "duration": 17,
    "start_time": "2022-08-05T06:07:01.029Z"
   },
   {
    "duration": 30,
    "start_time": "2022-08-05T06:07:01.047Z"
   },
   {
    "duration": 95,
    "start_time": "2022-08-05T06:07:01.079Z"
   },
   {
    "duration": 9,
    "start_time": "2022-08-05T06:07:01.175Z"
   },
   {
    "duration": 560,
    "start_time": "2022-08-05T06:07:01.186Z"
   },
   {
    "duration": 10,
    "start_time": "2022-08-05T06:07:01.748Z"
   },
   {
    "duration": 55,
    "start_time": "2022-08-05T06:07:01.760Z"
   },
   {
    "duration": 9,
    "start_time": "2022-08-05T06:07:01.817Z"
   },
   {
    "duration": 36,
    "start_time": "2022-08-05T06:07:01.827Z"
   },
   {
    "duration": 4,
    "start_time": "2022-08-05T06:09:53.364Z"
   },
   {
    "duration": 13,
    "start_time": "2022-08-05T06:20:35.058Z"
   },
   {
    "duration": 6,
    "start_time": "2022-08-05T06:21:25.056Z"
   },
   {
    "duration": 4,
    "start_time": "2022-08-05T06:21:50.412Z"
   },
   {
    "duration": 10,
    "start_time": "2022-08-05T06:21:51.690Z"
   },
   {
    "duration": 4,
    "start_time": "2022-08-05T06:21:53.446Z"
   },
   {
    "duration": 4,
    "start_time": "2022-08-05T06:22:35.341Z"
   },
   {
    "duration": 9,
    "start_time": "2022-08-05T06:22:37.378Z"
   },
   {
    "duration": 4,
    "start_time": "2022-08-05T06:22:38.916Z"
   },
   {
    "duration": 5,
    "start_time": "2022-08-05T06:23:39.560Z"
   },
   {
    "duration": 5,
    "start_time": "2022-08-05T06:24:17.586Z"
   },
   {
    "duration": 3,
    "start_time": "2022-08-05T06:25:14.579Z"
   },
   {
    "duration": 9,
    "start_time": "2022-08-05T06:25:16.523Z"
   },
   {
    "duration": 5,
    "start_time": "2022-08-05T06:25:20.689Z"
   },
   {
    "duration": 5,
    "start_time": "2022-08-05T06:25:23.023Z"
   },
   {
    "duration": 71,
    "start_time": "2022-08-05T06:44:23.122Z"
   },
   {
    "duration": 2,
    "start_time": "2022-08-05T06:44:41.608Z"
   },
   {
    "duration": 64,
    "start_time": "2022-08-05T06:48:30.870Z"
   },
   {
    "duration": 17,
    "start_time": "2022-08-05T06:52:41.930Z"
   },
   {
    "duration": 3,
    "start_time": "2022-08-05T06:53:10.790Z"
   },
   {
    "duration": 14,
    "start_time": "2022-08-05T06:53:15.827Z"
   },
   {
    "duration": 3,
    "start_time": "2022-08-05T06:53:27.223Z"
   },
   {
    "duration": 13,
    "start_time": "2022-08-05T06:53:30.704Z"
   },
   {
    "duration": 3,
    "start_time": "2022-08-05T06:56:43.623Z"
   },
   {
    "duration": 14,
    "start_time": "2022-08-05T06:56:46.928Z"
   },
   {
    "duration": 5,
    "start_time": "2022-08-05T07:00:35.195Z"
   },
   {
    "duration": 12,
    "start_time": "2022-08-05T07:12:00.288Z"
   },
   {
    "duration": 4,
    "start_time": "2022-08-05T07:12:07.200Z"
   },
   {
    "duration": 11,
    "start_time": "2022-08-05T07:12:15.858Z"
   },
   {
    "duration": 3,
    "start_time": "2022-08-05T07:13:04.855Z"
   },
   {
    "duration": 35,
    "start_time": "2022-08-05T07:13:04.861Z"
   },
   {
    "duration": 18,
    "start_time": "2022-08-05T07:13:04.897Z"
   },
   {
    "duration": 4,
    "start_time": "2022-08-05T07:13:04.917Z"
   },
   {
    "duration": 13,
    "start_time": "2022-08-05T07:13:04.923Z"
   },
   {
    "duration": 7,
    "start_time": "2022-08-05T07:13:04.938Z"
   },
   {
    "duration": 5,
    "start_time": "2022-08-05T07:13:04.946Z"
   },
   {
    "duration": 13,
    "start_time": "2022-08-05T07:13:04.952Z"
   },
   {
    "duration": 5,
    "start_time": "2022-08-05T07:13:04.987Z"
   },
   {
    "duration": 6,
    "start_time": "2022-08-05T07:13:04.993Z"
   },
   {
    "duration": 4,
    "start_time": "2022-08-05T07:13:05.001Z"
   },
   {
    "duration": 12,
    "start_time": "2022-08-05T07:13:05.007Z"
   },
   {
    "duration": 7,
    "start_time": "2022-08-05T07:13:05.020Z"
   },
   {
    "duration": 6,
    "start_time": "2022-08-05T07:13:05.030Z"
   },
   {
    "duration": 10,
    "start_time": "2022-08-05T07:13:05.038Z"
   },
   {
    "duration": 18,
    "start_time": "2022-08-05T07:13:05.050Z"
   },
   {
    "duration": 5,
    "start_time": "2022-08-05T07:13:05.087Z"
   },
   {
    "duration": 13,
    "start_time": "2022-08-05T07:13:05.093Z"
   },
   {
    "duration": 4,
    "start_time": "2022-08-05T07:13:05.107Z"
   },
   {
    "duration": 15,
    "start_time": "2022-08-05T07:13:05.113Z"
   },
   {
    "duration": 4,
    "start_time": "2022-08-05T07:13:05.130Z"
   },
   {
    "duration": 14,
    "start_time": "2022-08-05T07:13:05.135Z"
   },
   {
    "duration": 0,
    "start_time": "2022-08-05T07:13:05.150Z"
   },
   {
    "duration": 0,
    "start_time": "2022-08-05T07:13:05.151Z"
   },
   {
    "duration": 0,
    "start_time": "2022-08-05T07:13:05.152Z"
   },
   {
    "duration": 0,
    "start_time": "2022-08-05T07:13:05.153Z"
   },
   {
    "duration": 0,
    "start_time": "2022-08-05T07:13:05.154Z"
   },
   {
    "duration": 0,
    "start_time": "2022-08-05T07:13:05.155Z"
   },
   {
    "duration": 0,
    "start_time": "2022-08-05T07:13:05.156Z"
   },
   {
    "duration": 0,
    "start_time": "2022-08-05T07:13:05.157Z"
   },
   {
    "duration": 0,
    "start_time": "2022-08-05T07:13:05.187Z"
   },
   {
    "duration": 0,
    "start_time": "2022-08-05T07:13:05.188Z"
   },
   {
    "duration": 0,
    "start_time": "2022-08-05T07:13:05.189Z"
   },
   {
    "duration": 0,
    "start_time": "2022-08-05T07:13:05.190Z"
   },
   {
    "duration": 0,
    "start_time": "2022-08-05T07:13:05.190Z"
   },
   {
    "duration": 0,
    "start_time": "2022-08-05T07:13:05.191Z"
   },
   {
    "duration": 0,
    "start_time": "2022-08-05T07:13:05.192Z"
   },
   {
    "duration": 5,
    "start_time": "2022-08-05T07:18:59.250Z"
   },
   {
    "duration": 4,
    "start_time": "2022-08-05T07:27:56.379Z"
   },
   {
    "duration": 4,
    "start_time": "2022-08-05T07:28:21.464Z"
   },
   {
    "duration": 52,
    "start_time": "2022-08-05T08:19:38.936Z"
   },
   {
    "duration": 139,
    "start_time": "2022-08-05T08:19:57.573Z"
   },
   {
    "duration": 12,
    "start_time": "2022-08-05T08:22:10.356Z"
   },
   {
    "duration": 10,
    "start_time": "2022-08-05T08:22:43.827Z"
   },
   {
    "duration": 121,
    "start_time": "2022-08-05T08:23:03.620Z"
   },
   {
    "duration": 3,
    "start_time": "2022-08-05T08:23:11.210Z"
   },
   {
    "duration": 44,
    "start_time": "2022-08-05T08:23:11.215Z"
   },
   {
    "duration": 18,
    "start_time": "2022-08-05T08:23:11.260Z"
   },
   {
    "duration": 5,
    "start_time": "2022-08-05T08:23:11.280Z"
   },
   {
    "duration": 8,
    "start_time": "2022-08-05T08:23:11.286Z"
   },
   {
    "duration": 4,
    "start_time": "2022-08-05T08:23:11.296Z"
   },
   {
    "duration": 6,
    "start_time": "2022-08-05T08:23:11.302Z"
   },
   {
    "duration": 14,
    "start_time": "2022-08-05T08:23:11.310Z"
   },
   {
    "duration": 6,
    "start_time": "2022-08-05T08:23:11.326Z"
   },
   {
    "duration": 6,
    "start_time": "2022-08-05T08:23:11.335Z"
   },
   {
    "duration": 13,
    "start_time": "2022-08-05T08:23:11.343Z"
   },
   {
    "duration": 16,
    "start_time": "2022-08-05T08:23:11.357Z"
   },
   {
    "duration": 12,
    "start_time": "2022-08-05T08:23:11.375Z"
   },
   {
    "duration": 6,
    "start_time": "2022-08-05T08:23:11.389Z"
   },
   {
    "duration": 5,
    "start_time": "2022-08-05T08:23:11.397Z"
   },
   {
    "duration": 13,
    "start_time": "2022-08-05T08:23:11.403Z"
   },
   {
    "duration": 12,
    "start_time": "2022-08-05T08:23:11.417Z"
   },
   {
    "duration": 7,
    "start_time": "2022-08-05T08:23:11.431Z"
   },
   {
    "duration": 6,
    "start_time": "2022-08-05T08:23:11.440Z"
   },
   {
    "duration": 22,
    "start_time": "2022-08-05T08:23:11.447Z"
   },
   {
    "duration": 18,
    "start_time": "2022-08-05T08:23:11.471Z"
   },
   {
    "duration": 9,
    "start_time": "2022-08-05T08:23:11.491Z"
   },
   {
    "duration": 136,
    "start_time": "2022-08-05T08:23:11.501Z"
   },
   {
    "duration": 10,
    "start_time": "2022-08-05T08:23:11.638Z"
   },
   {
    "duration": 0,
    "start_time": "2022-08-05T08:23:11.651Z"
   },
   {
    "duration": 0,
    "start_time": "2022-08-05T08:23:11.651Z"
   },
   {
    "duration": 0,
    "start_time": "2022-08-05T08:23:11.653Z"
   },
   {
    "duration": 0,
    "start_time": "2022-08-05T08:23:11.654Z"
   },
   {
    "duration": 0,
    "start_time": "2022-08-05T08:23:11.655Z"
   },
   {
    "duration": 0,
    "start_time": "2022-08-05T08:23:11.656Z"
   },
   {
    "duration": 0,
    "start_time": "2022-08-05T08:23:11.657Z"
   },
   {
    "duration": 0,
    "start_time": "2022-08-05T08:23:11.687Z"
   },
   {
    "duration": 0,
    "start_time": "2022-08-05T08:23:11.688Z"
   },
   {
    "duration": 0,
    "start_time": "2022-08-05T08:23:11.689Z"
   },
   {
    "duration": 0,
    "start_time": "2022-08-05T08:23:11.690Z"
   },
   {
    "duration": 0,
    "start_time": "2022-08-05T08:23:11.691Z"
   },
   {
    "duration": 0,
    "start_time": "2022-08-05T08:23:11.692Z"
   },
   {
    "duration": 0,
    "start_time": "2022-08-05T08:23:11.693Z"
   },
   {
    "duration": 116,
    "start_time": "2022-08-05T08:32:25.500Z"
   },
   {
    "duration": 111,
    "start_time": "2022-08-05T08:34:38.611Z"
   },
   {
    "duration": 125,
    "start_time": "2022-08-05T08:35:06.064Z"
   },
   {
    "duration": 4,
    "start_time": "2022-08-05T08:36:03.690Z"
   },
   {
    "duration": 133,
    "start_time": "2022-08-05T08:38:08.917Z"
   },
   {
    "duration": 190,
    "start_time": "2022-08-05T08:38:35.623Z"
   },
   {
    "duration": 120,
    "start_time": "2022-08-05T08:38:59.569Z"
   },
   {
    "duration": 468,
    "start_time": "2022-08-05T08:43:41.348Z"
   },
   {
    "duration": 118,
    "start_time": "2022-08-05T08:44:07.825Z"
   },
   {
    "duration": 3,
    "start_time": "2022-08-05T08:52:45.371Z"
   },
   {
    "duration": 34,
    "start_time": "2022-08-05T08:52:45.375Z"
   },
   {
    "duration": 16,
    "start_time": "2022-08-05T08:52:45.411Z"
   },
   {
    "duration": 5,
    "start_time": "2022-08-05T08:52:45.429Z"
   },
   {
    "duration": 6,
    "start_time": "2022-08-05T08:52:45.435Z"
   },
   {
    "duration": 5,
    "start_time": "2022-08-05T08:52:45.443Z"
   },
   {
    "duration": 12,
    "start_time": "2022-08-05T08:52:45.450Z"
   },
   {
    "duration": 22,
    "start_time": "2022-08-05T08:52:45.464Z"
   },
   {
    "duration": 6,
    "start_time": "2022-08-05T08:52:45.489Z"
   },
   {
    "duration": 13,
    "start_time": "2022-08-05T08:52:45.497Z"
   },
   {
    "duration": 6,
    "start_time": "2022-08-05T08:52:45.512Z"
   },
   {
    "duration": 11,
    "start_time": "2022-08-05T08:52:45.519Z"
   },
   {
    "duration": 7,
    "start_time": "2022-08-05T08:52:45.531Z"
   },
   {
    "duration": 13,
    "start_time": "2022-08-05T08:52:45.539Z"
   },
   {
    "duration": 5,
    "start_time": "2022-08-05T08:52:45.553Z"
   },
   {
    "duration": 11,
    "start_time": "2022-08-05T08:52:45.560Z"
   },
   {
    "duration": 9,
    "start_time": "2022-08-05T08:52:45.572Z"
   },
   {
    "duration": 7,
    "start_time": "2022-08-05T08:52:45.582Z"
   },
   {
    "duration": 5,
    "start_time": "2022-08-05T08:52:45.591Z"
   },
   {
    "duration": 17,
    "start_time": "2022-08-05T08:52:45.597Z"
   },
   {
    "duration": 3,
    "start_time": "2022-08-05T08:52:45.616Z"
   },
   {
    "duration": 6,
    "start_time": "2022-08-05T08:52:45.621Z"
   },
   {
    "duration": 127,
    "start_time": "2022-08-05T08:52:45.628Z"
   },
   {
    "duration": 66,
    "start_time": "2022-08-05T08:52:45.758Z"
   },
   {
    "duration": 0,
    "start_time": "2022-08-05T08:52:45.825Z"
   },
   {
    "duration": 0,
    "start_time": "2022-08-05T08:52:45.826Z"
   },
   {
    "duration": 0,
    "start_time": "2022-08-05T08:52:45.827Z"
   },
   {
    "duration": 0,
    "start_time": "2022-08-05T08:52:45.828Z"
   },
   {
    "duration": 0,
    "start_time": "2022-08-05T08:52:45.829Z"
   },
   {
    "duration": 0,
    "start_time": "2022-08-05T08:52:45.831Z"
   },
   {
    "duration": 0,
    "start_time": "2022-08-05T08:52:45.832Z"
   },
   {
    "duration": 0,
    "start_time": "2022-08-05T08:52:45.832Z"
   },
   {
    "duration": 0,
    "start_time": "2022-08-05T08:52:45.834Z"
   },
   {
    "duration": 0,
    "start_time": "2022-08-05T08:52:45.834Z"
   },
   {
    "duration": 0,
    "start_time": "2022-08-05T08:52:45.835Z"
   },
   {
    "duration": 0,
    "start_time": "2022-08-05T08:52:45.837Z"
   },
   {
    "duration": 0,
    "start_time": "2022-08-05T08:52:45.837Z"
   },
   {
    "duration": 1,
    "start_time": "2022-08-05T08:52:45.838Z"
   },
   {
    "duration": 58,
    "start_time": "2022-08-05T09:39:31.777Z"
   },
   {
    "duration": 65,
    "start_time": "2022-08-05T09:44:36.887Z"
   },
   {
    "duration": 3,
    "start_time": "2022-08-05T09:44:49.339Z"
   },
   {
    "duration": 34,
    "start_time": "2022-08-05T09:44:49.344Z"
   },
   {
    "duration": 19,
    "start_time": "2022-08-05T09:44:49.380Z"
   },
   {
    "duration": 12,
    "start_time": "2022-08-05T09:44:49.401Z"
   },
   {
    "duration": 7,
    "start_time": "2022-08-05T09:44:49.415Z"
   },
   {
    "duration": 3,
    "start_time": "2022-08-05T09:44:49.424Z"
   },
   {
    "duration": 13,
    "start_time": "2022-08-05T09:44:49.429Z"
   },
   {
    "duration": 13,
    "start_time": "2022-08-05T09:44:49.443Z"
   },
   {
    "duration": 6,
    "start_time": "2022-08-05T09:44:49.458Z"
   },
   {
    "duration": 7,
    "start_time": "2022-08-05T09:44:49.465Z"
   },
   {
    "duration": 5,
    "start_time": "2022-08-05T09:44:49.473Z"
   },
   {
    "duration": 11,
    "start_time": "2022-08-05T09:44:49.487Z"
   },
   {
    "duration": 7,
    "start_time": "2022-08-05T09:44:49.500Z"
   },
   {
    "duration": 57,
    "start_time": "2022-08-05T09:44:49.508Z"
   },
   {
    "duration": 15,
    "start_time": "2022-08-05T09:44:49.587Z"
   },
   {
    "duration": 17,
    "start_time": "2022-08-05T09:44:49.604Z"
   },
   {
    "duration": 12,
    "start_time": "2022-08-05T09:44:49.623Z"
   },
   {
    "duration": 8,
    "start_time": "2022-08-05T09:44:49.636Z"
   },
   {
    "duration": 7,
    "start_time": "2022-08-05T09:44:49.645Z"
   },
   {
    "duration": 22,
    "start_time": "2022-08-05T09:44:49.653Z"
   },
   {
    "duration": 4,
    "start_time": "2022-08-05T09:44:49.676Z"
   },
   {
    "duration": 20,
    "start_time": "2022-08-05T09:44:49.681Z"
   },
   {
    "duration": 118,
    "start_time": "2022-08-05T09:44:49.702Z"
   },
   {
    "duration": 73,
    "start_time": "2022-08-05T09:44:49.822Z"
   },
   {
    "duration": 0,
    "start_time": "2022-08-05T09:44:49.896Z"
   },
   {
    "duration": 0,
    "start_time": "2022-08-05T09:44:49.897Z"
   },
   {
    "duration": 0,
    "start_time": "2022-08-05T09:44:49.898Z"
   },
   {
    "duration": 0,
    "start_time": "2022-08-05T09:44:49.898Z"
   },
   {
    "duration": 0,
    "start_time": "2022-08-05T09:44:49.899Z"
   },
   {
    "duration": 0,
    "start_time": "2022-08-05T09:44:49.901Z"
   },
   {
    "duration": 62,
    "start_time": "2022-08-05T09:48:25.540Z"
   },
   {
    "duration": 59,
    "start_time": "2022-08-05T09:49:09.921Z"
   },
   {
    "duration": 3,
    "start_time": "2022-08-05T09:49:20.427Z"
   },
   {
    "duration": 41,
    "start_time": "2022-08-05T09:49:20.432Z"
   },
   {
    "duration": 23,
    "start_time": "2022-08-05T09:49:20.474Z"
   },
   {
    "duration": 9,
    "start_time": "2022-08-05T09:49:20.500Z"
   },
   {
    "duration": 14,
    "start_time": "2022-08-05T09:49:20.511Z"
   },
   {
    "duration": 11,
    "start_time": "2022-08-05T09:49:20.527Z"
   },
   {
    "duration": 13,
    "start_time": "2022-08-05T09:49:20.540Z"
   },
   {
    "duration": 27,
    "start_time": "2022-08-05T09:49:20.554Z"
   },
   {
    "duration": 31,
    "start_time": "2022-08-05T09:49:20.584Z"
   },
   {
    "duration": 13,
    "start_time": "2022-08-05T09:49:20.618Z"
   },
   {
    "duration": 9,
    "start_time": "2022-08-05T09:49:20.633Z"
   },
   {
    "duration": 28,
    "start_time": "2022-08-05T09:49:20.643Z"
   },
   {
    "duration": 9,
    "start_time": "2022-08-05T09:49:20.672Z"
   },
   {
    "duration": 21,
    "start_time": "2022-08-05T09:49:20.683Z"
   },
   {
    "duration": 24,
    "start_time": "2022-08-05T09:49:20.705Z"
   },
   {
    "duration": 24,
    "start_time": "2022-08-05T09:49:20.730Z"
   },
   {
    "duration": 7,
    "start_time": "2022-08-05T09:49:20.755Z"
   },
   {
    "duration": 11,
    "start_time": "2022-08-05T09:49:20.763Z"
   },
   {
    "duration": 7,
    "start_time": "2022-08-05T09:49:20.775Z"
   },
   {
    "duration": 36,
    "start_time": "2022-08-05T09:49:20.784Z"
   },
   {
    "duration": 4,
    "start_time": "2022-08-05T09:49:20.822Z"
   },
   {
    "duration": 21,
    "start_time": "2022-08-05T09:49:20.828Z"
   },
   {
    "duration": 151,
    "start_time": "2022-08-05T09:49:20.851Z"
   },
   {
    "duration": 59,
    "start_time": "2022-08-05T09:49:21.005Z"
   },
   {
    "duration": 0,
    "start_time": "2022-08-05T09:49:21.066Z"
   },
   {
    "duration": 0,
    "start_time": "2022-08-05T09:49:21.067Z"
   },
   {
    "duration": 0,
    "start_time": "2022-08-05T09:49:21.068Z"
   },
   {
    "duration": 0,
    "start_time": "2022-08-05T09:49:21.093Z"
   },
   {
    "duration": 0,
    "start_time": "2022-08-05T09:49:21.096Z"
   },
   {
    "duration": 0,
    "start_time": "2022-08-05T09:49:21.096Z"
   },
   {
    "duration": 63,
    "start_time": "2022-08-05T09:51:14.768Z"
   },
   {
    "duration": 3,
    "start_time": "2022-08-05T09:51:18.267Z"
   },
   {
    "duration": 42,
    "start_time": "2022-08-05T09:51:18.272Z"
   },
   {
    "duration": 17,
    "start_time": "2022-08-05T09:51:18.315Z"
   },
   {
    "duration": 4,
    "start_time": "2022-08-05T09:51:18.333Z"
   },
   {
    "duration": 6,
    "start_time": "2022-08-05T09:51:18.339Z"
   },
   {
    "duration": 7,
    "start_time": "2022-08-05T09:51:18.347Z"
   },
   {
    "duration": 6,
    "start_time": "2022-08-05T09:51:18.355Z"
   },
   {
    "duration": 26,
    "start_time": "2022-08-05T09:51:18.362Z"
   },
   {
    "duration": 9,
    "start_time": "2022-08-05T09:51:18.390Z"
   },
   {
    "duration": 6,
    "start_time": "2022-08-05T09:51:18.401Z"
   },
   {
    "duration": 6,
    "start_time": "2022-08-05T09:51:18.409Z"
   },
   {
    "duration": 11,
    "start_time": "2022-08-05T09:51:18.417Z"
   },
   {
    "duration": 7,
    "start_time": "2022-08-05T09:51:18.431Z"
   },
   {
    "duration": 9,
    "start_time": "2022-08-05T09:51:18.440Z"
   },
   {
    "duration": 6,
    "start_time": "2022-08-05T09:51:18.450Z"
   },
   {
    "duration": 32,
    "start_time": "2022-08-05T09:51:18.458Z"
   },
   {
    "duration": 8,
    "start_time": "2022-08-05T09:51:18.492Z"
   },
   {
    "duration": 5,
    "start_time": "2022-08-05T09:51:18.502Z"
   },
   {
    "duration": 11,
    "start_time": "2022-08-05T09:51:18.508Z"
   },
   {
    "duration": 15,
    "start_time": "2022-08-05T09:51:18.521Z"
   },
   {
    "duration": 4,
    "start_time": "2022-08-05T09:51:18.537Z"
   },
   {
    "duration": 7,
    "start_time": "2022-08-05T09:51:18.542Z"
   },
   {
    "duration": 154,
    "start_time": "2022-08-05T09:51:18.551Z"
   },
   {
    "duration": 62,
    "start_time": "2022-08-05T09:51:18.707Z"
   },
   {
    "duration": 0,
    "start_time": "2022-08-05T09:51:18.771Z"
   },
   {
    "duration": 0,
    "start_time": "2022-08-05T09:51:18.772Z"
   },
   {
    "duration": 0,
    "start_time": "2022-08-05T09:51:18.787Z"
   },
   {
    "duration": 0,
    "start_time": "2022-08-05T09:51:18.788Z"
   },
   {
    "duration": 0,
    "start_time": "2022-08-05T09:51:18.790Z"
   },
   {
    "duration": 0,
    "start_time": "2022-08-05T09:51:18.791Z"
   },
   {
    "duration": 50,
    "start_time": "2022-08-05T09:52:04.942Z"
   },
   {
    "duration": 47,
    "start_time": "2022-08-05T09:52:19.292Z"
   },
   {
    "duration": 68,
    "start_time": "2022-08-05T09:54:06.591Z"
   },
   {
    "duration": 3,
    "start_time": "2022-08-05T09:54:11.843Z"
   },
   {
    "duration": 45,
    "start_time": "2022-08-05T09:54:11.847Z"
   },
   {
    "duration": 20,
    "start_time": "2022-08-05T09:54:11.893Z"
   },
   {
    "duration": 6,
    "start_time": "2022-08-05T09:54:11.915Z"
   },
   {
    "duration": 9,
    "start_time": "2022-08-05T09:54:11.922Z"
   },
   {
    "duration": 7,
    "start_time": "2022-08-05T09:54:11.932Z"
   },
   {
    "duration": 6,
    "start_time": "2022-08-05T09:54:11.941Z"
   },
   {
    "duration": 11,
    "start_time": "2022-08-05T09:54:11.949Z"
   },
   {
    "duration": 6,
    "start_time": "2022-08-05T09:54:11.986Z"
   },
   {
    "duration": 6,
    "start_time": "2022-08-05T09:54:11.994Z"
   },
   {
    "duration": 5,
    "start_time": "2022-08-05T09:54:12.002Z"
   },
   {
    "duration": 17,
    "start_time": "2022-08-05T09:54:12.009Z"
   },
   {
    "duration": 9,
    "start_time": "2022-08-05T09:54:12.028Z"
   },
   {
    "duration": 10,
    "start_time": "2022-08-05T09:54:12.038Z"
   },
   {
    "duration": 6,
    "start_time": "2022-08-05T09:54:12.050Z"
   },
   {
    "duration": 29,
    "start_time": "2022-08-05T09:54:12.058Z"
   },
   {
    "duration": 6,
    "start_time": "2022-08-05T09:54:12.089Z"
   },
   {
    "duration": 6,
    "start_time": "2022-08-05T09:54:12.096Z"
   },
   {
    "duration": 5,
    "start_time": "2022-08-05T09:54:12.104Z"
   },
   {
    "duration": 16,
    "start_time": "2022-08-05T09:54:12.110Z"
   },
   {
    "duration": 4,
    "start_time": "2022-08-05T09:54:12.128Z"
   },
   {
    "duration": 6,
    "start_time": "2022-08-05T09:54:12.134Z"
   },
   {
    "duration": 145,
    "start_time": "2022-08-05T09:54:12.142Z"
   },
   {
    "duration": 63,
    "start_time": "2022-08-05T09:54:12.290Z"
   },
   {
    "duration": 0,
    "start_time": "2022-08-05T09:54:12.355Z"
   },
   {
    "duration": 0,
    "start_time": "2022-08-05T09:54:12.356Z"
   },
   {
    "duration": 0,
    "start_time": "2022-08-05T09:54:12.357Z"
   },
   {
    "duration": 0,
    "start_time": "2022-08-05T09:54:12.358Z"
   },
   {
    "duration": 0,
    "start_time": "2022-08-05T09:54:12.360Z"
   },
   {
    "duration": 0,
    "start_time": "2022-08-05T09:54:12.361Z"
   },
   {
    "duration": 49,
    "start_time": "2022-08-05T09:54:23.368Z"
   },
   {
    "duration": 52,
    "start_time": "2022-08-05T09:57:22.077Z"
   },
   {
    "duration": 107,
    "start_time": "2022-08-05T09:58:58.855Z"
   },
   {
    "duration": 114,
    "start_time": "2022-08-05T09:59:10.152Z"
   },
   {
    "duration": 121,
    "start_time": "2022-08-05T09:59:18.677Z"
   },
   {
    "duration": 595,
    "start_time": "2022-08-05T10:02:11.980Z"
   },
   {
    "duration": 3,
    "start_time": "2022-08-05T10:02:36.818Z"
   },
   {
    "duration": 36,
    "start_time": "2022-08-05T10:02:36.822Z"
   },
   {
    "duration": 19,
    "start_time": "2022-08-05T10:02:36.860Z"
   },
   {
    "duration": 6,
    "start_time": "2022-08-05T10:02:36.881Z"
   },
   {
    "duration": 6,
    "start_time": "2022-08-05T10:02:36.889Z"
   },
   {
    "duration": 5,
    "start_time": "2022-08-05T10:02:36.897Z"
   },
   {
    "duration": 10,
    "start_time": "2022-08-05T10:02:36.903Z"
   },
   {
    "duration": 14,
    "start_time": "2022-08-05T10:02:36.915Z"
   },
   {
    "duration": 5,
    "start_time": "2022-08-05T10:02:36.931Z"
   },
   {
    "duration": 6,
    "start_time": "2022-08-05T10:02:36.938Z"
   },
   {
    "duration": 6,
    "start_time": "2022-08-05T10:02:36.946Z"
   },
   {
    "duration": 35,
    "start_time": "2022-08-05T10:02:36.953Z"
   },
   {
    "duration": 12,
    "start_time": "2022-08-05T10:02:36.989Z"
   },
   {
    "duration": 7,
    "start_time": "2022-08-05T10:02:37.003Z"
   },
   {
    "duration": 13,
    "start_time": "2022-08-05T10:02:37.011Z"
   },
   {
    "duration": 20,
    "start_time": "2022-08-05T10:02:37.026Z"
   },
   {
    "duration": 15,
    "start_time": "2022-08-05T10:02:37.047Z"
   },
   {
    "duration": 8,
    "start_time": "2022-08-05T10:02:37.064Z"
   },
   {
    "duration": 4,
    "start_time": "2022-08-05T10:02:37.073Z"
   },
   {
    "duration": 15,
    "start_time": "2022-08-05T10:02:37.079Z"
   },
   {
    "duration": 4,
    "start_time": "2022-08-05T10:02:37.095Z"
   },
   {
    "duration": 7,
    "start_time": "2022-08-05T10:02:37.100Z"
   },
   {
    "duration": 130,
    "start_time": "2022-08-05T10:02:37.108Z"
   },
   {
    "duration": 635,
    "start_time": "2022-08-05T10:02:37.239Z"
   },
   {
    "duration": 15,
    "start_time": "2022-08-05T10:02:37.875Z"
   },
   {
    "duration": 510,
    "start_time": "2022-08-05T10:02:37.892Z"
   },
   {
    "duration": 10,
    "start_time": "2022-08-05T10:02:38.404Z"
   },
   {
    "duration": 25,
    "start_time": "2022-08-05T10:02:38.416Z"
   },
   {
    "duration": 5,
    "start_time": "2022-08-05T10:02:38.442Z"
   },
   {
    "duration": 4,
    "start_time": "2022-08-05T10:02:38.449Z"
   },
   {
    "duration": 611,
    "start_time": "2022-08-05T10:03:28.637Z"
   },
   {
    "duration": 937,
    "start_time": "2022-08-05T10:03:39.954Z"
   },
   {
    "duration": 2004,
    "start_time": "2022-08-05T10:03:48.266Z"
   },
   {
    "duration": 2805,
    "start_time": "2022-08-05T10:04:06.456Z"
   },
   {
    "duration": 116,
    "start_time": "2022-08-05T10:04:25.419Z"
   },
   {
    "duration": 113,
    "start_time": "2022-08-05T10:04:31.816Z"
   },
   {
    "duration": 2743,
    "start_time": "2022-08-05T10:04:44.564Z"
   },
   {
    "duration": 1469,
    "start_time": "2022-08-05T10:05:44.624Z"
   },
   {
    "duration": 1536,
    "start_time": "2022-08-05T10:14:59.306Z"
   },
   {
    "duration": 395,
    "start_time": "2022-08-05T10:15:19.719Z"
   },
   {
    "duration": 3,
    "start_time": "2022-08-05T10:15:24.874Z"
   },
   {
    "duration": 37,
    "start_time": "2022-08-05T10:15:24.878Z"
   },
   {
    "duration": 18,
    "start_time": "2022-08-05T10:15:24.917Z"
   },
   {
    "duration": 5,
    "start_time": "2022-08-05T10:15:24.937Z"
   },
   {
    "duration": 5,
    "start_time": "2022-08-05T10:15:24.944Z"
   },
   {
    "duration": 7,
    "start_time": "2022-08-05T10:15:24.951Z"
   },
   {
    "duration": 6,
    "start_time": "2022-08-05T10:15:24.960Z"
   },
   {
    "duration": 20,
    "start_time": "2022-08-05T10:15:24.968Z"
   },
   {
    "duration": 5,
    "start_time": "2022-08-05T10:15:24.989Z"
   },
   {
    "duration": 10,
    "start_time": "2022-08-05T10:15:24.996Z"
   },
   {
    "duration": 7,
    "start_time": "2022-08-05T10:15:25.007Z"
   },
   {
    "duration": 17,
    "start_time": "2022-08-05T10:15:25.016Z"
   },
   {
    "duration": 9,
    "start_time": "2022-08-05T10:15:25.036Z"
   },
   {
    "duration": 12,
    "start_time": "2022-08-05T10:15:25.047Z"
   },
   {
    "duration": 9,
    "start_time": "2022-08-05T10:15:25.061Z"
   },
   {
    "duration": 21,
    "start_time": "2022-08-05T10:15:25.072Z"
   },
   {
    "duration": 7,
    "start_time": "2022-08-05T10:15:25.094Z"
   },
   {
    "duration": 7,
    "start_time": "2022-08-05T10:15:25.103Z"
   },
   {
    "duration": 5,
    "start_time": "2022-08-05T10:15:25.111Z"
   },
   {
    "duration": 15,
    "start_time": "2022-08-05T10:15:25.118Z"
   },
   {
    "duration": 4,
    "start_time": "2022-08-05T10:15:25.134Z"
   },
   {
    "duration": 7,
    "start_time": "2022-08-05T10:15:25.140Z"
   },
   {
    "duration": 150,
    "start_time": "2022-08-05T10:15:25.148Z"
   },
   {
    "duration": 371,
    "start_time": "2022-08-05T10:15:25.302Z"
   },
   {
    "duration": 17,
    "start_time": "2022-08-05T10:15:25.675Z"
   },
   {
    "duration": 559,
    "start_time": "2022-08-05T10:15:25.694Z"
   },
   {
    "duration": 11,
    "start_time": "2022-08-05T10:15:26.255Z"
   },
   {
    "duration": 48,
    "start_time": "2022-08-05T10:15:26.268Z"
   },
   {
    "duration": 9,
    "start_time": "2022-08-05T10:15:26.318Z"
   },
   {
    "duration": 15,
    "start_time": "2022-08-05T10:15:26.329Z"
   },
   {
    "duration": 534,
    "start_time": "2022-08-05T10:15:50.434Z"
   },
   {
    "duration": 2274,
    "start_time": "2022-08-05T10:16:25.549Z"
   },
   {
    "duration": 3,
    "start_time": "2022-08-05T10:16:32.349Z"
   },
   {
    "duration": 42,
    "start_time": "2022-08-05T10:16:32.354Z"
   },
   {
    "duration": 21,
    "start_time": "2022-08-05T10:16:32.397Z"
   },
   {
    "duration": 12,
    "start_time": "2022-08-05T10:16:32.419Z"
   },
   {
    "duration": 7,
    "start_time": "2022-08-05T10:16:32.434Z"
   },
   {
    "duration": 11,
    "start_time": "2022-08-05T10:16:32.444Z"
   },
   {
    "duration": 18,
    "start_time": "2022-08-05T10:16:32.457Z"
   },
   {
    "duration": 24,
    "start_time": "2022-08-05T10:16:32.477Z"
   },
   {
    "duration": 10,
    "start_time": "2022-08-05T10:16:32.503Z"
   },
   {
    "duration": 25,
    "start_time": "2022-08-05T10:16:32.514Z"
   },
   {
    "duration": 20,
    "start_time": "2022-08-05T10:16:32.541Z"
   },
   {
    "duration": 28,
    "start_time": "2022-08-05T10:16:32.563Z"
   },
   {
    "duration": 22,
    "start_time": "2022-08-05T10:16:32.594Z"
   },
   {
    "duration": 20,
    "start_time": "2022-08-05T10:16:32.618Z"
   },
   {
    "duration": 19,
    "start_time": "2022-08-05T10:16:32.640Z"
   },
   {
    "duration": 25,
    "start_time": "2022-08-05T10:16:32.661Z"
   },
   {
    "duration": 24,
    "start_time": "2022-08-05T10:16:32.689Z"
   },
   {
    "duration": 21,
    "start_time": "2022-08-05T10:16:32.714Z"
   },
   {
    "duration": 18,
    "start_time": "2022-08-05T10:16:32.737Z"
   },
   {
    "duration": 34,
    "start_time": "2022-08-05T10:16:32.757Z"
   },
   {
    "duration": 7,
    "start_time": "2022-08-05T10:16:32.794Z"
   },
   {
    "duration": 22,
    "start_time": "2022-08-05T10:16:32.803Z"
   },
   {
    "duration": 182,
    "start_time": "2022-08-05T10:16:32.827Z"
   },
   {
    "duration": 2358,
    "start_time": "2022-08-05T10:16:33.010Z"
   },
   {
    "duration": 29,
    "start_time": "2022-08-05T10:16:35.370Z"
   },
   {
    "duration": 538,
    "start_time": "2022-08-05T10:16:35.401Z"
   },
   {
    "duration": 13,
    "start_time": "2022-08-05T10:16:35.941Z"
   },
   {
    "duration": 41,
    "start_time": "2022-08-05T10:16:35.956Z"
   },
   {
    "duration": 8,
    "start_time": "2022-08-05T10:16:36.000Z"
   },
   {
    "duration": 20,
    "start_time": "2022-08-05T10:16:36.010Z"
   },
   {
    "duration": 517,
    "start_time": "2022-08-05T10:17:06.820Z"
   },
   {
    "duration": 592,
    "start_time": "2022-08-05T10:17:50.511Z"
   },
   {
    "duration": 23,
    "start_time": "2022-08-05T10:19:54.878Z"
   },
   {
    "duration": 20,
    "start_time": "2022-08-05T10:20:43.585Z"
   },
   {
    "duration": 21,
    "start_time": "2022-08-05T10:22:25.787Z"
   },
   {
    "duration": 654,
    "start_time": "2022-08-05T10:23:13.795Z"
   },
   {
    "duration": 588,
    "start_time": "2022-08-05T10:24:24.974Z"
   },
   {
    "duration": 1044,
    "start_time": "2022-08-05T10:24:53.075Z"
   },
   {
    "duration": 3019,
    "start_time": "2022-08-05T10:25:02.889Z"
   },
   {
    "duration": 1137,
    "start_time": "2022-08-05T10:25:19.843Z"
   },
   {
    "duration": 1008,
    "start_time": "2022-08-05T10:25:48.410Z"
   },
   {
    "duration": 8673,
    "start_time": "2022-08-05T10:27:31.514Z"
   },
   {
    "duration": 4037,
    "start_time": "2022-08-05T10:28:13.344Z"
   },
   {
    "duration": 995,
    "start_time": "2022-08-05T10:30:41.347Z"
   },
   {
    "duration": 875,
    "start_time": "2022-08-05T10:33:57.367Z"
   },
   {
    "duration": 1054,
    "start_time": "2022-08-05T10:35:16.802Z"
   },
   {
    "duration": 1283,
    "start_time": "2022-08-05T10:35:43.063Z"
   },
   {
    "duration": 870,
    "start_time": "2022-08-05T10:35:59.518Z"
   },
   {
    "duration": 423,
    "start_time": "2022-08-05T10:44:06.943Z"
   },
   {
    "duration": 417,
    "start_time": "2022-08-05T10:44:50.726Z"
   },
   {
    "duration": 58,
    "start_time": "2022-08-05T10:51:24.803Z"
   },
   {
    "duration": 74,
    "start_time": "2022-08-05T10:54:43.976Z"
   },
   {
    "duration": 960,
    "start_time": "2022-08-05T10:55:34.896Z"
   },
   {
    "duration": 26,
    "start_time": "2022-08-05T10:59:58.643Z"
   },
   {
    "duration": 27,
    "start_time": "2022-08-05T11:00:11.245Z"
   },
   {
    "duration": 32,
    "start_time": "2022-08-05T11:00:17.515Z"
   },
   {
    "duration": 81,
    "start_time": "2022-08-05T11:03:12.512Z"
   },
   {
    "duration": 99,
    "start_time": "2022-08-05T11:03:22.282Z"
   },
   {
    "duration": 105,
    "start_time": "2022-08-05T11:03:49.022Z"
   },
   {
    "duration": 12,
    "start_time": "2022-08-05T11:04:24.259Z"
   },
   {
    "duration": 3,
    "start_time": "2022-08-05T11:04:41.673Z"
   },
   {
    "duration": 37,
    "start_time": "2022-08-05T11:04:41.678Z"
   },
   {
    "duration": 18,
    "start_time": "2022-08-05T11:04:41.716Z"
   },
   {
    "duration": 3,
    "start_time": "2022-08-05T11:04:41.736Z"
   },
   {
    "duration": 6,
    "start_time": "2022-08-05T11:04:41.741Z"
   },
   {
    "duration": 5,
    "start_time": "2022-08-05T11:04:41.749Z"
   },
   {
    "duration": 6,
    "start_time": "2022-08-05T11:04:41.755Z"
   },
   {
    "duration": 11,
    "start_time": "2022-08-05T11:04:41.762Z"
   },
   {
    "duration": 13,
    "start_time": "2022-08-05T11:04:41.775Z"
   },
   {
    "duration": 8,
    "start_time": "2022-08-05T11:04:41.790Z"
   },
   {
    "duration": 7,
    "start_time": "2022-08-05T11:04:41.799Z"
   },
   {
    "duration": 12,
    "start_time": "2022-08-05T11:04:41.808Z"
   },
   {
    "duration": 17,
    "start_time": "2022-08-05T11:04:41.821Z"
   },
   {
    "duration": 26,
    "start_time": "2022-08-05T11:04:41.840Z"
   },
   {
    "duration": 5,
    "start_time": "2022-08-05T11:04:41.868Z"
   },
   {
    "duration": 13,
    "start_time": "2022-08-05T11:04:41.874Z"
   },
   {
    "duration": 6,
    "start_time": "2022-08-05T11:04:41.888Z"
   },
   {
    "duration": 7,
    "start_time": "2022-08-05T11:04:41.895Z"
   },
   {
    "duration": 6,
    "start_time": "2022-08-05T11:04:41.903Z"
   },
   {
    "duration": 17,
    "start_time": "2022-08-05T11:04:41.911Z"
   },
   {
    "duration": 4,
    "start_time": "2022-08-05T11:04:41.929Z"
   },
   {
    "duration": 6,
    "start_time": "2022-08-05T11:04:41.934Z"
   },
   {
    "duration": 141,
    "start_time": "2022-08-05T11:04:41.941Z"
   },
   {
    "duration": 409,
    "start_time": "2022-08-05T11:04:42.087Z"
   },
   {
    "duration": 1000,
    "start_time": "2022-08-05T11:04:42.498Z"
   },
   {
    "duration": 928,
    "start_time": "2022-08-05T11:04:43.500Z"
   },
   {
    "duration": 25,
    "start_time": "2022-08-05T11:04:44.430Z"
   },
   {
    "duration": 6,
    "start_time": "2022-08-05T11:04:44.458Z"
   },
   {
    "duration": 5,
    "start_time": "2022-08-05T11:04:44.465Z"
   },
   {
    "duration": 83,
    "start_time": "2022-08-05T11:04:44.487Z"
   },
   {
    "duration": 0,
    "start_time": "2022-08-05T11:04:44.572Z"
   },
   {
    "duration": 0,
    "start_time": "2022-08-05T11:04:44.573Z"
   },
   {
    "duration": 0,
    "start_time": "2022-08-05T11:04:44.574Z"
   },
   {
    "duration": 0,
    "start_time": "2022-08-05T11:04:44.575Z"
   },
   {
    "duration": 0,
    "start_time": "2022-08-05T11:04:44.575Z"
   },
   {
    "duration": 3,
    "start_time": "2022-08-05T11:05:08.858Z"
   },
   {
    "duration": 85,
    "start_time": "2022-08-05T11:05:08.863Z"
   },
   {
    "duration": 17,
    "start_time": "2022-08-05T11:05:08.950Z"
   },
   {
    "duration": 5,
    "start_time": "2022-08-05T11:05:08.969Z"
   },
   {
    "duration": 29,
    "start_time": "2022-08-05T11:05:08.976Z"
   },
   {
    "duration": 47,
    "start_time": "2022-08-05T11:05:09.007Z"
   },
   {
    "duration": 21,
    "start_time": "2022-08-05T11:05:09.056Z"
   },
   {
    "duration": 27,
    "start_time": "2022-08-05T11:05:09.078Z"
   },
   {
    "duration": 49,
    "start_time": "2022-08-05T11:05:09.106Z"
   },
   {
    "duration": 19,
    "start_time": "2022-08-05T11:05:09.157Z"
   },
   {
    "duration": 26,
    "start_time": "2022-08-05T11:05:09.177Z"
   },
   {
    "duration": 35,
    "start_time": "2022-08-05T11:05:09.204Z"
   },
   {
    "duration": 21,
    "start_time": "2022-08-05T11:05:09.241Z"
   },
   {
    "duration": 20,
    "start_time": "2022-08-05T11:05:09.264Z"
   },
   {
    "duration": 35,
    "start_time": "2022-08-05T11:05:09.285Z"
   },
   {
    "duration": 13,
    "start_time": "2022-08-05T11:05:09.322Z"
   },
   {
    "duration": 36,
    "start_time": "2022-08-05T11:05:09.337Z"
   },
   {
    "duration": 27,
    "start_time": "2022-08-05T11:05:09.374Z"
   },
   {
    "duration": 45,
    "start_time": "2022-08-05T11:05:09.403Z"
   },
   {
    "duration": 26,
    "start_time": "2022-08-05T11:05:09.450Z"
   },
   {
    "duration": 16,
    "start_time": "2022-08-05T11:05:09.478Z"
   },
   {
    "duration": 24,
    "start_time": "2022-08-05T11:05:09.496Z"
   },
   {
    "duration": 138,
    "start_time": "2022-08-05T11:05:09.522Z"
   },
   {
    "duration": 436,
    "start_time": "2022-08-05T11:05:09.662Z"
   },
   {
    "duration": 1063,
    "start_time": "2022-08-05T11:05:10.100Z"
   },
   {
    "duration": 937,
    "start_time": "2022-08-05T11:05:11.164Z"
   },
   {
    "duration": 27,
    "start_time": "2022-08-05T11:05:12.103Z"
   },
   {
    "duration": 7,
    "start_time": "2022-08-05T11:05:12.131Z"
   },
   {
    "duration": 7,
    "start_time": "2022-08-05T11:05:12.139Z"
   },
   {
    "duration": 15,
    "start_time": "2022-08-05T11:05:12.148Z"
   },
   {
    "duration": 30,
    "start_time": "2022-08-05T11:05:12.164Z"
   },
   {
    "duration": 95,
    "start_time": "2022-08-05T11:05:12.196Z"
   },
   {
    "duration": 0,
    "start_time": "2022-08-05T11:05:12.293Z"
   },
   {
    "duration": 0,
    "start_time": "2022-08-05T11:05:12.294Z"
   },
   {
    "duration": 3,
    "start_time": "2022-08-05T11:05:34.236Z"
   },
   {
    "duration": 36,
    "start_time": "2022-08-05T11:05:34.241Z"
   },
   {
    "duration": 18,
    "start_time": "2022-08-05T11:05:34.279Z"
   },
   {
    "duration": 4,
    "start_time": "2022-08-05T11:05:34.298Z"
   },
   {
    "duration": 7,
    "start_time": "2022-08-05T11:05:34.304Z"
   },
   {
    "duration": 4,
    "start_time": "2022-08-05T11:05:34.312Z"
   },
   {
    "duration": 7,
    "start_time": "2022-08-05T11:05:34.317Z"
   },
   {
    "duration": 10,
    "start_time": "2022-08-05T11:05:34.326Z"
   },
   {
    "duration": 7,
    "start_time": "2022-08-05T11:05:34.338Z"
   },
   {
    "duration": 6,
    "start_time": "2022-08-05T11:05:34.347Z"
   },
   {
    "duration": 33,
    "start_time": "2022-08-05T11:05:34.355Z"
   },
   {
    "duration": 12,
    "start_time": "2022-08-05T11:05:34.390Z"
   },
   {
    "duration": 6,
    "start_time": "2022-08-05T11:05:34.403Z"
   },
   {
    "duration": 7,
    "start_time": "2022-08-05T11:05:34.410Z"
   },
   {
    "duration": 5,
    "start_time": "2022-08-05T11:05:34.418Z"
   },
   {
    "duration": 10,
    "start_time": "2022-08-05T11:05:34.424Z"
   },
   {
    "duration": 7,
    "start_time": "2022-08-05T11:05:34.435Z"
   },
   {
    "duration": 7,
    "start_time": "2022-08-05T11:05:34.443Z"
   },
   {
    "duration": 5,
    "start_time": "2022-08-05T11:05:34.451Z"
   },
   {
    "duration": 32,
    "start_time": "2022-08-05T11:05:34.458Z"
   },
   {
    "duration": 4,
    "start_time": "2022-08-05T11:05:34.491Z"
   },
   {
    "duration": 8,
    "start_time": "2022-08-05T11:05:34.497Z"
   },
   {
    "duration": 125,
    "start_time": "2022-08-05T11:05:34.506Z"
   },
   {
    "duration": 411,
    "start_time": "2022-08-05T11:05:34.633Z"
   },
   {
    "duration": 997,
    "start_time": "2022-08-05T11:05:35.046Z"
   },
   {
    "duration": 998,
    "start_time": "2022-08-05T11:05:36.045Z"
   },
   {
    "duration": 25,
    "start_time": "2022-08-05T11:05:37.045Z"
   },
   {
    "duration": 15,
    "start_time": "2022-08-05T11:05:37.071Z"
   },
   {
    "duration": 3,
    "start_time": "2022-08-05T11:05:37.090Z"
   },
   {
    "duration": 19,
    "start_time": "2022-08-05T11:05:37.094Z"
   },
   {
    "duration": 12,
    "start_time": "2022-08-05T11:05:37.115Z"
   },
   {
    "duration": 14,
    "start_time": "2022-08-05T11:05:37.129Z"
   },
   {
    "duration": 53,
    "start_time": "2022-08-05T11:05:37.144Z"
   },
   {
    "duration": 3,
    "start_time": "2022-08-05T11:06:59.721Z"
   },
   {
    "duration": 35,
    "start_time": "2022-08-05T11:06:59.725Z"
   },
   {
    "duration": 16,
    "start_time": "2022-08-05T11:06:59.762Z"
   },
   {
    "duration": 4,
    "start_time": "2022-08-05T11:06:59.780Z"
   },
   {
    "duration": 7,
    "start_time": "2022-08-05T11:06:59.786Z"
   },
   {
    "duration": 6,
    "start_time": "2022-08-05T11:06:59.794Z"
   },
   {
    "duration": 7,
    "start_time": "2022-08-05T11:06:59.801Z"
   },
   {
    "duration": 12,
    "start_time": "2022-08-05T11:06:59.809Z"
   },
   {
    "duration": 5,
    "start_time": "2022-08-05T11:06:59.823Z"
   },
   {
    "duration": 6,
    "start_time": "2022-08-05T11:06:59.830Z"
   },
   {
    "duration": 8,
    "start_time": "2022-08-05T11:06:59.838Z"
   },
   {
    "duration": 15,
    "start_time": "2022-08-05T11:06:59.847Z"
   },
   {
    "duration": 10,
    "start_time": "2022-08-05T11:06:59.864Z"
   },
   {
    "duration": 6,
    "start_time": "2022-08-05T11:06:59.887Z"
   },
   {
    "duration": 9,
    "start_time": "2022-08-05T11:06:59.894Z"
   },
   {
    "duration": 12,
    "start_time": "2022-08-05T11:06:59.905Z"
   },
   {
    "duration": 8,
    "start_time": "2022-08-05T11:06:59.919Z"
   },
   {
    "duration": 12,
    "start_time": "2022-08-05T11:06:59.929Z"
   },
   {
    "duration": 6,
    "start_time": "2022-08-05T11:06:59.942Z"
   },
   {
    "duration": 19,
    "start_time": "2022-08-05T11:06:59.950Z"
   },
   {
    "duration": 6,
    "start_time": "2022-08-05T11:06:59.971Z"
   },
   {
    "duration": 5,
    "start_time": "2022-08-05T11:06:59.987Z"
   },
   {
    "duration": 145,
    "start_time": "2022-08-05T11:06:59.993Z"
   },
   {
    "duration": 439,
    "start_time": "2022-08-05T11:07:00.141Z"
   },
   {
    "duration": 1050,
    "start_time": "2022-08-05T11:07:00.582Z"
   },
   {
    "duration": 961,
    "start_time": "2022-08-05T11:07:01.634Z"
   },
   {
    "duration": 28,
    "start_time": "2022-08-05T11:07:02.597Z"
   },
   {
    "duration": 5,
    "start_time": "2022-08-05T11:07:02.627Z"
   },
   {
    "duration": 16,
    "start_time": "2022-08-05T11:07:02.633Z"
   },
   {
    "duration": 12,
    "start_time": "2022-08-05T11:07:02.650Z"
   },
   {
    "duration": 8,
    "start_time": "2022-08-05T11:07:02.664Z"
   },
   {
    "duration": 113,
    "start_time": "2022-08-05T11:07:02.674Z"
   },
   {
    "duration": 105,
    "start_time": "2022-08-05T11:10:49.582Z"
   },
   {
    "duration": 108,
    "start_time": "2022-08-05T11:13:23.673Z"
   },
   {
    "duration": 104,
    "start_time": "2022-08-05T11:14:33.304Z"
   },
   {
    "duration": 73,
    "start_time": "2022-08-05T11:22:39.443Z"
   },
   {
    "duration": 10,
    "start_time": "2022-08-05T11:23:12.526Z"
   },
   {
    "duration": 10,
    "start_time": "2022-08-05T11:24:24.071Z"
   },
   {
    "duration": 3,
    "start_time": "2022-08-05T11:24:28.004Z"
   },
   {
    "duration": 42,
    "start_time": "2022-08-05T11:24:28.009Z"
   },
   {
    "duration": 19,
    "start_time": "2022-08-05T11:24:28.053Z"
   },
   {
    "duration": 5,
    "start_time": "2022-08-05T11:24:28.073Z"
   },
   {
    "duration": 9,
    "start_time": "2022-08-05T11:24:28.080Z"
   },
   {
    "duration": 5,
    "start_time": "2022-08-05T11:24:28.091Z"
   },
   {
    "duration": 12,
    "start_time": "2022-08-05T11:24:28.098Z"
   },
   {
    "duration": 12,
    "start_time": "2022-08-05T11:24:28.112Z"
   },
   {
    "duration": 6,
    "start_time": "2022-08-05T11:24:28.127Z"
   },
   {
    "duration": 9,
    "start_time": "2022-08-05T11:24:28.135Z"
   },
   {
    "duration": 6,
    "start_time": "2022-08-05T11:24:28.146Z"
   },
   {
    "duration": 12,
    "start_time": "2022-08-05T11:24:28.154Z"
   },
   {
    "duration": 23,
    "start_time": "2022-08-05T11:24:28.167Z"
   },
   {
    "duration": 7,
    "start_time": "2022-08-05T11:24:28.191Z"
   },
   {
    "duration": 5,
    "start_time": "2022-08-05T11:24:28.200Z"
   },
   {
    "duration": 12,
    "start_time": "2022-08-05T11:24:28.206Z"
   },
   {
    "duration": 8,
    "start_time": "2022-08-05T11:24:28.219Z"
   },
   {
    "duration": 12,
    "start_time": "2022-08-05T11:24:28.229Z"
   },
   {
    "duration": 6,
    "start_time": "2022-08-05T11:24:28.243Z"
   },
   {
    "duration": 20,
    "start_time": "2022-08-05T11:24:28.250Z"
   },
   {
    "duration": 6,
    "start_time": "2022-08-05T11:24:28.287Z"
   },
   {
    "duration": 9,
    "start_time": "2022-08-05T11:24:28.295Z"
   },
   {
    "duration": 142,
    "start_time": "2022-08-05T11:24:28.306Z"
   },
   {
    "duration": 425,
    "start_time": "2022-08-05T11:24:28.451Z"
   },
   {
    "duration": 1016,
    "start_time": "2022-08-05T11:24:28.878Z"
   },
   {
    "duration": 965,
    "start_time": "2022-08-05T11:24:29.896Z"
   },
   {
    "duration": 34,
    "start_time": "2022-08-05T11:24:30.863Z"
   },
   {
    "duration": 6,
    "start_time": "2022-08-05T11:24:30.899Z"
   },
   {
    "duration": 11,
    "start_time": "2022-08-05T11:24:30.906Z"
   },
   {
    "duration": 27,
    "start_time": "2022-08-05T11:24:30.918Z"
   },
   {
    "duration": 16,
    "start_time": "2022-08-05T11:24:30.947Z"
   },
   {
    "duration": 17,
    "start_time": "2022-08-05T11:24:30.964Z"
   },
   {
    "duration": 111,
    "start_time": "2022-08-05T11:24:30.983Z"
   },
   {
    "duration": 23,
    "start_time": "2022-08-05T11:25:49.628Z"
   },
   {
    "duration": 10,
    "start_time": "2022-08-05T11:27:00.744Z"
   },
   {
    "duration": 16,
    "start_time": "2022-08-05T11:27:23.921Z"
   },
   {
    "duration": 2,
    "start_time": "2022-08-05T11:27:27.549Z"
   },
   {
    "duration": 37,
    "start_time": "2022-08-05T11:27:27.553Z"
   },
   {
    "duration": 19,
    "start_time": "2022-08-05T11:27:27.592Z"
   },
   {
    "duration": 6,
    "start_time": "2022-08-05T11:27:27.613Z"
   },
   {
    "duration": 6,
    "start_time": "2022-08-05T11:27:27.621Z"
   },
   {
    "duration": 7,
    "start_time": "2022-08-05T11:27:27.629Z"
   },
   {
    "duration": 10,
    "start_time": "2022-08-05T11:27:27.637Z"
   },
   {
    "duration": 15,
    "start_time": "2022-08-05T11:27:27.649Z"
   },
   {
    "duration": 24,
    "start_time": "2022-08-05T11:27:27.666Z"
   },
   {
    "duration": 8,
    "start_time": "2022-08-05T11:27:27.691Z"
   },
   {
    "duration": 4,
    "start_time": "2022-08-05T11:27:27.701Z"
   },
   {
    "duration": 15,
    "start_time": "2022-08-05T11:27:27.707Z"
   },
   {
    "duration": 8,
    "start_time": "2022-08-05T11:27:27.723Z"
   },
   {
    "duration": 8,
    "start_time": "2022-08-05T11:27:27.732Z"
   },
   {
    "duration": 7,
    "start_time": "2022-08-05T11:27:27.741Z"
   },
   {
    "duration": 13,
    "start_time": "2022-08-05T11:27:27.749Z"
   },
   {
    "duration": 27,
    "start_time": "2022-08-05T11:27:27.763Z"
   },
   {
    "duration": 7,
    "start_time": "2022-08-05T11:27:27.791Z"
   },
   {
    "duration": 4,
    "start_time": "2022-08-05T11:27:27.800Z"
   },
   {
    "duration": 16,
    "start_time": "2022-08-05T11:27:27.806Z"
   },
   {
    "duration": 5,
    "start_time": "2022-08-05T11:27:27.823Z"
   },
   {
    "duration": 15,
    "start_time": "2022-08-05T11:27:27.829Z"
   },
   {
    "duration": 131,
    "start_time": "2022-08-05T11:27:27.846Z"
   },
   {
    "duration": 434,
    "start_time": "2022-08-05T11:27:27.979Z"
   },
   {
    "duration": 1041,
    "start_time": "2022-08-05T11:27:28.415Z"
   },
   {
    "duration": 971,
    "start_time": "2022-08-05T11:27:29.458Z"
   },
   {
    "duration": 27,
    "start_time": "2022-08-05T11:27:30.430Z"
   },
   {
    "duration": 6,
    "start_time": "2022-08-05T11:27:30.459Z"
   },
   {
    "duration": 3,
    "start_time": "2022-08-05T11:27:30.486Z"
   },
   {
    "duration": 43,
    "start_time": "2022-08-05T11:27:30.490Z"
   },
   {
    "duration": 17,
    "start_time": "2022-08-05T11:27:30.534Z"
   },
   {
    "duration": 30,
    "start_time": "2022-08-05T11:27:30.553Z"
   },
   {
    "duration": 114,
    "start_time": "2022-08-05T11:27:30.584Z"
   },
   {
    "duration": 16,
    "start_time": "2022-08-05T11:28:25.696Z"
   },
   {
    "duration": 10,
    "start_time": "2022-08-05T11:28:44.169Z"
   },
   {
    "duration": 3,
    "start_time": "2022-08-05T11:28:51.749Z"
   },
   {
    "duration": 43,
    "start_time": "2022-08-05T11:28:51.754Z"
   },
   {
    "duration": 18,
    "start_time": "2022-08-05T11:28:51.799Z"
   },
   {
    "duration": 5,
    "start_time": "2022-08-05T11:28:51.818Z"
   },
   {
    "duration": 6,
    "start_time": "2022-08-05T11:28:51.825Z"
   },
   {
    "duration": 5,
    "start_time": "2022-08-05T11:28:51.833Z"
   },
   {
    "duration": 7,
    "start_time": "2022-08-05T11:28:51.839Z"
   },
   {
    "duration": 11,
    "start_time": "2022-08-05T11:28:51.847Z"
   },
   {
    "duration": 29,
    "start_time": "2022-08-05T11:28:51.860Z"
   },
   {
    "duration": 10,
    "start_time": "2022-08-05T11:28:51.890Z"
   },
   {
    "duration": 5,
    "start_time": "2022-08-05T11:28:51.903Z"
   },
   {
    "duration": 12,
    "start_time": "2022-08-05T11:28:51.910Z"
   },
   {
    "duration": 7,
    "start_time": "2022-08-05T11:28:51.924Z"
   },
   {
    "duration": 7,
    "start_time": "2022-08-05T11:28:51.932Z"
   },
   {
    "duration": 5,
    "start_time": "2022-08-05T11:28:51.940Z"
   },
   {
    "duration": 13,
    "start_time": "2022-08-05T11:28:51.947Z"
   },
   {
    "duration": 26,
    "start_time": "2022-08-05T11:28:51.962Z"
   },
   {
    "duration": 7,
    "start_time": "2022-08-05T11:28:51.989Z"
   },
   {
    "duration": 6,
    "start_time": "2022-08-05T11:28:51.997Z"
   },
   {
    "duration": 24,
    "start_time": "2022-08-05T11:28:52.005Z"
   },
   {
    "duration": 5,
    "start_time": "2022-08-05T11:28:52.031Z"
   },
   {
    "duration": 7,
    "start_time": "2022-08-05T11:28:52.037Z"
   },
   {
    "duration": 125,
    "start_time": "2022-08-05T11:28:52.046Z"
   },
   {
    "duration": 415,
    "start_time": "2022-08-05T11:28:52.173Z"
   },
   {
    "duration": 999,
    "start_time": "2022-08-05T11:28:52.590Z"
   },
   {
    "duration": 915,
    "start_time": "2022-08-05T11:28:53.591Z"
   },
   {
    "duration": 23,
    "start_time": "2022-08-05T11:28:54.508Z"
   },
   {
    "duration": 6,
    "start_time": "2022-08-05T11:28:54.533Z"
   },
   {
    "duration": 7,
    "start_time": "2022-08-05T11:28:54.541Z"
   },
   {
    "duration": 12,
    "start_time": "2022-08-05T11:28:54.549Z"
   },
   {
    "duration": 27,
    "start_time": "2022-08-05T11:28:54.563Z"
   },
   {
    "duration": 13,
    "start_time": "2022-08-05T11:28:54.591Z"
   },
   {
    "duration": 109,
    "start_time": "2022-08-05T11:28:54.606Z"
   },
   {
    "duration": 4,
    "start_time": "2022-08-05T11:34:16.209Z"
   },
   {
    "duration": 9,
    "start_time": "2022-08-05T11:34:52.395Z"
   },
   {
    "duration": 98,
    "start_time": "2022-08-05T11:38:24.264Z"
   },
   {
    "duration": 100,
    "start_time": "2022-08-05T11:39:01.428Z"
   },
   {
    "duration": 111,
    "start_time": "2022-08-05T11:39:09.572Z"
   },
   {
    "duration": 97,
    "start_time": "2022-08-05T11:39:16.666Z"
   },
   {
    "duration": 99,
    "start_time": "2022-08-05T11:39:26.701Z"
   },
   {
    "duration": 110,
    "start_time": "2022-08-05T11:40:19.343Z"
   },
   {
    "duration": 120,
    "start_time": "2022-08-05T11:40:30.005Z"
   },
   {
    "duration": 101,
    "start_time": "2022-08-05T11:40:37.880Z"
   },
   {
    "duration": 9,
    "start_time": "2022-08-05T11:51:43.466Z"
   },
   {
    "duration": 3,
    "start_time": "2022-08-05T11:51:53.920Z"
   },
   {
    "duration": 40,
    "start_time": "2022-08-05T11:51:53.926Z"
   },
   {
    "duration": 17,
    "start_time": "2022-08-05T11:51:53.967Z"
   },
   {
    "duration": 7,
    "start_time": "2022-08-05T11:51:53.985Z"
   },
   {
    "duration": 42,
    "start_time": "2022-08-05T11:51:53.995Z"
   },
   {
    "duration": 18,
    "start_time": "2022-08-05T11:51:54.039Z"
   },
   {
    "duration": 29,
    "start_time": "2022-08-05T11:51:54.058Z"
   },
   {
    "duration": 20,
    "start_time": "2022-08-05T11:51:54.089Z"
   },
   {
    "duration": 26,
    "start_time": "2022-08-05T11:51:54.111Z"
   },
   {
    "duration": 20,
    "start_time": "2022-08-05T11:51:54.138Z"
   },
   {
    "duration": 30,
    "start_time": "2022-08-05T11:51:54.160Z"
   },
   {
    "duration": 36,
    "start_time": "2022-08-05T11:51:54.192Z"
   },
   {
    "duration": 16,
    "start_time": "2022-08-05T11:51:54.231Z"
   },
   {
    "duration": 31,
    "start_time": "2022-08-05T11:51:54.248Z"
   },
   {
    "duration": 29,
    "start_time": "2022-08-05T11:51:54.280Z"
   },
   {
    "duration": 24,
    "start_time": "2022-08-05T11:51:54.311Z"
   },
   {
    "duration": 27,
    "start_time": "2022-08-05T11:51:54.337Z"
   },
   {
    "duration": 13,
    "start_time": "2022-08-05T11:51:54.366Z"
   },
   {
    "duration": 30,
    "start_time": "2022-08-05T11:51:54.381Z"
   },
   {
    "duration": 35,
    "start_time": "2022-08-05T11:51:54.413Z"
   },
   {
    "duration": 12,
    "start_time": "2022-08-05T11:51:54.450Z"
   },
   {
    "duration": 20,
    "start_time": "2022-08-05T11:51:54.464Z"
   },
   {
    "duration": 131,
    "start_time": "2022-08-05T11:51:54.485Z"
   },
   {
    "duration": 419,
    "start_time": "2022-08-05T11:51:54.618Z"
   },
   {
    "duration": 1018,
    "start_time": "2022-08-05T11:51:55.039Z"
   },
   {
    "duration": 987,
    "start_time": "2022-08-05T11:51:56.059Z"
   },
   {
    "duration": 27,
    "start_time": "2022-08-05T11:51:57.047Z"
   },
   {
    "duration": 16,
    "start_time": "2022-08-05T11:51:57.075Z"
   },
   {
    "duration": 39,
    "start_time": "2022-08-05T11:51:57.093Z"
   },
   {
    "duration": 115,
    "start_time": "2022-08-05T11:51:57.134Z"
   },
   {
    "duration": 8,
    "start_time": "2022-08-05T11:51:57.250Z"
   },
   {
    "duration": 12,
    "start_time": "2022-08-05T11:52:42.541Z"
   },
   {
    "duration": 3,
    "start_time": "2022-08-05T11:52:45.532Z"
   },
   {
    "duration": 39,
    "start_time": "2022-08-05T11:52:45.537Z"
   },
   {
    "duration": 16,
    "start_time": "2022-08-05T11:52:45.578Z"
   },
   {
    "duration": 5,
    "start_time": "2022-08-05T11:52:45.596Z"
   },
   {
    "duration": 7,
    "start_time": "2022-08-05T11:52:45.602Z"
   },
   {
    "duration": 4,
    "start_time": "2022-08-05T11:52:45.611Z"
   },
   {
    "duration": 5,
    "start_time": "2022-08-05T11:52:45.617Z"
   },
   {
    "duration": 12,
    "start_time": "2022-08-05T11:52:45.623Z"
   },
   {
    "duration": 8,
    "start_time": "2022-08-05T11:52:45.636Z"
   },
   {
    "duration": 5,
    "start_time": "2022-08-05T11:52:45.647Z"
   },
   {
    "duration": 4,
    "start_time": "2022-08-05T11:52:45.653Z"
   },
   {
    "duration": 33,
    "start_time": "2022-08-05T11:52:45.659Z"
   },
   {
    "duration": 6,
    "start_time": "2022-08-05T11:52:45.694Z"
   },
   {
    "duration": 7,
    "start_time": "2022-08-05T11:52:45.701Z"
   },
   {
    "duration": 5,
    "start_time": "2022-08-05T11:52:45.710Z"
   },
   {
    "duration": 17,
    "start_time": "2022-08-05T11:52:45.716Z"
   },
   {
    "duration": 7,
    "start_time": "2022-08-05T11:52:45.734Z"
   },
   {
    "duration": 8,
    "start_time": "2022-08-05T11:52:45.742Z"
   },
   {
    "duration": 5,
    "start_time": "2022-08-05T11:52:45.751Z"
   },
   {
    "duration": 37,
    "start_time": "2022-08-05T11:52:45.757Z"
   },
   {
    "duration": 5,
    "start_time": "2022-08-05T11:52:45.795Z"
   },
   {
    "duration": 6,
    "start_time": "2022-08-05T11:52:45.802Z"
   },
   {
    "duration": 133,
    "start_time": "2022-08-05T11:52:45.810Z"
   },
   {
    "duration": 461,
    "start_time": "2022-08-05T11:52:45.945Z"
   },
   {
    "duration": 1081,
    "start_time": "2022-08-05T11:52:46.409Z"
   },
   {
    "duration": 915,
    "start_time": "2022-08-05T11:52:47.492Z"
   },
   {
    "duration": 23,
    "start_time": "2022-08-05T11:52:48.409Z"
   },
   {
    "duration": 5,
    "start_time": "2022-08-05T11:52:48.435Z"
   },
   {
    "duration": 10,
    "start_time": "2022-08-05T11:52:48.442Z"
   },
   {
    "duration": 117,
    "start_time": "2022-08-05T11:52:48.453Z"
   },
   {
    "duration": 18,
    "start_time": "2022-08-05T11:52:48.571Z"
   },
   {
    "duration": 13,
    "start_time": "2022-08-05T11:53:38.876Z"
   },
   {
    "duration": 3,
    "start_time": "2022-08-05T11:53:41.864Z"
   },
   {
    "duration": 39,
    "start_time": "2022-08-05T11:53:41.869Z"
   },
   {
    "duration": 16,
    "start_time": "2022-08-05T11:53:41.910Z"
   },
   {
    "duration": 4,
    "start_time": "2022-08-05T11:53:41.928Z"
   },
   {
    "duration": 9,
    "start_time": "2022-08-05T11:53:41.933Z"
   },
   {
    "duration": 5,
    "start_time": "2022-08-05T11:53:41.943Z"
   },
   {
    "duration": 7,
    "start_time": "2022-08-05T11:53:41.949Z"
   },
   {
    "duration": 15,
    "start_time": "2022-08-05T11:53:41.958Z"
   },
   {
    "duration": 22,
    "start_time": "2022-08-05T11:53:41.975Z"
   },
   {
    "duration": 6,
    "start_time": "2022-08-05T11:53:41.999Z"
   },
   {
    "duration": 5,
    "start_time": "2022-08-05T11:53:42.006Z"
   },
   {
    "duration": 12,
    "start_time": "2022-08-05T11:53:42.013Z"
   },
   {
    "duration": 11,
    "start_time": "2022-08-05T11:53:42.027Z"
   },
   {
    "duration": 8,
    "start_time": "2022-08-05T11:53:42.040Z"
   },
   {
    "duration": 8,
    "start_time": "2022-08-05T11:53:42.050Z"
   },
   {
    "duration": 15,
    "start_time": "2022-08-05T11:53:42.060Z"
   },
   {
    "duration": 11,
    "start_time": "2022-08-05T11:53:42.076Z"
   },
   {
    "duration": 5,
    "start_time": "2022-08-05T11:53:42.089Z"
   },
   {
    "duration": 4,
    "start_time": "2022-08-05T11:53:42.095Z"
   },
   {
    "duration": 16,
    "start_time": "2022-08-05T11:53:42.100Z"
   },
   {
    "duration": 4,
    "start_time": "2022-08-05T11:53:42.118Z"
   },
   {
    "duration": 6,
    "start_time": "2022-08-05T11:53:42.123Z"
   },
   {
    "duration": 141,
    "start_time": "2022-08-05T11:53:42.130Z"
   },
   {
    "duration": 407,
    "start_time": "2022-08-05T11:53:42.274Z"
   },
   {
    "duration": 1003,
    "start_time": "2022-08-05T11:53:42.683Z"
   },
   {
    "duration": 904,
    "start_time": "2022-08-05T11:53:43.688Z"
   },
   {
    "duration": 24,
    "start_time": "2022-08-05T11:53:44.594Z"
   },
   {
    "duration": 6,
    "start_time": "2022-08-05T11:53:44.619Z"
   },
   {
    "duration": 9,
    "start_time": "2022-08-05T11:53:44.626Z"
   },
   {
    "duration": 116,
    "start_time": "2022-08-05T11:53:44.637Z"
   },
   {
    "duration": 12,
    "start_time": "2022-08-05T11:53:44.755Z"
   },
   {
    "duration": 3,
    "start_time": "2022-08-05T11:54:00.706Z"
   },
   {
    "duration": 3,
    "start_time": "2022-08-05T11:54:04.542Z"
   },
   {
    "duration": 8,
    "start_time": "2022-08-05T11:54:04.546Z"
   },
   {
    "duration": 35,
    "start_time": "2022-08-05T11:54:04.555Z"
   },
   {
    "duration": 19,
    "start_time": "2022-08-05T11:54:04.592Z"
   },
   {
    "duration": 4,
    "start_time": "2022-08-05T11:54:04.612Z"
   },
   {
    "duration": 6,
    "start_time": "2022-08-05T11:54:04.618Z"
   },
   {
    "duration": 5,
    "start_time": "2022-08-05T11:54:04.626Z"
   },
   {
    "duration": 9,
    "start_time": "2022-08-05T11:54:04.632Z"
   },
   {
    "duration": 13,
    "start_time": "2022-08-05T11:54:04.643Z"
   },
   {
    "duration": 6,
    "start_time": "2022-08-05T11:54:04.658Z"
   },
   {
    "duration": 27,
    "start_time": "2022-08-05T11:54:04.666Z"
   },
   {
    "duration": 7,
    "start_time": "2022-08-05T11:54:04.694Z"
   },
   {
    "duration": 14,
    "start_time": "2022-08-05T11:54:04.702Z"
   },
   {
    "duration": 11,
    "start_time": "2022-08-05T11:54:04.717Z"
   },
   {
    "duration": 9,
    "start_time": "2022-08-05T11:54:04.729Z"
   },
   {
    "duration": 7,
    "start_time": "2022-08-05T11:54:04.739Z"
   },
   {
    "duration": 13,
    "start_time": "2022-08-05T11:54:04.748Z"
   },
   {
    "duration": 16,
    "start_time": "2022-08-05T11:54:04.763Z"
   },
   {
    "duration": 4,
    "start_time": "2022-08-05T11:54:04.787Z"
   },
   {
    "duration": 6,
    "start_time": "2022-08-05T11:54:04.793Z"
   },
   {
    "duration": 16,
    "start_time": "2022-08-05T11:54:04.801Z"
   },
   {
    "duration": 4,
    "start_time": "2022-08-05T11:54:04.819Z"
   },
   {
    "duration": 8,
    "start_time": "2022-08-05T11:54:04.825Z"
   },
   {
    "duration": 136,
    "start_time": "2022-08-05T11:54:04.836Z"
   },
   {
    "duration": 426,
    "start_time": "2022-08-05T11:54:04.974Z"
   },
   {
    "duration": 1174,
    "start_time": "2022-08-05T11:54:05.402Z"
   },
   {
    "duration": 987,
    "start_time": "2022-08-05T11:54:06.578Z"
   },
   {
    "duration": 36,
    "start_time": "2022-08-05T11:54:07.567Z"
   },
   {
    "duration": 8,
    "start_time": "2022-08-05T11:54:07.605Z"
   },
   {
    "duration": 18,
    "start_time": "2022-08-05T11:54:07.615Z"
   },
   {
    "duration": 122,
    "start_time": "2022-08-05T11:54:07.635Z"
   },
   {
    "duration": 14,
    "start_time": "2022-08-05T11:54:07.759Z"
   },
   {
    "duration": 14,
    "start_time": "2022-08-05T11:56:23.370Z"
   },
   {
    "duration": 8,
    "start_time": "2022-08-05T11:57:16.139Z"
   },
   {
    "duration": 14,
    "start_time": "2022-08-05T11:58:31.204Z"
   },
   {
    "duration": 14,
    "start_time": "2022-08-05T11:59:49.414Z"
   },
   {
    "duration": 15,
    "start_time": "2022-08-05T12:01:04.995Z"
   },
   {
    "duration": 2,
    "start_time": "2022-08-05T12:01:14.377Z"
   },
   {
    "duration": 2,
    "start_time": "2022-08-05T12:01:14.405Z"
   },
   {
    "duration": 31,
    "start_time": "2022-08-05T12:01:14.411Z"
   },
   {
    "duration": 19,
    "start_time": "2022-08-05T12:01:14.444Z"
   },
   {
    "duration": 6,
    "start_time": "2022-08-05T12:01:14.465Z"
   },
   {
    "duration": 8,
    "start_time": "2022-08-05T12:01:14.473Z"
   },
   {
    "duration": 4,
    "start_time": "2022-08-05T12:01:14.483Z"
   },
   {
    "duration": 7,
    "start_time": "2022-08-05T12:01:14.488Z"
   },
   {
    "duration": 12,
    "start_time": "2022-08-05T12:01:14.496Z"
   },
   {
    "duration": 11,
    "start_time": "2022-08-05T12:01:14.509Z"
   },
   {
    "duration": 6,
    "start_time": "2022-08-05T12:01:14.521Z"
   },
   {
    "duration": 3,
    "start_time": "2022-08-05T12:01:14.530Z"
   },
   {
    "duration": 12,
    "start_time": "2022-08-05T12:01:14.535Z"
   },
   {
    "duration": 6,
    "start_time": "2022-08-05T12:01:14.549Z"
   },
   {
    "duration": 6,
    "start_time": "2022-08-05T12:01:14.556Z"
   },
   {
    "duration": 4,
    "start_time": "2022-08-05T12:01:14.564Z"
   },
   {
    "duration": 8,
    "start_time": "2022-08-05T12:01:14.587Z"
   },
   {
    "duration": 6,
    "start_time": "2022-08-05T12:01:14.597Z"
   },
   {
    "duration": 7,
    "start_time": "2022-08-05T12:01:14.605Z"
   },
   {
    "duration": 9,
    "start_time": "2022-08-05T12:01:14.614Z"
   },
   {
    "duration": 17,
    "start_time": "2022-08-05T12:01:14.625Z"
   },
   {
    "duration": 7,
    "start_time": "2022-08-05T12:01:14.643Z"
   },
   {
    "duration": 12,
    "start_time": "2022-08-05T12:01:14.651Z"
   },
   {
    "duration": 135,
    "start_time": "2022-08-05T12:01:14.665Z"
   },
   {
    "duration": 436,
    "start_time": "2022-08-05T12:01:14.802Z"
   },
   {
    "duration": 1051,
    "start_time": "2022-08-05T12:01:15.239Z"
   },
   {
    "duration": 997,
    "start_time": "2022-08-05T12:01:16.292Z"
   },
   {
    "duration": 25,
    "start_time": "2022-08-05T12:01:17.290Z"
   },
   {
    "duration": 5,
    "start_time": "2022-08-05T12:01:17.317Z"
   },
   {
    "duration": 12,
    "start_time": "2022-08-05T12:01:17.325Z"
   },
   {
    "duration": 122,
    "start_time": "2022-08-05T12:01:17.339Z"
   },
   {
    "duration": 13,
    "start_time": "2022-08-05T12:01:17.462Z"
   },
   {
    "duration": 95,
    "start_time": "2022-08-05T12:02:32.356Z"
   },
   {
    "duration": 3,
    "start_time": "2022-08-05T12:02:42.513Z"
   },
   {
    "duration": 10,
    "start_time": "2022-08-05T12:02:42.518Z"
   },
   {
    "duration": 44,
    "start_time": "2022-08-05T12:02:42.530Z"
   },
   {
    "duration": 18,
    "start_time": "2022-08-05T12:02:42.576Z"
   },
   {
    "duration": 4,
    "start_time": "2022-08-05T12:02:42.596Z"
   },
   {
    "duration": 7,
    "start_time": "2022-08-05T12:02:42.602Z"
   },
   {
    "duration": 4,
    "start_time": "2022-08-05T12:02:42.611Z"
   },
   {
    "duration": 7,
    "start_time": "2022-08-05T12:02:42.617Z"
   },
   {
    "duration": 16,
    "start_time": "2022-08-05T12:02:42.626Z"
   },
   {
    "duration": 9,
    "start_time": "2022-08-05T12:02:42.644Z"
   },
   {
    "duration": 11,
    "start_time": "2022-08-05T12:02:42.655Z"
   },
   {
    "duration": 4,
    "start_time": "2022-08-05T12:02:42.687Z"
   },
   {
    "duration": 18,
    "start_time": "2022-08-05T12:02:42.693Z"
   },
   {
    "duration": 10,
    "start_time": "2022-08-05T12:02:42.712Z"
   },
   {
    "duration": 9,
    "start_time": "2022-08-05T12:02:42.724Z"
   },
   {
    "duration": 13,
    "start_time": "2022-08-05T12:02:42.734Z"
   },
   {
    "duration": 26,
    "start_time": "2022-08-05T12:02:42.749Z"
   },
   {
    "duration": 13,
    "start_time": "2022-08-05T12:02:42.776Z"
   },
   {
    "duration": 6,
    "start_time": "2022-08-05T12:02:42.791Z"
   },
   {
    "duration": 5,
    "start_time": "2022-08-05T12:02:42.799Z"
   },
   {
    "duration": 16,
    "start_time": "2022-08-05T12:02:42.805Z"
   },
   {
    "duration": 4,
    "start_time": "2022-08-05T12:02:42.822Z"
   },
   {
    "duration": 7,
    "start_time": "2022-08-05T12:02:42.828Z"
   },
   {
    "duration": 129,
    "start_time": "2022-08-05T12:02:42.837Z"
   },
   {
    "duration": 412,
    "start_time": "2022-08-05T12:02:42.967Z"
   },
   {
    "duration": 1028,
    "start_time": "2022-08-05T12:02:43.380Z"
   },
   {
    "duration": 914,
    "start_time": "2022-08-05T12:02:44.410Z"
   },
   {
    "duration": 23,
    "start_time": "2022-08-05T12:02:45.326Z"
   },
   {
    "duration": 5,
    "start_time": "2022-08-05T12:02:45.352Z"
   },
   {
    "duration": 10,
    "start_time": "2022-08-05T12:02:45.358Z"
   },
   {
    "duration": 118,
    "start_time": "2022-08-05T12:02:45.369Z"
   },
   {
    "duration": 4,
    "start_time": "2022-08-05T12:02:45.489Z"
   },
   {
    "duration": 103,
    "start_time": "2022-08-05T12:03:16.792Z"
   },
   {
    "duration": 2,
    "start_time": "2022-08-05T12:03:27.697Z"
   },
   {
    "duration": 6,
    "start_time": "2022-08-05T12:03:27.701Z"
   },
   {
    "duration": 31,
    "start_time": "2022-08-05T12:03:27.767Z"
   },
   {
    "duration": 17,
    "start_time": "2022-08-05T12:03:27.800Z"
   },
   {
    "duration": 4,
    "start_time": "2022-08-05T12:03:27.818Z"
   },
   {
    "duration": 8,
    "start_time": "2022-08-05T12:03:27.823Z"
   },
   {
    "duration": 4,
    "start_time": "2022-08-05T12:03:27.833Z"
   },
   {
    "duration": 5,
    "start_time": "2022-08-05T12:03:27.838Z"
   },
   {
    "duration": 13,
    "start_time": "2022-08-05T12:03:27.845Z"
   },
   {
    "duration": 10,
    "start_time": "2022-08-05T12:03:27.859Z"
   },
   {
    "duration": 5,
    "start_time": "2022-08-05T12:03:27.887Z"
   },
   {
    "duration": 11,
    "start_time": "2022-08-05T12:03:27.893Z"
   },
   {
    "duration": 11,
    "start_time": "2022-08-05T12:03:27.906Z"
   },
   {
    "duration": 6,
    "start_time": "2022-08-05T12:03:27.919Z"
   },
   {
    "duration": 10,
    "start_time": "2022-08-05T12:03:27.927Z"
   },
   {
    "duration": 14,
    "start_time": "2022-08-05T12:03:27.939Z"
   },
   {
    "duration": 13,
    "start_time": "2022-08-05T12:03:27.954Z"
   },
   {
    "duration": 18,
    "start_time": "2022-08-05T12:03:27.968Z"
   },
   {
    "duration": 7,
    "start_time": "2022-08-05T12:03:27.987Z"
   },
   {
    "duration": 6,
    "start_time": "2022-08-05T12:03:27.995Z"
   },
   {
    "duration": 16,
    "start_time": "2022-08-05T12:03:28.002Z"
   },
   {
    "duration": 4,
    "start_time": "2022-08-05T12:03:28.019Z"
   },
   {
    "duration": 7,
    "start_time": "2022-08-05T12:03:28.025Z"
   },
   {
    "duration": 132,
    "start_time": "2022-08-05T12:03:28.035Z"
   },
   {
    "duration": 409,
    "start_time": "2022-08-05T12:03:28.169Z"
   },
   {
    "duration": 1017,
    "start_time": "2022-08-05T12:03:28.580Z"
   },
   {
    "duration": 933,
    "start_time": "2022-08-05T12:03:29.599Z"
   },
   {
    "duration": 24,
    "start_time": "2022-08-05T12:03:30.533Z"
   },
   {
    "duration": 5,
    "start_time": "2022-08-05T12:03:30.558Z"
   },
   {
    "duration": 28,
    "start_time": "2022-08-05T12:03:30.565Z"
   },
   {
    "duration": 108,
    "start_time": "2022-08-05T12:03:30.595Z"
   },
   {
    "duration": 13,
    "start_time": "2022-08-05T12:03:30.704Z"
   },
   {
    "duration": 13,
    "start_time": "2022-08-05T12:04:11.104Z"
   },
   {
    "duration": 2,
    "start_time": "2022-08-05T12:04:20.347Z"
   },
   {
    "duration": 7,
    "start_time": "2022-08-05T12:14:13.371Z"
   },
   {
    "duration": 3,
    "start_time": "2022-08-05T12:15:09.771Z"
   },
   {
    "duration": 19,
    "start_time": "2022-08-05T12:15:11.515Z"
   },
   {
    "duration": 14,
    "start_time": "2022-08-05T12:15:38.017Z"
   },
   {
    "duration": 2,
    "start_time": "2022-08-05T12:15:58.464Z"
   },
   {
    "duration": 2,
    "start_time": "2022-08-05T12:16:02.931Z"
   },
   {
    "duration": 13,
    "start_time": "2022-08-05T12:16:02.935Z"
   },
   {
    "duration": 34,
    "start_time": "2022-08-05T12:16:02.949Z"
   },
   {
    "duration": 17,
    "start_time": "2022-08-05T12:16:02.985Z"
   },
   {
    "duration": 4,
    "start_time": "2022-08-05T12:16:03.004Z"
   },
   {
    "duration": 7,
    "start_time": "2022-08-05T12:16:03.009Z"
   },
   {
    "duration": 10,
    "start_time": "2022-08-05T12:16:03.018Z"
   },
   {
    "duration": 5,
    "start_time": "2022-08-05T12:16:03.029Z"
   },
   {
    "duration": 10,
    "start_time": "2022-08-05T12:16:03.036Z"
   },
   {
    "duration": 7,
    "start_time": "2022-08-05T12:16:03.047Z"
   },
   {
    "duration": 37,
    "start_time": "2022-08-05T12:16:03.056Z"
   },
   {
    "duration": 5,
    "start_time": "2022-08-05T12:16:03.095Z"
   },
   {
    "duration": 11,
    "start_time": "2022-08-05T12:16:03.102Z"
   },
   {
    "duration": 7,
    "start_time": "2022-08-05T12:16:03.114Z"
   },
   {
    "duration": 7,
    "start_time": "2022-08-05T12:16:03.122Z"
   },
   {
    "duration": 11,
    "start_time": "2022-08-05T12:16:03.130Z"
   },
   {
    "duration": 11,
    "start_time": "2022-08-05T12:16:03.143Z"
   },
   {
    "duration": 7,
    "start_time": "2022-08-05T12:16:03.156Z"
   },
   {
    "duration": 23,
    "start_time": "2022-08-05T12:16:03.164Z"
   },
   {
    "duration": 2,
    "start_time": "2022-08-05T12:16:03.189Z"
   },
   {
    "duration": 21,
    "start_time": "2022-08-05T12:16:03.193Z"
   },
   {
    "duration": 4,
    "start_time": "2022-08-05T12:16:03.215Z"
   },
   {
    "duration": 5,
    "start_time": "2022-08-05T12:16:03.222Z"
   },
   {
    "duration": 130,
    "start_time": "2022-08-05T12:16:03.228Z"
   },
   {
    "duration": 426,
    "start_time": "2022-08-05T12:16:03.359Z"
   },
   {
    "duration": 1034,
    "start_time": "2022-08-05T12:16:03.787Z"
   },
   {
    "duration": 936,
    "start_time": "2022-08-05T12:16:04.823Z"
   },
   {
    "duration": 39,
    "start_time": "2022-08-05T12:16:05.761Z"
   },
   {
    "duration": 6,
    "start_time": "2022-08-05T12:16:05.802Z"
   },
   {
    "duration": 17,
    "start_time": "2022-08-05T12:16:05.810Z"
   },
   {
    "duration": 114,
    "start_time": "2022-08-05T12:16:05.829Z"
   },
   {
    "duration": 3,
    "start_time": "2022-08-05T12:16:05.944Z"
   },
   {
    "duration": 6,
    "start_time": "2022-08-05T12:16:05.949Z"
   },
   {
    "duration": 6,
    "start_time": "2022-08-05T12:16:05.957Z"
   },
   {
    "duration": 16,
    "start_time": "2022-08-05T12:17:44.091Z"
   },
   {
    "duration": 10,
    "start_time": "2022-08-05T12:18:10.274Z"
   },
   {
    "duration": 96,
    "start_time": "2022-08-05T12:18:42.425Z"
   },
   {
    "duration": 943,
    "start_time": "2022-08-05T12:19:30.253Z"
   },
   {
    "duration": 828,
    "start_time": "2022-08-06T04:14:52.141Z"
   },
   {
    "duration": 215,
    "start_time": "2022-08-06T04:14:52.971Z"
   },
   {
    "duration": 66,
    "start_time": "2022-08-06T04:14:53.188Z"
   },
   {
    "duration": 26,
    "start_time": "2022-08-06T04:14:53.257Z"
   },
   {
    "duration": 5,
    "start_time": "2022-08-06T04:14:53.284Z"
   },
   {
    "duration": 6,
    "start_time": "2022-08-06T04:14:53.290Z"
   },
   {
    "duration": 8,
    "start_time": "2022-08-06T04:14:53.298Z"
   },
   {
    "duration": 6,
    "start_time": "2022-08-06T04:14:53.307Z"
   },
   {
    "duration": 13,
    "start_time": "2022-08-06T04:14:53.314Z"
   },
   {
    "duration": 6,
    "start_time": "2022-08-06T04:14:53.329Z"
   },
   {
    "duration": 31,
    "start_time": "2022-08-06T04:14:53.337Z"
   },
   {
    "duration": 4,
    "start_time": "2022-08-06T04:14:53.370Z"
   },
   {
    "duration": 13,
    "start_time": "2022-08-06T04:14:53.375Z"
   },
   {
    "duration": 5,
    "start_time": "2022-08-06T04:14:53.390Z"
   },
   {
    "duration": 10,
    "start_time": "2022-08-06T04:14:53.397Z"
   },
   {
    "duration": 6,
    "start_time": "2022-08-06T04:14:53.409Z"
   },
   {
    "duration": 13,
    "start_time": "2022-08-06T04:14:53.416Z"
   },
   {
    "duration": 8,
    "start_time": "2022-08-06T04:14:53.431Z"
   },
   {
    "duration": 5,
    "start_time": "2022-08-06T04:14:53.441Z"
   },
   {
    "duration": 21,
    "start_time": "2022-08-06T04:14:53.447Z"
   },
   {
    "duration": 18,
    "start_time": "2022-08-06T04:14:53.470Z"
   },
   {
    "duration": 5,
    "start_time": "2022-08-06T04:14:53.489Z"
   },
   {
    "duration": 10,
    "start_time": "2022-08-06T04:14:53.495Z"
   },
   {
    "duration": 137,
    "start_time": "2022-08-06T04:14:53.506Z"
   },
   {
    "duration": 425,
    "start_time": "2022-08-06T04:14:53.645Z"
   },
   {
    "duration": 984,
    "start_time": "2022-08-06T04:14:54.072Z"
   },
   {
    "duration": 934,
    "start_time": "2022-08-06T04:14:55.058Z"
   },
   {
    "duration": 27,
    "start_time": "2022-08-06T04:14:55.996Z"
   },
   {
    "duration": 8,
    "start_time": "2022-08-06T04:14:56.025Z"
   },
   {
    "duration": 33,
    "start_time": "2022-08-06T04:14:56.035Z"
   },
   {
    "duration": 111,
    "start_time": "2022-08-06T04:14:56.069Z"
   },
   {
    "duration": 3,
    "start_time": "2022-08-06T04:14:56.181Z"
   },
   {
    "duration": 6,
    "start_time": "2022-08-06T04:14:56.185Z"
   },
   {
    "duration": 8,
    "start_time": "2022-08-06T04:14:56.193Z"
   },
   {
    "duration": 10,
    "start_time": "2022-08-06T04:30:22.713Z"
   },
   {
    "duration": 11,
    "start_time": "2022-08-06T04:30:52.882Z"
   },
   {
    "duration": 3,
    "start_time": "2022-08-06T04:30:55.844Z"
   },
   {
    "duration": 6,
    "start_time": "2022-08-06T04:30:55.849Z"
   },
   {
    "duration": 31,
    "start_time": "2022-08-06T04:30:55.858Z"
   },
   {
    "duration": 21,
    "start_time": "2022-08-06T04:30:55.891Z"
   },
   {
    "duration": 26,
    "start_time": "2022-08-06T04:30:55.914Z"
   },
   {
    "duration": 44,
    "start_time": "2022-08-06T04:30:55.942Z"
   },
   {
    "duration": 53,
    "start_time": "2022-08-06T04:30:55.988Z"
   },
   {
    "duration": 23,
    "start_time": "2022-08-06T04:30:56.043Z"
   },
   {
    "duration": 33,
    "start_time": "2022-08-06T04:30:56.068Z"
   },
   {
    "duration": 13,
    "start_time": "2022-08-06T04:30:56.103Z"
   },
   {
    "duration": 12,
    "start_time": "2022-08-06T04:30:56.118Z"
   },
   {
    "duration": 23,
    "start_time": "2022-08-06T04:30:56.131Z"
   },
   {
    "duration": 45,
    "start_time": "2022-08-06T04:30:56.155Z"
   },
   {
    "duration": 28,
    "start_time": "2022-08-06T04:30:56.202Z"
   },
   {
    "duration": 31,
    "start_time": "2022-08-06T04:30:56.231Z"
   },
   {
    "duration": 34,
    "start_time": "2022-08-06T04:30:56.264Z"
   },
   {
    "duration": 36,
    "start_time": "2022-08-06T04:30:56.300Z"
   },
   {
    "duration": 28,
    "start_time": "2022-08-06T04:30:56.337Z"
   },
   {
    "duration": 22,
    "start_time": "2022-08-06T04:30:56.366Z"
   },
   {
    "duration": 25,
    "start_time": "2022-08-06T04:30:56.389Z"
   },
   {
    "duration": 18,
    "start_time": "2022-08-06T04:30:56.416Z"
   },
   {
    "duration": 5,
    "start_time": "2022-08-06T04:30:56.436Z"
   },
   {
    "duration": 6,
    "start_time": "2022-08-06T04:30:56.443Z"
   },
   {
    "duration": 196,
    "start_time": "2022-08-06T04:30:56.452Z"
   },
   {
    "duration": 457,
    "start_time": "2022-08-06T04:30:56.650Z"
   },
   {
    "duration": 1087,
    "start_time": "2022-08-06T04:30:57.109Z"
   },
   {
    "duration": 938,
    "start_time": "2022-08-06T04:30:58.198Z"
   },
   {
    "duration": 35,
    "start_time": "2022-08-06T04:30:59.138Z"
   },
   {
    "duration": 6,
    "start_time": "2022-08-06T04:30:59.174Z"
   },
   {
    "duration": 10,
    "start_time": "2022-08-06T04:30:59.182Z"
   },
   {
    "duration": 124,
    "start_time": "2022-08-06T04:30:59.193Z"
   },
   {
    "duration": 3,
    "start_time": "2022-08-06T04:30:59.318Z"
   },
   {
    "duration": 5,
    "start_time": "2022-08-06T04:30:59.323Z"
   },
   {
    "duration": 5,
    "start_time": "2022-08-06T04:30:59.329Z"
   },
   {
    "duration": 3,
    "start_time": "2022-08-06T04:31:33.642Z"
   },
   {
    "duration": 7,
    "start_time": "2022-08-06T04:31:33.647Z"
   },
   {
    "duration": 30,
    "start_time": "2022-08-06T04:31:33.657Z"
   },
   {
    "duration": 31,
    "start_time": "2022-08-06T04:31:33.690Z"
   },
   {
    "duration": 6,
    "start_time": "2022-08-06T04:31:33.722Z"
   },
   {
    "duration": 7,
    "start_time": "2022-08-06T04:31:33.730Z"
   },
   {
    "duration": 30,
    "start_time": "2022-08-06T04:31:33.740Z"
   },
   {
    "duration": 6,
    "start_time": "2022-08-06T04:31:33.772Z"
   },
   {
    "duration": 17,
    "start_time": "2022-08-06T04:31:33.782Z"
   },
   {
    "duration": 11,
    "start_time": "2022-08-06T04:31:33.801Z"
   },
   {
    "duration": 11,
    "start_time": "2022-08-06T04:31:33.814Z"
   },
   {
    "duration": 8,
    "start_time": "2022-08-06T04:31:33.827Z"
   },
   {
    "duration": 36,
    "start_time": "2022-08-06T04:31:33.837Z"
   },
   {
    "duration": 17,
    "start_time": "2022-08-06T04:31:33.875Z"
   },
   {
    "duration": 6,
    "start_time": "2022-08-06T04:31:33.894Z"
   },
   {
    "duration": 6,
    "start_time": "2022-08-06T04:31:33.901Z"
   },
   {
    "duration": 13,
    "start_time": "2022-08-06T04:31:33.908Z"
   },
   {
    "duration": 7,
    "start_time": "2022-08-06T04:31:33.923Z"
   },
   {
    "duration": 6,
    "start_time": "2022-08-06T04:31:33.932Z"
   },
   {
    "duration": 18,
    "start_time": "2022-08-06T04:31:33.967Z"
   },
   {
    "duration": 17,
    "start_time": "2022-08-06T04:31:33.987Z"
   },
   {
    "duration": 5,
    "start_time": "2022-08-06T04:31:34.005Z"
   },
   {
    "duration": 7,
    "start_time": "2022-08-06T04:31:34.011Z"
   },
   {
    "duration": 147,
    "start_time": "2022-08-06T04:31:34.020Z"
   },
   {
    "duration": 460,
    "start_time": "2022-08-06T04:31:34.169Z"
   },
   {
    "duration": 1226,
    "start_time": "2022-08-06T04:31:34.631Z"
   },
   {
    "duration": 1074,
    "start_time": "2022-08-06T04:31:35.859Z"
   },
   {
    "duration": 34,
    "start_time": "2022-08-06T04:31:36.935Z"
   },
   {
    "duration": 7,
    "start_time": "2022-08-06T04:31:36.971Z"
   },
   {
    "duration": 12,
    "start_time": "2022-08-06T04:31:36.979Z"
   },
   {
    "duration": 129,
    "start_time": "2022-08-06T04:31:36.993Z"
   },
   {
    "duration": 3,
    "start_time": "2022-08-06T04:31:37.123Z"
   },
   {
    "duration": 5,
    "start_time": "2022-08-06T04:31:37.128Z"
   },
   {
    "duration": 8,
    "start_time": "2022-08-06T04:31:37.135Z"
   },
   {
    "duration": 437,
    "start_time": "2022-08-06T04:40:42.673Z"
   },
   {
    "duration": 3,
    "start_time": "2022-08-06T04:40:49.165Z"
   },
   {
    "duration": 15,
    "start_time": "2022-08-06T04:40:49.170Z"
   },
   {
    "duration": 38,
    "start_time": "2022-08-06T04:40:49.187Z"
   },
   {
    "duration": 23,
    "start_time": "2022-08-06T04:40:49.226Z"
   },
   {
    "duration": 5,
    "start_time": "2022-08-06T04:40:49.251Z"
   },
   {
    "duration": 7,
    "start_time": "2022-08-06T04:40:49.257Z"
   },
   {
    "duration": 28,
    "start_time": "2022-08-06T04:40:49.266Z"
   },
   {
    "duration": 6,
    "start_time": "2022-08-06T04:40:49.296Z"
   },
   {
    "duration": 20,
    "start_time": "2022-08-06T04:40:49.304Z"
   },
   {
    "duration": 7,
    "start_time": "2022-08-06T04:40:49.326Z"
   },
   {
    "duration": 6,
    "start_time": "2022-08-06T04:40:49.335Z"
   },
   {
    "duration": 5,
    "start_time": "2022-08-06T04:40:49.343Z"
   },
   {
    "duration": 12,
    "start_time": "2022-08-06T04:40:49.349Z"
   },
   {
    "duration": 6,
    "start_time": "2022-08-06T04:40:49.369Z"
   },
   {
    "duration": 6,
    "start_time": "2022-08-06T04:40:49.377Z"
   },
   {
    "duration": 5,
    "start_time": "2022-08-06T04:40:49.384Z"
   },
   {
    "duration": 12,
    "start_time": "2022-08-06T04:40:49.390Z"
   },
   {
    "duration": 5,
    "start_time": "2022-08-06T04:40:49.404Z"
   },
   {
    "duration": 8,
    "start_time": "2022-08-06T04:40:49.411Z"
   },
   {
    "duration": 9,
    "start_time": "2022-08-06T04:40:49.421Z"
   },
   {
    "duration": 61,
    "start_time": "2022-08-06T04:40:49.432Z"
   },
   {
    "duration": 7,
    "start_time": "2022-08-06T04:40:49.496Z"
   },
   {
    "duration": 9,
    "start_time": "2022-08-06T04:40:49.505Z"
   },
   {
    "duration": 222,
    "start_time": "2022-08-06T04:40:49.517Z"
   },
   {
    "duration": 472,
    "start_time": "2022-08-06T04:40:49.741Z"
   },
   {
    "duration": 1146,
    "start_time": "2022-08-06T04:40:50.215Z"
   },
   {
    "duration": 1012,
    "start_time": "2022-08-06T04:40:51.367Z"
   },
   {
    "duration": 27,
    "start_time": "2022-08-06T04:40:52.381Z"
   },
   {
    "duration": 7,
    "start_time": "2022-08-06T04:40:52.410Z"
   },
   {
    "duration": 20,
    "start_time": "2022-08-06T04:40:52.418Z"
   },
   {
    "duration": 144,
    "start_time": "2022-08-06T04:40:52.441Z"
   },
   {
    "duration": 3,
    "start_time": "2022-08-06T04:40:52.587Z"
   },
   {
    "duration": 4,
    "start_time": "2022-08-06T04:40:52.593Z"
   },
   {
    "duration": 5,
    "start_time": "2022-08-06T04:40:52.599Z"
   },
   {
    "duration": 4,
    "start_time": "2022-08-06T04:43:30.841Z"
   },
   {
    "duration": 20,
    "start_time": "2022-08-06T04:43:30.847Z"
   },
   {
    "duration": 40,
    "start_time": "2022-08-06T04:43:30.870Z"
   },
   {
    "duration": 27,
    "start_time": "2022-08-06T04:43:30.912Z"
   },
   {
    "duration": 9,
    "start_time": "2022-08-06T04:43:30.942Z"
   },
   {
    "duration": 15,
    "start_time": "2022-08-06T04:43:30.956Z"
   },
   {
    "duration": 18,
    "start_time": "2022-08-06T04:43:30.973Z"
   },
   {
    "duration": 11,
    "start_time": "2022-08-06T04:43:30.994Z"
   },
   {
    "duration": 23,
    "start_time": "2022-08-06T04:43:31.007Z"
   },
   {
    "duration": 24,
    "start_time": "2022-08-06T04:43:31.033Z"
   },
   {
    "duration": 14,
    "start_time": "2022-08-06T04:43:31.059Z"
   },
   {
    "duration": 5,
    "start_time": "2022-08-06T04:43:31.075Z"
   },
   {
    "duration": 33,
    "start_time": "2022-08-06T04:43:31.083Z"
   },
   {
    "duration": 20,
    "start_time": "2022-08-06T04:43:31.122Z"
   },
   {
    "duration": 19,
    "start_time": "2022-08-06T04:43:31.145Z"
   },
   {
    "duration": 21,
    "start_time": "2022-08-06T04:43:31.166Z"
   },
   {
    "duration": 24,
    "start_time": "2022-08-06T04:43:31.189Z"
   },
   {
    "duration": 12,
    "start_time": "2022-08-06T04:43:31.215Z"
   },
   {
    "duration": 10,
    "start_time": "2022-08-06T04:43:31.229Z"
   },
   {
    "duration": 5,
    "start_time": "2022-08-06T04:43:31.241Z"
   },
   {
    "duration": 25,
    "start_time": "2022-08-06T04:43:31.248Z"
   },
   {
    "duration": 5,
    "start_time": "2022-08-06T04:43:31.274Z"
   },
   {
    "duration": 10,
    "start_time": "2022-08-06T04:43:31.282Z"
   },
   {
    "duration": 209,
    "start_time": "2022-08-06T04:43:31.295Z"
   },
   {
    "duration": 559,
    "start_time": "2022-08-06T04:43:31.510Z"
   },
   {
    "duration": 1215,
    "start_time": "2022-08-06T04:43:32.072Z"
   },
   {
    "duration": 988,
    "start_time": "2022-08-06T04:43:33.289Z"
   },
   {
    "duration": 29,
    "start_time": "2022-08-06T04:43:34.279Z"
   },
   {
    "duration": 7,
    "start_time": "2022-08-06T04:43:34.309Z"
   },
   {
    "duration": 11,
    "start_time": "2022-08-06T04:43:34.317Z"
   },
   {
    "duration": 143,
    "start_time": "2022-08-06T04:43:34.330Z"
   },
   {
    "duration": 4,
    "start_time": "2022-08-06T04:43:34.475Z"
   },
   {
    "duration": 4,
    "start_time": "2022-08-06T04:43:34.480Z"
   },
   {
    "duration": 5,
    "start_time": "2022-08-06T04:43:34.486Z"
   },
   {
    "duration": 4,
    "start_time": "2022-08-06T04:45:03.377Z"
   },
   {
    "duration": 8,
    "start_time": "2022-08-06T04:45:03.384Z"
   },
   {
    "duration": 30,
    "start_time": "2022-08-06T04:45:03.394Z"
   },
   {
    "duration": 22,
    "start_time": "2022-08-06T04:45:03.426Z"
   },
   {
    "duration": 22,
    "start_time": "2022-08-06T04:45:03.449Z"
   },
   {
    "duration": 8,
    "start_time": "2022-08-06T04:45:03.472Z"
   },
   {
    "duration": 7,
    "start_time": "2022-08-06T04:45:03.482Z"
   },
   {
    "duration": 12,
    "start_time": "2022-08-06T04:45:03.491Z"
   },
   {
    "duration": 19,
    "start_time": "2022-08-06T04:45:03.505Z"
   },
   {
    "duration": 6,
    "start_time": "2022-08-06T04:45:03.527Z"
   },
   {
    "duration": 37,
    "start_time": "2022-08-06T04:45:03.535Z"
   },
   {
    "duration": 5,
    "start_time": "2022-08-06T04:45:03.574Z"
   },
   {
    "duration": 13,
    "start_time": "2022-08-06T04:45:03.581Z"
   },
   {
    "duration": 6,
    "start_time": "2022-08-06T04:45:03.596Z"
   },
   {
    "duration": 6,
    "start_time": "2022-08-06T04:45:03.604Z"
   },
   {
    "duration": 6,
    "start_time": "2022-08-06T04:45:03.612Z"
   },
   {
    "duration": 58,
    "start_time": "2022-08-06T04:45:03.620Z"
   },
   {
    "duration": 12,
    "start_time": "2022-08-06T04:45:03.681Z"
   },
   {
    "duration": 8,
    "start_time": "2022-08-06T04:45:03.695Z"
   },
   {
    "duration": 5,
    "start_time": "2022-08-06T04:45:03.705Z"
   },
   {
    "duration": 20,
    "start_time": "2022-08-06T04:45:03.712Z"
   },
   {
    "duration": 7,
    "start_time": "2022-08-06T04:45:03.734Z"
   },
   {
    "duration": 6,
    "start_time": "2022-08-06T04:45:03.768Z"
   },
   {
    "duration": 146,
    "start_time": "2022-08-06T04:45:03.775Z"
   },
   {
    "duration": 441,
    "start_time": "2022-08-06T04:45:03.923Z"
   },
   {
    "duration": 1169,
    "start_time": "2022-08-06T04:45:04.366Z"
   },
   {
    "duration": 1096,
    "start_time": "2022-08-06T04:45:05.537Z"
   },
   {
    "duration": 46,
    "start_time": "2022-08-06T04:45:06.638Z"
   },
   {
    "duration": 10,
    "start_time": "2022-08-06T04:45:06.686Z"
   },
   {
    "duration": 29,
    "start_time": "2022-08-06T04:45:06.698Z"
   },
   {
    "duration": 128,
    "start_time": "2022-08-06T04:45:06.729Z"
   },
   {
    "duration": 8,
    "start_time": "2022-08-06T04:45:06.860Z"
   },
   {
    "duration": 9,
    "start_time": "2022-08-06T04:45:06.870Z"
   },
   {
    "duration": 5,
    "start_time": "2022-08-06T04:45:06.882Z"
   },
   {
    "duration": 1081,
    "start_time": "2022-08-06T04:45:31.534Z"
   },
   {
    "duration": 3,
    "start_time": "2022-08-06T04:45:56.411Z"
   },
   {
    "duration": 5,
    "start_time": "2022-08-06T04:45:56.417Z"
   },
   {
    "duration": 30,
    "start_time": "2022-08-06T04:45:56.424Z"
   },
   {
    "duration": 28,
    "start_time": "2022-08-06T04:45:56.456Z"
   },
   {
    "duration": 6,
    "start_time": "2022-08-06T04:45:56.486Z"
   },
   {
    "duration": 25,
    "start_time": "2022-08-06T04:45:56.495Z"
   },
   {
    "duration": 13,
    "start_time": "2022-08-06T04:45:56.522Z"
   },
   {
    "duration": 13,
    "start_time": "2022-08-06T04:45:56.537Z"
   },
   {
    "duration": 28,
    "start_time": "2022-08-06T04:45:56.554Z"
   },
   {
    "duration": 24,
    "start_time": "2022-08-06T04:45:56.585Z"
   },
   {
    "duration": 22,
    "start_time": "2022-08-06T04:45:56.612Z"
   },
   {
    "duration": 27,
    "start_time": "2022-08-06T04:45:56.636Z"
   },
   {
    "duration": 24,
    "start_time": "2022-08-06T04:45:56.665Z"
   },
   {
    "duration": 24,
    "start_time": "2022-08-06T04:45:56.693Z"
   },
   {
    "duration": 23,
    "start_time": "2022-08-06T04:45:56.719Z"
   },
   {
    "duration": 23,
    "start_time": "2022-08-06T04:45:56.744Z"
   },
   {
    "duration": 20,
    "start_time": "2022-08-06T04:45:56.770Z"
   },
   {
    "duration": 11,
    "start_time": "2022-08-06T04:45:56.792Z"
   },
   {
    "duration": 8,
    "start_time": "2022-08-06T04:45:56.806Z"
   },
   {
    "duration": 5,
    "start_time": "2022-08-06T04:45:56.816Z"
   },
   {
    "duration": 21,
    "start_time": "2022-08-06T04:45:56.823Z"
   },
   {
    "duration": 7,
    "start_time": "2022-08-06T04:45:56.869Z"
   },
   {
    "duration": 8,
    "start_time": "2022-08-06T04:45:56.878Z"
   },
   {
    "duration": 169,
    "start_time": "2022-08-06T04:45:56.891Z"
   },
   {
    "duration": 461,
    "start_time": "2022-08-06T04:45:57.062Z"
   },
   {
    "duration": 1069,
    "start_time": "2022-08-06T04:45:57.525Z"
   },
   {
    "duration": 949,
    "start_time": "2022-08-06T04:45:58.596Z"
   },
   {
    "duration": 39,
    "start_time": "2022-08-06T04:45:59.546Z"
   },
   {
    "duration": 7,
    "start_time": "2022-08-06T04:45:59.586Z"
   },
   {
    "duration": 11,
    "start_time": "2022-08-06T04:45:59.594Z"
   },
   {
    "duration": 140,
    "start_time": "2022-08-06T04:45:59.607Z"
   },
   {
    "duration": 3,
    "start_time": "2022-08-06T04:45:59.749Z"
   },
   {
    "duration": 14,
    "start_time": "2022-08-06T04:45:59.753Z"
   },
   {
    "duration": 7,
    "start_time": "2022-08-06T04:45:59.770Z"
   },
   {
    "duration": 1007,
    "start_time": "2022-08-06T04:46:25.245Z"
   },
   {
    "duration": 980,
    "start_time": "2022-08-06T04:46:55.957Z"
   },
   {
    "duration": 102,
    "start_time": "2022-08-06T04:47:52.658Z"
   },
   {
    "duration": 2,
    "start_time": "2022-08-06T04:47:55.932Z"
   },
   {
    "duration": 5,
    "start_time": "2022-08-06T04:47:55.937Z"
   },
   {
    "duration": 30,
    "start_time": "2022-08-06T04:47:55.944Z"
   },
   {
    "duration": 31,
    "start_time": "2022-08-06T04:47:55.976Z"
   },
   {
    "duration": 7,
    "start_time": "2022-08-06T04:47:56.011Z"
   },
   {
    "duration": 9,
    "start_time": "2022-08-06T04:47:56.023Z"
   },
   {
    "duration": 12,
    "start_time": "2022-08-06T04:47:56.034Z"
   },
   {
    "duration": 23,
    "start_time": "2022-08-06T04:47:56.047Z"
   },
   {
    "duration": 14,
    "start_time": "2022-08-06T04:47:56.072Z"
   },
   {
    "duration": 10,
    "start_time": "2022-08-06T04:47:56.088Z"
   },
   {
    "duration": 11,
    "start_time": "2022-08-06T04:47:56.099Z"
   },
   {
    "duration": 6,
    "start_time": "2022-08-06T04:47:56.111Z"
   },
   {
    "duration": 51,
    "start_time": "2022-08-06T04:47:56.120Z"
   },
   {
    "duration": 8,
    "start_time": "2022-08-06T04:47:56.174Z"
   },
   {
    "duration": 9,
    "start_time": "2022-08-06T04:47:56.184Z"
   },
   {
    "duration": 15,
    "start_time": "2022-08-06T04:47:56.195Z"
   },
   {
    "duration": 12,
    "start_time": "2022-08-06T04:47:56.212Z"
   },
   {
    "duration": 13,
    "start_time": "2022-08-06T04:47:56.225Z"
   },
   {
    "duration": 31,
    "start_time": "2022-08-06T04:47:56.239Z"
   },
   {
    "duration": 11,
    "start_time": "2022-08-06T04:47:56.271Z"
   },
   {
    "duration": 17,
    "start_time": "2022-08-06T04:47:56.284Z"
   },
   {
    "duration": 7,
    "start_time": "2022-08-06T04:47:56.304Z"
   },
   {
    "duration": 8,
    "start_time": "2022-08-06T04:47:56.313Z"
   },
   {
    "duration": 169,
    "start_time": "2022-08-06T04:47:56.323Z"
   },
   {
    "duration": 470,
    "start_time": "2022-08-06T04:47:56.497Z"
   },
   {
    "duration": 1023,
    "start_time": "2022-08-06T04:47:56.969Z"
   },
   {
    "duration": 966,
    "start_time": "2022-08-06T04:47:57.994Z"
   },
   {
    "duration": 28,
    "start_time": "2022-08-06T04:47:58.967Z"
   },
   {
    "duration": 6,
    "start_time": "2022-08-06T04:47:58.997Z"
   },
   {
    "duration": 13,
    "start_time": "2022-08-06T04:47:59.005Z"
   },
   {
    "duration": 141,
    "start_time": "2022-08-06T04:47:59.020Z"
   },
   {
    "duration": 4,
    "start_time": "2022-08-06T04:47:59.163Z"
   },
   {
    "duration": 5,
    "start_time": "2022-08-06T04:47:59.169Z"
   },
   {
    "duration": 8,
    "start_time": "2022-08-06T04:47:59.175Z"
   },
   {
    "duration": 34,
    "start_time": "2022-08-06T05:03:02.698Z"
   },
   {
    "duration": 47,
    "start_time": "2022-08-06T05:03:50.722Z"
   },
   {
    "duration": 35,
    "start_time": "2022-08-06T05:05:16.494Z"
   },
   {
    "duration": 653,
    "start_time": "2022-08-06T05:17:16.348Z"
   },
   {
    "duration": 242,
    "start_time": "2022-08-06T05:18:15.971Z"
   },
   {
    "duration": 203,
    "start_time": "2022-08-06T05:18:52.027Z"
   },
   {
    "duration": 198,
    "start_time": "2022-08-06T05:19:20.895Z"
   },
   {
    "duration": 47,
    "start_time": "2022-08-06T05:20:14.282Z"
   },
   {
    "duration": 3,
    "start_time": "2022-08-06T05:20:17.547Z"
   },
   {
    "duration": 8,
    "start_time": "2022-08-06T05:20:17.553Z"
   },
   {
    "duration": 44,
    "start_time": "2022-08-06T05:20:17.563Z"
   },
   {
    "duration": 20,
    "start_time": "2022-08-06T05:20:17.610Z"
   },
   {
    "duration": 6,
    "start_time": "2022-08-06T05:20:17.632Z"
   },
   {
    "duration": 8,
    "start_time": "2022-08-06T05:20:17.640Z"
   },
   {
    "duration": 9,
    "start_time": "2022-08-06T05:20:17.650Z"
   },
   {
    "duration": 20,
    "start_time": "2022-08-06T05:20:17.660Z"
   },
   {
    "duration": 21,
    "start_time": "2022-08-06T05:20:17.682Z"
   },
   {
    "duration": 10,
    "start_time": "2022-08-06T05:20:17.705Z"
   },
   {
    "duration": 8,
    "start_time": "2022-08-06T05:20:17.717Z"
   },
   {
    "duration": 6,
    "start_time": "2022-08-06T05:20:17.728Z"
   },
   {
    "duration": 13,
    "start_time": "2022-08-06T05:20:17.736Z"
   },
   {
    "duration": 24,
    "start_time": "2022-08-06T05:20:17.751Z"
   },
   {
    "duration": 15,
    "start_time": "2022-08-06T05:20:17.776Z"
   },
   {
    "duration": 5,
    "start_time": "2022-08-06T05:20:17.793Z"
   },
   {
    "duration": 12,
    "start_time": "2022-08-06T05:20:17.800Z"
   },
   {
    "duration": 8,
    "start_time": "2022-08-06T05:20:17.814Z"
   },
   {
    "duration": 13,
    "start_time": "2022-08-06T05:20:17.823Z"
   },
   {
    "duration": 13,
    "start_time": "2022-08-06T05:20:17.838Z"
   },
   {
    "duration": 31,
    "start_time": "2022-08-06T05:20:17.853Z"
   },
   {
    "duration": 13,
    "start_time": "2022-08-06T05:20:17.886Z"
   },
   {
    "duration": 7,
    "start_time": "2022-08-06T05:20:17.901Z"
   },
   {
    "duration": 165,
    "start_time": "2022-08-06T05:20:17.915Z"
   },
   {
    "duration": 469,
    "start_time": "2022-08-06T05:20:18.086Z"
   },
   {
    "duration": 1197,
    "start_time": "2022-08-06T05:20:18.557Z"
   },
   {
    "duration": 1181,
    "start_time": "2022-08-06T05:20:19.757Z"
   },
   {
    "duration": 48,
    "start_time": "2022-08-06T05:20:20.941Z"
   },
   {
    "duration": 255,
    "start_time": "2022-08-06T05:20:20.992Z"
   },
   {
    "duration": 24,
    "start_time": "2022-08-06T05:20:21.250Z"
   },
   {
    "duration": 17,
    "start_time": "2022-08-06T05:20:21.278Z"
   },
   {
    "duration": 154,
    "start_time": "2022-08-06T05:20:21.298Z"
   },
   {
    "duration": 121,
    "start_time": "2022-08-06T05:20:21.454Z"
   },
   {
    "duration": 0,
    "start_time": "2022-08-06T05:20:21.577Z"
   },
   {
    "duration": 0,
    "start_time": "2022-08-06T05:20:21.579Z"
   },
   {
    "duration": 0,
    "start_time": "2022-08-06T05:20:21.580Z"
   },
   {
    "duration": 28,
    "start_time": "2022-08-06T05:20:44.134Z"
   },
   {
    "duration": 31,
    "start_time": "2022-08-06T05:20:58.916Z"
   },
   {
    "duration": 139,
    "start_time": "2022-08-06T05:42:18.492Z"
   },
   {
    "duration": 8,
    "start_time": "2022-08-06T05:42:40.941Z"
   },
   {
    "duration": 15,
    "start_time": "2022-08-06T05:44:04.710Z"
   },
   {
    "duration": 30,
    "start_time": "2022-08-06T05:45:26.782Z"
   },
   {
    "duration": 16,
    "start_time": "2022-08-06T05:45:58.317Z"
   },
   {
    "duration": 19,
    "start_time": "2022-08-06T05:46:12.628Z"
   },
   {
    "duration": 31,
    "start_time": "2022-08-06T05:46:29.823Z"
   },
   {
    "duration": 7,
    "start_time": "2022-08-06T05:46:39.306Z"
   },
   {
    "duration": 3,
    "start_time": "2022-08-06T05:46:46.110Z"
   },
   {
    "duration": 6,
    "start_time": "2022-08-06T05:46:46.115Z"
   },
   {
    "duration": 29,
    "start_time": "2022-08-06T05:46:46.123Z"
   },
   {
    "duration": 33,
    "start_time": "2022-08-06T05:46:46.154Z"
   },
   {
    "duration": 25,
    "start_time": "2022-08-06T05:46:46.194Z"
   },
   {
    "duration": 9,
    "start_time": "2022-08-06T05:46:46.221Z"
   },
   {
    "duration": 4,
    "start_time": "2022-08-06T05:46:46.232Z"
   },
   {
    "duration": 5,
    "start_time": "2022-08-06T05:46:46.238Z"
   },
   {
    "duration": 12,
    "start_time": "2022-08-06T05:46:46.245Z"
   },
   {
    "duration": 17,
    "start_time": "2022-08-06T05:46:46.258Z"
   },
   {
    "duration": 10,
    "start_time": "2022-08-06T05:46:46.277Z"
   },
   {
    "duration": 5,
    "start_time": "2022-08-06T05:46:46.289Z"
   },
   {
    "duration": 13,
    "start_time": "2022-08-06T05:46:46.296Z"
   },
   {
    "duration": 6,
    "start_time": "2022-08-06T05:46:46.312Z"
   },
   {
    "duration": 7,
    "start_time": "2022-08-06T05:46:46.321Z"
   },
   {
    "duration": 7,
    "start_time": "2022-08-06T05:46:46.329Z"
   },
   {
    "duration": 59,
    "start_time": "2022-08-06T05:46:46.338Z"
   },
   {
    "duration": 7,
    "start_time": "2022-08-06T05:46:46.399Z"
   },
   {
    "duration": 6,
    "start_time": "2022-08-06T05:46:46.408Z"
   },
   {
    "duration": 7,
    "start_time": "2022-08-06T05:46:46.416Z"
   },
   {
    "duration": 24,
    "start_time": "2022-08-06T05:46:46.425Z"
   },
   {
    "duration": 7,
    "start_time": "2022-08-06T05:46:46.452Z"
   },
   {
    "duration": 29,
    "start_time": "2022-08-06T05:46:46.461Z"
   },
   {
    "duration": 205,
    "start_time": "2022-08-06T05:46:46.496Z"
   },
   {
    "duration": 565,
    "start_time": "2022-08-06T05:46:46.704Z"
   },
   {
    "duration": 1328,
    "start_time": "2022-08-06T05:46:47.272Z"
   },
   {
    "duration": 997,
    "start_time": "2022-08-06T05:46:48.602Z"
   },
   {
    "duration": 30,
    "start_time": "2022-08-06T05:46:49.601Z"
   },
   {
    "duration": 227,
    "start_time": "2022-08-06T05:46:49.635Z"
   },
   {
    "duration": 8,
    "start_time": "2022-08-06T05:46:49.867Z"
   },
   {
    "duration": 24,
    "start_time": "2022-08-06T05:46:49.877Z"
   },
   {
    "duration": 123,
    "start_time": "2022-08-06T05:46:49.903Z"
   },
   {
    "duration": 100,
    "start_time": "2022-08-06T05:46:50.028Z"
   },
   {
    "duration": 0,
    "start_time": "2022-08-06T05:46:50.130Z"
   },
   {
    "duration": 0,
    "start_time": "2022-08-06T05:46:50.131Z"
   },
   {
    "duration": 0,
    "start_time": "2022-08-06T05:46:50.132Z"
   },
   {
    "duration": 29,
    "start_time": "2022-08-06T05:51:43.292Z"
   },
   {
    "duration": 29,
    "start_time": "2022-08-06T05:54:03.979Z"
   },
   {
    "duration": 160,
    "start_time": "2022-08-06T05:54:08.622Z"
   },
   {
    "duration": 4,
    "start_time": "2022-08-06T05:54:11.133Z"
   },
   {
    "duration": 8,
    "start_time": "2022-08-06T05:54:11.140Z"
   },
   {
    "duration": 38,
    "start_time": "2022-08-06T05:54:11.149Z"
   },
   {
    "duration": 31,
    "start_time": "2022-08-06T05:54:11.189Z"
   },
   {
    "duration": 8,
    "start_time": "2022-08-06T05:54:11.223Z"
   },
   {
    "duration": 15,
    "start_time": "2022-08-06T05:54:11.233Z"
   },
   {
    "duration": 25,
    "start_time": "2022-08-06T05:54:11.251Z"
   },
   {
    "duration": 27,
    "start_time": "2022-08-06T05:54:11.278Z"
   },
   {
    "duration": 12,
    "start_time": "2022-08-06T05:54:11.308Z"
   },
   {
    "duration": 9,
    "start_time": "2022-08-06T05:54:11.322Z"
   },
   {
    "duration": 9,
    "start_time": "2022-08-06T05:54:11.334Z"
   },
   {
    "duration": 35,
    "start_time": "2022-08-06T05:54:11.345Z"
   },
   {
    "duration": 21,
    "start_time": "2022-08-06T05:54:11.386Z"
   },
   {
    "duration": 10,
    "start_time": "2022-08-06T05:54:11.411Z"
   },
   {
    "duration": 11,
    "start_time": "2022-08-06T05:54:11.424Z"
   },
   {
    "duration": 11,
    "start_time": "2022-08-06T05:54:11.437Z"
   },
   {
    "duration": 32,
    "start_time": "2022-08-06T05:54:11.450Z"
   },
   {
    "duration": 29,
    "start_time": "2022-08-06T05:54:11.484Z"
   },
   {
    "duration": 11,
    "start_time": "2022-08-06T05:54:11.515Z"
   },
   {
    "duration": 11,
    "start_time": "2022-08-06T05:54:11.528Z"
   },
   {
    "duration": 32,
    "start_time": "2022-08-06T05:54:11.541Z"
   },
   {
    "duration": 8,
    "start_time": "2022-08-06T05:54:11.578Z"
   },
   {
    "duration": 29,
    "start_time": "2022-08-06T05:54:11.590Z"
   },
   {
    "duration": 203,
    "start_time": "2022-08-06T05:54:11.622Z"
   },
   {
    "duration": 503,
    "start_time": "2022-08-06T05:54:11.827Z"
   },
   {
    "duration": 1147,
    "start_time": "2022-08-06T05:54:12.332Z"
   },
   {
    "duration": 1026,
    "start_time": "2022-08-06T05:54:13.489Z"
   },
   {
    "duration": 28,
    "start_time": "2022-08-06T05:54:14.517Z"
   },
   {
    "duration": 269,
    "start_time": "2022-08-06T05:54:14.547Z"
   },
   {
    "duration": 18,
    "start_time": "2022-08-06T05:54:14.818Z"
   },
   {
    "duration": 136,
    "start_time": "2022-08-06T05:54:14.839Z"
   },
   {
    "duration": 28,
    "start_time": "2022-08-06T05:54:14.985Z"
   },
   {
    "duration": 3,
    "start_time": "2022-08-06T05:54:15.015Z"
   },
   {
    "duration": 19,
    "start_time": "2022-08-06T05:54:15.020Z"
   },
   {
    "duration": 7,
    "start_time": "2022-08-06T05:54:15.041Z"
   },
   {
    "duration": 571,
    "start_time": "2022-08-06T05:58:50.323Z"
   },
   {
    "duration": 4,
    "start_time": "2022-08-06T05:59:08.393Z"
   },
   {
    "duration": 9,
    "start_time": "2022-08-06T05:59:08.400Z"
   },
   {
    "duration": 31,
    "start_time": "2022-08-06T05:59:08.412Z"
   },
   {
    "duration": 24,
    "start_time": "2022-08-06T05:59:08.445Z"
   },
   {
    "duration": 127,
    "start_time": "2022-08-06T05:59:08.474Z"
   },
   {
    "duration": 10,
    "start_time": "2022-08-06T05:59:08.604Z"
   },
   {
    "duration": 11,
    "start_time": "2022-08-06T05:59:08.617Z"
   },
   {
    "duration": 16,
    "start_time": "2022-08-06T05:59:08.630Z"
   },
   {
    "duration": 34,
    "start_time": "2022-08-06T05:59:08.648Z"
   },
   {
    "duration": 30,
    "start_time": "2022-08-06T05:59:08.684Z"
   },
   {
    "duration": 14,
    "start_time": "2022-08-06T05:59:08.716Z"
   },
   {
    "duration": 10,
    "start_time": "2022-08-06T05:59:08.733Z"
   },
   {
    "duration": 20,
    "start_time": "2022-08-06T05:59:08.746Z"
   },
   {
    "duration": 37,
    "start_time": "2022-08-06T05:59:08.773Z"
   },
   {
    "duration": 14,
    "start_time": "2022-08-06T05:59:08.812Z"
   },
   {
    "duration": 9,
    "start_time": "2022-08-06T05:59:08.828Z"
   },
   {
    "duration": 21,
    "start_time": "2022-08-06T05:59:08.840Z"
   },
   {
    "duration": 28,
    "start_time": "2022-08-06T05:59:08.864Z"
   },
   {
    "duration": 8,
    "start_time": "2022-08-06T05:59:08.894Z"
   },
   {
    "duration": 4,
    "start_time": "2022-08-06T05:59:08.905Z"
   },
   {
    "duration": 18,
    "start_time": "2022-08-06T05:59:08.911Z"
   },
   {
    "duration": 5,
    "start_time": "2022-08-06T05:59:08.931Z"
   },
   {
    "duration": 10,
    "start_time": "2022-08-06T05:59:08.938Z"
   },
   {
    "duration": 157,
    "start_time": "2022-08-06T05:59:08.951Z"
   },
   {
    "duration": 508,
    "start_time": "2022-08-06T05:59:09.110Z"
   },
   {
    "duration": 1208,
    "start_time": "2022-08-06T05:59:09.619Z"
   },
   {
    "duration": 1150,
    "start_time": "2022-08-06T05:59:10.830Z"
   },
   {
    "duration": 48,
    "start_time": "2022-08-06T05:59:11.985Z"
   },
   {
    "duration": 262,
    "start_time": "2022-08-06T05:59:12.036Z"
   },
   {
    "duration": 15,
    "start_time": "2022-08-06T05:59:12.301Z"
   },
   {
    "duration": 129,
    "start_time": "2022-08-06T05:59:12.318Z"
   },
   {
    "duration": 52,
    "start_time": "2022-08-06T05:59:12.449Z"
   },
   {
    "duration": 231,
    "start_time": "2022-08-06T05:59:12.503Z"
   },
   {
    "duration": 3,
    "start_time": "2022-08-06T05:59:12.736Z"
   },
   {
    "duration": 12,
    "start_time": "2022-08-06T05:59:12.741Z"
   },
   {
    "duration": 34,
    "start_time": "2022-08-06T05:59:12.755Z"
   },
   {
    "duration": 4,
    "start_time": "2022-08-06T05:59:44.040Z"
   },
   {
    "duration": 9,
    "start_time": "2022-08-06T05:59:44.046Z"
   },
   {
    "duration": 54,
    "start_time": "2022-08-06T05:59:44.057Z"
   },
   {
    "duration": 23,
    "start_time": "2022-08-06T05:59:44.113Z"
   },
   {
    "duration": 6,
    "start_time": "2022-08-06T05:59:44.138Z"
   },
   {
    "duration": 8,
    "start_time": "2022-08-06T05:59:44.146Z"
   },
   {
    "duration": 8,
    "start_time": "2022-08-06T05:59:44.157Z"
   },
   {
    "duration": 39,
    "start_time": "2022-08-06T05:59:44.168Z"
   },
   {
    "duration": 20,
    "start_time": "2022-08-06T05:59:44.210Z"
   },
   {
    "duration": 7,
    "start_time": "2022-08-06T05:59:44.232Z"
   },
   {
    "duration": 9,
    "start_time": "2022-08-06T05:59:44.240Z"
   },
   {
    "duration": 7,
    "start_time": "2022-08-06T05:59:44.251Z"
   },
   {
    "duration": 17,
    "start_time": "2022-08-06T05:59:44.260Z"
   },
   {
    "duration": 36,
    "start_time": "2022-08-06T05:59:44.281Z"
   },
   {
    "duration": 8,
    "start_time": "2022-08-06T05:59:44.319Z"
   },
   {
    "duration": 6,
    "start_time": "2022-08-06T05:59:44.329Z"
   },
   {
    "duration": 20,
    "start_time": "2022-08-06T05:59:44.338Z"
   },
   {
    "duration": 19,
    "start_time": "2022-08-06T05:59:44.360Z"
   },
   {
    "duration": 29,
    "start_time": "2022-08-06T05:59:44.381Z"
   },
   {
    "duration": 8,
    "start_time": "2022-08-06T05:59:44.411Z"
   },
   {
    "duration": 21,
    "start_time": "2022-08-06T05:59:44.421Z"
   },
   {
    "duration": 6,
    "start_time": "2022-08-06T05:59:44.444Z"
   },
   {
    "duration": 7,
    "start_time": "2022-08-06T05:59:44.452Z"
   },
   {
    "duration": 183,
    "start_time": "2022-08-06T05:59:44.462Z"
   },
   {
    "duration": 509,
    "start_time": "2022-08-06T05:59:44.647Z"
   },
   {
    "duration": 1179,
    "start_time": "2022-08-06T05:59:45.158Z"
   },
   {
    "duration": 1221,
    "start_time": "2022-08-06T05:59:46.339Z"
   },
   {
    "duration": 43,
    "start_time": "2022-08-06T05:59:47.569Z"
   },
   {
    "duration": 240,
    "start_time": "2022-08-06T05:59:47.614Z"
   },
   {
    "duration": 26,
    "start_time": "2022-08-06T05:59:47.856Z"
   },
   {
    "duration": 145,
    "start_time": "2022-08-06T05:59:47.885Z"
   },
   {
    "duration": 58,
    "start_time": "2022-08-06T05:59:48.032Z"
   },
   {
    "duration": 185,
    "start_time": "2022-08-06T05:59:48.094Z"
   },
   {
    "duration": 4,
    "start_time": "2022-08-06T05:59:48.281Z"
   },
   {
    "duration": 25,
    "start_time": "2022-08-06T05:59:48.287Z"
   },
   {
    "duration": 8,
    "start_time": "2022-08-06T05:59:48.314Z"
   },
   {
    "duration": 4,
    "start_time": "2022-08-06T06:01:39.932Z"
   },
   {
    "duration": 4,
    "start_time": "2022-08-06T06:01:42.714Z"
   },
   {
    "duration": 5,
    "start_time": "2022-08-06T06:01:42.722Z"
   },
   {
    "duration": 35,
    "start_time": "2022-08-06T06:01:42.729Z"
   },
   {
    "duration": 36,
    "start_time": "2022-08-06T06:01:42.768Z"
   },
   {
    "duration": 26,
    "start_time": "2022-08-06T06:01:42.807Z"
   },
   {
    "duration": 13,
    "start_time": "2022-08-06T06:01:42.835Z"
   },
   {
    "duration": 26,
    "start_time": "2022-08-06T06:01:42.850Z"
   },
   {
    "duration": 37,
    "start_time": "2022-08-06T06:01:42.878Z"
   },
   {
    "duration": 15,
    "start_time": "2022-08-06T06:01:42.919Z"
   },
   {
    "duration": 11,
    "start_time": "2022-08-06T06:01:42.936Z"
   },
   {
    "duration": 11,
    "start_time": "2022-08-06T06:01:42.950Z"
   },
   {
    "duration": 13,
    "start_time": "2022-08-06T06:01:42.963Z"
   },
   {
    "duration": 58,
    "start_time": "2022-08-06T06:01:42.981Z"
   },
   {
    "duration": 14,
    "start_time": "2022-08-06T06:01:43.041Z"
   },
   {
    "duration": 9,
    "start_time": "2022-08-06T06:01:43.058Z"
   },
   {
    "duration": 45,
    "start_time": "2022-08-06T06:01:43.074Z"
   },
   {
    "duration": 15,
    "start_time": "2022-08-06T06:01:43.121Z"
   },
   {
    "duration": 9,
    "start_time": "2022-08-06T06:01:43.139Z"
   },
   {
    "duration": 8,
    "start_time": "2022-08-06T06:01:43.150Z"
   },
   {
    "duration": 5,
    "start_time": "2022-08-06T06:01:43.160Z"
   },
   {
    "duration": 72,
    "start_time": "2022-08-06T06:01:43.168Z"
   },
   {
    "duration": 9,
    "start_time": "2022-08-06T06:01:43.242Z"
   },
   {
    "duration": 15,
    "start_time": "2022-08-06T06:01:43.253Z"
   },
   {
    "duration": 218,
    "start_time": "2022-08-06T06:01:43.272Z"
   },
   {
    "duration": 517,
    "start_time": "2022-08-06T06:01:43.492Z"
   },
   {
    "duration": 1685,
    "start_time": "2022-08-06T06:01:44.013Z"
   },
   {
    "duration": 1338,
    "start_time": "2022-08-06T06:01:45.709Z"
   },
   {
    "duration": 54,
    "start_time": "2022-08-06T06:01:47.050Z"
   },
   {
    "duration": 368,
    "start_time": "2022-08-06T06:01:47.107Z"
   },
   {
    "duration": 13,
    "start_time": "2022-08-06T06:01:47.478Z"
   },
   {
    "duration": 164,
    "start_time": "2022-08-06T06:01:47.493Z"
   },
   {
    "duration": 41,
    "start_time": "2022-08-06T06:01:47.659Z"
   },
   {
    "duration": 58,
    "start_time": "2022-08-06T06:01:47.702Z"
   },
   {
    "duration": 296,
    "start_time": "2022-08-06T06:01:47.763Z"
   },
   {
    "duration": 19,
    "start_time": "2022-08-06T06:01:48.071Z"
   },
   {
    "duration": 35,
    "start_time": "2022-08-06T06:01:48.095Z"
   },
   {
    "duration": 5,
    "start_time": "2022-08-06T06:01:48.133Z"
   },
   {
    "duration": 4,
    "start_time": "2022-08-06T06:02:20.932Z"
   },
   {
    "duration": 3,
    "start_time": "2022-08-06T06:02:31.698Z"
   },
   {
    "duration": 228,
    "start_time": "2022-08-06T06:03:52.996Z"
   },
   {
    "duration": 179,
    "start_time": "2022-08-06T06:04:40.894Z"
   },
   {
    "duration": 206,
    "start_time": "2022-08-06T06:05:18.724Z"
   },
   {
    "duration": 409,
    "start_time": "2022-08-06T06:25:33.335Z"
   },
   {
    "duration": 297,
    "start_time": "2022-08-06T06:26:03.438Z"
   },
   {
    "duration": 3106,
    "start_time": "2022-08-06T06:26:55.698Z"
   },
   {
    "duration": 351,
    "start_time": "2022-08-06T06:27:08.436Z"
   },
   {
    "duration": 8,
    "start_time": "2022-08-06T06:36:01.718Z"
   },
   {
    "duration": 12,
    "start_time": "2022-08-06T06:36:06.770Z"
   },
   {
    "duration": 66,
    "start_time": "2022-08-06T06:36:06.784Z"
   },
   {
    "duration": 58,
    "start_time": "2022-08-06T06:36:06.853Z"
   },
   {
    "duration": 36,
    "start_time": "2022-08-06T06:36:06.914Z"
   },
   {
    "duration": 24,
    "start_time": "2022-08-06T06:36:06.953Z"
   },
   {
    "duration": 59,
    "start_time": "2022-08-06T06:36:06.981Z"
   },
   {
    "duration": 15,
    "start_time": "2022-08-06T06:36:07.044Z"
   },
   {
    "duration": 74,
    "start_time": "2022-08-06T06:36:07.062Z"
   },
   {
    "duration": 21,
    "start_time": "2022-08-06T06:36:07.138Z"
   },
   {
    "duration": 41,
    "start_time": "2022-08-06T06:36:07.161Z"
   },
   {
    "duration": 19,
    "start_time": "2022-08-06T06:36:07.207Z"
   },
   {
    "duration": 25,
    "start_time": "2022-08-06T06:36:07.228Z"
   },
   {
    "duration": 8,
    "start_time": "2022-08-06T06:36:07.254Z"
   },
   {
    "duration": 37,
    "start_time": "2022-08-06T06:36:07.266Z"
   },
   {
    "duration": 5,
    "start_time": "2022-08-06T06:36:07.307Z"
   },
   {
    "duration": 14,
    "start_time": "2022-08-06T06:36:07.314Z"
   },
   {
    "duration": 10,
    "start_time": "2022-08-06T06:36:07.329Z"
   },
   {
    "duration": 12,
    "start_time": "2022-08-06T06:36:07.342Z"
   },
   {
    "duration": 10,
    "start_time": "2022-08-06T06:36:07.356Z"
   },
   {
    "duration": 63,
    "start_time": "2022-08-06T06:36:07.371Z"
   },
   {
    "duration": 9,
    "start_time": "2022-08-06T06:36:07.437Z"
   },
   {
    "duration": 17,
    "start_time": "2022-08-06T06:36:07.448Z"
   },
   {
    "duration": 230,
    "start_time": "2022-08-06T06:36:07.475Z"
   },
   {
    "duration": 649,
    "start_time": "2022-08-06T06:36:07.707Z"
   },
   {
    "duration": 1440,
    "start_time": "2022-08-06T06:36:08.358Z"
   },
   {
    "duration": 1272,
    "start_time": "2022-08-06T06:36:09.805Z"
   },
   {
    "duration": 34,
    "start_time": "2022-08-06T06:36:11.080Z"
   },
   {
    "duration": 320,
    "start_time": "2022-08-06T06:36:11.116Z"
   },
   {
    "duration": 17,
    "start_time": "2022-08-06T06:36:11.438Z"
   },
   {
    "duration": 179,
    "start_time": "2022-08-06T06:36:11.473Z"
   },
   {
    "duration": 47,
    "start_time": "2022-08-06T06:36:11.654Z"
   },
   {
    "duration": 234,
    "start_time": "2022-08-06T06:36:11.703Z"
   },
   {
    "duration": 5,
    "start_time": "2022-08-06T06:36:11.939Z"
   },
   {
    "duration": 12,
    "start_time": "2022-08-06T06:36:11.946Z"
   },
   {
    "duration": 53,
    "start_time": "2022-08-06T06:36:11.967Z"
   },
   {
    "duration": 6,
    "start_time": "2022-08-06T06:38:39.635Z"
   },
   {
    "duration": 4,
    "start_time": "2022-08-06T06:38:42.699Z"
   },
   {
    "duration": 43,
    "start_time": "2022-08-06T06:38:42.706Z"
   },
   {
    "duration": 31,
    "start_time": "2022-08-06T06:38:42.752Z"
   },
   {
    "duration": 27,
    "start_time": "2022-08-06T06:38:42.788Z"
   },
   {
    "duration": 9,
    "start_time": "2022-08-06T06:38:42.817Z"
   },
   {
    "duration": 5,
    "start_time": "2022-08-06T06:38:42.828Z"
   },
   {
    "duration": 9,
    "start_time": "2022-08-06T06:38:42.835Z"
   },
   {
    "duration": 14,
    "start_time": "2022-08-06T06:38:42.846Z"
   },
   {
    "duration": 8,
    "start_time": "2022-08-06T06:38:42.869Z"
   },
   {
    "duration": 33,
    "start_time": "2022-08-06T06:38:42.880Z"
   },
   {
    "duration": 6,
    "start_time": "2022-08-06T06:38:42.916Z"
   },
   {
    "duration": 14,
    "start_time": "2022-08-06T06:38:42.924Z"
   },
   {
    "duration": 12,
    "start_time": "2022-08-06T06:38:42.940Z"
   },
   {
    "duration": 9,
    "start_time": "2022-08-06T06:38:42.954Z"
   },
   {
    "duration": 15,
    "start_time": "2022-08-06T06:38:42.965Z"
   },
   {
    "duration": 42,
    "start_time": "2022-08-06T06:38:42.982Z"
   },
   {
    "duration": 6,
    "start_time": "2022-08-06T06:38:43.026Z"
   },
   {
    "duration": 7,
    "start_time": "2022-08-06T06:38:43.033Z"
   },
   {
    "duration": 5,
    "start_time": "2022-08-06T06:38:43.042Z"
   },
   {
    "duration": 25,
    "start_time": "2022-08-06T06:38:43.049Z"
   },
   {
    "duration": 14,
    "start_time": "2022-08-06T06:38:43.093Z"
   },
   {
    "duration": 16,
    "start_time": "2022-08-06T06:38:43.109Z"
   },
   {
    "duration": 138,
    "start_time": "2022-08-06T06:38:43.129Z"
   },
   {
    "duration": 478,
    "start_time": "2022-08-06T06:38:43.275Z"
   },
   {
    "duration": 1126,
    "start_time": "2022-08-06T06:38:43.754Z"
   },
   {
    "duration": 1089,
    "start_time": "2022-08-06T06:38:44.886Z"
   },
   {
    "duration": 45,
    "start_time": "2022-08-06T06:38:45.980Z"
   },
   {
    "duration": 288,
    "start_time": "2022-08-06T06:38:46.027Z"
   },
   {
    "duration": 13,
    "start_time": "2022-08-06T06:38:46.319Z"
   },
   {
    "duration": 147,
    "start_time": "2022-08-06T06:38:46.334Z"
   },
   {
    "duration": 67,
    "start_time": "2022-08-06T06:38:46.487Z"
   },
   {
    "duration": 305,
    "start_time": "2022-08-06T06:38:46.557Z"
   },
   {
    "duration": 3,
    "start_time": "2022-08-06T06:38:46.867Z"
   },
   {
    "duration": 55,
    "start_time": "2022-08-06T06:38:46.876Z"
   },
   {
    "duration": 23,
    "start_time": "2022-08-06T06:38:46.933Z"
   },
   {
    "duration": 1449,
    "start_time": "2022-08-06T12:42:17.547Z"
   },
   {
    "duration": 122,
    "start_time": "2022-08-06T12:42:19.001Z"
   },
   {
    "duration": 25,
    "start_time": "2022-08-06T12:42:19.124Z"
   },
   {
    "duration": 5,
    "start_time": "2022-08-06T12:42:19.151Z"
   },
   {
    "duration": 12,
    "start_time": "2022-08-06T12:42:19.157Z"
   },
   {
    "duration": 4,
    "start_time": "2022-08-06T12:42:19.171Z"
   },
   {
    "duration": 6,
    "start_time": "2022-08-06T12:42:19.176Z"
   },
   {
    "duration": 23,
    "start_time": "2022-08-06T12:42:19.184Z"
   },
   {
    "duration": 7,
    "start_time": "2022-08-06T12:42:19.208Z"
   },
   {
    "duration": 5,
    "start_time": "2022-08-06T12:42:19.218Z"
   },
   {
    "duration": 4,
    "start_time": "2022-08-06T12:42:19.225Z"
   },
   {
    "duration": 13,
    "start_time": "2022-08-06T12:42:19.230Z"
   },
   {
    "duration": 9,
    "start_time": "2022-08-06T12:42:19.244Z"
   },
   {
    "duration": 7,
    "start_time": "2022-08-06T12:42:19.254Z"
   },
   {
    "duration": 7,
    "start_time": "2022-08-06T12:42:19.263Z"
   },
   {
    "duration": 14,
    "start_time": "2022-08-06T12:42:19.301Z"
   },
   {
    "duration": 13,
    "start_time": "2022-08-06T12:42:19.317Z"
   },
   {
    "duration": 17,
    "start_time": "2022-08-06T12:42:19.332Z"
   },
   {
    "duration": 23,
    "start_time": "2022-08-06T12:42:19.351Z"
   },
   {
    "duration": 29,
    "start_time": "2022-08-06T12:42:19.376Z"
   },
   {
    "duration": 8,
    "start_time": "2022-08-06T12:42:19.407Z"
   },
   {
    "duration": 16,
    "start_time": "2022-08-06T12:42:19.417Z"
   },
   {
    "duration": 131,
    "start_time": "2022-08-06T12:42:19.434Z"
   },
   {
    "duration": 405,
    "start_time": "2022-08-06T12:42:19.566Z"
   },
   {
    "duration": 934,
    "start_time": "2022-08-06T12:42:19.973Z"
   },
   {
    "duration": 852,
    "start_time": "2022-08-06T12:42:20.908Z"
   },
   {
    "duration": 25,
    "start_time": "2022-08-06T12:42:21.761Z"
   },
   {
    "duration": 193,
    "start_time": "2022-08-06T12:42:21.799Z"
   },
   {
    "duration": 13,
    "start_time": "2022-08-06T12:42:21.993Z"
   },
   {
    "duration": 111,
    "start_time": "2022-08-06T12:42:22.008Z"
   },
   {
    "duration": 22,
    "start_time": "2022-08-06T12:42:22.121Z"
   },
   {
    "duration": 167,
    "start_time": "2022-08-06T12:42:22.144Z"
   },
   {
    "duration": 3,
    "start_time": "2022-08-06T12:42:22.312Z"
   },
   {
    "duration": 16,
    "start_time": "2022-08-06T12:42:22.316Z"
   },
   {
    "duration": 18,
    "start_time": "2022-08-06T12:42:22.334Z"
   },
   {
    "duration": 108,
    "start_time": "2022-08-06T12:44:28.533Z"
   },
   {
    "duration": 15,
    "start_time": "2022-08-06T12:45:19.608Z"
   },
   {
    "duration": 17,
    "start_time": "2022-08-06T12:45:53.908Z"
   },
   {
    "duration": 13,
    "start_time": "2022-08-06T12:47:50.797Z"
   },
   {
    "duration": 14,
    "start_time": "2022-08-06T12:53:27.184Z"
   },
   {
    "duration": 10,
    "start_time": "2022-08-06T12:54:42.080Z"
   },
   {
    "duration": 9,
    "start_time": "2022-08-06T12:58:02.248Z"
   },
   {
    "duration": 3,
    "start_time": "2022-08-06T13:03:58.409Z"
   },
   {
    "duration": 34,
    "start_time": "2022-08-06T13:03:58.413Z"
   },
   {
    "duration": 16,
    "start_time": "2022-08-06T13:03:58.449Z"
   },
   {
    "duration": 4,
    "start_time": "2022-08-06T13:03:58.466Z"
   },
   {
    "duration": 16,
    "start_time": "2022-08-06T13:03:58.472Z"
   },
   {
    "duration": 12,
    "start_time": "2022-08-06T13:03:58.490Z"
   },
   {
    "duration": 18,
    "start_time": "2022-08-06T13:03:58.503Z"
   },
   {
    "duration": 25,
    "start_time": "2022-08-06T13:03:58.523Z"
   },
   {
    "duration": 23,
    "start_time": "2022-08-06T13:03:58.549Z"
   },
   {
    "duration": 27,
    "start_time": "2022-08-06T13:03:58.573Z"
   },
   {
    "duration": 8,
    "start_time": "2022-08-06T13:03:58.602Z"
   },
   {
    "duration": 29,
    "start_time": "2022-08-06T13:03:58.611Z"
   },
   {
    "duration": 24,
    "start_time": "2022-08-06T13:03:58.641Z"
   },
   {
    "duration": 17,
    "start_time": "2022-08-06T13:03:58.668Z"
   },
   {
    "duration": 39,
    "start_time": "2022-08-06T13:03:58.687Z"
   },
   {
    "duration": 17,
    "start_time": "2022-08-06T13:03:58.727Z"
   },
   {
    "duration": 19,
    "start_time": "2022-08-06T13:03:58.745Z"
   },
   {
    "duration": 9,
    "start_time": "2022-08-06T13:03:58.765Z"
   },
   {
    "duration": 14,
    "start_time": "2022-08-06T13:03:58.776Z"
   },
   {
    "duration": 35,
    "start_time": "2022-08-06T13:03:58.792Z"
   },
   {
    "duration": 7,
    "start_time": "2022-08-06T13:03:58.829Z"
   },
   {
    "duration": 15,
    "start_time": "2022-08-06T13:03:58.837Z"
   },
   {
    "duration": 171,
    "start_time": "2022-08-06T13:03:58.854Z"
   },
   {
    "duration": 381,
    "start_time": "2022-08-06T13:03:59.026Z"
   },
   {
    "duration": 900,
    "start_time": "2022-08-06T13:03:59.409Z"
   },
   {
    "duration": 825,
    "start_time": "2022-08-06T13:04:00.310Z"
   },
   {
    "duration": 23,
    "start_time": "2022-08-06T13:04:01.137Z"
   },
   {
    "duration": 223,
    "start_time": "2022-08-06T13:04:01.162Z"
   },
   {
    "duration": 20,
    "start_time": "2022-08-06T13:04:01.386Z"
   },
   {
    "duration": 137,
    "start_time": "2022-08-06T13:04:01.407Z"
   },
   {
    "duration": 32,
    "start_time": "2022-08-06T13:04:01.546Z"
   },
   {
    "duration": 154,
    "start_time": "2022-08-06T13:04:01.580Z"
   },
   {
    "duration": 2,
    "start_time": "2022-08-06T13:04:01.736Z"
   },
   {
    "duration": 37,
    "start_time": "2022-08-06T13:04:01.740Z"
   },
   {
    "duration": 0,
    "start_time": "2022-08-06T13:04:01.779Z"
   },
   {
    "duration": 0,
    "start_time": "2022-08-06T13:04:01.780Z"
   },
   {
    "duration": 8,
    "start_time": "2022-08-06T13:09:56.131Z"
   },
   {
    "duration": 4,
    "start_time": "2022-08-06T13:10:17.042Z"
   },
   {
    "duration": 34,
    "start_time": "2022-08-06T13:10:17.047Z"
   },
   {
    "duration": 17,
    "start_time": "2022-08-06T13:10:17.082Z"
   },
   {
    "duration": 4,
    "start_time": "2022-08-06T13:10:17.101Z"
   },
   {
    "duration": 24,
    "start_time": "2022-08-06T13:10:17.106Z"
   },
   {
    "duration": 7,
    "start_time": "2022-08-06T13:10:17.132Z"
   },
   {
    "duration": 5,
    "start_time": "2022-08-06T13:10:17.140Z"
   },
   {
    "duration": 11,
    "start_time": "2022-08-06T13:10:17.147Z"
   },
   {
    "duration": 6,
    "start_time": "2022-08-06T13:10:17.159Z"
   },
   {
    "duration": 16,
    "start_time": "2022-08-06T13:10:17.168Z"
   },
   {
    "duration": 8,
    "start_time": "2022-08-06T13:10:17.186Z"
   },
   {
    "duration": 14,
    "start_time": "2022-08-06T13:10:17.196Z"
   },
   {
    "duration": 9,
    "start_time": "2022-08-06T13:10:17.211Z"
   },
   {
    "duration": 7,
    "start_time": "2022-08-06T13:10:17.221Z"
   },
   {
    "duration": 7,
    "start_time": "2022-08-06T13:10:17.230Z"
   },
   {
    "duration": 18,
    "start_time": "2022-08-06T13:10:17.238Z"
   },
   {
    "duration": 5,
    "start_time": "2022-08-06T13:10:17.258Z"
   },
   {
    "duration": 6,
    "start_time": "2022-08-06T13:10:17.264Z"
   },
   {
    "duration": 5,
    "start_time": "2022-08-06T13:10:17.272Z"
   },
   {
    "duration": 15,
    "start_time": "2022-08-06T13:10:17.279Z"
   },
   {
    "duration": 4,
    "start_time": "2022-08-06T13:10:17.300Z"
   },
   {
    "duration": 6,
    "start_time": "2022-08-06T13:10:17.305Z"
   },
   {
    "duration": 126,
    "start_time": "2022-08-06T13:10:17.312Z"
   },
   {
    "duration": 361,
    "start_time": "2022-08-06T13:10:17.439Z"
   },
   {
    "duration": 869,
    "start_time": "2022-08-06T13:10:17.801Z"
   },
   {
    "duration": 765,
    "start_time": "2022-08-06T13:10:18.672Z"
   },
   {
    "duration": 23,
    "start_time": "2022-08-06T13:10:19.438Z"
   },
   {
    "duration": 192,
    "start_time": "2022-08-06T13:10:19.463Z"
   },
   {
    "duration": 9,
    "start_time": "2022-08-06T13:10:19.656Z"
   },
   {
    "duration": 98,
    "start_time": "2022-08-06T13:10:19.666Z"
   },
   {
    "duration": 20,
    "start_time": "2022-08-06T13:10:19.766Z"
   },
   {
    "duration": 152,
    "start_time": "2022-08-06T13:10:19.788Z"
   },
   {
    "duration": 3,
    "start_time": "2022-08-06T13:10:19.942Z"
   },
   {
    "duration": 13,
    "start_time": "2022-08-06T13:10:19.946Z"
   },
   {
    "duration": 0,
    "start_time": "2022-08-06T13:10:19.960Z"
   },
   {
    "duration": 0,
    "start_time": "2022-08-06T13:10:19.961Z"
   },
   {
    "duration": 6,
    "start_time": "2022-08-06T13:11:13.051Z"
   },
   {
    "duration": 6,
    "start_time": "2022-08-06T13:11:57.132Z"
   },
   {
    "duration": 5,
    "start_time": "2022-08-06T13:12:12.295Z"
   },
   {
    "duration": 5,
    "start_time": "2022-08-06T13:13:53.627Z"
   },
   {
    "duration": 3,
    "start_time": "2022-08-06T13:14:06.191Z"
   },
   {
    "duration": 41,
    "start_time": "2022-08-06T13:14:06.196Z"
   },
   {
    "duration": 18,
    "start_time": "2022-08-06T13:14:06.239Z"
   },
   {
    "duration": 4,
    "start_time": "2022-08-06T13:14:06.259Z"
   },
   {
    "duration": 6,
    "start_time": "2022-08-06T13:14:06.264Z"
   },
   {
    "duration": 8,
    "start_time": "2022-08-06T13:14:06.271Z"
   },
   {
    "duration": 15,
    "start_time": "2022-08-06T13:14:06.281Z"
   },
   {
    "duration": 12,
    "start_time": "2022-08-06T13:14:06.298Z"
   },
   {
    "duration": 8,
    "start_time": "2022-08-06T13:14:06.312Z"
   },
   {
    "duration": 14,
    "start_time": "2022-08-06T13:14:06.322Z"
   },
   {
    "duration": 7,
    "start_time": "2022-08-06T13:14:06.338Z"
   },
   {
    "duration": 20,
    "start_time": "2022-08-06T13:14:06.347Z"
   },
   {
    "duration": 6,
    "start_time": "2022-08-06T13:14:06.369Z"
   },
   {
    "duration": 6,
    "start_time": "2022-08-06T13:14:06.376Z"
   },
   {
    "duration": 6,
    "start_time": "2022-08-06T13:14:06.383Z"
   },
   {
    "duration": 11,
    "start_time": "2022-08-06T13:14:06.399Z"
   },
   {
    "duration": 13,
    "start_time": "2022-08-06T13:14:06.411Z"
   },
   {
    "duration": 13,
    "start_time": "2022-08-06T13:14:06.425Z"
   },
   {
    "duration": 7,
    "start_time": "2022-08-06T13:14:06.439Z"
   },
   {
    "duration": 15,
    "start_time": "2022-08-06T13:14:06.447Z"
   },
   {
    "duration": 5,
    "start_time": "2022-08-06T13:14:06.463Z"
   },
   {
    "duration": 12,
    "start_time": "2022-08-06T13:14:06.470Z"
   },
   {
    "duration": 127,
    "start_time": "2022-08-06T13:14:06.484Z"
   },
   {
    "duration": 360,
    "start_time": "2022-08-06T13:14:06.614Z"
   },
   {
    "duration": 838,
    "start_time": "2022-08-06T13:14:06.975Z"
   },
   {
    "duration": 747,
    "start_time": "2022-08-06T13:14:07.815Z"
   },
   {
    "duration": 22,
    "start_time": "2022-08-06T13:14:08.563Z"
   },
   {
    "duration": 176,
    "start_time": "2022-08-06T13:14:08.586Z"
   },
   {
    "duration": 8,
    "start_time": "2022-08-06T13:14:08.764Z"
   },
   {
    "duration": 96,
    "start_time": "2022-08-06T13:14:08.773Z"
   },
   {
    "duration": 19,
    "start_time": "2022-08-06T13:14:08.871Z"
   },
   {
    "duration": 137,
    "start_time": "2022-08-06T13:14:08.891Z"
   },
   {
    "duration": 2,
    "start_time": "2022-08-06T13:14:09.030Z"
   },
   {
    "duration": 7,
    "start_time": "2022-08-06T13:14:09.034Z"
   },
   {
    "duration": 5,
    "start_time": "2022-08-06T13:14:09.042Z"
   },
   {
    "duration": 7,
    "start_time": "2022-08-06T13:14:09.048Z"
   },
   {
    "duration": 6,
    "start_time": "2022-08-06T13:15:10.593Z"
   },
   {
    "duration": 5,
    "start_time": "2022-08-06T13:15:51.385Z"
   },
   {
    "duration": 5,
    "start_time": "2022-08-06T13:19:35.707Z"
   },
   {
    "duration": 9,
    "start_time": "2022-08-06T13:21:16.502Z"
   },
   {
    "duration": 4,
    "start_time": "2022-08-06T13:22:37.519Z"
   },
   {
    "duration": 6,
    "start_time": "2022-08-06T13:23:13.864Z"
   },
   {
    "duration": 9,
    "start_time": "2022-08-06T13:23:34.640Z"
   },
   {
    "duration": 6,
    "start_time": "2022-08-06T13:24:03.027Z"
   },
   {
    "duration": 6,
    "start_time": "2022-08-06T13:39:40.802Z"
   },
   {
    "duration": 5,
    "start_time": "2022-08-06T13:40:18.863Z"
   },
   {
    "duration": 5,
    "start_time": "2022-08-06T13:40:45.943Z"
   },
   {
    "duration": 3,
    "start_time": "2022-08-06T13:40:49.668Z"
   },
   {
    "duration": 34,
    "start_time": "2022-08-06T13:40:49.672Z"
   },
   {
    "duration": 16,
    "start_time": "2022-08-06T13:40:49.708Z"
   },
   {
    "duration": 4,
    "start_time": "2022-08-06T13:40:49.725Z"
   },
   {
    "duration": 9,
    "start_time": "2022-08-06T13:40:49.731Z"
   },
   {
    "duration": 6,
    "start_time": "2022-08-06T13:40:49.742Z"
   },
   {
    "duration": 8,
    "start_time": "2022-08-06T13:40:49.749Z"
   },
   {
    "duration": 14,
    "start_time": "2022-08-06T13:40:49.758Z"
   },
   {
    "duration": 6,
    "start_time": "2022-08-06T13:40:49.774Z"
   },
   {
    "duration": 21,
    "start_time": "2022-08-06T13:40:49.781Z"
   },
   {
    "duration": 9,
    "start_time": "2022-08-06T13:40:49.804Z"
   },
   {
    "duration": 88,
    "start_time": "2022-08-06T13:40:49.815Z"
   },
   {
    "duration": 11,
    "start_time": "2022-08-06T13:40:49.905Z"
   },
   {
    "duration": 7,
    "start_time": "2022-08-06T13:40:49.918Z"
   },
   {
    "duration": 12,
    "start_time": "2022-08-06T13:40:49.927Z"
   },
   {
    "duration": 15,
    "start_time": "2022-08-06T13:40:49.940Z"
   },
   {
    "duration": 7,
    "start_time": "2022-08-06T13:40:49.956Z"
   },
   {
    "duration": 10,
    "start_time": "2022-08-06T13:40:49.964Z"
   },
   {
    "duration": 12,
    "start_time": "2022-08-06T13:40:49.975Z"
   },
   {
    "duration": 19,
    "start_time": "2022-08-06T13:40:49.989Z"
   },
   {
    "duration": 5,
    "start_time": "2022-08-06T13:40:50.009Z"
   },
   {
    "duration": 18,
    "start_time": "2022-08-06T13:40:50.016Z"
   },
   {
    "duration": 119,
    "start_time": "2022-08-06T13:40:50.036Z"
   },
   {
    "duration": 354,
    "start_time": "2022-08-06T13:40:50.156Z"
   },
   {
    "duration": 819,
    "start_time": "2022-08-06T13:40:50.511Z"
   },
   {
    "duration": 816,
    "start_time": "2022-08-06T13:40:51.332Z"
   },
   {
    "duration": 23,
    "start_time": "2022-08-06T13:40:52.150Z"
   },
   {
    "duration": 191,
    "start_time": "2022-08-06T13:40:52.174Z"
   },
   {
    "duration": 8,
    "start_time": "2022-08-06T13:40:52.368Z"
   },
   {
    "duration": 97,
    "start_time": "2022-08-06T13:40:52.378Z"
   },
   {
    "duration": 29,
    "start_time": "2022-08-06T13:40:52.477Z"
   },
   {
    "duration": 141,
    "start_time": "2022-08-06T13:40:52.507Z"
   },
   {
    "duration": 2,
    "start_time": "2022-08-06T13:40:52.650Z"
   },
   {
    "duration": 7,
    "start_time": "2022-08-06T13:40:52.654Z"
   },
   {
    "duration": 6,
    "start_time": "2022-08-06T13:40:52.663Z"
   },
   {
    "duration": 11,
    "start_time": "2022-08-06T13:40:52.670Z"
   },
   {
    "duration": 18,
    "start_time": "2022-08-06T13:40:52.682Z"
   },
   {
    "duration": 4,
    "start_time": "2022-08-06T13:40:52.701Z"
   },
   {
    "duration": 8,
    "start_time": "2022-08-06T13:40:52.706Z"
   },
   {
    "duration": 3,
    "start_time": "2022-08-06T13:40:52.715Z"
   },
   {
    "duration": 6,
    "start_time": "2022-08-06T13:40:52.719Z"
   },
   {
    "duration": 5,
    "start_time": "2022-08-06T13:43:49.909Z"
   },
   {
    "duration": 5,
    "start_time": "2022-08-06T13:43:53.642Z"
   },
   {
    "duration": 5,
    "start_time": "2022-08-06T13:43:58.526Z"
   },
   {
    "duration": 4,
    "start_time": "2022-08-06T13:44:12.160Z"
   },
   {
    "duration": 37,
    "start_time": "2022-08-06T13:44:12.166Z"
   },
   {
    "duration": 19,
    "start_time": "2022-08-06T13:44:12.205Z"
   },
   {
    "duration": 5,
    "start_time": "2022-08-06T13:44:12.226Z"
   },
   {
    "duration": 6,
    "start_time": "2022-08-06T13:44:12.232Z"
   },
   {
    "duration": 6,
    "start_time": "2022-08-06T13:44:12.240Z"
   },
   {
    "duration": 6,
    "start_time": "2022-08-06T13:44:12.247Z"
   },
   {
    "duration": 12,
    "start_time": "2022-08-06T13:44:12.254Z"
   },
   {
    "duration": 34,
    "start_time": "2022-08-06T13:44:12.267Z"
   },
   {
    "duration": 8,
    "start_time": "2022-08-06T13:44:12.304Z"
   },
   {
    "duration": 6,
    "start_time": "2022-08-06T13:44:12.313Z"
   },
   {
    "duration": 13,
    "start_time": "2022-08-06T13:44:12.321Z"
   },
   {
    "duration": 8,
    "start_time": "2022-08-06T13:44:12.336Z"
   },
   {
    "duration": 14,
    "start_time": "2022-08-06T13:44:12.345Z"
   },
   {
    "duration": 7,
    "start_time": "2022-08-06T13:44:12.360Z"
   },
   {
    "duration": 11,
    "start_time": "2022-08-06T13:44:12.368Z"
   },
   {
    "duration": 20,
    "start_time": "2022-08-06T13:44:12.381Z"
   },
   {
    "duration": 10,
    "start_time": "2022-08-06T13:44:12.402Z"
   },
   {
    "duration": 7,
    "start_time": "2022-08-06T13:44:12.413Z"
   },
   {
    "duration": 21,
    "start_time": "2022-08-06T13:44:12.422Z"
   },
   {
    "duration": 4,
    "start_time": "2022-08-06T13:44:12.445Z"
   },
   {
    "duration": 8,
    "start_time": "2022-08-06T13:44:12.450Z"
   },
   {
    "duration": 110,
    "start_time": "2022-08-06T13:44:12.459Z"
   },
   {
    "duration": 356,
    "start_time": "2022-08-06T13:44:12.571Z"
   },
   {
    "duration": 849,
    "start_time": "2022-08-06T13:44:12.928Z"
   },
   {
    "duration": 780,
    "start_time": "2022-08-06T13:44:13.778Z"
   },
   {
    "duration": 25,
    "start_time": "2022-08-06T13:44:14.560Z"
   },
   {
    "duration": 172,
    "start_time": "2022-08-06T13:44:14.599Z"
   },
   {
    "duration": 8,
    "start_time": "2022-08-06T13:44:14.773Z"
   },
   {
    "duration": 94,
    "start_time": "2022-08-06T13:44:14.783Z"
   },
   {
    "duration": 27,
    "start_time": "2022-08-06T13:44:14.879Z"
   },
   {
    "duration": 145,
    "start_time": "2022-08-06T13:44:14.907Z"
   },
   {
    "duration": 2,
    "start_time": "2022-08-06T13:44:15.054Z"
   },
   {
    "duration": 7,
    "start_time": "2022-08-06T13:44:15.058Z"
   },
   {
    "duration": 5,
    "start_time": "2022-08-06T13:44:15.067Z"
   },
   {
    "duration": 7,
    "start_time": "2022-08-06T13:44:15.073Z"
   },
   {
    "duration": 19,
    "start_time": "2022-08-06T13:44:15.081Z"
   },
   {
    "duration": 5,
    "start_time": "2022-08-06T13:44:15.101Z"
   },
   {
    "duration": 13,
    "start_time": "2022-08-06T13:44:15.107Z"
   },
   {
    "duration": 7,
    "start_time": "2022-08-06T13:44:15.121Z"
   },
   {
    "duration": 6,
    "start_time": "2022-08-06T13:44:15.129Z"
   },
   {
    "duration": 4,
    "start_time": "2022-08-06T13:44:15.136Z"
   },
   {
    "duration": 6,
    "start_time": "2022-08-06T13:58:46.057Z"
   },
   {
    "duration": 5,
    "start_time": "2022-08-06T14:03:01.709Z"
   },
   {
    "duration": 5,
    "start_time": "2022-08-06T14:03:21.050Z"
   },
   {
    "duration": 6,
    "start_time": "2022-08-06T14:04:03.436Z"
   },
   {
    "duration": 5,
    "start_time": "2022-08-06T14:06:36.435Z"
   },
   {
    "duration": 5,
    "start_time": "2022-08-06T14:08:02.802Z"
   },
   {
    "duration": 4,
    "start_time": "2022-08-06T14:09:11.219Z"
   },
   {
    "duration": 34,
    "start_time": "2022-08-06T14:09:11.224Z"
   },
   {
    "duration": 19,
    "start_time": "2022-08-06T14:09:11.259Z"
   },
   {
    "duration": 5,
    "start_time": "2022-08-06T14:09:11.280Z"
   },
   {
    "duration": 5,
    "start_time": "2022-08-06T14:09:11.286Z"
   },
   {
    "duration": 5,
    "start_time": "2022-08-06T14:09:11.292Z"
   },
   {
    "duration": 7,
    "start_time": "2022-08-06T14:09:11.299Z"
   },
   {
    "duration": 13,
    "start_time": "2022-08-06T14:09:11.307Z"
   },
   {
    "duration": 11,
    "start_time": "2022-08-06T14:09:11.321Z"
   },
   {
    "duration": 5,
    "start_time": "2022-08-06T14:09:11.335Z"
   },
   {
    "duration": 8,
    "start_time": "2022-08-06T14:09:11.342Z"
   },
   {
    "duration": 16,
    "start_time": "2022-08-06T14:09:11.351Z"
   },
   {
    "duration": 13,
    "start_time": "2022-08-06T14:09:11.368Z"
   },
   {
    "duration": 8,
    "start_time": "2022-08-06T14:09:11.382Z"
   },
   {
    "duration": 5,
    "start_time": "2022-08-06T14:09:11.392Z"
   },
   {
    "duration": 13,
    "start_time": "2022-08-06T14:09:11.398Z"
   },
   {
    "duration": 10,
    "start_time": "2022-08-06T14:09:11.412Z"
   },
   {
    "duration": 9,
    "start_time": "2022-08-06T14:09:11.424Z"
   },
   {
    "duration": 9,
    "start_time": "2022-08-06T14:09:11.435Z"
   },
   {
    "duration": 23,
    "start_time": "2022-08-06T14:09:11.446Z"
   },
   {
    "duration": 5,
    "start_time": "2022-08-06T14:09:11.471Z"
   },
   {
    "duration": 16,
    "start_time": "2022-08-06T14:09:11.478Z"
   },
   {
    "duration": 134,
    "start_time": "2022-08-06T14:09:11.495Z"
   },
   {
    "duration": 361,
    "start_time": "2022-08-06T14:09:11.631Z"
   },
   {
    "duration": 823,
    "start_time": "2022-08-06T14:09:11.994Z"
   },
   {
    "duration": 753,
    "start_time": "2022-08-06T14:09:12.819Z"
   },
   {
    "duration": 27,
    "start_time": "2022-08-06T14:09:13.574Z"
   },
   {
    "duration": 197,
    "start_time": "2022-08-06T14:09:13.605Z"
   },
   {
    "duration": 9,
    "start_time": "2022-08-06T14:09:13.803Z"
   },
   {
    "duration": 106,
    "start_time": "2022-08-06T14:09:13.814Z"
   },
   {
    "duration": 23,
    "start_time": "2022-08-06T14:09:13.923Z"
   },
   {
    "duration": 141,
    "start_time": "2022-08-06T14:09:13.948Z"
   },
   {
    "duration": 10,
    "start_time": "2022-08-06T14:09:14.090Z"
   },
   {
    "duration": 16,
    "start_time": "2022-08-06T14:09:14.102Z"
   },
   {
    "duration": 7,
    "start_time": "2022-08-06T14:09:14.119Z"
   },
   {
    "duration": 10,
    "start_time": "2022-08-06T14:09:14.127Z"
   },
   {
    "duration": 5,
    "start_time": "2022-08-06T14:09:14.139Z"
   },
   {
    "duration": 11,
    "start_time": "2022-08-06T14:09:14.146Z"
   },
   {
    "duration": 14,
    "start_time": "2022-08-06T14:09:14.158Z"
   },
   {
    "duration": 7,
    "start_time": "2022-08-06T14:09:14.173Z"
   },
   {
    "duration": 7,
    "start_time": "2022-08-06T14:09:14.181Z"
   },
   {
    "duration": 14,
    "start_time": "2022-08-06T14:09:14.190Z"
   },
   {
    "duration": 6,
    "start_time": "2022-08-06T14:38:58.627Z"
   },
   {
    "duration": 3,
    "start_time": "2022-08-06T14:39:13.286Z"
   },
   {
    "duration": 33,
    "start_time": "2022-08-06T14:39:13.291Z"
   },
   {
    "duration": 16,
    "start_time": "2022-08-06T14:39:13.326Z"
   },
   {
    "duration": 4,
    "start_time": "2022-08-06T14:39:13.344Z"
   },
   {
    "duration": 6,
    "start_time": "2022-08-06T14:39:13.350Z"
   },
   {
    "duration": 4,
    "start_time": "2022-08-06T14:39:13.358Z"
   },
   {
    "duration": 4,
    "start_time": "2022-08-06T14:39:13.364Z"
   },
   {
    "duration": 11,
    "start_time": "2022-08-06T14:39:13.369Z"
   },
   {
    "duration": 4,
    "start_time": "2022-08-06T14:39:13.401Z"
   },
   {
    "duration": 8,
    "start_time": "2022-08-06T14:39:13.406Z"
   },
   {
    "duration": 8,
    "start_time": "2022-08-06T14:39:13.416Z"
   },
   {
    "duration": 14,
    "start_time": "2022-08-06T14:39:13.426Z"
   },
   {
    "duration": 11,
    "start_time": "2022-08-06T14:39:13.442Z"
   },
   {
    "duration": 7,
    "start_time": "2022-08-06T14:39:13.454Z"
   },
   {
    "duration": 8,
    "start_time": "2022-08-06T14:39:13.463Z"
   },
   {
    "duration": 12,
    "start_time": "2022-08-06T14:39:13.472Z"
   },
   {
    "duration": 17,
    "start_time": "2022-08-06T14:39:13.486Z"
   },
   {
    "duration": 25,
    "start_time": "2022-08-06T14:39:13.504Z"
   },
   {
    "duration": 10,
    "start_time": "2022-08-06T14:39:13.531Z"
   },
   {
    "duration": 17,
    "start_time": "2022-08-06T14:39:13.543Z"
   },
   {
    "duration": 5,
    "start_time": "2022-08-06T14:39:13.561Z"
   },
   {
    "duration": 14,
    "start_time": "2022-08-06T14:39:13.567Z"
   },
   {
    "duration": 123,
    "start_time": "2022-08-06T14:39:13.583Z"
   },
   {
    "duration": 378,
    "start_time": "2022-08-06T14:39:13.709Z"
   },
   {
    "duration": 833,
    "start_time": "2022-08-06T14:39:14.089Z"
   },
   {
    "duration": 766,
    "start_time": "2022-08-06T14:39:14.923Z"
   },
   {
    "duration": 29,
    "start_time": "2022-08-06T14:39:15.690Z"
   },
   {
    "duration": 186,
    "start_time": "2022-08-06T14:39:15.721Z"
   },
   {
    "duration": 9,
    "start_time": "2022-08-06T14:39:15.909Z"
   },
   {
    "duration": 95,
    "start_time": "2022-08-06T14:39:15.920Z"
   },
   {
    "duration": 21,
    "start_time": "2022-08-06T14:39:16.016Z"
   },
   {
    "duration": 138,
    "start_time": "2022-08-06T14:39:16.038Z"
   },
   {
    "duration": 2,
    "start_time": "2022-08-06T14:39:16.178Z"
   },
   {
    "duration": 37,
    "start_time": "2022-08-06T14:39:16.182Z"
   },
   {
    "duration": 19,
    "start_time": "2022-08-06T14:39:16.221Z"
   },
   {
    "duration": 27,
    "start_time": "2022-08-06T14:39:16.241Z"
   },
   {
    "duration": 14,
    "start_time": "2022-08-06T14:39:16.270Z"
   },
   {
    "duration": 19,
    "start_time": "2022-08-06T14:39:16.285Z"
   },
   {
    "duration": 13,
    "start_time": "2022-08-06T14:39:16.306Z"
   },
   {
    "duration": 24,
    "start_time": "2022-08-06T14:39:16.321Z"
   },
   {
    "duration": 39,
    "start_time": "2022-08-06T14:39:16.347Z"
   },
   {
    "duration": 14,
    "start_time": "2022-08-06T14:39:16.388Z"
   },
   {
    "duration": 1390,
    "start_time": "2022-08-07T03:56:20.228Z"
   },
   {
    "duration": 118,
    "start_time": "2022-08-07T03:56:21.620Z"
   },
   {
    "duration": 24,
    "start_time": "2022-08-07T03:56:21.740Z"
   },
   {
    "duration": 5,
    "start_time": "2022-08-07T03:56:21.765Z"
   },
   {
    "duration": 7,
    "start_time": "2022-08-07T03:56:21.772Z"
   },
   {
    "duration": 4,
    "start_time": "2022-08-07T03:56:21.780Z"
   },
   {
    "duration": 7,
    "start_time": "2022-08-07T03:56:21.785Z"
   },
   {
    "duration": 12,
    "start_time": "2022-08-07T03:56:21.793Z"
   },
   {
    "duration": 8,
    "start_time": "2022-08-07T03:56:21.806Z"
   },
   {
    "duration": 9,
    "start_time": "2022-08-07T03:56:21.816Z"
   },
   {
    "duration": 10,
    "start_time": "2022-08-07T03:56:21.826Z"
   },
   {
    "duration": 13,
    "start_time": "2022-08-07T03:56:21.838Z"
   },
   {
    "duration": 10,
    "start_time": "2022-08-07T03:56:21.852Z"
   },
   {
    "duration": 7,
    "start_time": "2022-08-07T03:56:21.864Z"
   },
   {
    "duration": 6,
    "start_time": "2022-08-07T03:56:21.872Z"
   },
   {
    "duration": 29,
    "start_time": "2022-08-07T03:56:21.880Z"
   },
   {
    "duration": 9,
    "start_time": "2022-08-07T03:56:21.911Z"
   },
   {
    "duration": 7,
    "start_time": "2022-08-07T03:56:21.922Z"
   },
   {
    "duration": 5,
    "start_time": "2022-08-07T03:56:21.931Z"
   },
   {
    "duration": 22,
    "start_time": "2022-08-07T03:56:21.938Z"
   },
   {
    "duration": 6,
    "start_time": "2022-08-07T03:56:21.962Z"
   },
   {
    "duration": 8,
    "start_time": "2022-08-07T03:56:21.970Z"
   },
   {
    "duration": 124,
    "start_time": "2022-08-07T03:56:22.000Z"
   },
   {
    "duration": 385,
    "start_time": "2022-08-07T03:56:22.125Z"
   },
   {
    "duration": 861,
    "start_time": "2022-08-07T03:56:22.511Z"
   },
   {
    "duration": 803,
    "start_time": "2022-08-07T03:56:23.373Z"
   },
   {
    "duration": 30,
    "start_time": "2022-08-07T03:56:24.177Z"
   },
   {
    "duration": 180,
    "start_time": "2022-08-07T03:56:24.209Z"
   },
   {
    "duration": 10,
    "start_time": "2022-08-07T03:56:24.399Z"
   },
   {
    "duration": 95,
    "start_time": "2022-08-07T03:56:24.410Z"
   },
   {
    "duration": 22,
    "start_time": "2022-08-07T03:56:24.507Z"
   },
   {
    "duration": 156,
    "start_time": "2022-08-07T03:56:24.531Z"
   },
   {
    "duration": 3,
    "start_time": "2022-08-07T03:56:24.689Z"
   },
   {
    "duration": 5,
    "start_time": "2022-08-07T03:56:24.699Z"
   },
   {
    "duration": 4,
    "start_time": "2022-08-07T03:56:24.705Z"
   },
   {
    "duration": 5,
    "start_time": "2022-08-07T03:56:24.710Z"
   },
   {
    "duration": 5,
    "start_time": "2022-08-07T03:56:24.717Z"
   },
   {
    "duration": 4,
    "start_time": "2022-08-07T03:56:24.724Z"
   },
   {
    "duration": 6,
    "start_time": "2022-08-07T03:56:24.730Z"
   },
   {
    "duration": 7,
    "start_time": "2022-08-07T03:56:24.737Z"
   },
   {
    "duration": 4,
    "start_time": "2022-08-07T03:56:24.747Z"
   },
   {
    "duration": 4,
    "start_time": "2022-08-07T03:56:24.752Z"
   },
   {
    "duration": 133,
    "start_time": "2022-08-07T03:57:26.197Z"
   },
   {
    "duration": 3,
    "start_time": "2022-08-07T04:25:40.070Z"
   },
   {
    "duration": 39,
    "start_time": "2022-08-07T04:25:40.075Z"
   },
   {
    "duration": 16,
    "start_time": "2022-08-07T04:25:40.116Z"
   },
   {
    "duration": 4,
    "start_time": "2022-08-07T04:25:40.134Z"
   },
   {
    "duration": 7,
    "start_time": "2022-08-07T04:25:40.139Z"
   },
   {
    "duration": 4,
    "start_time": "2022-08-07T04:25:40.147Z"
   },
   {
    "duration": 5,
    "start_time": "2022-08-07T04:25:40.152Z"
   },
   {
    "duration": 10,
    "start_time": "2022-08-07T04:25:40.159Z"
   },
   {
    "duration": 6,
    "start_time": "2022-08-07T04:25:40.170Z"
   },
   {
    "duration": 5,
    "start_time": "2022-08-07T04:25:40.200Z"
   },
   {
    "duration": 5,
    "start_time": "2022-08-07T04:25:40.207Z"
   },
   {
    "duration": 11,
    "start_time": "2022-08-07T04:25:40.214Z"
   },
   {
    "duration": 9,
    "start_time": "2022-08-07T04:25:40.226Z"
   },
   {
    "duration": 7,
    "start_time": "2022-08-07T04:25:40.236Z"
   },
   {
    "duration": 5,
    "start_time": "2022-08-07T04:25:40.245Z"
   },
   {
    "duration": 11,
    "start_time": "2022-08-07T04:25:40.252Z"
   },
   {
    "duration": 11,
    "start_time": "2022-08-07T04:25:40.264Z"
   },
   {
    "duration": 27,
    "start_time": "2022-08-07T04:25:40.276Z"
   },
   {
    "duration": 3,
    "start_time": "2022-08-07T04:25:40.304Z"
   },
   {
    "duration": 15,
    "start_time": "2022-08-07T04:25:40.308Z"
   },
   {
    "duration": 3,
    "start_time": "2022-08-07T04:25:40.325Z"
   },
   {
    "duration": 6,
    "start_time": "2022-08-07T04:25:40.329Z"
   },
   {
    "duration": 123,
    "start_time": "2022-08-07T04:25:40.337Z"
   },
   {
    "duration": 362,
    "start_time": "2022-08-07T04:25:40.462Z"
   },
   {
    "duration": 837,
    "start_time": "2022-08-07T04:25:40.825Z"
   },
   {
    "duration": 758,
    "start_time": "2022-08-07T04:25:41.663Z"
   },
   {
    "duration": 26,
    "start_time": "2022-08-07T04:25:42.423Z"
   },
   {
    "duration": 175,
    "start_time": "2022-08-07T04:25:42.453Z"
   },
   {
    "duration": 8,
    "start_time": "2022-08-07T04:25:42.630Z"
   },
   {
    "duration": 94,
    "start_time": "2022-08-07T04:25:42.640Z"
   },
   {
    "duration": 20,
    "start_time": "2022-08-07T04:25:42.736Z"
   },
   {
    "duration": 135,
    "start_time": "2022-08-07T04:25:42.757Z"
   },
   {
    "duration": 3,
    "start_time": "2022-08-07T04:25:42.893Z"
   },
   {
    "duration": 5,
    "start_time": "2022-08-07T04:25:42.900Z"
   },
   {
    "duration": 5,
    "start_time": "2022-08-07T04:25:42.906Z"
   },
   {
    "duration": 6,
    "start_time": "2022-08-07T04:25:42.913Z"
   },
   {
    "duration": 9,
    "start_time": "2022-08-07T04:25:42.920Z"
   },
   {
    "duration": 6,
    "start_time": "2022-08-07T04:25:42.931Z"
   },
   {
    "duration": 7,
    "start_time": "2022-08-07T04:25:42.938Z"
   },
   {
    "duration": 5,
    "start_time": "2022-08-07T04:25:42.946Z"
   },
   {
    "duration": 5,
    "start_time": "2022-08-07T04:25:42.952Z"
   },
   {
    "duration": 4,
    "start_time": "2022-08-07T04:25:42.958Z"
   },
   {
    "duration": 2,
    "start_time": "2022-08-07T04:32:28.234Z"
   },
   {
    "duration": 6,
    "start_time": "2022-08-07T04:34:40.269Z"
   },
   {
    "duration": 7,
    "start_time": "2022-08-07T04:35:23.218Z"
   },
   {
    "duration": 7,
    "start_time": "2022-08-07T04:35:57.130Z"
   },
   {
    "duration": 6,
    "start_time": "2022-08-07T04:36:46.744Z"
   },
   {
    "duration": 5,
    "start_time": "2022-08-07T04:38:05.036Z"
   },
   {
    "duration": 6,
    "start_time": "2022-08-07T04:38:40.753Z"
   },
   {
    "duration": 16,
    "start_time": "2022-08-07T04:39:12.397Z"
   },
   {
    "duration": 7,
    "start_time": "2022-08-07T04:39:53.145Z"
   },
   {
    "duration": 7,
    "start_time": "2022-08-07T04:40:27.865Z"
   },
   {
    "duration": 8,
    "start_time": "2022-08-07T04:40:47.243Z"
   },
   {
    "duration": 104,
    "start_time": "2022-08-07T04:48:33.934Z"
   },
   {
    "duration": 3,
    "start_time": "2022-08-07T04:48:48.178Z"
   },
   {
    "duration": 34,
    "start_time": "2022-08-07T04:48:48.184Z"
   },
   {
    "duration": 19,
    "start_time": "2022-08-07T04:48:48.219Z"
   },
   {
    "duration": 5,
    "start_time": "2022-08-07T04:48:48.240Z"
   },
   {
    "duration": 9,
    "start_time": "2022-08-07T04:48:48.247Z"
   },
   {
    "duration": 4,
    "start_time": "2022-08-07T04:48:48.258Z"
   },
   {
    "duration": 5,
    "start_time": "2022-08-07T04:48:48.264Z"
   },
   {
    "duration": 30,
    "start_time": "2022-08-07T04:48:48.270Z"
   },
   {
    "duration": 4,
    "start_time": "2022-08-07T04:48:48.302Z"
   },
   {
    "duration": 5,
    "start_time": "2022-08-07T04:48:48.309Z"
   },
   {
    "duration": 7,
    "start_time": "2022-08-07T04:48:48.315Z"
   },
   {
    "duration": 11,
    "start_time": "2022-08-07T04:48:48.324Z"
   },
   {
    "duration": 7,
    "start_time": "2022-08-07T04:48:48.336Z"
   },
   {
    "duration": 6,
    "start_time": "2022-08-07T04:48:48.344Z"
   },
   {
    "duration": 4,
    "start_time": "2022-08-07T04:48:48.351Z"
   },
   {
    "duration": 11,
    "start_time": "2022-08-07T04:48:48.357Z"
   },
   {
    "duration": 32,
    "start_time": "2022-08-07T04:48:48.369Z"
   },
   {
    "duration": 6,
    "start_time": "2022-08-07T04:48:48.402Z"
   },
   {
    "duration": 4,
    "start_time": "2022-08-07T04:48:48.410Z"
   },
   {
    "duration": 20,
    "start_time": "2022-08-07T04:48:48.415Z"
   },
   {
    "duration": 4,
    "start_time": "2022-08-07T04:48:48.437Z"
   },
   {
    "duration": 11,
    "start_time": "2022-08-07T04:48:48.442Z"
   },
   {
    "duration": 118,
    "start_time": "2022-08-07T04:48:48.454Z"
   },
   {
    "duration": 368,
    "start_time": "2022-08-07T04:48:48.574Z"
   },
   {
    "duration": 820,
    "start_time": "2022-08-07T04:48:48.944Z"
   },
   {
    "duration": 763,
    "start_time": "2022-08-07T04:48:49.765Z"
   },
   {
    "duration": 21,
    "start_time": "2022-08-07T04:48:50.530Z"
   },
   {
    "duration": 176,
    "start_time": "2022-08-07T04:48:50.553Z"
   },
   {
    "duration": 8,
    "start_time": "2022-08-07T04:48:50.731Z"
   },
   {
    "duration": 99,
    "start_time": "2022-08-07T04:48:50.741Z"
   },
   {
    "duration": 21,
    "start_time": "2022-08-07T04:48:50.842Z"
   },
   {
    "duration": 146,
    "start_time": "2022-08-07T04:48:50.864Z"
   },
   {
    "duration": 13,
    "start_time": "2022-08-07T04:48:51.012Z"
   },
   {
    "duration": 0,
    "start_time": "2022-08-07T04:48:51.026Z"
   },
   {
    "duration": 0,
    "start_time": "2022-08-07T04:48:51.028Z"
   },
   {
    "duration": 3,
    "start_time": "2022-08-07T04:49:04.719Z"
   },
   {
    "duration": 35,
    "start_time": "2022-08-07T04:49:04.724Z"
   },
   {
    "duration": 16,
    "start_time": "2022-08-07T04:49:04.761Z"
   },
   {
    "duration": 4,
    "start_time": "2022-08-07T04:49:04.779Z"
   },
   {
    "duration": 6,
    "start_time": "2022-08-07T04:49:04.784Z"
   },
   {
    "duration": 4,
    "start_time": "2022-08-07T04:49:04.791Z"
   },
   {
    "duration": 9,
    "start_time": "2022-08-07T04:49:04.796Z"
   },
   {
    "duration": 16,
    "start_time": "2022-08-07T04:49:04.806Z"
   },
   {
    "duration": 7,
    "start_time": "2022-08-07T04:49:04.823Z"
   },
   {
    "duration": 6,
    "start_time": "2022-08-07T04:49:04.831Z"
   },
   {
    "duration": 6,
    "start_time": "2022-08-07T04:49:04.838Z"
   },
   {
    "duration": 10,
    "start_time": "2022-08-07T04:49:04.845Z"
   },
   {
    "duration": 4,
    "start_time": "2022-08-07T04:49:04.942Z"
   },
   {
    "duration": 8,
    "start_time": "2022-08-07T04:49:04.948Z"
   },
   {
    "duration": 6,
    "start_time": "2022-08-07T04:49:04.957Z"
   },
   {
    "duration": 10,
    "start_time": "2022-08-07T04:49:04.965Z"
   },
   {
    "duration": 7,
    "start_time": "2022-08-07T04:49:04.976Z"
   },
   {
    "duration": 17,
    "start_time": "2022-08-07T04:49:04.984Z"
   },
   {
    "duration": 3,
    "start_time": "2022-08-07T04:49:05.002Z"
   },
   {
    "duration": 15,
    "start_time": "2022-08-07T04:49:05.006Z"
   },
   {
    "duration": 4,
    "start_time": "2022-08-07T04:49:05.022Z"
   },
   {
    "duration": 6,
    "start_time": "2022-08-07T04:49:05.028Z"
   },
   {
    "duration": 129,
    "start_time": "2022-08-07T04:49:05.036Z"
   },
   {
    "duration": 371,
    "start_time": "2022-08-07T04:49:05.166Z"
   },
   {
    "duration": 824,
    "start_time": "2022-08-07T04:49:05.538Z"
   },
   {
    "duration": 758,
    "start_time": "2022-08-07T04:49:06.364Z"
   },
   {
    "duration": 25,
    "start_time": "2022-08-07T04:49:07.123Z"
   },
   {
    "duration": 197,
    "start_time": "2022-08-07T04:49:07.149Z"
   },
   {
    "duration": 9,
    "start_time": "2022-08-07T04:49:07.348Z"
   },
   {
    "duration": 102,
    "start_time": "2022-08-07T04:49:07.358Z"
   },
   {
    "duration": 20,
    "start_time": "2022-08-07T04:49:07.461Z"
   },
   {
    "duration": 138,
    "start_time": "2022-08-07T04:49:07.483Z"
   },
   {
    "duration": 7,
    "start_time": "2022-08-07T04:49:07.623Z"
   },
   {
    "duration": 9,
    "start_time": "2022-08-07T04:49:07.631Z"
   },
   {
    "duration": 8,
    "start_time": "2022-08-07T04:49:07.641Z"
   },
   {
    "duration": 48,
    "start_time": "2022-08-07T04:59:15.299Z"
   },
   {
    "duration": 7,
    "start_time": "2022-08-07T05:01:16.935Z"
   },
   {
    "duration": 7,
    "start_time": "2022-08-07T05:01:41.229Z"
   },
   {
    "duration": 9,
    "start_time": "2022-08-07T05:02:21.273Z"
   },
   {
    "duration": 9,
    "start_time": "2022-08-07T05:06:04.834Z"
   },
   {
    "duration": 64,
    "start_time": "2022-08-07T05:08:13.895Z"
   },
   {
    "duration": 9,
    "start_time": "2022-08-07T05:08:49.022Z"
   },
   {
    "duration": 10,
    "start_time": "2022-08-07T05:11:00.191Z"
   },
   {
    "duration": 8,
    "start_time": "2022-08-07T05:11:24.672Z"
   },
   {
    "duration": 11,
    "start_time": "2022-08-07T05:12:29.259Z"
   },
   {
    "duration": 9,
    "start_time": "2022-08-07T05:12:45.212Z"
   },
   {
    "duration": 3,
    "start_time": "2022-08-07T05:12:53.368Z"
   },
   {
    "duration": 44,
    "start_time": "2022-08-07T05:12:53.373Z"
   },
   {
    "duration": 19,
    "start_time": "2022-08-07T05:12:53.419Z"
   },
   {
    "duration": 4,
    "start_time": "2022-08-07T05:12:53.440Z"
   },
   {
    "duration": 17,
    "start_time": "2022-08-07T05:12:53.446Z"
   },
   {
    "duration": 16,
    "start_time": "2022-08-07T05:12:53.465Z"
   },
   {
    "duration": 10,
    "start_time": "2022-08-07T05:12:53.484Z"
   },
   {
    "duration": 33,
    "start_time": "2022-08-07T05:12:53.496Z"
   },
   {
    "duration": 16,
    "start_time": "2022-08-07T05:12:53.531Z"
   },
   {
    "duration": 12,
    "start_time": "2022-08-07T05:12:53.549Z"
   },
   {
    "duration": 5,
    "start_time": "2022-08-07T05:12:53.563Z"
   },
   {
    "duration": 14,
    "start_time": "2022-08-07T05:12:53.569Z"
   },
   {
    "duration": 6,
    "start_time": "2022-08-07T05:12:53.585Z"
   },
   {
    "duration": 7,
    "start_time": "2022-08-07T05:12:53.592Z"
   },
   {
    "duration": 115,
    "start_time": "2022-08-07T05:12:53.601Z"
   },
   {
    "duration": 22,
    "start_time": "2022-08-07T05:12:53.718Z"
   },
   {
    "duration": 16,
    "start_time": "2022-08-07T05:12:53.742Z"
   },
   {
    "duration": 19,
    "start_time": "2022-08-07T05:12:53.760Z"
   },
   {
    "duration": 10,
    "start_time": "2022-08-07T05:12:53.780Z"
   },
   {
    "duration": 28,
    "start_time": "2022-08-07T05:12:53.791Z"
   },
   {
    "duration": 5,
    "start_time": "2022-08-07T05:12:53.821Z"
   },
   {
    "duration": 16,
    "start_time": "2022-08-07T05:12:53.828Z"
   },
   {
    "duration": 156,
    "start_time": "2022-08-07T05:12:53.847Z"
   },
   {
    "duration": 409,
    "start_time": "2022-08-07T05:12:54.005Z"
   },
   {
    "duration": 887,
    "start_time": "2022-08-07T05:12:54.416Z"
   },
   {
    "duration": 850,
    "start_time": "2022-08-07T05:12:55.305Z"
   },
   {
    "duration": 25,
    "start_time": "2022-08-07T05:12:56.157Z"
   },
   {
    "duration": 188,
    "start_time": "2022-08-07T05:12:56.183Z"
   },
   {
    "duration": 9,
    "start_time": "2022-08-07T05:12:56.372Z"
   },
   {
    "duration": 88,
    "start_time": "2022-08-07T05:12:56.399Z"
   },
   {
    "duration": 23,
    "start_time": "2022-08-07T05:12:56.499Z"
   },
   {
    "duration": 144,
    "start_time": "2022-08-07T05:12:56.523Z"
   },
   {
    "duration": 8,
    "start_time": "2022-08-07T05:12:56.669Z"
   },
   {
    "duration": 22,
    "start_time": "2022-08-07T05:12:56.678Z"
   },
   {
    "duration": 10,
    "start_time": "2022-08-07T05:12:56.701Z"
   },
   {
    "duration": 7,
    "start_time": "2022-08-07T05:50:16.294Z"
   },
   {
    "duration": 54,
    "start_time": "2022-08-07T05:50:46.562Z"
   },
   {
    "duration": 6,
    "start_time": "2022-08-07T05:50:53.274Z"
   },
   {
    "duration": 4,
    "start_time": "2022-08-07T05:50:56.570Z"
   },
   {
    "duration": 3,
    "start_time": "2022-08-07T05:51:02.779Z"
   },
   {
    "duration": 30,
    "start_time": "2022-08-07T05:51:02.786Z"
   },
   {
    "duration": 18,
    "start_time": "2022-08-07T05:51:02.818Z"
   },
   {
    "duration": 4,
    "start_time": "2022-08-07T05:51:02.838Z"
   },
   {
    "duration": 8,
    "start_time": "2022-08-07T05:51:02.844Z"
   },
   {
    "duration": 3,
    "start_time": "2022-08-07T05:51:02.854Z"
   },
   {
    "duration": 5,
    "start_time": "2022-08-07T05:51:02.859Z"
   },
   {
    "duration": 11,
    "start_time": "2022-08-07T05:51:02.866Z"
   },
   {
    "duration": 24,
    "start_time": "2022-08-07T05:51:02.878Z"
   },
   {
    "duration": 40,
    "start_time": "2022-08-07T05:51:02.904Z"
   },
   {
    "duration": 25,
    "start_time": "2022-08-07T05:51:02.947Z"
   },
   {
    "duration": 16,
    "start_time": "2022-08-07T05:51:02.974Z"
   },
   {
    "duration": 23,
    "start_time": "2022-08-07T05:51:02.992Z"
   },
   {
    "duration": 24,
    "start_time": "2022-08-07T05:51:03.017Z"
   },
   {
    "duration": 17,
    "start_time": "2022-08-07T05:51:03.043Z"
   },
   {
    "duration": 25,
    "start_time": "2022-08-07T05:51:03.062Z"
   },
   {
    "duration": 21,
    "start_time": "2022-08-07T05:51:03.089Z"
   },
   {
    "duration": 38,
    "start_time": "2022-08-07T05:51:03.112Z"
   },
   {
    "duration": 12,
    "start_time": "2022-08-07T05:51:03.151Z"
   },
   {
    "duration": 37,
    "start_time": "2022-08-07T05:51:03.165Z"
   },
   {
    "duration": 17,
    "start_time": "2022-08-07T05:51:03.204Z"
   },
   {
    "duration": 28,
    "start_time": "2022-08-07T05:51:03.222Z"
   },
   {
    "duration": 137,
    "start_time": "2022-08-07T05:51:03.252Z"
   },
   {
    "duration": 367,
    "start_time": "2022-08-07T05:51:03.390Z"
   },
   {
    "duration": 863,
    "start_time": "2022-08-07T05:51:03.758Z"
   },
   {
    "duration": 811,
    "start_time": "2022-08-07T05:51:04.623Z"
   },
   {
    "duration": 25,
    "start_time": "2022-08-07T05:51:05.436Z"
   },
   {
    "duration": 197,
    "start_time": "2022-08-07T05:51:05.463Z"
   },
   {
    "duration": 8,
    "start_time": "2022-08-07T05:51:05.664Z"
   },
   {
    "duration": 100,
    "start_time": "2022-08-07T05:51:05.674Z"
   },
   {
    "duration": 28,
    "start_time": "2022-08-07T05:51:05.775Z"
   },
   {
    "duration": 147,
    "start_time": "2022-08-07T05:51:05.804Z"
   },
   {
    "duration": 9,
    "start_time": "2022-08-07T05:51:05.953Z"
   },
   {
    "duration": 8,
    "start_time": "2022-08-07T05:51:05.964Z"
   },
   {
    "duration": 27,
    "start_time": "2022-08-07T05:51:05.974Z"
   },
   {
    "duration": 3,
    "start_time": "2022-08-07T05:55:22.156Z"
   },
   {
    "duration": 36,
    "start_time": "2022-08-07T05:55:22.161Z"
   },
   {
    "duration": 21,
    "start_time": "2022-08-07T05:55:22.198Z"
   },
   {
    "duration": 6,
    "start_time": "2022-08-07T05:55:22.221Z"
   },
   {
    "duration": 7,
    "start_time": "2022-08-07T05:55:22.228Z"
   },
   {
    "duration": 5,
    "start_time": "2022-08-07T05:55:22.237Z"
   },
   {
    "duration": 7,
    "start_time": "2022-08-07T05:55:22.243Z"
   },
   {
    "duration": 14,
    "start_time": "2022-08-07T05:55:22.251Z"
   },
   {
    "duration": 35,
    "start_time": "2022-08-07T05:55:22.266Z"
   },
   {
    "duration": 5,
    "start_time": "2022-08-07T05:55:22.304Z"
   },
   {
    "duration": 7,
    "start_time": "2022-08-07T05:55:22.310Z"
   },
   {
    "duration": 11,
    "start_time": "2022-08-07T05:55:22.318Z"
   },
   {
    "duration": 7,
    "start_time": "2022-08-07T05:55:22.330Z"
   },
   {
    "duration": 7,
    "start_time": "2022-08-07T05:55:22.338Z"
   },
   {
    "duration": 5,
    "start_time": "2022-08-07T05:55:22.347Z"
   },
   {
    "duration": 10,
    "start_time": "2022-08-07T05:55:22.353Z"
   },
   {
    "duration": 7,
    "start_time": "2022-08-07T05:55:22.364Z"
   },
   {
    "duration": 30,
    "start_time": "2022-08-07T05:55:22.372Z"
   },
   {
    "duration": 2,
    "start_time": "2022-08-07T05:55:22.404Z"
   },
   {
    "duration": 15,
    "start_time": "2022-08-07T05:55:22.407Z"
   },
   {
    "duration": 4,
    "start_time": "2022-08-07T05:55:22.423Z"
   },
   {
    "duration": 6,
    "start_time": "2022-08-07T05:55:22.428Z"
   },
   {
    "duration": 126,
    "start_time": "2022-08-07T05:55:22.436Z"
   },
   {
    "duration": 363,
    "start_time": "2022-08-07T05:55:22.564Z"
   },
   {
    "duration": 840,
    "start_time": "2022-08-07T05:55:22.929Z"
   },
   {
    "duration": 790,
    "start_time": "2022-08-07T05:55:23.770Z"
   },
   {
    "duration": 24,
    "start_time": "2022-08-07T05:55:24.561Z"
   },
   {
    "duration": 183,
    "start_time": "2022-08-07T05:55:24.599Z"
   },
   {
    "duration": 20,
    "start_time": "2022-08-07T05:55:24.784Z"
   },
   {
    "duration": 85,
    "start_time": "2022-08-07T05:55:24.805Z"
   },
   {
    "duration": 30,
    "start_time": "2022-08-07T05:55:24.891Z"
   },
   {
    "duration": 153,
    "start_time": "2022-08-07T05:55:24.922Z"
   },
   {
    "duration": 8,
    "start_time": "2022-08-07T05:55:25.077Z"
   },
   {
    "duration": 15,
    "start_time": "2022-08-07T05:55:25.086Z"
   },
   {
    "duration": 10,
    "start_time": "2022-08-07T05:55:25.102Z"
   },
   {
    "duration": 1621,
    "start_time": "2022-08-07T19:02:25.866Z"
   },
   {
    "duration": 162,
    "start_time": "2022-08-07T19:02:27.490Z"
   },
   {
    "duration": 27,
    "start_time": "2022-08-07T19:02:27.654Z"
   },
   {
    "duration": 6,
    "start_time": "2022-08-07T19:02:27.684Z"
   },
   {
    "duration": 8,
    "start_time": "2022-08-07T19:02:27.691Z"
   },
   {
    "duration": 4,
    "start_time": "2022-08-07T19:02:27.700Z"
   },
   {
    "duration": 9,
    "start_time": "2022-08-07T19:02:27.706Z"
   },
   {
    "duration": 12,
    "start_time": "2022-08-07T19:02:27.717Z"
   },
   {
    "duration": 6,
    "start_time": "2022-08-07T19:02:27.731Z"
   },
   {
    "duration": 5,
    "start_time": "2022-08-07T19:02:27.740Z"
   },
   {
    "duration": 7,
    "start_time": "2022-08-07T19:02:27.747Z"
   },
   {
    "duration": 11,
    "start_time": "2022-08-07T19:02:27.755Z"
   },
   {
    "duration": 5,
    "start_time": "2022-08-07T19:02:27.768Z"
   },
   {
    "duration": 5,
    "start_time": "2022-08-07T19:02:27.799Z"
   },
   {
    "duration": 7,
    "start_time": "2022-08-07T19:02:27.805Z"
   },
   {
    "duration": 12,
    "start_time": "2022-08-07T19:02:27.814Z"
   },
   {
    "duration": 5,
    "start_time": "2022-08-07T19:02:27.827Z"
   },
   {
    "duration": 7,
    "start_time": "2022-08-07T19:02:27.834Z"
   },
   {
    "duration": 3,
    "start_time": "2022-08-07T19:02:27.843Z"
   },
   {
    "duration": 19,
    "start_time": "2022-08-07T19:02:27.847Z"
   },
   {
    "duration": 31,
    "start_time": "2022-08-07T19:02:27.867Z"
   },
   {
    "duration": 4,
    "start_time": "2022-08-07T19:02:27.900Z"
   },
   {
    "duration": 158,
    "start_time": "2022-08-07T19:02:27.906Z"
   },
   {
    "duration": 442,
    "start_time": "2022-08-07T19:02:28.066Z"
   },
   {
    "duration": 1026,
    "start_time": "2022-08-07T19:02:28.510Z"
   },
   {
    "duration": 950,
    "start_time": "2022-08-07T19:02:29.538Z"
   },
   {
    "duration": 28,
    "start_time": "2022-08-07T19:02:30.489Z"
   },
   {
    "duration": 178,
    "start_time": "2022-08-07T19:02:30.520Z"
   },
   {
    "duration": 11,
    "start_time": "2022-08-07T19:02:30.700Z"
   },
   {
    "duration": 118,
    "start_time": "2022-08-07T19:02:30.712Z"
   },
   {
    "duration": 21,
    "start_time": "2022-08-07T19:02:30.831Z"
   },
   {
    "duration": 427,
    "start_time": "2022-08-07T19:02:30.854Z"
   },
   {
    "duration": 16,
    "start_time": "2022-08-07T19:02:31.282Z"
   },
   {
    "duration": 8,
    "start_time": "2022-08-07T19:02:31.300Z"
   },
   {
    "duration": 11,
    "start_time": "2022-08-07T19:02:31.309Z"
   },
   {
    "duration": 3,
    "start_time": "2022-08-07T19:05:00.782Z"
   },
   {
    "duration": 31,
    "start_time": "2022-08-07T19:05:01.662Z"
   },
   {
    "duration": 5,
    "start_time": "2022-08-07T19:05:04.704Z"
   },
   {
    "duration": 3,
    "start_time": "2022-08-07T19:05:09.109Z"
   },
   {
    "duration": 3,
    "start_time": "2022-08-07T19:05:11.728Z"
   },
   {
    "duration": 9,
    "start_time": "2022-08-07T19:05:12.186Z"
   },
   {
    "duration": 4,
    "start_time": "2022-08-07T19:05:12.631Z"
   },
   {
    "duration": 6,
    "start_time": "2022-08-07T19:05:13.086Z"
   },
   {
    "duration": 5,
    "start_time": "2022-08-07T19:05:13.953Z"
   },
   {
    "duration": 11,
    "start_time": "2022-08-07T19:05:14.396Z"
   },
   {
    "duration": 4,
    "start_time": "2022-08-07T19:05:14.832Z"
   },
   {
    "duration": 4,
    "start_time": "2022-08-07T19:05:15.269Z"
   },
   {
    "duration": 4,
    "start_time": "2022-08-07T19:05:16.157Z"
   },
   {
    "duration": 5,
    "start_time": "2022-08-07T19:05:17.895Z"
   },
   {
    "duration": 5,
    "start_time": "2022-08-07T19:05:18.318Z"
   },
   {
    "duration": 2,
    "start_time": "2022-08-07T19:05:20.935Z"
   },
   {
    "duration": 15,
    "start_time": "2022-08-07T19:05:21.800Z"
   },
   {
    "duration": 5,
    "start_time": "2022-08-07T19:05:22.687Z"
   },
   {
    "duration": 4,
    "start_time": "2022-08-07T19:05:23.547Z"
   },
   {
    "duration": 161,
    "start_time": "2022-08-07T19:05:24.421Z"
   },
   {
    "duration": 441,
    "start_time": "2022-08-07T19:05:26.136Z"
   },
   {
    "duration": 1018,
    "start_time": "2022-08-07T19:05:27.037Z"
   },
   {
    "duration": 946,
    "start_time": "2022-08-07T19:05:28.057Z"
   },
   {
    "duration": 24,
    "start_time": "2022-08-07T19:05:29.659Z"
   },
   {
    "duration": 168,
    "start_time": "2022-08-07T19:05:30.564Z"
   },
   {
    "duration": 11,
    "start_time": "2022-08-07T19:05:34.069Z"
   },
   {
    "duration": 106,
    "start_time": "2022-08-07T19:05:34.923Z"
   },
   {
    "duration": 22,
    "start_time": "2022-08-07T19:05:35.785Z"
   },
   {
    "duration": 140,
    "start_time": "2022-08-07T19:05:36.677Z"
   },
   {
    "duration": 9,
    "start_time": "2022-08-07T19:05:39.304Z"
   },
   {
    "duration": 9,
    "start_time": "2022-08-07T19:05:40.165Z"
   },
   {
    "duration": 8,
    "start_time": "2022-08-07T19:05:41.051Z"
   },
   {
    "duration": 1015,
    "start_time": "2022-08-08T08:08:41.913Z"
   },
   {
    "duration": 188,
    "start_time": "2022-08-08T08:08:46.662Z"
   },
   {
    "duration": 107,
    "start_time": "2022-08-08T08:08:46.852Z"
   },
   {
    "duration": 25,
    "start_time": "2022-08-08T08:08:46.960Z"
   },
   {
    "duration": 5,
    "start_time": "2022-08-08T08:08:46.986Z"
   },
   {
    "duration": 9,
    "start_time": "2022-08-08T08:08:46.993Z"
   },
   {
    "duration": 6,
    "start_time": "2022-08-08T08:08:47.004Z"
   },
   {
    "duration": 8,
    "start_time": "2022-08-08T08:08:47.011Z"
   },
   {
    "duration": 13,
    "start_time": "2022-08-08T08:08:47.020Z"
   },
   {
    "duration": 13,
    "start_time": "2022-08-08T08:08:47.034Z"
   },
   {
    "duration": 8,
    "start_time": "2022-08-08T08:08:47.048Z"
   },
   {
    "duration": 6,
    "start_time": "2022-08-08T08:08:47.057Z"
   },
   {
    "duration": 11,
    "start_time": "2022-08-08T08:08:47.064Z"
   },
   {
    "duration": 6,
    "start_time": "2022-08-08T08:08:47.077Z"
   },
   {
    "duration": 6,
    "start_time": "2022-08-08T08:08:47.085Z"
   },
   {
    "duration": 7,
    "start_time": "2022-08-08T08:08:47.092Z"
   },
   {
    "duration": 10,
    "start_time": "2022-08-08T08:08:47.101Z"
   },
   {
    "duration": 26,
    "start_time": "2022-08-08T08:08:47.113Z"
   },
   {
    "duration": 7,
    "start_time": "2022-08-08T08:08:47.141Z"
   },
   {
    "duration": 7,
    "start_time": "2022-08-08T08:08:47.149Z"
   },
   {
    "duration": 15,
    "start_time": "2022-08-08T08:08:47.158Z"
   },
   {
    "duration": 4,
    "start_time": "2022-08-08T08:08:47.174Z"
   },
   {
    "duration": 6,
    "start_time": "2022-08-08T08:08:47.180Z"
   },
   {
    "duration": 140,
    "start_time": "2022-08-08T08:08:47.188Z"
   },
   {
    "duration": 430,
    "start_time": "2022-08-08T08:08:47.330Z"
   },
   {
    "duration": 933,
    "start_time": "2022-08-08T08:08:47.762Z"
   },
   {
    "duration": 897,
    "start_time": "2022-08-08T08:08:48.696Z"
   },
   {
    "duration": 3,
    "start_time": "2022-08-08T08:08:49.594Z"
   },
   {
    "duration": 29,
    "start_time": "2022-08-08T08:08:49.598Z"
   },
   {
    "duration": 226,
    "start_time": "2022-08-08T08:08:49.629Z"
   },
   {
    "duration": 9,
    "start_time": "2022-08-08T08:08:49.856Z"
   },
   {
    "duration": 108,
    "start_time": "2022-08-08T08:08:49.866Z"
   },
   {
    "duration": 27,
    "start_time": "2022-08-08T08:08:49.975Z"
   },
   {
    "duration": 557,
    "start_time": "2022-08-08T08:08:50.004Z"
   },
   {
    "duration": 9,
    "start_time": "2022-08-08T08:08:50.563Z"
   },
   {
    "duration": 9,
    "start_time": "2022-08-08T08:08:50.573Z"
   },
   {
    "duration": 128,
    "start_time": "2022-08-08T08:08:50.583Z"
   },
   {
    "duration": 4,
    "start_time": "2022-08-08T08:09:27.212Z"
   },
   {
    "duration": 38,
    "start_time": "2022-08-08T08:09:27.218Z"
   },
   {
    "duration": 18,
    "start_time": "2022-08-08T08:09:27.257Z"
   },
   {
    "duration": 4,
    "start_time": "2022-08-08T08:09:27.277Z"
   },
   {
    "duration": 9,
    "start_time": "2022-08-08T08:09:27.283Z"
   },
   {
    "duration": 6,
    "start_time": "2022-08-08T08:09:27.293Z"
   },
   {
    "duration": 7,
    "start_time": "2022-08-08T08:09:27.300Z"
   },
   {
    "duration": 14,
    "start_time": "2022-08-08T08:09:27.308Z"
   },
   {
    "duration": 5,
    "start_time": "2022-08-08T08:09:27.338Z"
   },
   {
    "duration": 5,
    "start_time": "2022-08-08T08:09:27.347Z"
   },
   {
    "duration": 6,
    "start_time": "2022-08-08T08:09:27.353Z"
   },
   {
    "duration": 12,
    "start_time": "2022-08-08T08:09:27.361Z"
   },
   {
    "duration": 7,
    "start_time": "2022-08-08T08:09:27.375Z"
   },
   {
    "duration": 8,
    "start_time": "2022-08-08T08:09:27.383Z"
   },
   {
    "duration": 5,
    "start_time": "2022-08-08T08:09:27.393Z"
   },
   {
    "duration": 27,
    "start_time": "2022-08-08T08:09:27.399Z"
   },
   {
    "duration": 9,
    "start_time": "2022-08-08T08:09:27.439Z"
   },
   {
    "duration": 7,
    "start_time": "2022-08-08T08:09:27.450Z"
   },
   {
    "duration": 4,
    "start_time": "2022-08-08T08:09:27.458Z"
   },
   {
    "duration": 17,
    "start_time": "2022-08-08T08:09:27.463Z"
   },
   {
    "duration": 4,
    "start_time": "2022-08-08T08:09:27.481Z"
   },
   {
    "duration": 6,
    "start_time": "2022-08-08T08:09:27.486Z"
   },
   {
    "duration": 151,
    "start_time": "2022-08-08T08:09:27.493Z"
   },
   {
    "duration": 421,
    "start_time": "2022-08-08T08:09:27.646Z"
   },
   {
    "duration": 962,
    "start_time": "2022-08-08T08:09:28.068Z"
   },
   {
    "duration": 879,
    "start_time": "2022-08-08T08:09:29.032Z"
   },
   {
    "duration": 3,
    "start_time": "2022-08-08T08:09:29.912Z"
   },
   {
    "duration": 43,
    "start_time": "2022-08-08T08:09:29.918Z"
   },
   {
    "duration": 221,
    "start_time": "2022-08-08T08:09:29.963Z"
   },
   {
    "duration": 11,
    "start_time": "2022-08-08T08:09:30.186Z"
   },
   {
    "duration": 108,
    "start_time": "2022-08-08T08:09:30.199Z"
   },
   {
    "duration": 30,
    "start_time": "2022-08-08T08:09:30.308Z"
   },
   {
    "duration": 160,
    "start_time": "2022-08-08T08:09:30.340Z"
   },
   {
    "duration": 9,
    "start_time": "2022-08-08T08:09:30.502Z"
   },
   {
    "duration": 15,
    "start_time": "2022-08-08T08:09:30.512Z"
   },
   {
    "duration": 13,
    "start_time": "2022-08-08T08:09:30.538Z"
   },
   {
    "duration": 8,
    "start_time": "2022-08-08T08:09:48.121Z"
   },
   {
    "duration": 9,
    "start_time": "2022-08-08T08:11:16.987Z"
   },
   {
    "duration": 3,
    "start_time": "2022-08-08T08:12:20.454Z"
   },
   {
    "duration": 104,
    "start_time": "2022-08-08T08:19:27.905Z"
   },
   {
    "duration": 8310,
    "start_time": "2022-08-08T08:19:54.174Z"
   },
   {
    "duration": 8526,
    "start_time": "2022-08-08T08:25:02.557Z"
   },
   {
    "duration": 8317,
    "start_time": "2022-08-08T08:27:26.385Z"
   },
   {
    "duration": 8531,
    "start_time": "2022-08-08T08:29:05.617Z"
   },
   {
    "duration": 4,
    "start_time": "2022-08-08T08:29:18.749Z"
   },
   {
    "duration": 33,
    "start_time": "2022-08-08T08:29:18.755Z"
   },
   {
    "duration": 18,
    "start_time": "2022-08-08T08:29:18.790Z"
   },
   {
    "duration": 5,
    "start_time": "2022-08-08T08:29:18.810Z"
   },
   {
    "duration": 5,
    "start_time": "2022-08-08T08:29:18.817Z"
   },
   {
    "duration": 4,
    "start_time": "2022-08-08T08:29:18.824Z"
   },
   {
    "duration": 35,
    "start_time": "2022-08-08T08:29:18.829Z"
   },
   {
    "duration": 13,
    "start_time": "2022-08-08T08:29:18.866Z"
   },
   {
    "duration": 11,
    "start_time": "2022-08-08T08:29:18.882Z"
   },
   {
    "duration": 16,
    "start_time": "2022-08-08T08:29:18.896Z"
   },
   {
    "duration": 19,
    "start_time": "2022-08-08T08:29:18.916Z"
   },
   {
    "duration": 17,
    "start_time": "2022-08-08T08:29:18.937Z"
   },
   {
    "duration": 10,
    "start_time": "2022-08-08T08:29:18.956Z"
   },
   {
    "duration": 15,
    "start_time": "2022-08-08T08:29:18.968Z"
   },
   {
    "duration": 11,
    "start_time": "2022-08-08T08:29:18.985Z"
   },
   {
    "duration": 33,
    "start_time": "2022-08-08T08:29:18.999Z"
   },
   {
    "duration": 12,
    "start_time": "2022-08-08T08:29:19.034Z"
   },
   {
    "duration": 9,
    "start_time": "2022-08-08T08:29:19.048Z"
   },
   {
    "duration": 9,
    "start_time": "2022-08-08T08:29:19.058Z"
   },
   {
    "duration": 19,
    "start_time": "2022-08-08T08:29:19.070Z"
   },
   {
    "duration": 5,
    "start_time": "2022-08-08T08:29:19.093Z"
   },
   {
    "duration": 10,
    "start_time": "2022-08-08T08:29:19.099Z"
   },
   {
    "duration": 158,
    "start_time": "2022-08-08T08:29:19.111Z"
   },
   {
    "duration": 429,
    "start_time": "2022-08-08T08:29:19.271Z"
   },
   {
    "duration": 952,
    "start_time": "2022-08-08T08:29:19.702Z"
   },
   {
    "duration": 871,
    "start_time": "2022-08-08T08:29:20.656Z"
   },
   {
    "duration": 8269,
    "start_time": "2022-08-08T08:29:21.529Z"
   },
   {
    "duration": 3,
    "start_time": "2022-08-08T08:29:29.800Z"
   },
   {
    "duration": 7,
    "start_time": "2022-08-08T08:29:29.806Z"
   },
   {
    "duration": 36,
    "start_time": "2022-08-08T08:29:29.814Z"
   },
   {
    "duration": 216,
    "start_time": "2022-08-08T08:29:29.851Z"
   },
   {
    "duration": 10,
    "start_time": "2022-08-08T08:29:30.069Z"
   },
   {
    "duration": 109,
    "start_time": "2022-08-08T08:29:30.081Z"
   },
   {
    "duration": 46,
    "start_time": "2022-08-08T08:29:30.192Z"
   },
   {
    "duration": 170,
    "start_time": "2022-08-08T08:29:30.241Z"
   },
   {
    "duration": 8,
    "start_time": "2022-08-08T08:29:30.413Z"
   },
   {
    "duration": 21,
    "start_time": "2022-08-08T08:29:30.423Z"
   },
   {
    "duration": 20,
    "start_time": "2022-08-08T08:29:30.446Z"
   },
   {
    "duration": 8290,
    "start_time": "2022-08-08T08:30:25.049Z"
   },
   {
    "duration": 3,
    "start_time": "2022-08-08T08:34:37.419Z"
   },
   {
    "duration": 3,
    "start_time": "2022-08-08T08:36:29.444Z"
   },
   {
    "duration": 2,
    "start_time": "2022-08-08T08:36:31.044Z"
   },
   {
    "duration": 9,
    "start_time": "2022-08-08T08:36:32.480Z"
   },
   {
    "duration": 3,
    "start_time": "2022-08-08T08:37:54.667Z"
   },
   {
    "duration": 3,
    "start_time": "2022-08-08T08:37:56.614Z"
   },
   {
    "duration": 10,
    "start_time": "2022-08-08T08:47:24.446Z"
   },
   {
    "duration": 7,
    "start_time": "2022-08-08T08:47:24.499Z"
   },
   {
    "duration": 27,
    "start_time": "2022-08-08T08:47:24.524Z"
   },
   {
    "duration": 8,
    "start_time": "2022-08-08T08:47:24.567Z"
   },
   {
    "duration": 7,
    "start_time": "2022-08-08T08:47:24.595Z"
   },
   {
    "duration": 13,
    "start_time": "2022-08-08T08:47:24.646Z"
   },
   {
    "duration": 6,
    "start_time": "2022-08-08T08:47:24.683Z"
   },
   {
    "duration": 12,
    "start_time": "2022-08-08T08:47:24.713Z"
   },
   {
    "duration": 7,
    "start_time": "2022-08-08T08:47:24.746Z"
   },
   {
    "duration": 6,
    "start_time": "2022-08-08T08:47:24.777Z"
   },
   {
    "duration": 8,
    "start_time": "2022-08-08T08:47:24.820Z"
   },
   {
    "duration": 15,
    "start_time": "2022-08-08T08:47:24.848Z"
   },
   {
    "duration": 32,
    "start_time": "2022-08-08T08:47:24.891Z"
   },
   {
    "duration": 8,
    "start_time": "2022-08-08T08:47:24.955Z"
   },
   {
    "duration": 7,
    "start_time": "2022-08-08T08:47:24.993Z"
   },
   {
    "duration": 14,
    "start_time": "2022-08-08T08:47:25.023Z"
   },
   {
    "duration": 5,
    "start_time": "2022-08-08T08:47:25.073Z"
   },
   {
    "duration": 10,
    "start_time": "2022-08-08T08:47:25.096Z"
   },
   {
    "duration": 0,
    "start_time": "2022-08-08T08:47:25.129Z"
   },
   {
    "duration": 0,
    "start_time": "2022-08-08T08:47:25.140Z"
   },
   {
    "duration": 0,
    "start_time": "2022-08-08T08:47:25.144Z"
   },
   {
    "duration": 0,
    "start_time": "2022-08-08T08:47:25.148Z"
   },
   {
    "duration": 0,
    "start_time": "2022-08-08T08:47:25.152Z"
   },
   {
    "duration": 0,
    "start_time": "2022-08-08T08:47:25.156Z"
   },
   {
    "duration": 0,
    "start_time": "2022-08-08T08:47:25.159Z"
   },
   {
    "duration": 0,
    "start_time": "2022-08-08T08:47:25.162Z"
   },
   {
    "duration": 0,
    "start_time": "2022-08-08T08:47:25.165Z"
   },
   {
    "duration": 0,
    "start_time": "2022-08-08T08:47:25.167Z"
   },
   {
    "duration": 0,
    "start_time": "2022-08-08T08:47:25.170Z"
   },
   {
    "duration": 0,
    "start_time": "2022-08-08T08:47:25.173Z"
   },
   {
    "duration": 0,
    "start_time": "2022-08-08T08:47:25.175Z"
   },
   {
    "duration": 0,
    "start_time": "2022-08-08T08:47:25.178Z"
   },
   {
    "duration": 0,
    "start_time": "2022-08-08T08:47:25.239Z"
   },
   {
    "duration": 0,
    "start_time": "2022-08-08T08:47:25.243Z"
   },
   {
    "duration": 0,
    "start_time": "2022-08-08T08:47:25.249Z"
   },
   {
    "duration": 0,
    "start_time": "2022-08-08T08:47:25.252Z"
   },
   {
    "duration": 0,
    "start_time": "2022-08-08T08:47:25.254Z"
   },
   {
    "duration": 0,
    "start_time": "2022-08-08T08:47:25.258Z"
   },
   {
    "duration": 0,
    "start_time": "2022-08-08T08:47:25.261Z"
   },
   {
    "duration": 0,
    "start_time": "2022-08-08T08:47:25.264Z"
   },
   {
    "duration": 0,
    "start_time": "2022-08-08T08:47:25.267Z"
   },
   {
    "duration": 0,
    "start_time": "2022-08-08T08:47:25.270Z"
   },
   {
    "duration": 3,
    "start_time": "2022-08-08T08:47:47.121Z"
   },
   {
    "duration": 3618,
    "start_time": "2022-08-08T08:47:52.468Z"
   },
   {
    "duration": 3,
    "start_time": "2022-08-08T08:47:57.775Z"
   },
   {
    "duration": 31,
    "start_time": "2022-08-08T08:47:57.780Z"
   },
   {
    "duration": 18,
    "start_time": "2022-08-08T08:47:57.813Z"
   },
   {
    "duration": 4,
    "start_time": "2022-08-08T08:47:57.833Z"
   },
   {
    "duration": 16,
    "start_time": "2022-08-08T08:47:57.839Z"
   },
   {
    "duration": 5,
    "start_time": "2022-08-08T08:47:57.857Z"
   },
   {
    "duration": 5,
    "start_time": "2022-08-08T08:47:57.864Z"
   },
   {
    "duration": 11,
    "start_time": "2022-08-08T08:47:57.870Z"
   },
   {
    "duration": 6,
    "start_time": "2022-08-08T08:47:57.884Z"
   },
   {
    "duration": 12,
    "start_time": "2022-08-08T08:47:57.891Z"
   },
   {
    "duration": 10,
    "start_time": "2022-08-08T08:47:57.905Z"
   },
   {
    "duration": 24,
    "start_time": "2022-08-08T08:47:57.917Z"
   },
   {
    "duration": 6,
    "start_time": "2022-08-08T08:47:57.942Z"
   },
   {
    "duration": 7,
    "start_time": "2022-08-08T08:47:57.950Z"
   },
   {
    "duration": 7,
    "start_time": "2022-08-08T08:47:57.958Z"
   },
   {
    "duration": 13,
    "start_time": "2022-08-08T08:47:57.966Z"
   },
   {
    "duration": 7,
    "start_time": "2022-08-08T08:47:57.980Z"
   },
   {
    "duration": 7,
    "start_time": "2022-08-08T08:47:57.989Z"
   },
   {
    "duration": 4,
    "start_time": "2022-08-08T08:47:57.998Z"
   },
   {
    "duration": 36,
    "start_time": "2022-08-08T08:47:58.004Z"
   },
   {
    "duration": 4,
    "start_time": "2022-08-08T08:47:58.042Z"
   },
   {
    "duration": 7,
    "start_time": "2022-08-08T08:47:58.047Z"
   },
   {
    "duration": 134,
    "start_time": "2022-08-08T08:47:58.055Z"
   },
   {
    "duration": 410,
    "start_time": "2022-08-08T08:47:58.192Z"
   },
   {
    "duration": 979,
    "start_time": "2022-08-08T08:47:58.603Z"
   },
   {
    "duration": 865,
    "start_time": "2022-08-08T08:47:59.584Z"
   },
   {
    "duration": 8285,
    "start_time": "2022-08-08T08:48:00.451Z"
   },
   {
    "duration": 2,
    "start_time": "2022-08-08T08:48:08.739Z"
   },
   {
    "duration": 28,
    "start_time": "2022-08-08T08:48:08.742Z"
   },
   {
    "duration": 18,
    "start_time": "2022-08-08T08:48:08.771Z"
   },
   {
    "duration": 8,
    "start_time": "2022-08-08T08:48:08.790Z"
   },
   {
    "duration": 19,
    "start_time": "2022-08-08T08:48:08.800Z"
   },
   {
    "duration": 36,
    "start_time": "2022-08-08T08:48:08.820Z"
   },
   {
    "duration": 68,
    "start_time": "2022-08-08T08:48:08.858Z"
   },
   {
    "duration": 254,
    "start_time": "2022-08-08T08:48:08.929Z"
   },
   {
    "duration": 9,
    "start_time": "2022-08-08T08:48:09.184Z"
   },
   {
    "duration": 110,
    "start_time": "2022-08-08T08:48:09.195Z"
   },
   {
    "duration": 31,
    "start_time": "2022-08-08T08:48:09.307Z"
   },
   {
    "duration": 156,
    "start_time": "2022-08-08T08:48:09.340Z"
   },
   {
    "duration": 8,
    "start_time": "2022-08-08T08:48:09.498Z"
   },
   {
    "duration": 36,
    "start_time": "2022-08-08T08:48:09.507Z"
   },
   {
    "duration": 21,
    "start_time": "2022-08-08T08:48:09.545Z"
   },
   {
    "duration": 100,
    "start_time": "2022-08-08T11:14:40.435Z"
   },
   {
    "duration": 40,
    "start_time": "2022-08-08T11:14:51.768Z"
   },
   {
    "duration": 1050,
    "start_time": "2022-08-08T11:14:56.950Z"
   },
   {
    "duration": 61,
    "start_time": "2022-08-08T11:14:58.001Z"
   },
   {
    "duration": 28,
    "start_time": "2022-08-08T11:14:58.063Z"
   },
   {
    "duration": 5,
    "start_time": "2022-08-08T11:14:58.093Z"
   },
   {
    "duration": 10,
    "start_time": "2022-08-08T11:14:58.100Z"
   },
   {
    "duration": 10,
    "start_time": "2022-08-08T11:14:58.111Z"
   },
   {
    "duration": 6,
    "start_time": "2022-08-08T11:14:58.123Z"
   },
   {
    "duration": 17,
    "start_time": "2022-08-08T11:14:58.131Z"
   },
   {
    "duration": 10,
    "start_time": "2022-08-08T11:14:58.150Z"
   },
   {
    "duration": 6,
    "start_time": "2022-08-08T11:14:58.162Z"
   },
   {
    "duration": 9,
    "start_time": "2022-08-08T11:14:58.170Z"
   },
   {
    "duration": 14,
    "start_time": "2022-08-08T11:14:58.181Z"
   },
   {
    "duration": 11,
    "start_time": "2022-08-08T11:14:58.196Z"
   },
   {
    "duration": 7,
    "start_time": "2022-08-08T11:14:58.208Z"
   },
   {
    "duration": 6,
    "start_time": "2022-08-08T11:14:58.216Z"
   },
   {
    "duration": 13,
    "start_time": "2022-08-08T11:14:58.223Z"
   },
   {
    "duration": 7,
    "start_time": "2022-08-08T11:14:58.237Z"
   },
   {
    "duration": 7,
    "start_time": "2022-08-08T11:14:58.246Z"
   },
   {
    "duration": 5,
    "start_time": "2022-08-08T11:14:58.254Z"
   },
   {
    "duration": 16,
    "start_time": "2022-08-08T11:14:58.260Z"
   },
   {
    "duration": 4,
    "start_time": "2022-08-08T11:14:58.278Z"
   },
   {
    "duration": 6,
    "start_time": "2022-08-08T11:14:58.305Z"
   },
   {
    "duration": 142,
    "start_time": "2022-08-08T11:14:58.313Z"
   },
   {
    "duration": 404,
    "start_time": "2022-08-08T11:14:58.457Z"
   },
   {
    "duration": 917,
    "start_time": "2022-08-08T11:14:58.863Z"
   },
   {
    "duration": 781,
    "start_time": "2022-08-08T11:14:59.782Z"
   },
   {
    "duration": 7887,
    "start_time": "2022-08-08T11:15:00.564Z"
   },
   {
    "duration": 2,
    "start_time": "2022-08-08T11:15:08.454Z"
   },
   {
    "duration": 8,
    "start_time": "2022-08-08T11:15:08.457Z"
   },
   {
    "duration": 5,
    "start_time": "2022-08-08T11:15:08.466Z"
   },
   {
    "duration": 5,
    "start_time": "2022-08-08T11:15:08.472Z"
   },
   {
    "duration": 4,
    "start_time": "2022-08-08T11:15:08.478Z"
   },
   {
    "duration": 7,
    "start_time": "2022-08-08T11:15:08.484Z"
   },
   {
    "duration": 27,
    "start_time": "2022-08-08T11:15:08.493Z"
   },
   {
    "duration": 191,
    "start_time": "2022-08-08T11:15:08.522Z"
   },
   {
    "duration": 9,
    "start_time": "2022-08-08T11:15:08.714Z"
   },
   {
    "duration": 87,
    "start_time": "2022-08-08T11:15:08.724Z"
   },
   {
    "duration": 31,
    "start_time": "2022-08-08T11:15:08.813Z"
   },
   {
    "duration": 657,
    "start_time": "2022-08-08T11:15:08.846Z"
   },
   {
    "duration": 8,
    "start_time": "2022-08-08T11:15:09.506Z"
   },
   {
    "duration": 8,
    "start_time": "2022-08-08T11:15:09.515Z"
   },
   {
    "duration": 7,
    "start_time": "2022-08-08T11:15:09.525Z"
   },
   {
    "duration": 7774,
    "start_time": "2022-08-08T11:16:07.875Z"
   },
   {
    "duration": 7758,
    "start_time": "2022-08-08T11:16:18.510Z"
   },
   {
    "duration": 77,
    "start_time": "2022-08-08T11:21:47.521Z"
   },
   {
    "duration": 9,
    "start_time": "2022-08-08T11:22:01.108Z"
   },
   {
    "duration": 2,
    "start_time": "2022-08-08T11:27:51.448Z"
   },
   {
    "duration": 3,
    "start_time": "2022-08-08T11:28:03.236Z"
   },
   {
    "duration": 34,
    "start_time": "2022-08-08T11:28:03.241Z"
   },
   {
    "duration": 21,
    "start_time": "2022-08-08T11:28:03.277Z"
   },
   {
    "duration": 4,
    "start_time": "2022-08-08T11:28:03.299Z"
   },
   {
    "duration": 11,
    "start_time": "2022-08-08T11:28:03.305Z"
   },
   {
    "duration": 4,
    "start_time": "2022-08-08T11:28:03.318Z"
   },
   {
    "duration": 8,
    "start_time": "2022-08-08T11:28:03.323Z"
   },
   {
    "duration": 11,
    "start_time": "2022-08-08T11:28:03.332Z"
   },
   {
    "duration": 6,
    "start_time": "2022-08-08T11:28:03.345Z"
   },
   {
    "duration": 8,
    "start_time": "2022-08-08T11:28:03.353Z"
   },
   {
    "duration": 6,
    "start_time": "2022-08-08T11:28:03.363Z"
   },
   {
    "duration": 10,
    "start_time": "2022-08-08T11:28:03.370Z"
   },
   {
    "duration": 6,
    "start_time": "2022-08-08T11:28:03.381Z"
   },
   {
    "duration": 19,
    "start_time": "2022-08-08T11:28:03.388Z"
   },
   {
    "duration": 5,
    "start_time": "2022-08-08T11:28:03.408Z"
   },
   {
    "duration": 12,
    "start_time": "2022-08-08T11:28:03.415Z"
   },
   {
    "duration": 10,
    "start_time": "2022-08-08T11:28:03.428Z"
   },
   {
    "duration": 7,
    "start_time": "2022-08-08T11:28:03.439Z"
   },
   {
    "duration": 4,
    "start_time": "2022-08-08T11:28:03.447Z"
   },
   {
    "duration": 16,
    "start_time": "2022-08-08T11:28:03.453Z"
   },
   {
    "duration": 4,
    "start_time": "2022-08-08T11:28:03.470Z"
   },
   {
    "duration": 6,
    "start_time": "2022-08-08T11:28:03.475Z"
   },
   {
    "duration": 126,
    "start_time": "2022-08-08T11:28:03.483Z"
   },
   {
    "duration": 368,
    "start_time": "2022-08-08T11:28:03.611Z"
   },
   {
    "duration": 852,
    "start_time": "2022-08-08T11:28:03.981Z"
   },
   {
    "duration": 778,
    "start_time": "2022-08-08T11:28:04.834Z"
   },
   {
    "duration": 7566,
    "start_time": "2022-08-08T11:28:05.613Z"
   },
   {
    "duration": 2,
    "start_time": "2022-08-08T11:28:13.181Z"
   },
   {
    "duration": 5,
    "start_time": "2022-08-08T11:28:13.187Z"
   },
   {
    "duration": 13,
    "start_time": "2022-08-08T11:28:13.193Z"
   },
   {
    "duration": 3,
    "start_time": "2022-08-08T11:28:13.207Z"
   },
   {
    "duration": 6,
    "start_time": "2022-08-08T11:28:13.211Z"
   },
   {
    "duration": 6,
    "start_time": "2022-08-08T11:28:13.219Z"
   },
   {
    "duration": 4,
    "start_time": "2022-08-08T11:28:13.226Z"
   },
   {
    "duration": 29,
    "start_time": "2022-08-08T11:28:13.231Z"
   },
   {
    "duration": 207,
    "start_time": "2022-08-08T11:28:13.261Z"
   },
   {
    "duration": 9,
    "start_time": "2022-08-08T11:28:13.469Z"
   },
   {
    "duration": 97,
    "start_time": "2022-08-08T11:28:13.479Z"
   },
   {
    "duration": 29,
    "start_time": "2022-08-08T11:28:13.577Z"
   },
   {
    "duration": 147,
    "start_time": "2022-08-08T11:28:13.607Z"
   },
   {
    "duration": 8,
    "start_time": "2022-08-08T11:28:13.756Z"
   },
   {
    "duration": 8,
    "start_time": "2022-08-08T11:28:13.765Z"
   },
   {
    "duration": 7,
    "start_time": "2022-08-08T11:28:13.775Z"
   },
   {
    "duration": 3,
    "start_time": "2022-08-08T11:30:01.451Z"
   },
   {
    "duration": 3,
    "start_time": "2022-08-08T11:31:11.372Z"
   },
   {
    "duration": 3,
    "start_time": "2022-08-08T11:31:48.123Z"
   },
   {
    "duration": 4,
    "start_time": "2022-08-08T11:32:33.883Z"
   },
   {
    "duration": 5,
    "start_time": "2022-08-08T11:34:59.318Z"
   },
   {
    "duration": 4,
    "start_time": "2022-08-08T11:35:55.136Z"
   },
   {
    "duration": 15,
    "start_time": "2022-08-08T11:41:40.319Z"
   },
   {
    "duration": 3,
    "start_time": "2022-08-08T12:26:36.286Z"
   },
   {
    "duration": 34,
    "start_time": "2022-08-08T12:26:36.291Z"
   },
   {
    "duration": 20,
    "start_time": "2022-08-08T12:26:36.327Z"
   },
   {
    "duration": 6,
    "start_time": "2022-08-08T12:26:36.348Z"
   },
   {
    "duration": 11,
    "start_time": "2022-08-08T12:26:36.356Z"
   },
   {
    "duration": 9,
    "start_time": "2022-08-08T12:26:36.369Z"
   },
   {
    "duration": 8,
    "start_time": "2022-08-08T12:26:36.380Z"
   },
   {
    "duration": 25,
    "start_time": "2022-08-08T12:26:36.389Z"
   },
   {
    "duration": 10,
    "start_time": "2022-08-08T12:26:36.415Z"
   },
   {
    "duration": 7,
    "start_time": "2022-08-08T12:26:36.427Z"
   },
   {
    "duration": 8,
    "start_time": "2022-08-08T12:26:36.437Z"
   },
   {
    "duration": 14,
    "start_time": "2022-08-08T12:26:36.447Z"
   },
   {
    "duration": 8,
    "start_time": "2022-08-08T12:26:36.462Z"
   },
   {
    "duration": 16,
    "start_time": "2022-08-08T12:26:36.472Z"
   },
   {
    "duration": 26,
    "start_time": "2022-08-08T12:26:36.490Z"
   },
   {
    "duration": 12,
    "start_time": "2022-08-08T12:26:36.518Z"
   },
   {
    "duration": 11,
    "start_time": "2022-08-08T12:26:36.532Z"
   },
   {
    "duration": 11,
    "start_time": "2022-08-08T12:26:36.545Z"
   },
   {
    "duration": 6,
    "start_time": "2022-08-08T12:26:36.558Z"
   },
   {
    "duration": 24,
    "start_time": "2022-08-08T12:26:36.566Z"
   },
   {
    "duration": 17,
    "start_time": "2022-08-08T12:26:36.592Z"
   },
   {
    "duration": 9,
    "start_time": "2022-08-08T12:26:36.611Z"
   },
   {
    "duration": 139,
    "start_time": "2022-08-08T12:26:36.622Z"
   },
   {
    "duration": 416,
    "start_time": "2022-08-08T12:26:36.763Z"
   },
   {
    "duration": 964,
    "start_time": "2022-08-08T12:26:37.181Z"
   },
   {
    "duration": 829,
    "start_time": "2022-08-08T12:26:38.147Z"
   },
   {
    "duration": 8155,
    "start_time": "2022-08-08T12:26:38.978Z"
   },
   {
    "duration": 24,
    "start_time": "2022-08-08T12:26:47.134Z"
   },
   {
    "duration": 193,
    "start_time": "2022-08-08T12:26:47.161Z"
   },
   {
    "duration": 8,
    "start_time": "2022-08-08T12:26:47.356Z"
   },
   {
    "duration": 105,
    "start_time": "2022-08-08T12:26:47.366Z"
   },
   {
    "duration": 23,
    "start_time": "2022-08-08T12:26:47.472Z"
   },
   {
    "duration": 142,
    "start_time": "2022-08-08T12:26:47.506Z"
   },
   {
    "duration": 8,
    "start_time": "2022-08-08T12:26:47.650Z"
   },
   {
    "duration": 8,
    "start_time": "2022-08-08T12:26:47.659Z"
   },
   {
    "duration": 12,
    "start_time": "2022-08-08T12:26:47.669Z"
   },
   {
    "duration": 2,
    "start_time": "2022-08-08T15:22:07.277Z"
   },
   {
    "duration": 3,
    "start_time": "2022-08-08T15:22:11.065Z"
   },
   {
    "duration": 38,
    "start_time": "2022-08-08T15:22:11.070Z"
   },
   {
    "duration": 21,
    "start_time": "2022-08-08T15:22:11.111Z"
   },
   {
    "duration": 5,
    "start_time": "2022-08-08T15:22:11.134Z"
   },
   {
    "duration": 8,
    "start_time": "2022-08-08T15:22:11.141Z"
   },
   {
    "duration": 3,
    "start_time": "2022-08-08T15:22:11.151Z"
   },
   {
    "duration": 9,
    "start_time": "2022-08-08T15:22:11.155Z"
   },
   {
    "duration": 11,
    "start_time": "2022-08-08T15:22:11.166Z"
   },
   {
    "duration": 42,
    "start_time": "2022-08-08T15:22:11.179Z"
   },
   {
    "duration": 5,
    "start_time": "2022-08-08T15:22:11.223Z"
   },
   {
    "duration": 7,
    "start_time": "2022-08-08T15:22:11.231Z"
   },
   {
    "duration": 15,
    "start_time": "2022-08-08T15:22:11.239Z"
   },
   {
    "duration": 8,
    "start_time": "2022-08-08T15:22:11.256Z"
   },
   {
    "duration": 8,
    "start_time": "2022-08-08T15:22:11.266Z"
   },
   {
    "duration": 4,
    "start_time": "2022-08-08T15:22:11.276Z"
   },
   {
    "duration": 10,
    "start_time": "2022-08-08T15:22:11.281Z"
   },
   {
    "duration": 15,
    "start_time": "2022-08-08T15:22:11.305Z"
   },
   {
    "duration": 5,
    "start_time": "2022-08-08T15:22:11.322Z"
   },
   {
    "duration": 9,
    "start_time": "2022-08-08T15:22:11.329Z"
   },
   {
    "duration": 14,
    "start_time": "2022-08-08T15:22:11.340Z"
   },
   {
    "duration": 4,
    "start_time": "2022-08-08T15:22:11.355Z"
   },
   {
    "duration": 9,
    "start_time": "2022-08-08T15:22:11.360Z"
   },
   {
    "duration": 118,
    "start_time": "2022-08-08T15:22:11.371Z"
   },
   {
    "duration": 393,
    "start_time": "2022-08-08T15:22:11.491Z"
   },
   {
    "duration": 885,
    "start_time": "2022-08-08T15:22:11.885Z"
   },
   {
    "duration": 812,
    "start_time": "2022-08-08T15:22:12.772Z"
   },
   {
    "duration": 8083,
    "start_time": "2022-08-08T15:22:13.586Z"
   },
   {
    "duration": 23,
    "start_time": "2022-08-08T15:22:21.671Z"
   },
   {
    "duration": 184,
    "start_time": "2022-08-08T15:22:21.707Z"
   },
   {
    "duration": 17,
    "start_time": "2022-08-08T15:22:21.893Z"
   },
   {
    "duration": 97,
    "start_time": "2022-08-08T15:22:21.912Z"
   },
   {
    "duration": 35,
    "start_time": "2022-08-08T15:22:22.011Z"
   },
   {
    "duration": 180,
    "start_time": "2022-08-08T15:22:22.048Z"
   },
   {
    "duration": 9,
    "start_time": "2022-08-08T15:22:22.229Z"
   },
   {
    "duration": 12,
    "start_time": "2022-08-08T15:22:22.240Z"
   },
   {
    "duration": 19,
    "start_time": "2022-08-08T15:22:22.253Z"
   },
   {
    "duration": 3,
    "start_time": "2022-08-08T15:24:31.325Z"
   },
   {
    "duration": 3,
    "start_time": "2022-08-08T15:41:46.966Z"
   },
   {
    "duration": 20,
    "start_time": "2022-08-08T15:41:46.992Z"
   },
   {
    "duration": 20,
    "start_time": "2022-08-08T15:41:47.020Z"
   },
   {
    "duration": 6,
    "start_time": "2022-08-08T15:41:47.049Z"
   },
   {
    "duration": 43,
    "start_time": "2022-08-08T15:41:47.063Z"
   },
   {
    "duration": 6,
    "start_time": "2022-08-08T15:41:47.113Z"
   },
   {
    "duration": 5,
    "start_time": "2022-08-08T15:41:47.132Z"
   },
   {
    "duration": 14,
    "start_time": "2022-08-08T15:41:47.145Z"
   },
   {
    "duration": 5,
    "start_time": "2022-08-08T15:41:47.170Z"
   },
   {
    "duration": 5,
    "start_time": "2022-08-08T15:41:47.206Z"
   },
   {
    "duration": 8,
    "start_time": "2022-08-08T15:41:47.227Z"
   },
   {
    "duration": 10,
    "start_time": "2022-08-08T15:41:47.245Z"
   },
   {
    "duration": 8,
    "start_time": "2022-08-08T15:41:47.264Z"
   },
   {
    "duration": 7,
    "start_time": "2022-08-08T15:41:47.282Z"
   },
   {
    "duration": 7,
    "start_time": "2022-08-08T15:41:47.316Z"
   },
   {
    "duration": 12,
    "start_time": "2022-08-08T15:41:47.337Z"
   },
   {
    "duration": 6,
    "start_time": "2022-08-08T15:41:47.358Z"
   },
   {
    "duration": 7,
    "start_time": "2022-08-08T15:41:47.370Z"
   },
   {
    "duration": 7,
    "start_time": "2022-08-08T15:41:47.408Z"
   },
   {
    "duration": 0,
    "start_time": "2022-08-08T15:41:47.433Z"
   },
   {
    "duration": 0,
    "start_time": "2022-08-08T15:41:47.435Z"
   },
   {
    "duration": 0,
    "start_time": "2022-08-08T15:41:47.437Z"
   },
   {
    "duration": 0,
    "start_time": "2022-08-08T15:41:47.438Z"
   },
   {
    "duration": 0,
    "start_time": "2022-08-08T15:41:47.440Z"
   },
   {
    "duration": 0,
    "start_time": "2022-08-08T15:41:47.442Z"
   },
   {
    "duration": 0,
    "start_time": "2022-08-08T15:41:47.444Z"
   },
   {
    "duration": 0,
    "start_time": "2022-08-08T15:41:47.446Z"
   },
   {
    "duration": 0,
    "start_time": "2022-08-08T15:41:47.448Z"
   },
   {
    "duration": 0,
    "start_time": "2022-08-08T15:41:47.449Z"
   },
   {
    "duration": 0,
    "start_time": "2022-08-08T15:41:47.451Z"
   },
   {
    "duration": 0,
    "start_time": "2022-08-08T15:41:47.452Z"
   },
   {
    "duration": 0,
    "start_time": "2022-08-08T15:41:47.455Z"
   },
   {
    "duration": 0,
    "start_time": "2022-08-08T15:41:47.457Z"
   },
   {
    "duration": 0,
    "start_time": "2022-08-08T15:41:47.507Z"
   },
   {
    "duration": 0,
    "start_time": "2022-08-08T15:41:47.509Z"
   },
   {
    "duration": 0,
    "start_time": "2022-08-08T15:41:47.511Z"
   },
   {
    "duration": 0,
    "start_time": "2022-08-08T15:41:47.513Z"
   },
   {
    "duration": 0,
    "start_time": "2022-08-08T15:41:47.515Z"
   },
   {
    "duration": 4,
    "start_time": "2022-08-08T15:56:24.359Z"
   },
   {
    "duration": 29,
    "start_time": "2022-08-08T15:56:24.364Z"
   },
   {
    "duration": 18,
    "start_time": "2022-08-08T15:56:24.395Z"
   },
   {
    "duration": 5,
    "start_time": "2022-08-08T15:56:24.427Z"
   },
   {
    "duration": 5,
    "start_time": "2022-08-08T15:56:24.434Z"
   },
   {
    "duration": 3,
    "start_time": "2022-08-08T15:56:24.441Z"
   },
   {
    "duration": 6,
    "start_time": "2022-08-08T15:56:24.446Z"
   },
   {
    "duration": 11,
    "start_time": "2022-08-08T15:56:24.453Z"
   },
   {
    "duration": 5,
    "start_time": "2022-08-08T15:56:24.466Z"
   },
   {
    "duration": 34,
    "start_time": "2022-08-08T15:56:24.473Z"
   },
   {
    "duration": 4,
    "start_time": "2022-08-08T15:56:24.519Z"
   },
   {
    "duration": 13,
    "start_time": "2022-08-08T15:56:24.525Z"
   },
   {
    "duration": 12,
    "start_time": "2022-08-08T15:56:24.540Z"
   },
   {
    "duration": 7,
    "start_time": "2022-08-08T15:56:24.554Z"
   },
   {
    "duration": 7,
    "start_time": "2022-08-08T15:56:24.563Z"
   },
   {
    "duration": 14,
    "start_time": "2022-08-08T15:56:24.571Z"
   },
   {
    "duration": 24,
    "start_time": "2022-08-08T15:56:24.587Z"
   },
   {
    "duration": 7,
    "start_time": "2022-08-08T15:56:24.613Z"
   },
   {
    "duration": 4,
    "start_time": "2022-08-08T15:56:24.621Z"
   },
   {
    "duration": 17,
    "start_time": "2022-08-08T15:56:24.627Z"
   },
   {
    "duration": 4,
    "start_time": "2022-08-08T15:56:24.646Z"
   },
   {
    "duration": 7,
    "start_time": "2022-08-08T15:56:24.651Z"
   },
   {
    "duration": 139,
    "start_time": "2022-08-08T15:56:24.659Z"
   },
   {
    "duration": 371,
    "start_time": "2022-08-08T15:56:24.805Z"
   },
   {
    "duration": 877,
    "start_time": "2022-08-08T15:56:25.177Z"
   },
   {
    "duration": 886,
    "start_time": "2022-08-08T15:56:26.057Z"
   },
   {
    "duration": 8198,
    "start_time": "2022-08-08T15:56:26.945Z"
   },
   {
    "duration": 3,
    "start_time": "2022-08-08T15:56:35.144Z"
   },
   {
    "duration": 6,
    "start_time": "2022-08-08T15:56:35.148Z"
   },
   {
    "duration": 26,
    "start_time": "2022-08-08T15:56:35.156Z"
   },
   {
    "duration": 204,
    "start_time": "2022-08-08T15:56:35.183Z"
   },
   {
    "duration": 23,
    "start_time": "2022-08-08T15:56:35.389Z"
   },
   {
    "duration": 105,
    "start_time": "2022-08-08T15:56:35.414Z"
   },
   {
    "duration": 22,
    "start_time": "2022-08-08T15:56:35.520Z"
   },
   {
    "duration": 169,
    "start_time": "2022-08-08T15:56:35.544Z"
   },
   {
    "duration": 11,
    "start_time": "2022-08-08T15:56:35.715Z"
   },
   {
    "duration": 9,
    "start_time": "2022-08-08T15:56:35.728Z"
   },
   {
    "duration": 12,
    "start_time": "2022-08-08T15:56:35.738Z"
   },
   {
    "duration": 9588,
    "start_time": "2022-08-08T15:58:49.335Z"
   },
   {
    "duration": 81,
    "start_time": "2022-08-08T16:01:56.930Z"
   },
   {
    "duration": 1679,
    "start_time": "2022-08-08T16:02:18.689Z"
   },
   {
    "duration": 1766,
    "start_time": "2022-08-08T16:02:49.501Z"
   },
   {
    "duration": 18,
    "start_time": "2022-08-08T16:06:18.837Z"
   },
   {
    "duration": 7877,
    "start_time": "2022-08-08T16:12:36.168Z"
   },
   {
    "duration": 6633,
    "start_time": "2022-08-08T16:13:20.034Z"
   },
   {
    "duration": 7,
    "start_time": "2022-08-08T16:13:37.228Z"
   },
   {
    "duration": 26762,
    "start_time": "2022-08-08T16:16:53.683Z"
   },
   {
    "duration": 9,
    "start_time": "2022-08-08T16:17:38.740Z"
   },
   {
    "duration": 26068,
    "start_time": "2022-08-08T16:19:46.097Z"
   },
   {
    "duration": 3,
    "start_time": "2022-08-08T16:20:45.354Z"
   },
   {
    "duration": 30,
    "start_time": "2022-08-08T16:20:45.358Z"
   },
   {
    "duration": 30,
    "start_time": "2022-08-08T16:20:45.390Z"
   },
   {
    "duration": 5,
    "start_time": "2022-08-08T16:20:45.421Z"
   },
   {
    "duration": 8,
    "start_time": "2022-08-08T16:20:45.427Z"
   },
   {
    "duration": 5,
    "start_time": "2022-08-08T16:20:45.436Z"
   },
   {
    "duration": 7,
    "start_time": "2022-08-08T16:20:45.442Z"
   },
   {
    "duration": 12,
    "start_time": "2022-08-08T16:20:45.450Z"
   },
   {
    "duration": 6,
    "start_time": "2022-08-08T16:20:45.464Z"
   },
   {
    "duration": 10,
    "start_time": "2022-08-08T16:20:45.471Z"
   },
   {
    "duration": 6,
    "start_time": "2022-08-08T16:20:45.483Z"
   },
   {
    "duration": 29,
    "start_time": "2022-08-08T16:20:45.490Z"
   },
   {
    "duration": 5,
    "start_time": "2022-08-08T16:20:45.521Z"
   },
   {
    "duration": 8,
    "start_time": "2022-08-08T16:20:45.528Z"
   },
   {
    "duration": 6,
    "start_time": "2022-08-08T16:20:45.537Z"
   },
   {
    "duration": 12,
    "start_time": "2022-08-08T16:20:45.545Z"
   },
   {
    "duration": 9,
    "start_time": "2022-08-08T16:20:45.558Z"
   },
   {
    "duration": 12,
    "start_time": "2022-08-08T16:20:45.568Z"
   },
   {
    "duration": 9,
    "start_time": "2022-08-08T16:20:45.581Z"
   },
   {
    "duration": 17,
    "start_time": "2022-08-08T16:20:45.591Z"
   },
   {
    "duration": 10,
    "start_time": "2022-08-08T16:20:45.609Z"
   },
   {
    "duration": 7,
    "start_time": "2022-08-08T16:20:45.620Z"
   },
   {
    "duration": 116,
    "start_time": "2022-08-08T16:20:45.629Z"
   },
   {
    "duration": 406,
    "start_time": "2022-08-08T16:20:45.747Z"
   },
   {
    "duration": 956,
    "start_time": "2022-08-08T16:20:46.155Z"
   },
   {
    "duration": 810,
    "start_time": "2022-08-08T16:20:47.120Z"
   },
   {
    "duration": 8462,
    "start_time": "2022-08-08T16:20:47.933Z"
   },
   {
    "duration": 26003,
    "start_time": "2022-08-08T16:20:56.396Z"
   },
   {
    "duration": 20,
    "start_time": "2022-08-08T16:21:22.400Z"
   },
   {
    "duration": 4,
    "start_time": "2022-08-08T16:21:22.421Z"
   },
   {
    "duration": 4,
    "start_time": "2022-08-08T16:21:22.426Z"
   },
   {
    "duration": 28,
    "start_time": "2022-08-08T16:21:22.431Z"
   },
   {
    "duration": 188,
    "start_time": "2022-08-08T16:21:22.460Z"
   },
   {
    "duration": 8,
    "start_time": "2022-08-08T16:21:22.650Z"
   },
   {
    "duration": 103,
    "start_time": "2022-08-08T16:21:22.660Z"
   },
   {
    "duration": 22,
    "start_time": "2022-08-08T16:21:22.764Z"
   },
   {
    "duration": 159,
    "start_time": "2022-08-08T16:21:22.788Z"
   },
   {
    "duration": 7,
    "start_time": "2022-08-08T16:21:22.949Z"
   },
   {
    "duration": 9,
    "start_time": "2022-08-08T16:21:22.957Z"
   },
   {
    "duration": 7,
    "start_time": "2022-08-08T16:21:22.967Z"
   },
   {
    "duration": 100,
    "start_time": "2022-08-08T16:22:24.145Z"
   },
   {
    "duration": 167,
    "start_time": "2022-08-08T16:22:36.027Z"
   },
   {
    "duration": 87,
    "start_time": "2022-08-08T16:22:47.424Z"
   },
   {
    "duration": 27006,
    "start_time": "2022-08-08T16:23:03.028Z"
   },
   {
    "duration": 27862,
    "start_time": "2022-08-08T16:24:11.321Z"
   },
   {
    "duration": 16,
    "start_time": "2022-08-08T16:24:51.803Z"
   },
   {
    "duration": 13453,
    "start_time": "2022-08-08T16:27:04.142Z"
   },
   {
    "duration": 12,
    "start_time": "2022-08-08T16:27:35.072Z"
   },
   {
    "duration": 14185,
    "start_time": "2022-08-08T16:28:22.506Z"
   },
   {
    "duration": 12,
    "start_time": "2022-08-08T16:28:43.224Z"
   },
   {
    "duration": 13602,
    "start_time": "2022-08-08T16:29:31.326Z"
   },
   {
    "duration": 11170,
    "start_time": "2022-08-08T16:31:08.659Z"
   },
   {
    "duration": 8221,
    "start_time": "2022-08-08T16:32:30.824Z"
   },
   {
    "duration": 14,
    "start_time": "2022-08-08T16:32:52.637Z"
   },
   {
    "duration": 13,
    "start_time": "2022-08-08T16:50:53.130Z"
   },
   {
    "duration": 112,
    "start_time": "2022-08-08T16:52:43.884Z"
   },
   {
    "duration": 73,
    "start_time": "2022-08-08T16:53:03.180Z"
   },
   {
    "duration": 7875,
    "start_time": "2022-08-08T16:53:41.299Z"
   },
   {
    "duration": 8235,
    "start_time": "2022-08-08T16:54:53.031Z"
   },
   {
    "duration": 12,
    "start_time": "2022-08-08T16:55:43.444Z"
   },
   {
    "duration": 4,
    "start_time": "2022-08-08T16:56:44.908Z"
   },
   {
    "duration": 37,
    "start_time": "2022-08-08T16:56:44.913Z"
   },
   {
    "duration": 17,
    "start_time": "2022-08-08T16:56:44.951Z"
   },
   {
    "duration": 5,
    "start_time": "2022-08-08T16:56:44.969Z"
   },
   {
    "duration": 6,
    "start_time": "2022-08-08T16:56:44.975Z"
   },
   {
    "duration": 4,
    "start_time": "2022-08-08T16:56:44.983Z"
   },
   {
    "duration": 5,
    "start_time": "2022-08-08T16:56:44.989Z"
   },
   {
    "duration": 20,
    "start_time": "2022-08-08T16:56:44.995Z"
   },
   {
    "duration": 10,
    "start_time": "2022-08-08T16:56:45.017Z"
   },
   {
    "duration": 10,
    "start_time": "2022-08-08T16:56:45.029Z"
   },
   {
    "duration": 8,
    "start_time": "2022-08-08T16:56:45.041Z"
   },
   {
    "duration": 17,
    "start_time": "2022-08-08T16:56:45.050Z"
   },
   {
    "duration": 6,
    "start_time": "2022-08-08T16:56:45.069Z"
   },
   {
    "duration": 7,
    "start_time": "2022-08-08T16:56:45.077Z"
   },
   {
    "duration": 8,
    "start_time": "2022-08-08T16:56:45.085Z"
   },
   {
    "duration": 15,
    "start_time": "2022-08-08T16:56:45.106Z"
   },
   {
    "duration": 7,
    "start_time": "2022-08-08T16:56:45.122Z"
   },
   {
    "duration": 8,
    "start_time": "2022-08-08T16:56:45.130Z"
   },
   {
    "duration": 4,
    "start_time": "2022-08-08T16:56:45.140Z"
   },
   {
    "duration": 15,
    "start_time": "2022-08-08T16:56:45.145Z"
   },
   {
    "duration": 4,
    "start_time": "2022-08-08T16:56:45.161Z"
   },
   {
    "duration": 6,
    "start_time": "2022-08-08T16:56:45.167Z"
   },
   {
    "duration": 147,
    "start_time": "2022-08-08T16:56:45.174Z"
   },
   {
    "duration": 395,
    "start_time": "2022-08-08T16:56:45.325Z"
   },
   {
    "duration": 961,
    "start_time": "2022-08-08T16:56:45.721Z"
   },
   {
    "duration": 817,
    "start_time": "2022-08-08T16:56:46.683Z"
   },
   {
    "duration": 8413,
    "start_time": "2022-08-08T16:56:47.506Z"
   },
   {
    "duration": 8066,
    "start_time": "2022-08-08T16:56:55.921Z"
   },
   {
    "duration": 20,
    "start_time": "2022-08-08T16:57:03.988Z"
   },
   {
    "duration": 10,
    "start_time": "2022-08-08T16:57:04.009Z"
   },
   {
    "duration": 7,
    "start_time": "2022-08-08T16:57:04.020Z"
   },
   {
    "duration": 30,
    "start_time": "2022-08-08T16:57:04.028Z"
   },
   {
    "duration": 193,
    "start_time": "2022-08-08T16:57:04.059Z"
   },
   {
    "duration": 8,
    "start_time": "2022-08-08T16:57:04.253Z"
   },
   {
    "duration": 125,
    "start_time": "2022-08-08T16:57:04.263Z"
   },
   {
    "duration": 33,
    "start_time": "2022-08-08T16:57:04.389Z"
   },
   {
    "duration": 141,
    "start_time": "2022-08-08T16:57:04.424Z"
   },
   {
    "duration": 7,
    "start_time": "2022-08-08T16:57:04.567Z"
   },
   {
    "duration": 7,
    "start_time": "2022-08-08T16:57:04.576Z"
   },
   {
    "duration": 38,
    "start_time": "2022-08-08T16:57:04.584Z"
   },
   {
    "duration": 1146,
    "start_time": "2022-08-09T05:59:38.579Z"
   },
   {
    "duration": 123,
    "start_time": "2022-08-09T05:59:39.727Z"
   },
   {
    "duration": 27,
    "start_time": "2022-08-09T05:59:39.852Z"
   },
   {
    "duration": 6,
    "start_time": "2022-08-09T05:59:39.881Z"
   },
   {
    "duration": 6,
    "start_time": "2022-08-09T05:59:39.890Z"
   },
   {
    "duration": 3,
    "start_time": "2022-08-09T05:59:39.898Z"
   },
   {
    "duration": 10,
    "start_time": "2022-08-09T05:59:39.903Z"
   },
   {
    "duration": 12,
    "start_time": "2022-08-09T05:59:39.914Z"
   },
   {
    "duration": 7,
    "start_time": "2022-08-09T05:59:39.928Z"
   },
   {
    "duration": 10,
    "start_time": "2022-08-09T05:59:39.936Z"
   },
   {
    "duration": 12,
    "start_time": "2022-08-09T05:59:39.948Z"
   },
   {
    "duration": 14,
    "start_time": "2022-08-09T05:59:39.961Z"
   },
   {
    "duration": 7,
    "start_time": "2022-08-09T05:59:39.977Z"
   },
   {
    "duration": 5,
    "start_time": "2022-08-09T05:59:40.001Z"
   },
   {
    "duration": 6,
    "start_time": "2022-08-09T05:59:40.007Z"
   },
   {
    "duration": 12,
    "start_time": "2022-08-09T05:59:40.015Z"
   },
   {
    "duration": 6,
    "start_time": "2022-08-09T05:59:40.029Z"
   },
   {
    "duration": 9,
    "start_time": "2022-08-09T05:59:40.037Z"
   },
   {
    "duration": 9,
    "start_time": "2022-08-09T05:59:40.048Z"
   },
   {
    "duration": 45,
    "start_time": "2022-08-09T05:59:40.058Z"
   },
   {
    "duration": 5,
    "start_time": "2022-08-09T05:59:40.105Z"
   },
   {
    "duration": 9,
    "start_time": "2022-08-09T05:59:40.112Z"
   },
   {
    "duration": 157,
    "start_time": "2022-08-09T05:59:40.123Z"
   },
   {
    "duration": 496,
    "start_time": "2022-08-09T05:59:40.282Z"
   },
   {
    "duration": 1013,
    "start_time": "2022-08-09T05:59:40.779Z"
   },
   {
    "duration": 946,
    "start_time": "2022-08-09T05:59:41.798Z"
   },
   {
    "duration": 9084,
    "start_time": "2022-08-09T05:59:42.745Z"
   },
   {
    "duration": 125,
    "start_time": "2022-08-09T05:59:51.831Z"
   },
   {
    "duration": 0,
    "start_time": "2022-08-09T05:59:51.958Z"
   },
   {
    "duration": 0,
    "start_time": "2022-08-09T05:59:51.959Z"
   },
   {
    "duration": 0,
    "start_time": "2022-08-09T05:59:51.960Z"
   },
   {
    "duration": 0,
    "start_time": "2022-08-09T05:59:51.961Z"
   },
   {
    "duration": 0,
    "start_time": "2022-08-09T05:59:51.961Z"
   },
   {
    "duration": 0,
    "start_time": "2022-08-09T05:59:51.962Z"
   },
   {
    "duration": 0,
    "start_time": "2022-08-09T05:59:51.963Z"
   },
   {
    "duration": 0,
    "start_time": "2022-08-09T05:59:51.963Z"
   },
   {
    "duration": 0,
    "start_time": "2022-08-09T05:59:51.964Z"
   },
   {
    "duration": 0,
    "start_time": "2022-08-09T05:59:51.966Z"
   },
   {
    "duration": 0,
    "start_time": "2022-08-09T05:59:51.968Z"
   },
   {
    "duration": 0,
    "start_time": "2022-08-09T05:59:51.969Z"
   },
   {
    "duration": 8,
    "start_time": "2022-08-09T06:02:42.059Z"
   },
   {
    "duration": 8,
    "start_time": "2022-08-09T06:02:55.888Z"
   },
   {
    "duration": 10,
    "start_time": "2022-08-09T06:04:02.298Z"
   },
   {
    "duration": 55,
    "start_time": "2022-08-09T06:05:54.612Z"
   },
   {
    "duration": 48,
    "start_time": "2022-08-09T06:07:05.967Z"
   },
   {
    "duration": 3,
    "start_time": "2022-08-09T06:07:28.796Z"
   },
   {
    "duration": 39276,
    "start_time": "2022-08-09T06:11:06.043Z"
   },
   {
    "duration": 4,
    "start_time": "2022-08-09T06:17:16.149Z"
   },
   {
    "duration": 3,
    "start_time": "2022-08-09T06:18:22.533Z"
   },
   {
    "duration": 12,
    "start_time": "2022-08-09T06:19:34.487Z"
   },
   {
    "duration": 41,
    "start_time": "2022-08-09T06:19:34.501Z"
   },
   {
    "duration": 22,
    "start_time": "2022-08-09T06:19:34.545Z"
   },
   {
    "duration": 6,
    "start_time": "2022-08-09T06:19:34.569Z"
   },
   {
    "duration": 13,
    "start_time": "2022-08-09T06:19:34.578Z"
   },
   {
    "duration": 9,
    "start_time": "2022-08-09T06:19:34.593Z"
   },
   {
    "duration": 9,
    "start_time": "2022-08-09T06:19:34.604Z"
   },
   {
    "duration": 13,
    "start_time": "2022-08-09T06:19:34.614Z"
   },
   {
    "duration": 5,
    "start_time": "2022-08-09T06:19:34.630Z"
   },
   {
    "duration": 20,
    "start_time": "2022-08-09T06:19:34.637Z"
   },
   {
    "duration": 7,
    "start_time": "2022-08-09T06:19:34.659Z"
   },
   {
    "duration": 16,
    "start_time": "2022-08-09T06:19:34.667Z"
   },
   {
    "duration": 5,
    "start_time": "2022-08-09T06:19:34.685Z"
   },
   {
    "duration": 12,
    "start_time": "2022-08-09T06:19:34.692Z"
   },
   {
    "duration": 5,
    "start_time": "2022-08-09T06:19:34.705Z"
   },
   {
    "duration": 10,
    "start_time": "2022-08-09T06:19:34.712Z"
   },
   {
    "duration": 8,
    "start_time": "2022-08-09T06:19:34.723Z"
   },
   {
    "duration": 7,
    "start_time": "2022-08-09T06:19:34.732Z"
   },
   {
    "duration": 5,
    "start_time": "2022-08-09T06:19:34.741Z"
   },
   {
    "duration": 22,
    "start_time": "2022-08-09T06:19:34.747Z"
   },
   {
    "duration": 4,
    "start_time": "2022-08-09T06:19:34.771Z"
   },
   {
    "duration": 24,
    "start_time": "2022-08-09T06:19:34.776Z"
   },
   {
    "duration": 150,
    "start_time": "2022-08-09T06:19:34.801Z"
   },
   {
    "duration": 494,
    "start_time": "2022-08-09T06:19:34.953Z"
   },
   {
    "duration": 1129,
    "start_time": "2022-08-09T06:19:35.448Z"
   },
   {
    "duration": 932,
    "start_time": "2022-08-09T06:19:36.579Z"
   },
   {
    "duration": 8989,
    "start_time": "2022-08-09T06:19:37.514Z"
   },
   {
    "duration": 36927,
    "start_time": "2022-08-09T06:19:46.505Z"
   },
   {
    "duration": 4,
    "start_time": "2022-08-09T06:20:23.454Z"
   },
   {
    "duration": 11,
    "start_time": "2022-08-09T06:20:23.459Z"
   },
   {
    "duration": 34,
    "start_time": "2022-08-09T06:20:23.472Z"
   },
   {
    "duration": 170,
    "start_time": "2022-08-09T06:20:23.507Z"
   },
   {
    "duration": 21,
    "start_time": "2022-08-09T06:20:23.678Z"
   },
   {
    "duration": 137,
    "start_time": "2022-08-09T06:20:23.701Z"
   },
   {
    "duration": 23,
    "start_time": "2022-08-09T06:20:23.839Z"
   },
   {
    "duration": 648,
    "start_time": "2022-08-09T06:20:23.864Z"
   },
   {
    "duration": 11,
    "start_time": "2022-08-09T06:20:24.515Z"
   },
   {
    "duration": 17,
    "start_time": "2022-08-09T06:20:24.528Z"
   },
   {
    "duration": 10,
    "start_time": "2022-08-09T06:20:24.546Z"
   },
   {
    "duration": 4,
    "start_time": "2022-08-09T06:20:24.560Z"
   },
   {
    "duration": 40,
    "start_time": "2022-08-09T06:20:24.566Z"
   },
   {
    "duration": 37845,
    "start_time": "2022-08-09T06:20:47.138Z"
   },
   {
    "duration": 39138,
    "start_time": "2022-08-09T06:22:26.915Z"
   },
   {
    "duration": 4,
    "start_time": "2022-08-09T06:23:06.056Z"
   },
   {
    "duration": 37653,
    "start_time": "2022-08-09T06:23:46.306Z"
   },
   {
    "duration": 4,
    "start_time": "2022-08-09T06:24:23.961Z"
   },
   {
    "duration": 4,
    "start_time": "2022-08-09T06:24:24.491Z"
   },
   {
    "duration": 40,
    "start_time": "2022-08-09T06:24:24.497Z"
   },
   {
    "duration": 24,
    "start_time": "2022-08-09T06:24:24.540Z"
   },
   {
    "duration": 6,
    "start_time": "2022-08-09T06:24:24.566Z"
   },
   {
    "duration": 26,
    "start_time": "2022-08-09T06:24:24.575Z"
   },
   {
    "duration": 5,
    "start_time": "2022-08-09T06:24:24.603Z"
   },
   {
    "duration": 7,
    "start_time": "2022-08-09T06:24:24.610Z"
   },
   {
    "duration": 12,
    "start_time": "2022-08-09T06:24:24.618Z"
   },
   {
    "duration": 6,
    "start_time": "2022-08-09T06:24:24.632Z"
   },
   {
    "duration": 7,
    "start_time": "2022-08-09T06:24:24.640Z"
   },
   {
    "duration": 4,
    "start_time": "2022-08-09T06:24:24.649Z"
   },
   {
    "duration": 11,
    "start_time": "2022-08-09T06:24:24.654Z"
   },
   {
    "duration": 33,
    "start_time": "2022-08-09T06:24:24.667Z"
   },
   {
    "duration": 6,
    "start_time": "2022-08-09T06:24:24.702Z"
   },
   {
    "duration": 7,
    "start_time": "2022-08-09T06:24:24.710Z"
   },
   {
    "duration": 12,
    "start_time": "2022-08-09T06:24:24.718Z"
   },
   {
    "duration": 9,
    "start_time": "2022-08-09T06:24:24.731Z"
   },
   {
    "duration": 7,
    "start_time": "2022-08-09T06:24:24.741Z"
   },
   {
    "duration": 5,
    "start_time": "2022-08-09T06:24:24.749Z"
   },
   {
    "duration": 17,
    "start_time": "2022-08-09T06:24:24.756Z"
   },
   {
    "duration": 27,
    "start_time": "2022-08-09T06:24:24.774Z"
   },
   {
    "duration": 8,
    "start_time": "2022-08-09T06:24:24.803Z"
   },
   {
    "duration": 145,
    "start_time": "2022-08-09T06:24:24.813Z"
   },
   {
    "duration": 475,
    "start_time": "2022-08-09T06:24:24.960Z"
   },
   {
    "duration": 1069,
    "start_time": "2022-08-09T06:24:25.437Z"
   },
   {
    "duration": 971,
    "start_time": "2022-08-09T06:24:26.507Z"
   },
   {
    "duration": 9318,
    "start_time": "2022-08-09T06:24:27.480Z"
   },
   {
    "duration": 37686,
    "start_time": "2022-08-09T06:24:36.799Z"
   },
   {
    "duration": 5,
    "start_time": "2022-08-09T06:25:14.500Z"
   },
   {
    "duration": 17,
    "start_time": "2022-08-09T06:25:14.506Z"
   },
   {
    "duration": 12,
    "start_time": "2022-08-09T06:25:14.525Z"
   },
   {
    "duration": 11,
    "start_time": "2022-08-09T06:25:14.539Z"
   },
   {
    "duration": 34,
    "start_time": "2022-08-09T06:25:14.552Z"
   },
   {
    "duration": 222,
    "start_time": "2022-08-09T06:25:14.588Z"
   },
   {
    "duration": 12,
    "start_time": "2022-08-09T06:25:14.812Z"
   },
   {
    "duration": 157,
    "start_time": "2022-08-09T06:25:14.826Z"
   },
   {
    "duration": 30,
    "start_time": "2022-08-09T06:25:14.985Z"
   },
   {
    "duration": 161,
    "start_time": "2022-08-09T06:25:15.017Z"
   },
   {
    "duration": 17,
    "start_time": "2022-08-09T06:25:15.181Z"
   },
   {
    "duration": 9,
    "start_time": "2022-08-09T06:25:15.201Z"
   },
   {
    "duration": 8,
    "start_time": "2022-08-09T06:25:15.211Z"
   },
   {
    "duration": 3,
    "start_time": "2022-08-09T06:25:50.442Z"
   },
   {
    "duration": 2,
    "start_time": "2022-08-09T06:53:06.274Z"
   },
   {
    "duration": 130,
    "start_time": "2022-08-09T06:53:20.914Z"
   },
   {
    "duration": 216,
    "start_time": "2022-08-09T06:53:40.231Z"
   },
   {
    "duration": 147,
    "start_time": "2022-08-09T06:57:10.872Z"
   },
   {
    "duration": 171,
    "start_time": "2022-08-09T07:04:33.423Z"
   },
   {
    "duration": 147,
    "start_time": "2022-08-09T07:05:12.446Z"
   },
   {
    "duration": 62,
    "start_time": "2022-08-09T07:06:05.654Z"
   },
   {
    "duration": 152,
    "start_time": "2022-08-09T07:06:11.537Z"
   },
   {
    "duration": 149,
    "start_time": "2022-08-09T07:06:26.157Z"
   },
   {
    "duration": 147,
    "start_time": "2022-08-09T07:09:55.256Z"
   },
   {
    "duration": 161,
    "start_time": "2022-08-09T07:10:47.388Z"
   },
   {
    "duration": 125,
    "start_time": "2022-08-09T07:14:06.935Z"
   },
   {
    "duration": 151,
    "start_time": "2022-08-09T07:14:20.131Z"
   },
   {
    "duration": 26,
    "start_time": "2022-08-09T07:15:46.485Z"
   },
   {
    "duration": 170,
    "start_time": "2022-08-09T07:16:04.264Z"
   },
   {
    "duration": 15,
    "start_time": "2022-08-09T10:16:17.015Z"
   },
   {
    "duration": 217,
    "start_time": "2022-08-09T10:19:02.822Z"
   },
   {
    "duration": 163,
    "start_time": "2022-08-09T10:20:34.365Z"
   },
   {
    "duration": 146,
    "start_time": "2022-08-09T10:21:53.332Z"
   },
   {
    "duration": 149,
    "start_time": "2022-08-09T10:23:05.259Z"
   },
   {
    "duration": 45,
    "start_time": "2022-08-09T10:26:34.256Z"
   },
   {
    "duration": 56,
    "start_time": "2022-08-09T10:27:19.214Z"
   },
   {
    "duration": 38,
    "start_time": "2022-08-09T10:27:31.070Z"
   },
   {
    "duration": 180,
    "start_time": "2022-08-09T10:27:36.847Z"
   },
   {
    "duration": 18,
    "start_time": "2022-08-09T10:27:48.797Z"
   },
   {
    "duration": 141,
    "start_time": "2022-08-09T10:27:57.391Z"
   },
   {
    "duration": 62,
    "start_time": "2022-08-09T10:49:34.037Z"
   },
   {
    "duration": 69,
    "start_time": "2022-08-09T10:49:46.722Z"
   },
   {
    "duration": 58,
    "start_time": "2022-08-09T10:49:56.280Z"
   },
   {
    "duration": 133,
    "start_time": "2022-08-09T10:50:10.457Z"
   },
   {
    "duration": 175,
    "start_time": "2022-08-09T10:50:19.041Z"
   },
   {
    "duration": 52,
    "start_time": "2022-08-09T10:52:59.435Z"
   },
   {
    "duration": 78,
    "start_time": "2022-08-09T10:53:30.588Z"
   },
   {
    "duration": 52,
    "start_time": "2022-08-09T10:53:59.812Z"
   },
   {
    "duration": 161,
    "start_time": "2022-08-09T10:54:19.041Z"
   },
   {
    "duration": 68,
    "start_time": "2022-08-09T10:57:02.357Z"
   },
   {
    "duration": 23,
    "start_time": "2022-08-09T11:00:29.614Z"
   },
   {
    "duration": 156,
    "start_time": "2022-08-09T11:02:07.190Z"
   },
   {
    "duration": 16,
    "start_time": "2022-08-09T11:03:08.404Z"
   },
   {
    "duration": 6,
    "start_time": "2022-08-09T11:03:50.245Z"
   },
   {
    "duration": 23,
    "start_time": "2022-08-09T11:05:56.682Z"
   },
   {
    "duration": 15,
    "start_time": "2022-08-09T11:07:12.303Z"
   },
   {
    "duration": 19,
    "start_time": "2022-08-09T11:07:56.112Z"
   },
   {
    "duration": 23,
    "start_time": "2022-08-09T11:08:31.868Z"
   },
   {
    "duration": 12,
    "start_time": "2022-08-09T11:09:18.596Z"
   },
   {
    "duration": 26,
    "start_time": "2022-08-09T11:09:42.795Z"
   },
   {
    "duration": 31,
    "start_time": "2022-08-09T11:10:56.444Z"
   },
   {
    "duration": 43,
    "start_time": "2022-08-09T11:11:14.446Z"
   },
   {
    "duration": 33,
    "start_time": "2022-08-09T11:13:49.746Z"
   },
   {
    "duration": 138,
    "start_time": "2022-08-09T11:14:35.638Z"
   },
   {
    "duration": 33,
    "start_time": "2022-08-09T11:14:46.157Z"
   },
   {
    "duration": 39462,
    "start_time": "2022-08-09T11:23:42.793Z"
   },
   {
    "duration": 2,
    "start_time": "2022-08-09T11:24:22.257Z"
   },
   {
    "duration": 10,
    "start_time": "2022-08-09T11:24:22.261Z"
   },
   {
    "duration": 10,
    "start_time": "2022-08-09T11:31:46.372Z"
   },
   {
    "duration": 40283,
    "start_time": "2022-08-09T11:32:01.334Z"
   },
   {
    "duration": 22097,
    "start_time": "2022-08-09T11:32:44.913Z"
   },
   {
    "duration": 3,
    "start_time": "2022-08-09T11:33:13.577Z"
   },
   {
    "duration": 12,
    "start_time": "2022-08-09T11:33:31.497Z"
   },
   {
    "duration": 129,
    "start_time": "2022-08-09T11:34:26.413Z"
   },
   {
    "duration": 3,
    "start_time": "2022-08-09T11:45:28.386Z"
   },
   {
    "duration": 21799,
    "start_time": "2022-08-09T11:50:50.756Z"
   },
   {
    "duration": 3,
    "start_time": "2022-08-09T11:51:12.557Z"
   },
   {
    "duration": 12,
    "start_time": "2022-08-09T11:52:13.995Z"
   },
   {
    "duration": 3,
    "start_time": "2022-08-09T11:53:27.461Z"
   },
   {
    "duration": 4,
    "start_time": "2022-08-09T11:55:04.646Z"
   },
   {
    "duration": 4,
    "start_time": "2022-08-09T11:55:12.008Z"
   },
   {
    "duration": 3,
    "start_time": "2022-08-09T11:55:34.139Z"
   },
   {
    "duration": 4,
    "start_time": "2022-08-09T11:55:51.104Z"
   },
   {
    "duration": 11,
    "start_time": "2022-08-09T11:59:00.054Z"
   },
   {
    "duration": 73,
    "start_time": "2022-08-09T11:59:24.312Z"
   },
   {
    "duration": 68,
    "start_time": "2022-08-09T12:03:27.136Z"
   },
   {
    "duration": 132,
    "start_time": "2022-08-09T12:06:56.398Z"
   },
   {
    "duration": 21709,
    "start_time": "2022-08-09T12:11:36.136Z"
   },
   {
    "duration": 8,
    "start_time": "2022-08-09T12:12:59.774Z"
   },
   {
    "duration": 8,
    "start_time": "2022-08-09T12:13:12.073Z"
   },
   {
    "duration": 10,
    "start_time": "2022-08-09T12:13:14.886Z"
   },
   {
    "duration": 11,
    "start_time": "2022-08-09T12:13:22.179Z"
   },
   {
    "duration": 3,
    "start_time": "2022-08-09T12:17:46.455Z"
   },
   {
    "duration": 36,
    "start_time": "2022-08-09T12:17:46.461Z"
   },
   {
    "duration": 22,
    "start_time": "2022-08-09T12:17:46.499Z"
   },
   {
    "duration": 6,
    "start_time": "2022-08-09T12:17:46.522Z"
   },
   {
    "duration": 8,
    "start_time": "2022-08-09T12:17:46.529Z"
   },
   {
    "duration": 3,
    "start_time": "2022-08-09T12:17:46.540Z"
   },
   {
    "duration": 8,
    "start_time": "2022-08-09T12:17:46.545Z"
   },
   {
    "duration": 47,
    "start_time": "2022-08-09T12:17:46.555Z"
   },
   {
    "duration": 8,
    "start_time": "2022-08-09T12:17:46.604Z"
   },
   {
    "duration": 8,
    "start_time": "2022-08-09T12:17:46.614Z"
   },
   {
    "duration": 6,
    "start_time": "2022-08-09T12:17:46.624Z"
   },
   {
    "duration": 11,
    "start_time": "2022-08-09T12:17:46.631Z"
   },
   {
    "duration": 6,
    "start_time": "2022-08-09T12:17:46.643Z"
   },
   {
    "duration": 6,
    "start_time": "2022-08-09T12:17:46.650Z"
   },
   {
    "duration": 4,
    "start_time": "2022-08-09T12:17:46.659Z"
   },
   {
    "duration": 39,
    "start_time": "2022-08-09T12:17:46.665Z"
   },
   {
    "duration": 11,
    "start_time": "2022-08-09T12:17:46.706Z"
   },
   {
    "duration": 6,
    "start_time": "2022-08-09T12:17:46.719Z"
   },
   {
    "duration": 6,
    "start_time": "2022-08-09T12:17:46.726Z"
   },
   {
    "duration": 32,
    "start_time": "2022-08-09T12:17:46.733Z"
   },
   {
    "duration": 4,
    "start_time": "2022-08-09T12:17:46.767Z"
   },
   {
    "duration": 10,
    "start_time": "2022-08-09T12:17:46.773Z"
   },
   {
    "duration": 149,
    "start_time": "2022-08-09T12:17:46.784Z"
   },
   {
    "duration": 482,
    "start_time": "2022-08-09T12:17:46.935Z"
   },
   {
    "duration": 1091,
    "start_time": "2022-08-09T12:17:47.418Z"
   },
   {
    "duration": 984,
    "start_time": "2022-08-09T12:17:48.511Z"
   },
   {
    "duration": 7,
    "start_time": "2022-08-09T12:17:49.497Z"
   },
   {
    "duration": 22439,
    "start_time": "2022-08-09T12:17:49.510Z"
   },
   {
    "duration": 4,
    "start_time": "2022-08-09T12:18:11.951Z"
   },
   {
    "duration": 19,
    "start_time": "2022-08-09T12:18:11.956Z"
   },
   {
    "duration": 40,
    "start_time": "2022-08-09T12:18:11.977Z"
   },
   {
    "duration": 195,
    "start_time": "2022-08-09T12:18:12.019Z"
   },
   {
    "duration": 9,
    "start_time": "2022-08-09T12:18:12.216Z"
   },
   {
    "duration": 145,
    "start_time": "2022-08-09T12:18:12.227Z"
   },
   {
    "duration": 28,
    "start_time": "2022-08-09T12:18:12.373Z"
   },
   {
    "duration": 167,
    "start_time": "2022-08-09T12:18:12.403Z"
   },
   {
    "duration": 8,
    "start_time": "2022-08-09T12:18:12.571Z"
   },
   {
    "duration": 21,
    "start_time": "2022-08-09T12:18:12.580Z"
   },
   {
    "duration": 10,
    "start_time": "2022-08-09T12:18:12.603Z"
   },
   {
    "duration": 1104,
    "start_time": "2022-08-19T07:56:13.174Z"
   },
   {
    "duration": 81,
    "start_time": "2022-08-19T07:56:17.829Z"
   },
   {
    "duration": 105,
    "start_time": "2022-08-19T07:56:21.257Z"
   },
   {
    "duration": 23,
    "start_time": "2022-08-19T07:56:44.177Z"
   },
   {
    "duration": 101,
    "start_time": "2022-08-19T08:00:31.930Z"
   },
   {
    "duration": 3,
    "start_time": "2022-08-19T08:00:35.449Z"
   },
   {
    "duration": 45,
    "start_time": "2022-08-19T08:00:35.453Z"
   },
   {
    "duration": 17,
    "start_time": "2022-08-19T08:00:35.501Z"
   },
   {
    "duration": 2175,
    "start_time": "2022-08-19T08:00:35.520Z"
   },
   {
    "duration": 0,
    "start_time": "2022-08-19T08:00:37.698Z"
   },
   {
    "duration": 0,
    "start_time": "2022-08-19T08:00:37.699Z"
   },
   {
    "duration": 0,
    "start_time": "2022-08-19T08:00:37.700Z"
   },
   {
    "duration": 0,
    "start_time": "2022-08-19T08:00:37.701Z"
   },
   {
    "duration": 0,
    "start_time": "2022-08-19T08:00:37.702Z"
   },
   {
    "duration": 0,
    "start_time": "2022-08-19T08:00:37.703Z"
   },
   {
    "duration": 0,
    "start_time": "2022-08-19T08:00:37.704Z"
   },
   {
    "duration": 0,
    "start_time": "2022-08-19T08:00:37.705Z"
   },
   {
    "duration": 0,
    "start_time": "2022-08-19T08:00:37.706Z"
   },
   {
    "duration": 0,
    "start_time": "2022-08-19T08:00:37.707Z"
   },
   {
    "duration": 0,
    "start_time": "2022-08-19T08:00:37.709Z"
   },
   {
    "duration": 0,
    "start_time": "2022-08-19T08:00:37.710Z"
   },
   {
    "duration": 0,
    "start_time": "2022-08-19T08:00:37.711Z"
   },
   {
    "duration": 0,
    "start_time": "2022-08-19T08:00:37.712Z"
   },
   {
    "duration": 0,
    "start_time": "2022-08-19T08:00:37.712Z"
   },
   {
    "duration": 0,
    "start_time": "2022-08-19T08:00:37.714Z"
   },
   {
    "duration": 1,
    "start_time": "2022-08-19T08:00:37.714Z"
   },
   {
    "duration": 0,
    "start_time": "2022-08-19T08:00:37.716Z"
   },
   {
    "duration": 0,
    "start_time": "2022-08-19T08:00:37.717Z"
   },
   {
    "duration": 0,
    "start_time": "2022-08-19T08:00:37.718Z"
   },
   {
    "duration": 0,
    "start_time": "2022-08-19T08:00:37.719Z"
   },
   {
    "duration": 0,
    "start_time": "2022-08-19T08:00:37.719Z"
   },
   {
    "duration": 0,
    "start_time": "2022-08-19T08:00:37.720Z"
   },
   {
    "duration": 0,
    "start_time": "2022-08-19T08:00:37.721Z"
   },
   {
    "duration": 0,
    "start_time": "2022-08-19T08:00:37.722Z"
   },
   {
    "duration": 0,
    "start_time": "2022-08-19T08:00:37.723Z"
   },
   {
    "duration": 0,
    "start_time": "2022-08-19T08:00:37.724Z"
   },
   {
    "duration": 0,
    "start_time": "2022-08-19T08:00:37.724Z"
   },
   {
    "duration": 0,
    "start_time": "2022-08-19T08:00:37.725Z"
   },
   {
    "duration": 0,
    "start_time": "2022-08-19T08:00:37.726Z"
   },
   {
    "duration": 0,
    "start_time": "2022-08-19T08:00:37.727Z"
   },
   {
    "duration": 0,
    "start_time": "2022-08-19T08:00:37.728Z"
   },
   {
    "duration": 0,
    "start_time": "2022-08-19T08:00:37.729Z"
   },
   {
    "duration": 0,
    "start_time": "2022-08-19T08:00:37.730Z"
   },
   {
    "duration": 0,
    "start_time": "2022-08-19T08:00:37.732Z"
   },
   {
    "duration": 3,
    "start_time": "2022-08-19T08:04:51.165Z"
   },
   {
    "duration": 50,
    "start_time": "2022-08-19T08:04:51.170Z"
   },
   {
    "duration": 0,
    "start_time": "2022-08-19T08:04:51.222Z"
   },
   {
    "duration": 0,
    "start_time": "2022-08-19T08:04:51.223Z"
   },
   {
    "duration": 0,
    "start_time": "2022-08-19T08:04:51.224Z"
   },
   {
    "duration": 0,
    "start_time": "2022-08-19T08:04:51.225Z"
   },
   {
    "duration": 0,
    "start_time": "2022-08-19T08:04:51.226Z"
   },
   {
    "duration": 0,
    "start_time": "2022-08-19T08:04:51.227Z"
   },
   {
    "duration": 0,
    "start_time": "2022-08-19T08:04:51.228Z"
   },
   {
    "duration": 0,
    "start_time": "2022-08-19T08:04:51.229Z"
   },
   {
    "duration": 0,
    "start_time": "2022-08-19T08:04:51.230Z"
   },
   {
    "duration": 0,
    "start_time": "2022-08-19T08:04:51.231Z"
   },
   {
    "duration": 0,
    "start_time": "2022-08-19T08:04:51.232Z"
   },
   {
    "duration": 0,
    "start_time": "2022-08-19T08:04:51.233Z"
   },
   {
    "duration": 0,
    "start_time": "2022-08-19T08:04:51.234Z"
   },
   {
    "duration": 0,
    "start_time": "2022-08-19T08:04:51.235Z"
   },
   {
    "duration": 0,
    "start_time": "2022-08-19T08:04:51.236Z"
   },
   {
    "duration": 0,
    "start_time": "2022-08-19T08:04:51.237Z"
   },
   {
    "duration": 0,
    "start_time": "2022-08-19T08:04:51.238Z"
   },
   {
    "duration": 0,
    "start_time": "2022-08-19T08:04:51.239Z"
   },
   {
    "duration": 0,
    "start_time": "2022-08-19T08:04:51.240Z"
   },
   {
    "duration": 0,
    "start_time": "2022-08-19T08:04:51.240Z"
   },
   {
    "duration": 0,
    "start_time": "2022-08-19T08:04:51.241Z"
   },
   {
    "duration": 13,
    "start_time": "2022-08-19T08:04:51.244Z"
   },
   {
    "duration": 0,
    "start_time": "2022-08-19T08:04:51.300Z"
   },
   {
    "duration": 0,
    "start_time": "2022-08-19T08:04:51.302Z"
   },
   {
    "duration": 0,
    "start_time": "2022-08-19T08:04:51.303Z"
   },
   {
    "duration": 0,
    "start_time": "2022-08-19T08:04:51.304Z"
   },
   {
    "duration": 0,
    "start_time": "2022-08-19T08:04:51.305Z"
   },
   {
    "duration": 0,
    "start_time": "2022-08-19T08:04:51.306Z"
   },
   {
    "duration": 0,
    "start_time": "2022-08-19T08:04:51.307Z"
   },
   {
    "duration": 0,
    "start_time": "2022-08-19T08:04:51.308Z"
   },
   {
    "duration": 0,
    "start_time": "2022-08-19T08:04:51.309Z"
   },
   {
    "duration": 0,
    "start_time": "2022-08-19T08:04:51.310Z"
   },
   {
    "duration": 0,
    "start_time": "2022-08-19T08:04:51.311Z"
   },
   {
    "duration": 0,
    "start_time": "2022-08-19T08:04:51.312Z"
   },
   {
    "duration": 0,
    "start_time": "2022-08-19T08:04:51.313Z"
   },
   {
    "duration": 0,
    "start_time": "2022-08-19T08:04:51.314Z"
   },
   {
    "duration": 0,
    "start_time": "2022-08-19T08:04:51.315Z"
   },
   {
    "duration": 122,
    "start_time": "2022-08-19T08:06:18.256Z"
   },
   {
    "duration": 3,
    "start_time": "2022-08-19T08:06:22.538Z"
   },
   {
    "duration": 34,
    "start_time": "2022-08-19T08:06:22.543Z"
   },
   {
    "duration": 18,
    "start_time": "2022-08-19T08:06:22.579Z"
   },
   {
    "duration": 5,
    "start_time": "2022-08-19T08:06:22.598Z"
   },
   {
    "duration": 12,
    "start_time": "2022-08-19T08:06:22.605Z"
   },
   {
    "duration": 17,
    "start_time": "2022-08-19T08:06:22.618Z"
   },
   {
    "duration": 10,
    "start_time": "2022-08-19T08:06:22.636Z"
   },
   {
    "duration": 13,
    "start_time": "2022-08-19T08:06:22.648Z"
   },
   {
    "duration": 13,
    "start_time": "2022-08-19T08:06:22.663Z"
   },
   {
    "duration": 21,
    "start_time": "2022-08-19T08:06:22.679Z"
   },
   {
    "duration": 8,
    "start_time": "2022-08-19T08:06:22.702Z"
   },
   {
    "duration": 13,
    "start_time": "2022-08-19T08:06:22.711Z"
   },
   {
    "duration": 7,
    "start_time": "2022-08-19T08:06:22.725Z"
   },
   {
    "duration": 5,
    "start_time": "2022-08-19T08:06:22.735Z"
   },
   {
    "duration": 7,
    "start_time": "2022-08-19T08:06:22.742Z"
   },
   {
    "duration": 12,
    "start_time": "2022-08-19T08:06:22.750Z"
   },
   {
    "duration": 10,
    "start_time": "2022-08-19T08:06:22.764Z"
   },
   {
    "duration": 9,
    "start_time": "2022-08-19T08:06:22.776Z"
   },
   {
    "duration": 13,
    "start_time": "2022-08-19T08:06:22.787Z"
   },
   {
    "duration": 16,
    "start_time": "2022-08-19T08:06:22.802Z"
   },
   {
    "duration": 4,
    "start_time": "2022-08-19T08:06:22.820Z"
   },
   {
    "duration": 7,
    "start_time": "2022-08-19T08:06:22.826Z"
   },
   {
    "duration": 131,
    "start_time": "2022-08-19T08:06:22.834Z"
   },
   {
    "duration": 395,
    "start_time": "2022-08-19T08:06:22.967Z"
   },
   {
    "duration": 912,
    "start_time": "2022-08-19T08:06:23.364Z"
   },
   {
    "duration": 878,
    "start_time": "2022-08-19T08:06:24.278Z"
   },
   {
    "duration": 2,
    "start_time": "2022-08-19T08:06:25.158Z"
   },
   {
    "duration": 20187,
    "start_time": "2022-08-19T08:06:25.162Z"
   },
   {
    "duration": 3,
    "start_time": "2022-08-19T08:06:45.351Z"
   },
   {
    "duration": 17,
    "start_time": "2022-08-19T08:06:45.355Z"
   },
   {
    "duration": 40,
    "start_time": "2022-08-19T08:06:45.373Z"
   },
   {
    "duration": 239,
    "start_time": "2022-08-19T08:06:45.415Z"
   },
   {
    "duration": 10,
    "start_time": "2022-08-19T08:06:45.655Z"
   },
   {
    "duration": 131,
    "start_time": "2022-08-19T08:06:45.666Z"
   },
   {
    "duration": 24,
    "start_time": "2022-08-19T08:06:45.799Z"
   },
   {
    "duration": 507,
    "start_time": "2022-08-19T08:06:45.825Z"
   },
   {
    "duration": 9,
    "start_time": "2022-08-19T08:06:46.334Z"
   },
   {
    "duration": 7,
    "start_time": "2022-08-19T08:06:46.345Z"
   },
   {
    "duration": 8,
    "start_time": "2022-08-19T08:06:46.354Z"
   },
   {
    "duration": 3,
    "start_time": "2022-08-19T08:07:58.575Z"
   },
   {
    "duration": 39,
    "start_time": "2022-08-19T08:07:58.580Z"
   },
   {
    "duration": 17,
    "start_time": "2022-08-19T08:07:58.620Z"
   },
   {
    "duration": 5,
    "start_time": "2022-08-19T08:07:58.639Z"
   },
   {
    "duration": 7,
    "start_time": "2022-08-19T08:07:58.645Z"
   },
   {
    "duration": 7,
    "start_time": "2022-08-19T08:07:58.653Z"
   },
   {
    "duration": 5,
    "start_time": "2022-08-19T08:07:58.662Z"
   },
   {
    "duration": 11,
    "start_time": "2022-08-19T08:07:58.668Z"
   },
   {
    "duration": 4,
    "start_time": "2022-08-19T08:07:58.700Z"
   },
   {
    "duration": 7,
    "start_time": "2022-08-19T08:07:58.705Z"
   },
   {
    "duration": 5,
    "start_time": "2022-08-19T08:07:58.713Z"
   },
   {
    "duration": 10,
    "start_time": "2022-08-19T08:07:58.720Z"
   },
   {
    "duration": 6,
    "start_time": "2022-08-19T08:07:58.732Z"
   },
   {
    "duration": 5,
    "start_time": "2022-08-19T08:07:58.740Z"
   },
   {
    "duration": 4,
    "start_time": "2022-08-19T08:07:58.747Z"
   },
   {
    "duration": 10,
    "start_time": "2022-08-19T08:07:58.753Z"
   },
   {
    "duration": 5,
    "start_time": "2022-08-19T08:07:58.764Z"
   },
   {
    "duration": 5,
    "start_time": "2022-08-19T08:07:58.799Z"
   },
   {
    "duration": 4,
    "start_time": "2022-08-19T08:07:58.806Z"
   },
   {
    "duration": 15,
    "start_time": "2022-08-19T08:07:58.812Z"
   },
   {
    "duration": 5,
    "start_time": "2022-08-19T08:07:58.829Z"
   },
   {
    "duration": 8,
    "start_time": "2022-08-19T08:07:58.835Z"
   },
   {
    "duration": 135,
    "start_time": "2022-08-19T08:07:58.844Z"
   },
   {
    "duration": 388,
    "start_time": "2022-08-19T08:07:58.983Z"
   },
   {
    "duration": 888,
    "start_time": "2022-08-19T08:07:59.372Z"
   },
   {
    "duration": 840,
    "start_time": "2022-08-19T08:08:00.261Z"
   },
   {
    "duration": 3,
    "start_time": "2022-08-19T08:08:01.102Z"
   },
   {
    "duration": 20955,
    "start_time": "2022-08-19T08:08:01.106Z"
   },
   {
    "duration": 4,
    "start_time": "2022-08-19T08:08:22.062Z"
   },
   {
    "duration": 15,
    "start_time": "2022-08-19T08:08:22.067Z"
   },
   {
    "duration": 38,
    "start_time": "2022-08-19T08:08:22.083Z"
   },
   {
    "duration": 196,
    "start_time": "2022-08-19T08:08:22.123Z"
   },
   {
    "duration": 9,
    "start_time": "2022-08-19T08:08:22.320Z"
   },
   {
    "duration": 116,
    "start_time": "2022-08-19T08:08:22.330Z"
   },
   {
    "duration": 22,
    "start_time": "2022-08-19T08:08:22.448Z"
   },
   {
    "duration": 164,
    "start_time": "2022-08-19T08:08:22.471Z"
   },
   {
    "duration": 10,
    "start_time": "2022-08-19T08:08:22.638Z"
   },
   {
    "duration": 9,
    "start_time": "2022-08-19T08:08:22.649Z"
   },
   {
    "duration": 8,
    "start_time": "2022-08-19T08:08:22.660Z"
   },
   {
    "duration": 61,
    "start_time": "2022-08-26T06:07:09.998Z"
   },
   {
    "duration": 1050,
    "start_time": "2022-08-26T06:07:13.898Z"
   },
   {
    "duration": 119,
    "start_time": "2022-08-26T06:07:14.950Z"
   },
   {
    "duration": 28,
    "start_time": "2022-08-26T06:07:15.071Z"
   },
   {
    "duration": 6,
    "start_time": "2022-08-26T06:07:15.101Z"
   },
   {
    "duration": 11,
    "start_time": "2022-08-26T06:07:15.108Z"
   },
   {
    "duration": 4,
    "start_time": "2022-08-26T06:07:15.120Z"
   },
   {
    "duration": 7,
    "start_time": "2022-08-26T06:07:15.125Z"
   },
   {
    "duration": 14,
    "start_time": "2022-08-26T06:07:15.133Z"
   },
   {
    "duration": 9,
    "start_time": "2022-08-26T06:07:15.148Z"
   },
   {
    "duration": 15,
    "start_time": "2022-08-26T06:07:15.159Z"
   },
   {
    "duration": 11,
    "start_time": "2022-08-26T06:07:15.176Z"
   },
   {
    "duration": 9,
    "start_time": "2022-08-26T06:07:15.188Z"
   },
   {
    "duration": 10,
    "start_time": "2022-08-26T06:07:15.199Z"
   },
   {
    "duration": 9,
    "start_time": "2022-08-26T06:07:15.210Z"
   },
   {
    "duration": 6,
    "start_time": "2022-08-26T06:07:15.221Z"
   },
   {
    "duration": 12,
    "start_time": "2022-08-26T06:07:15.229Z"
   },
   {
    "duration": 10,
    "start_time": "2022-08-26T06:07:15.242Z"
   },
   {
    "duration": 10,
    "start_time": "2022-08-26T06:07:15.254Z"
   },
   {
    "duration": 7,
    "start_time": "2022-08-26T06:07:15.287Z"
   },
   {
    "duration": 20,
    "start_time": "2022-08-26T06:07:15.297Z"
   },
   {
    "duration": 4,
    "start_time": "2022-08-26T06:07:15.319Z"
   },
   {
    "duration": 12,
    "start_time": "2022-08-26T06:07:15.325Z"
   },
   {
    "duration": 137,
    "start_time": "2022-08-26T06:07:15.339Z"
   },
   {
    "duration": 407,
    "start_time": "2022-08-26T06:07:15.477Z"
   },
   {
    "duration": 999,
    "start_time": "2022-08-26T06:07:15.886Z"
   },
   {
    "duration": 861,
    "start_time": "2022-08-26T06:07:16.887Z"
   },
   {
    "duration": 2,
    "start_time": "2022-08-26T06:07:17.750Z"
   },
   {
    "duration": 20407,
    "start_time": "2022-08-26T06:07:17.755Z"
   },
   {
    "duration": 4,
    "start_time": "2022-08-26T06:07:38.163Z"
   },
   {
    "duration": 24,
    "start_time": "2022-08-26T06:07:38.168Z"
   },
   {
    "duration": 25,
    "start_time": "2022-08-26T06:07:38.194Z"
   },
   {
    "duration": 209,
    "start_time": "2022-08-26T06:07:38.221Z"
   },
   {
    "duration": 9,
    "start_time": "2022-08-26T06:07:38.432Z"
   },
   {
    "duration": 133,
    "start_time": "2022-08-26T06:07:38.442Z"
   },
   {
    "duration": 24,
    "start_time": "2022-08-26T06:07:38.576Z"
   },
   {
    "duration": 358,
    "start_time": "2022-08-26T06:07:38.602Z"
   },
   {
    "duration": 8,
    "start_time": "2022-08-26T06:07:38.962Z"
   },
   {
    "duration": 20,
    "start_time": "2022-08-26T06:07:38.971Z"
   },
   {
    "duration": 10,
    "start_time": "2022-08-26T06:07:38.992Z"
   },
   {
    "duration": 812,
    "start_time": "2022-08-26T06:08:04.175Z"
   },
   {
    "duration": 846,
    "start_time": "2022-08-26T06:08:25.221Z"
   }
  ],
  "kernelspec": {
   "display_name": "Python 3 (ipykernel)",
   "language": "python",
   "name": "python3"
  },
  "language_info": {
   "codemirror_mode": {
    "name": "ipython",
    "version": 3
   },
   "file_extension": ".py",
   "mimetype": "text/x-python",
   "name": "python",
   "nbconvert_exporter": "python",
   "pygments_lexer": "ipython3",
   "version": "3.9.13"
  },
  "toc": {
   "base_numbering": 1,
   "nav_menu": {},
   "number_sections": true,
   "sideBar": true,
   "skip_h1_title": true,
   "title_cell": "Table of Contents",
   "title_sidebar": "Contents",
   "toc_cell": false,
   "toc_position": {},
   "toc_section_display": true,
   "toc_window_display": false
  }
 },
 "nbformat": 4,
 "nbformat_minor": 2
}
